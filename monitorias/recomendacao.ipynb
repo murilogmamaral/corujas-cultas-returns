{
 "cells": [
  {
   "cell_type": "code",
   "execution_count": 20,
   "id": "dd721019-e4f5-43f5-a138-bf957da6e90d",
   "metadata": {},
   "outputs": [],
   "source": [
    "## modelo\n",
    "from surprise import SVD\n",
    "\n",
    "## dados\n",
    "from surprise import Dataset\n",
    "import pandas as pd\n",
    "\n",
    "## validação cruzada\n",
    "from surprise.model_selection import cross_validate"
   ]
  },
  {
   "cell_type": "code",
   "execution_count": 3,
   "id": "f7578561-dcfb-4c1e-8e48-0d8a4f4198dc",
   "metadata": {},
   "outputs": [
    {
     "name": "stdout",
     "output_type": "stream",
     "text": [
      "Dataset ml-100k could not be found. Do you want to download it? [Y/n] "
     ]
    },
    {
     "name": "stdin",
     "output_type": "stream",
     "text": [
      " y\n"
     ]
    },
    {
     "name": "stdout",
     "output_type": "stream",
     "text": [
      "Trying to download dataset from http://files.grouplens.org/datasets/movielens/ml-100k.zip...\n",
      "Done! Dataset ml-100k has been saved to /home/nzboan/.surprise_data/ml-100k\n"
     ]
    }
   ],
   "source": [
    "data = Dataset.load_builtin('ml-100k')"
   ]
  },
  {
   "cell_type": "code",
   "execution_count": 11,
   "id": "02ac4390-4b9a-4e69-adf5-dbdb6bd1cfb5",
   "metadata": {},
   "outputs": [],
   "source": [
    "algo = SVD()"
   ]
  },
  {
   "cell_type": "code",
   "execution_count": 12,
   "id": "6eebc0b0-36f3-4ed2-981d-f93a7443604f",
   "metadata": {},
   "outputs": [
    {
     "name": "stdout",
     "output_type": "stream",
     "text": [
      "Evaluating RMSE, MAE of algorithm SVD on 5 split(s).\n",
      "\n",
      "                  Fold 1  Fold 2  Fold 3  Fold 4  Fold 5  Mean    Std     \n",
      "RMSE (testset)    0.9432  0.9315  0.9375  0.9391  0.9400  0.9383  0.0039  \n",
      "MAE (testset)     0.7446  0.7354  0.7383  0.7382  0.7401  0.7393  0.0030  \n",
      "Fit time          4.28    4.29    4.35    4.23    4.84    4.40    0.22    \n",
      "Test time         0.13    0.23    0.12    0.12    0.11    0.14    0.04    \n"
     ]
    },
    {
     "data": {
      "text/plain": [
       "{'test_rmse': array([0.94315957, 0.93147375, 0.93751512, 0.93908716, 0.94003423]),\n",
       " 'test_mae': array([0.74459673, 0.73542306, 0.73825213, 0.73817696, 0.74006299]),\n",
       " 'fit_time': (4.2776780128479,\n",
       "  4.290987491607666,\n",
       "  4.3530683517456055,\n",
       "  4.227057695388794,\n",
       "  4.835761070251465),\n",
       " 'test_time': (0.12538361549377441,\n",
       "  0.2281169891357422,\n",
       "  0.12424039840698242,\n",
       "  0.12349939346313477,\n",
       "  0.10956192016601562)}"
      ]
     },
     "execution_count": 12,
     "metadata": {},
     "output_type": "execute_result"
    }
   ],
   "source": [
    "cross_validate(algo, data, measures=['RMSE', 'MAE'], cv=5, verbose=True)"
   ]
  }
 ],
 "metadata": {
  "kernelspec": {
   "display_name": "Python 3 (ipykernel)",
   "language": "python",
   "name": "python3"
  },
  "language_info": {
   "codemirror_mode": {
    "name": "ipython",
    "version": 3
   },
   "file_extension": ".py",
   "mimetype": "text/x-python",
   "name": "python",
   "nbconvert_exporter": "python",
   "pygments_lexer": "ipython3",
   "version": "3.9.5"
  }
 },
 "nbformat": 4,
 "nbformat_minor": 5
}
