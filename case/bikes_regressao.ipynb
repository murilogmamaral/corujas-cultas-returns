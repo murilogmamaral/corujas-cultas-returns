{
 "cells": [
  {
   "cell_type": "markdown",
   "id": "5bf41e45-1977-49dd-8c41-4397fa6cb018",
   "metadata": {},
   "source": [
    "# Case - Bikes\n",
    "___\n",
    "\n",
    "## Contexto\n",
    "\n",
    "Um sistema de compartilhamento de bicicletas é um serviço de transporte compartilhado no qual as bicicletas são disponibilizadas para uso compartilhado por indivíduos em um base de curto prazo por um preço ou grátis. Muitos sistemas de compartilhamento de bicicletas permitem que as pessoas peçam emprestadas uma bicicleta de uma doca e a devolvam em outra doca pertencente ao mesmo sistema. As docas são bicicletários especiais que travam a bicicleta e só a liberam pelo controle do computador. O usuário insere as informações de pagamento e o computador desbloqueia uma bicicleta. O usuário devolve a bicicleta colocando-a no encaixe, que a trava no lugar.\n",
    "\n",
    "\n",
    "![](https://midias.correiobraziliense.com.br/_midias/jpg/2021/10/11/675x450/1_whatsapp_image_2021_10_11_at_11_20_08_am-6914098.jpeg)\n",
    "\n",
    "\n",
    "## Problema\n",
    "\n",
    "A empresa TAMBICI tem perdido negócios devido a falta de previsibilidade da demanda de bicicletas em algumas cidades. Por isso contratou um cientista de dados (<b>você!!</b>) para criar um modelo que possa, de acordo com algumas características do dia prever a demanda de aluguel de biciletas. Utilizando as previsões deste modelo a empresa irá acionar as equipes de manutenção e retirar algumas bicicletas das docas para reparos e pede para que você tente manter ao máximo o nível de serviço (ou seja, minimizar a possibilidade de uma pessoa procurar uma bicicleta e ela ter sido retirada para manutenção ou alugada - erro), logo prever corretamente a demanda para cada dia será importante.\n",
    "\n",
    "## Dados\n",
    "\n",
    "Os dados que foram disponibilizados estão no arquivo <code>capitalbikeshare-complete.csv</code>. Possuindo as seguintes colunas :\n",
    "\n",
    "1. datetime: Date and hour of the bike share data\n",
    "2. count: Count of total rentals\n",
    "3. holiday: Whether it is a holiday\n",
    "4. workingday: Whether it is a working day (Mon-Fri except holiday)\n",
    "5. temp: Temperature in Celsius\n",
    "6. feels_like: “Feels like” Temperature in Celsius\n",
    "7. temp_min: Lowest temperature\n",
    "8. temp_max: Highest temperature\n",
    "9. pressure: Air pressure\n",
    "10. humidity: Relative humidity\n",
    "11. wind_speed: Wind speed\n",
    "12. wind_deg: Wind direction degree\n",
    "13. rain_1h: Precipitation in the last 1 hour (missing when it did not rain)\n",
    "14. snow_1h: Snow volume for the last 1 hour (missing when it did not snow)\n",
    "15. cloud_all: Cloudiness in percentage\n",
    "15. weather_main: Weather types (Rain, Snow, Extreme etc.)\n",
    "\n",
    "\n",
    "## Dicas\n",
    "\n",
    "* Vá pelo mais simples primeiros (execute teste com uma quantidade menor de features)\n",
    "* Faça as transformações necessárias (features categóricas e features numéricas)\n",
    "* Faça as agregações necessárias (cada linha do dataset deve representar um dia)\n",
    "* Defina bem a métrica que está procurando\n",
    "* Utilize um modelo como baseline (DummyRegressor)\n",
    "* Compare vários modelos\n",
    "* Descreva seus resultados (importância das features e outras formatos de explicabilidade de modelos)"
   ]
  }
 ],
 "metadata": {
  "kernelspec": {
   "display_name": "Python 3 (ipykernel)",
   "language": "python",
   "name": "python3"
  },
  "language_info": {
   "codemirror_mode": {
    "name": "ipython",
    "version": 3
   },
   "file_extension": ".py",
   "mimetype": "text/x-python",
   "name": "python",
   "nbconvert_exporter": "python",
   "pygments_lexer": "ipython3",
   "version": "3.9.7"
  }
 },
 "nbformat": 4,
 "nbformat_minor": 5
}
