{
 "cells": [
  {
   "cell_type": "markdown",
   "id": "f5f35274-a1e2-4b5e-8be7-168eca3f11a6",
   "metadata": {
    "tags": []
   },
   "source": [
    "# Case - Cardiopatia\n",
    "___\n",
    "\n",
    "## Contexto\n",
    "Cardiopatia é um termo genérico utilizado pelos médicos para designar doenças e condições médicas capazes de afetar o coração e o sistema vascular de pacientes em qualquer idade. Entre os principais tipos de cardiopatia, podemos incluir hipertensão (pressão alta), doença arterial coronariana, arritmia cardíaca e também condições mais graves como parada cardíaca ou mesmo derrame cerebral.\n",
    "\n",
    "A cardiopatia pode ser congênita, quando o paciente a apresenta desde o nascimento ou mesmo nas primeiras semanas de vida, ou pode ser adquirida, resultando de outras condições médicas ou mesmo surgindo em decorrência do estilo de vida do paciente.\n",
    "\n",
    "As doenças cardiovasculares (DCVs) são a causa número 1 de morte em todo o mundo, levando cerca de 17,9 milhões de vidas a cada ano, o que representa 31% de todas as mortes em todo o mundo. Quatro em cada 5 mortes por DCV são devido a ataques cardíacos e derrames, e um terço dessas mortes ocorrem prematuramente em pessoas com menos de 70 anos de idade.\n",
    "\n",
    "\n",
    "![](https://eaidr.com.br/wp-content/uploads/2020/04/cardiopatia.jpg)\n",
    "\n",
    "\n",
    "## Problema\n",
    "\n",
    "A seguradora de saúde AVIL tem perdido muitos pacientes e recursos devido a cardiopatias graves dos assegurados. Pensando em uma situação de melhor planejamento financeiro (ter a quantia correta de dinheiro em reserva para os segurados acometidos por cadiopatias) a AVIL coletou dados de um pequena amostra representativa de seus segurados. Finalmente, contratou um cientista de dados (<b>você!!</b>) para criar um modelo que preveja a probabilidade de um paciente ter cardiopatia (coluna HeartDisease) e assim se planejar melhor (ou seja, ela gostaria de minimizar as situações onde um segurado tem cardiopatia e o gasto não foi planejado).\n",
    "\n",
    "\n",
    "## Dados\n",
    "\n",
    "Os dados que foram disponibilizados estão no arquivo <code>heart.csv</code>. Possuindo 12 colunas :\n",
    "\n",
    "1. Age: idade do paciente [anos]\n",
    "2. Sex: sexo do paciente [M: Masculino, F: Feminino]\n",
    "3. ChestPainType: tipo de dor torácica [TA: angina típica, ATA: angina atípica, NAP: dor não anginosa, ASY: assintomática]\n",
    "4. RestingBP: pressão arterial em repouso [mm Hg]\n",
    "5. Cholesterol: colesterol sérico [mm / dl]\n",
    "6. FastingBS: açúcar no sangue em jejum [1: se SB em jejum> 120 mg / dl, 0: caso contrário]\n",
    "7. RestingECG: resultados de eletrocardiograma em repouso [Normal: Normal, ST: tendo anormalidade da onda ST-T (inversões da onda T e / ou elevação ou depressão de ST> 0,05 mV), HVE: mostrando hipertrofia ventricular esquerda provável ou definitiva pelos critérios de Estes]\n",
    "8. MaxHR: freqüência cardíaca máxima alcançada [valor numérico entre 60 e 202]\n",
    "9. ExerciseAngina: angina induzida por exercício [S: Sim, N: Não]\n",
    "10. Oldpeak: oldpeak = ST [valor numérico medido na depressão]\n",
    "11. ST_lope: a inclinação do segmento ST de pico do exercício [Up: uploping, Flat: flat, Down: downsloping]\n",
    "12. HeartDisease: classe [1: doença cardíaca, 0: Normal]\n",
    "\n",
    "\n",
    "## Dicas\n",
    "\n",
    "* Vá pelo mais simples primeiros (execute teste com uma quantidade menor de features)\n",
    "* Defina bem a métrica que está procurando\n",
    "* Utilize um modelo como baseline (DummyClassifier)\n",
    "* Compare vários modelos\n",
    "* Descreva seus resultados (importância das features e outras formatos de explicabilidade de modelos)"
   ]
  }
 ],
 "metadata": {
  "kernelspec": {
   "display_name": "Python 3 (ipykernel)",
   "language": "python",
   "name": "python3"
  },
  "language_info": {
   "codemirror_mode": {
    "name": "ipython",
    "version": 3
   },
   "file_extension": ".py",
   "mimetype": "text/x-python",
   "name": "python",
   "nbconvert_exporter": "python",
   "pygments_lexer": "ipython3",
   "version": "3.9.7"
  }
 },
 "nbformat": 4,
 "nbformat_minor": 5
}
