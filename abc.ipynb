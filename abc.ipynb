{
 "cells": [
  {
   "cell_type": "markdown",
   "id": "3583524c-9e95-4c5d-9808-87c8b17072c9",
   "metadata": {},
   "source": [
    "## Clustering\n",
    "### Separando jogadores de poker em grupos\n",
    "___"
   ]
  },
  {
   "cell_type": "code",
   "execution_count": 8,
   "id": "9853a2c8",
   "metadata": {},
   "outputs": [],
   "source": [
    "import matplotlib.pyplot as plt\n",
    "\n",
    "import pandas as pd\n",
    "import numpy as np\n",
    "import seaborn as sns\n",
    "sns.set_theme()\n",
    "\n",
    "from sklearn.decomposition import PCA\n",
    "\n",
    "from sklearn.preprocessing import Normalizer\n",
    "from sklearn.preprocessing import MinMaxScaler\n",
    "from sklearn.pipeline import make_pipeline\n",
    "from sklearn.tree import DecisionTreeClassifier\n",
    "\n",
    "from sklearn.cluster import KMeans\n",
    "from sklearn.metrics import davies_bouldin_score\n",
    "\n",
    "from sklearn import metrics\n",
    "from sklearn.metrics import pairwise_distances"
   ]
  },
  {
   "cell_type": "code",
   "execution_count": 146,
   "id": "01a2e0ce-6942-4c65-9f1f-2ce340a7bde8",
   "metadata": {
    "tags": []
   },
   "outputs": [],
   "source": [
    "stats = (\n",
    "    pd.read_csv('data/stats.csv')\n",
    "    .fillna(0)\n",
    "    .reset_index(drop=True)\n",
    ")"
   ]
  },
  {
   "cell_type": "code",
   "execution_count": 10,
   "id": "60644106-9375-4693-8da7-7b7421d4029a",
   "metadata": {
    "scrolled": true,
    "tags": []
   },
   "outputs": [
    {
     "data": {
      "text/html": [
       "<div>\n",
       "<style scoped>\n",
       "    .dataframe tbody tr th:only-of-type {\n",
       "        vertical-align: middle;\n",
       "    }\n",
       "\n",
       "    .dataframe tbody tr th {\n",
       "        vertical-align: top;\n",
       "    }\n",
       "\n",
       "    .dataframe thead th {\n",
       "        text-align: right;\n",
       "    }\n",
       "</style>\n",
       "<table border=\"1\" class=\"dataframe\">\n",
       "  <thead>\n",
       "    <tr style=\"text-align: right;\">\n",
       "      <th></th>\n",
       "      <th>VPIP</th>\n",
       "      <th>PFR</th>\n",
       "      <th>CBET</th>\n",
       "      <th>AF</th>\n",
       "      <th>WSD</th>\n",
       "      <th>hands</th>\n",
       "    </tr>\n",
       "  </thead>\n",
       "  <tbody>\n",
       "    <tr>\n",
       "      <th>1157</th>\n",
       "      <td>27</td>\n",
       "      <td>13</td>\n",
       "      <td>0.0</td>\n",
       "      <td>2.00</td>\n",
       "      <td>100.0</td>\n",
       "      <td>15</td>\n",
       "    </tr>\n",
       "    <tr>\n",
       "      <th>838</th>\n",
       "      <td>40</td>\n",
       "      <td>0</td>\n",
       "      <td>0.0</td>\n",
       "      <td>1.83</td>\n",
       "      <td>33.0</td>\n",
       "      <td>15</td>\n",
       "    </tr>\n",
       "    <tr>\n",
       "      <th>239</th>\n",
       "      <td>47</td>\n",
       "      <td>7</td>\n",
       "      <td>0.0</td>\n",
       "      <td>2.00</td>\n",
       "      <td>33.0</td>\n",
       "      <td>15</td>\n",
       "    </tr>\n",
       "    <tr>\n",
       "      <th>1231</th>\n",
       "      <td>67</td>\n",
       "      <td>27</td>\n",
       "      <td>50.0</td>\n",
       "      <td>6.00</td>\n",
       "      <td>33.0</td>\n",
       "      <td>15</td>\n",
       "    </tr>\n",
       "    <tr>\n",
       "      <th>110</th>\n",
       "      <td>47</td>\n",
       "      <td>13</td>\n",
       "      <td>50.0</td>\n",
       "      <td>0.75</td>\n",
       "      <td>33.0</td>\n",
       "      <td>15</td>\n",
       "    </tr>\n",
       "  </tbody>\n",
       "</table>\n",
       "</div>"
      ],
      "text/plain": [
       "      VPIP  PFR  CBET    AF    WSD  hands\n",
       "1157    27   13   0.0  2.00  100.0     15\n",
       "838     40    0   0.0  1.83   33.0     15\n",
       "239     47    7   0.0  2.00   33.0     15\n",
       "1231    67   27  50.0  6.00   33.0     15\n",
       "110     47   13  50.0  0.75   33.0     15"
      ]
     },
     "execution_count": 10,
     "metadata": {},
     "output_type": "execute_result"
    }
   ],
   "source": [
    "stats.sort_values('hands').head()"
   ]
  },
  {
   "cell_type": "code",
   "execution_count": 11,
   "id": "d894bb0d-1158-4d39-a87f-b7d1d545bbcc",
   "metadata": {
    "tags": []
   },
   "outputs": [
    {
     "data": {
      "image/png": "[encoded data removed]",
      "text/plain": [
       "<Figure size 432x288 with 1 Axes>"
      ]
     },
     "metadata": {},
     "output_type": "display_data"
    }
   ],
   "source": [
    "# Observando a distribuição da quantidade de mãos jogadas de cada jogador\n",
    "stats.hands[stats.hands < 100].hist(bins=15);"
   ]
  },
  {
   "cell_type": "code",
   "execution_count": 12,
   "id": "c9705c4d-862d-43d5-8134-89c3003a8701",
   "metadata": {
    "scrolled": true,
    "tags": []
   },
   "outputs": [
    {
     "data": {
      "text/html": [
       "<div>\n",
       "<style scoped>\n",
       "    .dataframe tbody tr th:only-of-type {\n",
       "        vertical-align: middle;\n",
       "    }\n",
       "\n",
       "    .dataframe tbody tr th {\n",
       "        vertical-align: top;\n",
       "    }\n",
       "\n",
       "    .dataframe thead th {\n",
       "        text-align: right;\n",
       "    }\n",
       "</style>\n",
       "<table border=\"1\" class=\"dataframe\">\n",
       "  <thead>\n",
       "    <tr style=\"text-align: right;\">\n",
       "      <th></th>\n",
       "      <th>VPIP</th>\n",
       "      <th>PFR</th>\n",
       "      <th>CBET</th>\n",
       "      <th>AF</th>\n",
       "      <th>WSD</th>\n",
       "    </tr>\n",
       "  </thead>\n",
       "  <tbody>\n",
       "    <tr>\n",
       "      <th>0</th>\n",
       "      <td>56</td>\n",
       "      <td>22</td>\n",
       "      <td>0.0</td>\n",
       "      <td>4.0</td>\n",
       "      <td>33.0</td>\n",
       "    </tr>\n",
       "    <tr>\n",
       "      <th>1</th>\n",
       "      <td>53</td>\n",
       "      <td>38</td>\n",
       "      <td>0.0</td>\n",
       "      <td>4.0</td>\n",
       "      <td>44.0</td>\n",
       "    </tr>\n",
       "    <tr>\n",
       "      <th>2</th>\n",
       "      <td>67</td>\n",
       "      <td>44</td>\n",
       "      <td>17.0</td>\n",
       "      <td>1.0</td>\n",
       "      <td>33.0</td>\n",
       "    </tr>\n",
       "    <tr>\n",
       "      <th>3</th>\n",
       "      <td>36</td>\n",
       "      <td>21</td>\n",
       "      <td>0.0</td>\n",
       "      <td>3.0</td>\n",
       "      <td>33.0</td>\n",
       "    </tr>\n",
       "    <tr>\n",
       "      <th>4</th>\n",
       "      <td>36</td>\n",
       "      <td>7</td>\n",
       "      <td>0.0</td>\n",
       "      <td>0.4</td>\n",
       "      <td>60.0</td>\n",
       "    </tr>\n",
       "    <tr>\n",
       "      <th>...</th>\n",
       "      <td>...</td>\n",
       "      <td>...</td>\n",
       "      <td>...</td>\n",
       "      <td>...</td>\n",
       "      <td>...</td>\n",
       "    </tr>\n",
       "    <tr>\n",
       "      <th>1597</th>\n",
       "      <td>54</td>\n",
       "      <td>31</td>\n",
       "      <td>12.0</td>\n",
       "      <td>3.5</td>\n",
       "      <td>67.0</td>\n",
       "    </tr>\n",
       "    <tr>\n",
       "      <th>1598</th>\n",
       "      <td>40</td>\n",
       "      <td>27</td>\n",
       "      <td>10.0</td>\n",
       "      <td>2.5</td>\n",
       "      <td>36.0</td>\n",
       "    </tr>\n",
       "    <tr>\n",
       "      <th>1599</th>\n",
       "      <td>44</td>\n",
       "      <td>0</td>\n",
       "      <td>0.0</td>\n",
       "      <td>0.5</td>\n",
       "      <td>20.0</td>\n",
       "    </tr>\n",
       "    <tr>\n",
       "      <th>1600</th>\n",
       "      <td>62</td>\n",
       "      <td>24</td>\n",
       "      <td>40.0</td>\n",
       "      <td>2.5</td>\n",
       "      <td>83.0</td>\n",
       "    </tr>\n",
       "    <tr>\n",
       "      <th>1601</th>\n",
       "      <td>67</td>\n",
       "      <td>17</td>\n",
       "      <td>0.0</td>\n",
       "      <td>0.5</td>\n",
       "      <td>25.0</td>\n",
       "    </tr>\n",
       "  </tbody>\n",
       "</table>\n",
       "<p>1602 rows × 5 columns</p>\n",
       "</div>"
      ],
      "text/plain": [
       "      VPIP  PFR  CBET   AF   WSD\n",
       "0       56   22   0.0  4.0  33.0\n",
       "1       53   38   0.0  4.0  44.0\n",
       "2       67   44  17.0  1.0  33.0\n",
       "3       36   21   0.0  3.0  33.0\n",
       "4       36    7   0.0  0.4  60.0\n",
       "...    ...  ...   ...  ...   ...\n",
       "1597    54   31  12.0  3.5  67.0\n",
       "1598    40   27  10.0  2.5  36.0\n",
       "1599    44    0   0.0  0.5  20.0\n",
       "1600    62   24  40.0  2.5  83.0\n",
       "1601    67   17   0.0  0.5  25.0\n",
       "\n",
       "[1602 rows x 5 columns]"
      ]
     },
     "execution_count": 12,
     "metadata": {},
     "output_type": "execute_result"
    }
   ],
   "source": [
    "# Separando os dados de treino\n",
    "x_train = stats.drop('hands',axis=1)\n",
    "x_train"
   ]
  },
  {
   "cell_type": "code",
   "execution_count": 13,
   "id": "22e6336a-8eb7-40da-814b-5ca2f6c548ab",
   "metadata": {},
   "outputs": [
    {
     "data": {
      "text/plain": [
       "array([0.44993132, 0.29325489])"
      ]
     },
     "execution_count": 13,
     "metadata": {},
     "output_type": "execute_result"
    }
   ],
   "source": [
    "# Treinando um PCA\n",
    "pca = PCA(2)\n",
    "pca.fit(x_train)\n",
    "pca.explained_variance_ratio_"
   ]
  },
  {
   "cell_type": "code",
   "execution_count": 14,
   "id": "8ea0ba02-b0ba-482f-8ef8-2e0656b10dd7",
   "metadata": {},
   "outputs": [
    {
     "data": {
      "image/png": "[encoded data removed]",
      "text/plain": [
       "<Figure size 576x432 with 1 Axes>"
      ]
     },
     "metadata": {},
     "output_type": "display_data"
    }
   ],
   "source": [
    "# Visualizando os jogadores em duas dimensões\n",
    "data_plot = pca.transform(x_train)\n",
    "f , ax = plt.subplots(figsize=(8,6))\n",
    "ax.scatter(x=data_plot[:,0],y=data_plot[:,1],alpha=0.1);"
   ]
  },
  {
   "cell_type": "code",
   "execution_count": 15,
   "id": "8648712b-4ee8-4903-a14c-89bc3a5b09e4",
   "metadata": {
    "jupyter": {
     "source_hidden": true
    },
    "tags": []
   },
   "outputs": [],
   "source": [
    "#ax.hexbin(x=data_plot[:,0],y=data_plot[:,1],cmap='Reds');"
   ]
  },
  {
   "cell_type": "code",
   "execution_count": 16,
   "id": "310b8e7a-e92e-486f-9221-f7b48f1605c0",
   "metadata": {},
   "outputs": [],
   "source": [
    "# Organizando a pipeline e aplicando transformações no dataset\n",
    "pipe = make_pipeline(Normalizer(),MinMaxScaler())\n",
    "x = pipe.fit_transform(x_train)"
   ]
  },
  {
   "cell_type": "code",
   "execution_count": 17,
   "id": "87c7ab1c-73ee-4dc6-be4e-247f81cb764e",
   "metadata": {},
   "outputs": [
    {
     "data": {
      "text/plain": [
       "4    475\n",
       "3    452\n",
       "0    264\n",
       "2    264\n",
       "1    147\n",
       "dtype: int64"
      ]
     },
     "execution_count": 17,
     "metadata": {},
     "output_type": "execute_result"
    }
   ],
   "source": [
    "# Treinando o KMeans e predizendo os grupos\n",
    "km = KMeans(n_clusters=5,random_state=42)\n",
    "pd.Series(km.fit_predict(x)).value_counts()"
   ]
  },
  {
   "cell_type": "code",
   "execution_count": 18,
   "id": "26eccbb3-27a3-4e1f-8cf0-7762ca0270b5",
   "metadata": {},
   "outputs": [],
   "source": [
    "# Coletando as métricas\n",
    "silhouette = []\n",
    "davis = []\n",
    "inertia = []\n",
    "for n in range(2,15):\n",
    "    km = KMeans(n_clusters=n,random_state=42).fit(x)\n",
    "    labels = km.labels_\n",
    "    silhouette.append(metrics.silhouette_score(x, labels, metric='euclidean'))\n",
    "    davis.append(metrics.davies_bouldin_score(x, labels))\n",
    "    inertia.append(km.inertia_)\n",
    "metricas = pd.DataFrame({'grupos':range(2,15),\n",
    "                         'silhouette':silhouette,\n",
    "                         'davis':davis,\n",
    "                         'inertia':inertia}).set_index('grupos')"
   ]
  },
  {
   "cell_type": "code",
   "execution_count": 19,
   "id": "7dc13b94-0692-414d-bc4a-ff67c6ecab91",
   "metadata": {},
   "outputs": [
    {
     "name": "stdout",
     "output_type": "stream",
     "text": [
      "\n",
      " SILHOUETTE\n"
     ]
    },
    {
     "data": {
      "image/png": "[encoded data removed]",
      "text/plain": [
       "<Figure size 432x288 with 1 Axes>"
      ]
     },
     "metadata": {},
     "output_type": "display_data"
    },
    {
     "name": "stdout",
     "output_type": "stream",
     "text": [
      "\n",
      " DAVIS\n"
     ]
    },
    {
     "data": {
      "image/png": "[encoded data removed]",
      "text/plain": [
       "<Figure size 432x288 with 1 Axes>"
      ]
     },
     "metadata": {},
     "output_type": "display_data"
    },
    {
     "name": "stdout",
     "output_type": "stream",
     "text": [
      "\n",
      " INERTIA\n"
     ]
    },
    {
     "data": {
      "image/png": "[encoded data removed]",
      "text/plain": [
       "<Figure size 432x288 with 1 Axes>"
      ]
     },
     "metadata": {},
     "output_type": "display_data"
    }
   ],
   "source": [
    "# Visualizando as métricas\n",
    "for c in metricas.columns:\n",
    "    print('\\n',c.upper())\n",
    "    metricas[c].plot()\n",
    "    plt.show();"
   ]
  },
  {
   "cell_type": "markdown",
   "id": "a5912b20-a901-40b0-b49e-8519cf762522",
   "metadata": {},
   "source": [
    "### TO DO LIST\n",
    "___\n",
    "\n",
    "* [ ] Redução de dimensionalidade (3);  \n",
    "* [ ] Árvore de decisão;  \n",
    "* [ ] Treinar o modelo com 3, 4 e 5 grupos e avaliar como estão os grupos no gráfico após redução de dimensionalidade;  \n"
   ]
  },
  {
   "cell_type": "code",
   "execution_count": 20,
   "id": "624e621c-053c-41b2-9dbb-c78cafdbaa2e",
   "metadata": {
    "scrolled": true,
    "tags": []
   },
   "outputs": [
    {
     "data": {
      "text/html": [
       "<div>\n",
       "<style scoped>\n",
       "    .dataframe tbody tr th:only-of-type {\n",
       "        vertical-align: middle;\n",
       "    }\n",
       "\n",
       "    .dataframe tbody tr th {\n",
       "        vertical-align: top;\n",
       "    }\n",
       "\n",
       "    .dataframe thead th {\n",
       "        text-align: right;\n",
       "    }\n",
       "</style>\n",
       "<table border=\"1\" class=\"dataframe\">\n",
       "  <thead>\n",
       "    <tr style=\"text-align: right;\">\n",
       "      <th></th>\n",
       "      <th>VPIP</th>\n",
       "      <th>PFR</th>\n",
       "      <th>CBET</th>\n",
       "      <th>AF</th>\n",
       "      <th>WSD</th>\n",
       "    </tr>\n",
       "  </thead>\n",
       "  <tbody>\n",
       "    <tr>\n",
       "      <th>0</th>\n",
       "      <td>56</td>\n",
       "      <td>22</td>\n",
       "      <td>0.0</td>\n",
       "      <td>4.0</td>\n",
       "      <td>33.0</td>\n",
       "    </tr>\n",
       "    <tr>\n",
       "      <th>1</th>\n",
       "      <td>53</td>\n",
       "      <td>38</td>\n",
       "      <td>0.0</td>\n",
       "      <td>4.0</td>\n",
       "      <td>44.0</td>\n",
       "    </tr>\n",
       "    <tr>\n",
       "      <th>2</th>\n",
       "      <td>67</td>\n",
       "      <td>44</td>\n",
       "      <td>17.0</td>\n",
       "      <td>1.0</td>\n",
       "      <td>33.0</td>\n",
       "    </tr>\n",
       "    <tr>\n",
       "      <th>3</th>\n",
       "      <td>36</td>\n",
       "      <td>21</td>\n",
       "      <td>0.0</td>\n",
       "      <td>3.0</td>\n",
       "      <td>33.0</td>\n",
       "    </tr>\n",
       "    <tr>\n",
       "      <th>4</th>\n",
       "      <td>36</td>\n",
       "      <td>7</td>\n",
       "      <td>0.0</td>\n",
       "      <td>0.4</td>\n",
       "      <td>60.0</td>\n",
       "    </tr>\n",
       "    <tr>\n",
       "      <th>...</th>\n",
       "      <td>...</td>\n",
       "      <td>...</td>\n",
       "      <td>...</td>\n",
       "      <td>...</td>\n",
       "      <td>...</td>\n",
       "    </tr>\n",
       "    <tr>\n",
       "      <th>1597</th>\n",
       "      <td>54</td>\n",
       "      <td>31</td>\n",
       "      <td>12.0</td>\n",
       "      <td>3.5</td>\n",
       "      <td>67.0</td>\n",
       "    </tr>\n",
       "    <tr>\n",
       "      <th>1598</th>\n",
       "      <td>40</td>\n",
       "      <td>27</td>\n",
       "      <td>10.0</td>\n",
       "      <td>2.5</td>\n",
       "      <td>36.0</td>\n",
       "    </tr>\n",
       "    <tr>\n",
       "      <th>1599</th>\n",
       "      <td>44</td>\n",
       "      <td>0</td>\n",
       "      <td>0.0</td>\n",
       "      <td>0.5</td>\n",
       "      <td>20.0</td>\n",
       "    </tr>\n",
       "    <tr>\n",
       "      <th>1600</th>\n",
       "      <td>62</td>\n",
       "      <td>24</td>\n",
       "      <td>40.0</td>\n",
       "      <td>2.5</td>\n",
       "      <td>83.0</td>\n",
       "    </tr>\n",
       "    <tr>\n",
       "      <th>1601</th>\n",
       "      <td>67</td>\n",
       "      <td>17</td>\n",
       "      <td>0.0</td>\n",
       "      <td>0.5</td>\n",
       "      <td>25.0</td>\n",
       "    </tr>\n",
       "  </tbody>\n",
       "</table>\n",
       "<p>1602 rows × 5 columns</p>\n",
       "</div>"
      ],
      "text/plain": [
       "      VPIP  PFR  CBET   AF   WSD\n",
       "0       56   22   0.0  4.0  33.0\n",
       "1       53   38   0.0  4.0  44.0\n",
       "2       67   44  17.0  1.0  33.0\n",
       "3       36   21   0.0  3.0  33.0\n",
       "4       36    7   0.0  0.4  60.0\n",
       "...    ...  ...   ...  ...   ...\n",
       "1597    54   31  12.0  3.5  67.0\n",
       "1598    40   27  10.0  2.5  36.0\n",
       "1599    44    0   0.0  0.5  20.0\n",
       "1600    62   24  40.0  2.5  83.0\n",
       "1601    67   17   0.0  0.5  25.0\n",
       "\n",
       "[1602 rows x 5 columns]"
      ]
     },
     "execution_count": 20,
     "metadata": {},
     "output_type": "execute_result"
    }
   ],
   "source": [
    "x_train"
   ]
  },
  {
   "cell_type": "code",
   "execution_count": 21,
   "id": "44c8f587-a94d-4825-a0c8-d2e893de3974",
   "metadata": {},
   "outputs": [],
   "source": [
    "# Treinando o KMeans e predizendo os grupos (testando com 3)\n",
    "km = KMeans(n_clusters=3,random_state=42)\n",
    "labels_km = km.fit_predict(x)"
   ]
  },
  {
   "cell_type": "code",
   "execution_count": 22,
   "id": "2a819a21-29fa-475b-9b5e-57e80662c6ec",
   "metadata": {},
   "outputs": [
    {
     "data": {
      "text/plain": [
       "array([1, 1, 1, ..., 0, 2, 1], dtype=int32)"
      ]
     },
     "execution_count": 22,
     "metadata": {},
     "output_type": "execute_result"
    }
   ],
   "source": [
    "labels_km"
   ]
  },
  {
   "cell_type": "code",
   "execution_count": 23,
   "id": "c1a54b5e-9558-4d15-b2e2-a4a2aec67941",
   "metadata": {},
   "outputs": [],
   "source": [
    "pca = PCA(3,random_state=42)\n",
    "data_plot = pca.fit_transform(x_train)"
   ]
  },
  {
   "cell_type": "code",
   "execution_count": 89,
   "id": "ad38a5fa-4fe0-4054-a84d-aa0a88380f53",
   "metadata": {},
   "outputs": [],
   "source": [
    "def plot_3d(x_train,n=4):\n",
    "    \n",
    "    x = pipe.transform(x_train)\n",
    "    \n",
    "    km = KMeans(n_clusters=n,random_state=42)\n",
    "    labels_km = km.fit_predict(x)\n",
    "    \n",
    "    pca = PCA(3,random_state=42)\n",
    "    data_plot = pca.fit_transform(x_train)\n",
    "    \n",
    "    #fig = px.scatter_3d(x=data_plot[:,0], y=data_plot[:,1], z=data_plot[:,2], color=labels_km)\n",
    "    #fig.show(renderer='chrome')\n",
    "    \n",
    "    return km"
   ]
  },
  {
   "cell_type": "code",
   "execution_count": 90,
   "id": "c9743298-56e5-42bd-ad9c-5d21235155f4",
   "metadata": {},
   "outputs": [],
   "source": [
    "# # Entendendo a definção dos grupos a partir dos centros\n",
    "# cc , l = plot_3d(x_train,5)\n",
    "# np.mean(pipe.transform(x_train[l==0]),axis=0)\n",
    "# cc[0]"
   ]
  },
  {
   "cell_type": "code",
   "execution_count": 91,
   "id": "641c35b8-e92b-446e-85df-b263c12fe40e",
   "metadata": {
    "scrolled": true,
    "tags": []
   },
   "outputs": [
    {
     "ename": "ValueError",
     "evalue": "X has 6 features, but Normalizer is expecting 5 features as input.",
     "output_type": "error",
     "traceback": [
      "\u001b[0;31m---------------------------------------------------------------------------\u001b[0m",
      "\u001b[0;31mValueError\u001b[0m                                Traceback (most recent call last)",
      "\u001b[0;32m/tmp/ipykernel_9634/1917226886.py\u001b[0m in \u001b[0;36m<module>\u001b[0;34m\u001b[0m\n\u001b[0;32m----> 1\u001b[0;31m \u001b[0mkm_trained\u001b[0m \u001b[0;34m=\u001b[0m \u001b[0mplot_3d\u001b[0m\u001b[0;34m(\u001b[0m\u001b[0mx_train\u001b[0m\u001b[0;34m)\u001b[0m\u001b[0;34m\u001b[0m\u001b[0;34m\u001b[0m\u001b[0m\n\u001b[0m",
      "\u001b[0;32m/tmp/ipykernel_9634/1404990090.py\u001b[0m in \u001b[0;36mplot_3d\u001b[0;34m(x_train, n)\u001b[0m\n\u001b[1;32m      1\u001b[0m \u001b[0;32mdef\u001b[0m \u001b[0mplot_3d\u001b[0m\u001b[0;34m(\u001b[0m\u001b[0mx_train\u001b[0m\u001b[0;34m,\u001b[0m\u001b[0mn\u001b[0m\u001b[0;34m=\u001b[0m\u001b[0;36m4\u001b[0m\u001b[0;34m)\u001b[0m\u001b[0;34m:\u001b[0m\u001b[0;34m\u001b[0m\u001b[0;34m\u001b[0m\u001b[0m\n\u001b[1;32m      2\u001b[0m \u001b[0;34m\u001b[0m\u001b[0m\n\u001b[0;32m----> 3\u001b[0;31m     \u001b[0mx\u001b[0m \u001b[0;34m=\u001b[0m \u001b[0mpipe\u001b[0m\u001b[0;34m.\u001b[0m\u001b[0mtransform\u001b[0m\u001b[0;34m(\u001b[0m\u001b[0mx_train\u001b[0m\u001b[0;34m)\u001b[0m\u001b[0;34m\u001b[0m\u001b[0;34m\u001b[0m\u001b[0m\n\u001b[0m\u001b[1;32m      4\u001b[0m \u001b[0;34m\u001b[0m\u001b[0m\n\u001b[1;32m      5\u001b[0m     \u001b[0mkm\u001b[0m \u001b[0;34m=\u001b[0m \u001b[0mKMeans\u001b[0m\u001b[0;34m(\u001b[0m\u001b[0mn_clusters\u001b[0m\u001b[0;34m=\u001b[0m\u001b[0mn\u001b[0m\u001b[0;34m,\u001b[0m\u001b[0mrandom_state\u001b[0m\u001b[0;34m=\u001b[0m\u001b[0;36m42\u001b[0m\u001b[0;34m)\u001b[0m\u001b[0;34m\u001b[0m\u001b[0;34m\u001b[0m\u001b[0m\n",
      "\u001b[0;32m~/miniconda3/lib/python3.9/site-packages/sklearn/pipeline.py\u001b[0m in \u001b[0;36m_transform\u001b[0;34m(self, X)\u001b[0m\n\u001b[1;32m    558\u001b[0m         \u001b[0mXt\u001b[0m \u001b[0;34m=\u001b[0m \u001b[0mX\u001b[0m\u001b[0;34m\u001b[0m\u001b[0;34m\u001b[0m\u001b[0m\n\u001b[1;32m    559\u001b[0m         \u001b[0;32mfor\u001b[0m \u001b[0m_\u001b[0m\u001b[0;34m,\u001b[0m \u001b[0m_\u001b[0m\u001b[0;34m,\u001b[0m \u001b[0mtransform\u001b[0m \u001b[0;32min\u001b[0m \u001b[0mself\u001b[0m\u001b[0;34m.\u001b[0m\u001b[0m_iter\u001b[0m\u001b[0;34m(\u001b[0m\u001b[0;34m)\u001b[0m\u001b[0;34m:\u001b[0m\u001b[0;34m\u001b[0m\u001b[0;34m\u001b[0m\u001b[0m\n\u001b[0;32m--> 560\u001b[0;31m             \u001b[0mXt\u001b[0m \u001b[0;34m=\u001b[0m \u001b[0mtransform\u001b[0m\u001b[0;34m.\u001b[0m\u001b[0mtransform\u001b[0m\u001b[0;34m(\u001b[0m\u001b[0mXt\u001b[0m\u001b[0;34m)\u001b[0m\u001b[0;34m\u001b[0m\u001b[0;34m\u001b[0m\u001b[0m\n\u001b[0m\u001b[1;32m    561\u001b[0m         \u001b[0;32mreturn\u001b[0m \u001b[0mXt\u001b[0m\u001b[0;34m\u001b[0m\u001b[0;34m\u001b[0m\u001b[0m\n\u001b[1;32m    562\u001b[0m \u001b[0;34m\u001b[0m\u001b[0m\n",
      "\u001b[0;32m~/miniconda3/lib/python3.9/site-packages/sklearn/preprocessing/_data.py\u001b[0m in \u001b[0;36mtransform\u001b[0;34m(self, X, copy)\u001b[0m\n\u001b[1;32m   2045\u001b[0m         \"\"\"\n\u001b[1;32m   2046\u001b[0m         \u001b[0mcopy\u001b[0m \u001b[0;34m=\u001b[0m \u001b[0mcopy\u001b[0m \u001b[0;32mif\u001b[0m \u001b[0mcopy\u001b[0m \u001b[0;32mis\u001b[0m \u001b[0;32mnot\u001b[0m \u001b[0;32mNone\u001b[0m \u001b[0;32melse\u001b[0m \u001b[0mself\u001b[0m\u001b[0;34m.\u001b[0m\u001b[0mcopy\u001b[0m\u001b[0;34m\u001b[0m\u001b[0;34m\u001b[0m\u001b[0m\n\u001b[0;32m-> 2047\u001b[0;31m         \u001b[0mX\u001b[0m \u001b[0;34m=\u001b[0m \u001b[0mself\u001b[0m\u001b[0;34m.\u001b[0m\u001b[0m_validate_data\u001b[0m\u001b[0;34m(\u001b[0m\u001b[0mX\u001b[0m\u001b[0;34m,\u001b[0m \u001b[0maccept_sparse\u001b[0m\u001b[0;34m=\u001b[0m\u001b[0;34m'csr'\u001b[0m\u001b[0;34m,\u001b[0m \u001b[0mreset\u001b[0m\u001b[0;34m=\u001b[0m\u001b[0;32mFalse\u001b[0m\u001b[0;34m)\u001b[0m\u001b[0;34m\u001b[0m\u001b[0;34m\u001b[0m\u001b[0m\n\u001b[0m\u001b[1;32m   2048\u001b[0m         \u001b[0;32mreturn\u001b[0m \u001b[0mnormalize\u001b[0m\u001b[0;34m(\u001b[0m\u001b[0mX\u001b[0m\u001b[0;34m,\u001b[0m \u001b[0mnorm\u001b[0m\u001b[0;34m=\u001b[0m\u001b[0mself\u001b[0m\u001b[0;34m.\u001b[0m\u001b[0mnorm\u001b[0m\u001b[0;34m,\u001b[0m \u001b[0maxis\u001b[0m\u001b[0;34m=\u001b[0m\u001b[0;36m1\u001b[0m\u001b[0;34m,\u001b[0m \u001b[0mcopy\u001b[0m\u001b[0;34m=\u001b[0m\u001b[0mcopy\u001b[0m\u001b[0;34m)\u001b[0m\u001b[0;34m\u001b[0m\u001b[0;34m\u001b[0m\u001b[0m\n\u001b[1;32m   2049\u001b[0m \u001b[0;34m\u001b[0m\u001b[0m\n",
      "\u001b[0;32m~/miniconda3/lib/python3.9/site-packages/sklearn/base.py\u001b[0m in \u001b[0;36m_validate_data\u001b[0;34m(self, X, y, reset, validate_separately, **check_params)\u001b[0m\n\u001b[1;32m    435\u001b[0m \u001b[0;34m\u001b[0m\u001b[0m\n\u001b[1;32m    436\u001b[0m         \u001b[0;32mif\u001b[0m \u001b[0mcheck_params\u001b[0m\u001b[0;34m.\u001b[0m\u001b[0mget\u001b[0m\u001b[0;34m(\u001b[0m\u001b[0;34m'ensure_2d'\u001b[0m\u001b[0;34m,\u001b[0m \u001b[0;32mTrue\u001b[0m\u001b[0;34m)\u001b[0m\u001b[0;34m:\u001b[0m\u001b[0;34m\u001b[0m\u001b[0;34m\u001b[0m\u001b[0m\n\u001b[0;32m--> 437\u001b[0;31m             \u001b[0mself\u001b[0m\u001b[0;34m.\u001b[0m\u001b[0m_check_n_features\u001b[0m\u001b[0;34m(\u001b[0m\u001b[0mX\u001b[0m\u001b[0;34m,\u001b[0m \u001b[0mreset\u001b[0m\u001b[0;34m=\u001b[0m\u001b[0mreset\u001b[0m\u001b[0;34m)\u001b[0m\u001b[0;34m\u001b[0m\u001b[0;34m\u001b[0m\u001b[0m\n\u001b[0m\u001b[1;32m    438\u001b[0m \u001b[0;34m\u001b[0m\u001b[0m\n\u001b[1;32m    439\u001b[0m         \u001b[0;32mreturn\u001b[0m \u001b[0mout\u001b[0m\u001b[0;34m\u001b[0m\u001b[0;34m\u001b[0m\u001b[0m\n",
      "\u001b[0;32m~/miniconda3/lib/python3.9/site-packages/sklearn/base.py\u001b[0m in \u001b[0;36m_check_n_features\u001b[0;34m(self, X, reset)\u001b[0m\n\u001b[1;32m    363\u001b[0m \u001b[0;34m\u001b[0m\u001b[0m\n\u001b[1;32m    364\u001b[0m         \u001b[0;32mif\u001b[0m \u001b[0mn_features\u001b[0m \u001b[0;34m!=\u001b[0m \u001b[0mself\u001b[0m\u001b[0;34m.\u001b[0m\u001b[0mn_features_in_\u001b[0m\u001b[0;34m:\u001b[0m\u001b[0;34m\u001b[0m\u001b[0;34m\u001b[0m\u001b[0m\n\u001b[0;32m--> 365\u001b[0;31m             raise ValueError(\n\u001b[0m\u001b[1;32m    366\u001b[0m                 \u001b[0;34mf\"X has {n_features} features, but {self.__class__.__name__} \"\u001b[0m\u001b[0;34m\u001b[0m\u001b[0;34m\u001b[0m\u001b[0m\n\u001b[1;32m    367\u001b[0m                 f\"is expecting {self.n_features_in_} features as input.\")\n",
      "\u001b[0;31mValueError\u001b[0m: X has 6 features, but Normalizer is expecting 5 features as input."
     ]
    }
   ],
   "source": [
    "km_trained = plot_3d(x_train)"
   ]
  },
  {
   "cell_type": "code",
   "execution_count": 92,
   "id": "da60e620-ea0e-4898-a2c9-960087500689",
   "metadata": {},
   "outputs": [],
   "source": [
    "labels = km_trained.labels_"
   ]
  },
  {
   "cell_type": "code",
   "execution_count": 93,
   "id": "b384356c-8c7b-48ea-bd19-92ca24888014",
   "metadata": {},
   "outputs": [],
   "source": [
    "x_train['labels'] = labels"
   ]
  },
  {
   "cell_type": "code",
   "execution_count": 94,
   "id": "80d96b5a-a12f-4ddb-84e3-908464847dd1",
   "metadata": {
    "scrolled": true,
    "tags": []
   },
   "outputs": [
    {
     "data": {
      "text/html": [
       "<div>\n",
       "<style scoped>\n",
       "    .dataframe tbody tr th:only-of-type {\n",
       "        vertical-align: middle;\n",
       "    }\n",
       "\n",
       "    .dataframe tbody tr th {\n",
       "        vertical-align: top;\n",
       "    }\n",
       "\n",
       "    .dataframe thead th {\n",
       "        text-align: right;\n",
       "    }\n",
       "</style>\n",
       "<table border=\"1\" class=\"dataframe\">\n",
       "  <thead>\n",
       "    <tr style=\"text-align: right;\">\n",
       "      <th></th>\n",
       "      <th>VPIP</th>\n",
       "      <th>PFR</th>\n",
       "      <th>CBET</th>\n",
       "      <th>AF</th>\n",
       "      <th>WSD</th>\n",
       "      <th>labels</th>\n",
       "    </tr>\n",
       "  </thead>\n",
       "  <tbody>\n",
       "    <tr>\n",
       "      <th>4</th>\n",
       "      <td>36</td>\n",
       "      <td>7</td>\n",
       "      <td>0.0</td>\n",
       "      <td>0.40</td>\n",
       "      <td>60.0</td>\n",
       "      <td>0</td>\n",
       "    </tr>\n",
       "    <tr>\n",
       "      <th>5</th>\n",
       "      <td>46</td>\n",
       "      <td>8</td>\n",
       "      <td>0.0</td>\n",
       "      <td>2.00</td>\n",
       "      <td>57.0</td>\n",
       "      <td>0</td>\n",
       "    </tr>\n",
       "    <tr>\n",
       "      <th>8</th>\n",
       "      <td>70</td>\n",
       "      <td>25</td>\n",
       "      <td>0.0</td>\n",
       "      <td>0.50</td>\n",
       "      <td>67.0</td>\n",
       "      <td>0</td>\n",
       "    </tr>\n",
       "    <tr>\n",
       "      <th>9</th>\n",
       "      <td>25</td>\n",
       "      <td>5</td>\n",
       "      <td>0.0</td>\n",
       "      <td>3.00</td>\n",
       "      <td>100.0</td>\n",
       "      <td>0</td>\n",
       "    </tr>\n",
       "    <tr>\n",
       "      <th>10</th>\n",
       "      <td>63</td>\n",
       "      <td>11</td>\n",
       "      <td>0.0</td>\n",
       "      <td>1.00</td>\n",
       "      <td>83.0</td>\n",
       "      <td>0</td>\n",
       "    </tr>\n",
       "    <tr>\n",
       "      <th>...</th>\n",
       "      <td>...</td>\n",
       "      <td>...</td>\n",
       "      <td>...</td>\n",
       "      <td>...</td>\n",
       "      <td>...</td>\n",
       "      <td>...</td>\n",
       "    </tr>\n",
       "    <tr>\n",
       "      <th>1589</th>\n",
       "      <td>53</td>\n",
       "      <td>32</td>\n",
       "      <td>17.0</td>\n",
       "      <td>2.00</td>\n",
       "      <td>100.0</td>\n",
       "      <td>0</td>\n",
       "    </tr>\n",
       "    <tr>\n",
       "      <th>1591</th>\n",
       "      <td>36</td>\n",
       "      <td>14</td>\n",
       "      <td>0.0</td>\n",
       "      <td>4.00</td>\n",
       "      <td>57.0</td>\n",
       "      <td>0</td>\n",
       "    </tr>\n",
       "    <tr>\n",
       "      <th>1592</th>\n",
       "      <td>43</td>\n",
       "      <td>10</td>\n",
       "      <td>0.0</td>\n",
       "      <td>2.17</td>\n",
       "      <td>62.0</td>\n",
       "      <td>0</td>\n",
       "    </tr>\n",
       "    <tr>\n",
       "      <th>1599</th>\n",
       "      <td>44</td>\n",
       "      <td>0</td>\n",
       "      <td>0.0</td>\n",
       "      <td>0.50</td>\n",
       "      <td>20.0</td>\n",
       "      <td>0</td>\n",
       "    </tr>\n",
       "    <tr>\n",
       "      <th>1600</th>\n",
       "      <td>62</td>\n",
       "      <td>24</td>\n",
       "      <td>40.0</td>\n",
       "      <td>2.50</td>\n",
       "      <td>83.0</td>\n",
       "      <td>0</td>\n",
       "    </tr>\n",
       "  </tbody>\n",
       "</table>\n",
       "<p>664 rows × 6 columns</p>\n",
       "</div>"
      ],
      "text/plain": [
       "      VPIP  PFR  CBET    AF    WSD  labels\n",
       "4       36    7   0.0  0.40   60.0       0\n",
       "5       46    8   0.0  2.00   57.0       0\n",
       "8       70   25   0.0  0.50   67.0       0\n",
       "9       25    5   0.0  3.00  100.0       0\n",
       "10      63   11   0.0  1.00   83.0       0\n",
       "...    ...  ...   ...   ...    ...     ...\n",
       "1589    53   32  17.0  2.00  100.0       0\n",
       "1591    36   14   0.0  4.00   57.0       0\n",
       "1592    43   10   0.0  2.17   62.0       0\n",
       "1599    44    0   0.0  0.50   20.0       0\n",
       "1600    62   24  40.0  2.50   83.0       0\n",
       "\n",
       "[664 rows x 6 columns]"
      ]
     },
     "execution_count": 94,
     "metadata": {},
     "output_type": "execute_result"
    }
   ],
   "source": [
    "x_train[x_train['labels']==0]"
   ]
  },
  {
   "cell_type": "code",
   "execution_count": 95,
   "id": "ce631cac-0343-40f1-b045-f8a977de9a92",
   "metadata": {},
   "outputs": [
    {
     "data": {
      "text/html": [
       "<div>\n",
       "<style scoped>\n",
       "    .dataframe tbody tr th:only-of-type {\n",
       "        vertical-align: middle;\n",
       "    }\n",
       "\n",
       "    .dataframe tbody tr th {\n",
       "        vertical-align: top;\n",
       "    }\n",
       "\n",
       "    .dataframe thead th {\n",
       "        text-align: right;\n",
       "    }\n",
       "</style>\n",
       "<table border=\"1\" class=\"dataframe\">\n",
       "  <thead>\n",
       "    <tr style=\"text-align: right;\">\n",
       "      <th></th>\n",
       "      <th>VPIP</th>\n",
       "      <th>PFR</th>\n",
       "      <th>CBET</th>\n",
       "      <th>AF</th>\n",
       "      <th>WSD</th>\n",
       "      <th>labels</th>\n",
       "    </tr>\n",
       "  </thead>\n",
       "  <tbody>\n",
       "    <tr>\n",
       "      <th>count</th>\n",
       "      <td>664.000000</td>\n",
       "      <td>664.000000</td>\n",
       "      <td>664.000000</td>\n",
       "      <td>664.000000</td>\n",
       "      <td>664.000000</td>\n",
       "      <td>664.0</td>\n",
       "    </tr>\n",
       "    <tr>\n",
       "      <th>mean</th>\n",
       "      <td>46.266566</td>\n",
       "      <td>15.195783</td>\n",
       "      <td>6.137048</td>\n",
       "      <td>2.201732</td>\n",
       "      <td>67.081325</td>\n",
       "      <td>0.0</td>\n",
       "    </tr>\n",
       "    <tr>\n",
       "      <th>std</th>\n",
       "      <td>13.328194</td>\n",
       "      <td>9.619186</td>\n",
       "      <td>11.087920</td>\n",
       "      <td>2.150364</td>\n",
       "      <td>20.546882</td>\n",
       "      <td>0.0</td>\n",
       "    </tr>\n",
       "    <tr>\n",
       "      <th>min</th>\n",
       "      <td>4.000000</td>\n",
       "      <td>0.000000</td>\n",
       "      <td>0.000000</td>\n",
       "      <td>0.000000</td>\n",
       "      <td>20.000000</td>\n",
       "      <td>0.0</td>\n",
       "    </tr>\n",
       "    <tr>\n",
       "      <th>25%</th>\n",
       "      <td>36.000000</td>\n",
       "      <td>7.750000</td>\n",
       "      <td>0.000000</td>\n",
       "      <td>0.800000</td>\n",
       "      <td>50.000000</td>\n",
       "      <td>0.0</td>\n",
       "    </tr>\n",
       "    <tr>\n",
       "      <th>50%</th>\n",
       "      <td>46.000000</td>\n",
       "      <td>15.000000</td>\n",
       "      <td>0.000000</td>\n",
       "      <td>1.500000</td>\n",
       "      <td>67.000000</td>\n",
       "      <td>0.0</td>\n",
       "    </tr>\n",
       "    <tr>\n",
       "      <th>75%</th>\n",
       "      <td>55.000000</td>\n",
       "      <td>21.000000</td>\n",
       "      <td>10.250000</td>\n",
       "      <td>2.882500</td>\n",
       "      <td>80.000000</td>\n",
       "      <td>0.0</td>\n",
       "    </tr>\n",
       "    <tr>\n",
       "      <th>max</th>\n",
       "      <td>92.000000</td>\n",
       "      <td>45.000000</td>\n",
       "      <td>50.000000</td>\n",
       "      <td>15.000000</td>\n",
       "      <td>100.000000</td>\n",
       "      <td>0.0</td>\n",
       "    </tr>\n",
       "  </tbody>\n",
       "</table>\n",
       "</div>"
      ],
      "text/plain": [
       "             VPIP         PFR        CBET          AF         WSD  labels\n",
       "count  664.000000  664.000000  664.000000  664.000000  664.000000   664.0\n",
       "mean    46.266566   15.195783    6.137048    2.201732   67.081325     0.0\n",
       "std     13.328194    9.619186   11.087920    2.150364   20.546882     0.0\n",
       "min      4.000000    0.000000    0.000000    0.000000   20.000000     0.0\n",
       "25%     36.000000    7.750000    0.000000    0.800000   50.000000     0.0\n",
       "50%     46.000000   15.000000    0.000000    1.500000   67.000000     0.0\n",
       "75%     55.000000   21.000000   10.250000    2.882500   80.000000     0.0\n",
       "max     92.000000   45.000000   50.000000   15.000000  100.000000     0.0"
      ]
     },
     "execution_count": 95,
     "metadata": {},
     "output_type": "execute_result"
    }
   ],
   "source": [
    "x_train[x_train['labels']==0].describe()"
   ]
  },
  {
   "cell_type": "code",
   "execution_count": 96,
   "id": "eedc1b3b-7542-4d86-9050-b6d9fd6f2b0c",
   "metadata": {},
   "outputs": [
    {
     "data": {
      "text/html": [
       "<div>\n",
       "<style scoped>\n",
       "    .dataframe tbody tr th:only-of-type {\n",
       "        vertical-align: middle;\n",
       "    }\n",
       "\n",
       "    .dataframe tbody tr th {\n",
       "        vertical-align: top;\n",
       "    }\n",
       "\n",
       "    .dataframe thead th {\n",
       "        text-align: right;\n",
       "    }\n",
       "</style>\n",
       "<table border=\"1\" class=\"dataframe\">\n",
       "  <thead>\n",
       "    <tr style=\"text-align: right;\">\n",
       "      <th></th>\n",
       "      <th>VPIP</th>\n",
       "      <th>PFR</th>\n",
       "      <th>CBET</th>\n",
       "      <th>AF</th>\n",
       "      <th>WSD</th>\n",
       "      <th>labels</th>\n",
       "    </tr>\n",
       "  </thead>\n",
       "  <tbody>\n",
       "    <tr>\n",
       "      <th>count</th>\n",
       "      <td>502.000000</td>\n",
       "      <td>502.000000</td>\n",
       "      <td>502.000000</td>\n",
       "      <td>502.000000</td>\n",
       "      <td>502.000000</td>\n",
       "      <td>502.0</td>\n",
       "    </tr>\n",
       "    <tr>\n",
       "      <th>mean</th>\n",
       "      <td>54.083665</td>\n",
       "      <td>34.332669</td>\n",
       "      <td>14.185259</td>\n",
       "      <td>2.736952</td>\n",
       "      <td>50.486056</td>\n",
       "      <td>1.0</td>\n",
       "    </tr>\n",
       "    <tr>\n",
       "      <th>std</th>\n",
       "      <td>13.124347</td>\n",
       "      <td>12.044780</td>\n",
       "      <td>11.663082</td>\n",
       "      <td>2.610165</td>\n",
       "      <td>16.174041</td>\n",
       "      <td>0.0</td>\n",
       "    </tr>\n",
       "    <tr>\n",
       "      <th>min</th>\n",
       "      <td>21.000000</td>\n",
       "      <td>11.000000</td>\n",
       "      <td>0.000000</td>\n",
       "      <td>0.000000</td>\n",
       "      <td>17.000000</td>\n",
       "      <td>1.0</td>\n",
       "    </tr>\n",
       "    <tr>\n",
       "      <th>25%</th>\n",
       "      <td>46.000000</td>\n",
       "      <td>25.000000</td>\n",
       "      <td>0.000000</td>\n",
       "      <td>1.000000</td>\n",
       "      <td>40.000000</td>\n",
       "      <td>1.0</td>\n",
       "    </tr>\n",
       "    <tr>\n",
       "      <th>50%</th>\n",
       "      <td>54.000000</td>\n",
       "      <td>33.000000</td>\n",
       "      <td>14.000000</td>\n",
       "      <td>2.000000</td>\n",
       "      <td>50.000000</td>\n",
       "      <td>1.0</td>\n",
       "    </tr>\n",
       "    <tr>\n",
       "      <th>75%</th>\n",
       "      <td>62.000000</td>\n",
       "      <td>41.000000</td>\n",
       "      <td>20.000000</td>\n",
       "      <td>3.670000</td>\n",
       "      <td>60.000000</td>\n",
       "      <td>1.0</td>\n",
       "    </tr>\n",
       "    <tr>\n",
       "      <th>max</th>\n",
       "      <td>100.000000</td>\n",
       "      <td>90.000000</td>\n",
       "      <td>57.000000</td>\n",
       "      <td>21.000000</td>\n",
       "      <td>100.000000</td>\n",
       "      <td>1.0</td>\n",
       "    </tr>\n",
       "  </tbody>\n",
       "</table>\n",
       "</div>"
      ],
      "text/plain": [
       "             VPIP         PFR        CBET          AF         WSD  labels\n",
       "count  502.000000  502.000000  502.000000  502.000000  502.000000   502.0\n",
       "mean    54.083665   34.332669   14.185259    2.736952   50.486056     1.0\n",
       "std     13.124347   12.044780   11.663082    2.610165   16.174041     0.0\n",
       "min     21.000000   11.000000    0.000000    0.000000   17.000000     1.0\n",
       "25%     46.000000   25.000000    0.000000    1.000000   40.000000     1.0\n",
       "50%     54.000000   33.000000   14.000000    2.000000   50.000000     1.0\n",
       "75%     62.000000   41.000000   20.000000    3.670000   60.000000     1.0\n",
       "max    100.000000   90.000000   57.000000   21.000000  100.000000     1.0"
      ]
     },
     "execution_count": 96,
     "metadata": {},
     "output_type": "execute_result"
    }
   ],
   "source": [
    "x_train[x_train['labels']==1].describe()"
   ]
  },
  {
   "cell_type": "code",
   "execution_count": 97,
   "id": "895334a6-9c5f-4f2c-b15c-658a3c941da2",
   "metadata": {},
   "outputs": [
    {
     "data": {
      "text/html": [
       "<div>\n",
       "<style scoped>\n",
       "    .dataframe tbody tr th:only-of-type {\n",
       "        vertical-align: middle;\n",
       "    }\n",
       "\n",
       "    .dataframe tbody tr th {\n",
       "        vertical-align: top;\n",
       "    }\n",
       "\n",
       "    .dataframe thead th {\n",
       "        text-align: right;\n",
       "    }\n",
       "</style>\n",
       "<table border=\"1\" class=\"dataframe\">\n",
       "  <thead>\n",
       "    <tr style=\"text-align: right;\">\n",
       "      <th></th>\n",
       "      <th>VPIP</th>\n",
       "      <th>PFR</th>\n",
       "      <th>CBET</th>\n",
       "      <th>AF</th>\n",
       "      <th>WSD</th>\n",
       "      <th>labels</th>\n",
       "    </tr>\n",
       "  </thead>\n",
       "  <tbody>\n",
       "    <tr>\n",
       "      <th>count</th>\n",
       "      <td>260.000000</td>\n",
       "      <td>260.000000</td>\n",
       "      <td>260.000000</td>\n",
       "      <td>260.000000</td>\n",
       "      <td>260.000000</td>\n",
       "      <td>260.0</td>\n",
       "    </tr>\n",
       "    <tr>\n",
       "      <th>mean</th>\n",
       "      <td>50.188462</td>\n",
       "      <td>17.542308</td>\n",
       "      <td>50.361538</td>\n",
       "      <td>2.961308</td>\n",
       "      <td>44.096154</td>\n",
       "      <td>2.0</td>\n",
       "    </tr>\n",
       "    <tr>\n",
       "      <th>std</th>\n",
       "      <td>15.702810</td>\n",
       "      <td>9.094641</td>\n",
       "      <td>21.604019</td>\n",
       "      <td>2.499124</td>\n",
       "      <td>24.257037</td>\n",
       "      <td>0.0</td>\n",
       "    </tr>\n",
       "    <tr>\n",
       "      <th>min</th>\n",
       "      <td>0.000000</td>\n",
       "      <td>0.000000</td>\n",
       "      <td>0.000000</td>\n",
       "      <td>0.000000</td>\n",
       "      <td>0.000000</td>\n",
       "      <td>2.0</td>\n",
       "    </tr>\n",
       "    <tr>\n",
       "      <th>25%</th>\n",
       "      <td>41.000000</td>\n",
       "      <td>12.000000</td>\n",
       "      <td>33.000000</td>\n",
       "      <td>1.200000</td>\n",
       "      <td>25.000000</td>\n",
       "      <td>2.0</td>\n",
       "    </tr>\n",
       "    <tr>\n",
       "      <th>50%</th>\n",
       "      <td>50.000000</td>\n",
       "      <td>16.000000</td>\n",
       "      <td>50.000000</td>\n",
       "      <td>2.240000</td>\n",
       "      <td>46.000000</td>\n",
       "      <td>2.0</td>\n",
       "    </tr>\n",
       "    <tr>\n",
       "      <th>75%</th>\n",
       "      <td>61.000000</td>\n",
       "      <td>23.250000</td>\n",
       "      <td>60.000000</td>\n",
       "      <td>4.000000</td>\n",
       "      <td>60.000000</td>\n",
       "      <td>2.0</td>\n",
       "    </tr>\n",
       "    <tr>\n",
       "      <th>max</th>\n",
       "      <td>100.000000</td>\n",
       "      <td>53.000000</td>\n",
       "      <td>100.000000</td>\n",
       "      <td>16.000000</td>\n",
       "      <td>100.000000</td>\n",
       "      <td>2.0</td>\n",
       "    </tr>\n",
       "  </tbody>\n",
       "</table>\n",
       "</div>"
      ],
      "text/plain": [
       "             VPIP         PFR        CBET          AF         WSD  labels\n",
       "count  260.000000  260.000000  260.000000  260.000000  260.000000   260.0\n",
       "mean    50.188462   17.542308   50.361538    2.961308   44.096154     2.0\n",
       "std     15.702810    9.094641   21.604019    2.499124   24.257037     0.0\n",
       "min      0.000000    0.000000    0.000000    0.000000    0.000000     2.0\n",
       "25%     41.000000   12.000000   33.000000    1.200000   25.000000     2.0\n",
       "50%     50.000000   16.000000   50.000000    2.240000   46.000000     2.0\n",
       "75%     61.000000   23.250000   60.000000    4.000000   60.000000     2.0\n",
       "max    100.000000   53.000000  100.000000   16.000000  100.000000     2.0"
      ]
     },
     "execution_count": 97,
     "metadata": {},
     "output_type": "execute_result"
    }
   ],
   "source": [
    "x_train[x_train['labels']==2].describe()"
   ]
  },
  {
   "cell_type": "code",
   "execution_count": 126,
   "id": "15c53a74-7d06-40e6-9276-df3f1d2131a2",
   "metadata": {},
   "outputs": [],
   "source": [
    "mx = MinMaxScaler(feature_range=(0,100))\n",
    "x_train['AF_SCALED'] = mx.fit_transform(x_train.AF.values.reshape(-1,1))"
   ]
  },
  {
   "cell_type": "code",
   "execution_count": 127,
   "id": "58ad5a42-b5db-4061-b9ed-c264a342c160",
   "metadata": {},
   "outputs": [
    {
     "data": {
      "text/html": [
       "<div>\n",
       "<style scoped>\n",
       "    .dataframe tbody tr th:only-of-type {\n",
       "        vertical-align: middle;\n",
       "    }\n",
       "\n",
       "    .dataframe tbody tr th {\n",
       "        vertical-align: top;\n",
       "    }\n",
       "\n",
       "    .dataframe thead th {\n",
       "        text-align: right;\n",
       "    }\n",
       "</style>\n",
       "<table border=\"1\" class=\"dataframe\">\n",
       "  <thead>\n",
       "    <tr style=\"text-align: right;\">\n",
       "      <th></th>\n",
       "      <th>VPIP</th>\n",
       "      <th>PFR</th>\n",
       "      <th>CBET</th>\n",
       "      <th>AF</th>\n",
       "      <th>WSD</th>\n",
       "      <th>labels</th>\n",
       "      <th>AF_SCALED</th>\n",
       "    </tr>\n",
       "  </thead>\n",
       "  <tbody>\n",
       "    <tr>\n",
       "      <th>0</th>\n",
       "      <td>56</td>\n",
       "      <td>22</td>\n",
       "      <td>0.0</td>\n",
       "      <td>4.0</td>\n",
       "      <td>33.0</td>\n",
       "      <td>1</td>\n",
       "      <td>19.047619</td>\n",
       "    </tr>\n",
       "    <tr>\n",
       "      <th>1</th>\n",
       "      <td>53</td>\n",
       "      <td>38</td>\n",
       "      <td>0.0</td>\n",
       "      <td>4.0</td>\n",
       "      <td>44.0</td>\n",
       "      <td>1</td>\n",
       "      <td>19.047619</td>\n",
       "    </tr>\n",
       "    <tr>\n",
       "      <th>2</th>\n",
       "      <td>67</td>\n",
       "      <td>44</td>\n",
       "      <td>17.0</td>\n",
       "      <td>1.0</td>\n",
       "      <td>33.0</td>\n",
       "      <td>1</td>\n",
       "      <td>4.761905</td>\n",
       "    </tr>\n",
       "    <tr>\n",
       "      <th>3</th>\n",
       "      <td>36</td>\n",
       "      <td>21</td>\n",
       "      <td>0.0</td>\n",
       "      <td>3.0</td>\n",
       "      <td>33.0</td>\n",
       "      <td>1</td>\n",
       "      <td>14.285714</td>\n",
       "    </tr>\n",
       "    <tr>\n",
       "      <th>4</th>\n",
       "      <td>36</td>\n",
       "      <td>7</td>\n",
       "      <td>0.0</td>\n",
       "      <td>0.4</td>\n",
       "      <td>60.0</td>\n",
       "      <td>0</td>\n",
       "      <td>1.904762</td>\n",
       "    </tr>\n",
       "    <tr>\n",
       "      <th>...</th>\n",
       "      <td>...</td>\n",
       "      <td>...</td>\n",
       "      <td>...</td>\n",
       "      <td>...</td>\n",
       "      <td>...</td>\n",
       "      <td>...</td>\n",
       "      <td>...</td>\n",
       "    </tr>\n",
       "    <tr>\n",
       "      <th>1597</th>\n",
       "      <td>54</td>\n",
       "      <td>31</td>\n",
       "      <td>12.0</td>\n",
       "      <td>3.5</td>\n",
       "      <td>67.0</td>\n",
       "      <td>1</td>\n",
       "      <td>16.666667</td>\n",
       "    </tr>\n",
       "    <tr>\n",
       "      <th>1598</th>\n",
       "      <td>40</td>\n",
       "      <td>27</td>\n",
       "      <td>10.0</td>\n",
       "      <td>2.5</td>\n",
       "      <td>36.0</td>\n",
       "      <td>1</td>\n",
       "      <td>11.904762</td>\n",
       "    </tr>\n",
       "    <tr>\n",
       "      <th>1599</th>\n",
       "      <td>44</td>\n",
       "      <td>0</td>\n",
       "      <td>0.0</td>\n",
       "      <td>0.5</td>\n",
       "      <td>20.0</td>\n",
       "      <td>0</td>\n",
       "      <td>2.380952</td>\n",
       "    </tr>\n",
       "    <tr>\n",
       "      <th>1600</th>\n",
       "      <td>62</td>\n",
       "      <td>24</td>\n",
       "      <td>40.0</td>\n",
       "      <td>2.5</td>\n",
       "      <td>83.0</td>\n",
       "      <td>0</td>\n",
       "      <td>11.904762</td>\n",
       "    </tr>\n",
       "    <tr>\n",
       "      <th>1601</th>\n",
       "      <td>67</td>\n",
       "      <td>17</td>\n",
       "      <td>0.0</td>\n",
       "      <td>0.5</td>\n",
       "      <td>25.0</td>\n",
       "      <td>3</td>\n",
       "      <td>2.380952</td>\n",
       "    </tr>\n",
       "  </tbody>\n",
       "</table>\n",
       "<p>1602 rows × 7 columns</p>\n",
       "</div>"
      ],
      "text/plain": [
       "      VPIP  PFR  CBET   AF   WSD  labels  AF_SCALED\n",
       "0       56   22   0.0  4.0  33.0       1  19.047619\n",
       "1       53   38   0.0  4.0  44.0       1  19.047619\n",
       "2       67   44  17.0  1.0  33.0       1   4.761905\n",
       "3       36   21   0.0  3.0  33.0       1  14.285714\n",
       "4       36    7   0.0  0.4  60.0       0   1.904762\n",
       "...    ...  ...   ...  ...   ...     ...        ...\n",
       "1597    54   31  12.0  3.5  67.0       1  16.666667\n",
       "1598    40   27  10.0  2.5  36.0       1  11.904762\n",
       "1599    44    0   0.0  0.5  20.0       0   2.380952\n",
       "1600    62   24  40.0  2.5  83.0       0  11.904762\n",
       "1601    67   17   0.0  0.5  25.0       3   2.380952\n",
       "\n",
       "[1602 rows x 7 columns]"
      ]
     },
     "execution_count": 127,
     "metadata": {},
     "output_type": "execute_result"
    }
   ],
   "source": [
    "x_train"
   ]
  },
  {
   "cell_type": "code",
   "execution_count": 134,
   "id": "f6d2c58a-9d89-49dc-be76-3ba163052d71",
   "metadata": {},
   "outputs": [
    {
     "data": {
      "image/png": "[encoded data removed]",
      "text/plain": [
       "<Figure size 1440x864 with 16 Axes>"
      ]
     },
     "metadata": {},
     "output_type": "display_data"
    }
   ],
   "source": [
    "f, ax = plt.subplots(4,4,figsize=(20,12),sharex=True,sharey=True)\n",
    "plt.suptitle('Análise de Features',y=0.95,size=25)\n",
    "\n",
    "for label in x_train.labels.unique():\n",
    "    \n",
    "    if label == 0:\n",
    "        ax[label,0].set_title(f'VPIP')\n",
    "        ax[label,1].set_title(f'PFR')\n",
    "        ax[label,2].set_title(f'CBET')\n",
    "        ax[label,3].set_title(f'WSD')    \n",
    "    \n",
    "    ax[label,0].hist(x_train[x_train.labels == label].VPIP,density=True)\n",
    "    ax[label,1].hist(x_train[x_train.labels == label].PFR,density=True)\n",
    "    ax[label,2].hist(x_train[x_train.labels == label].CBET,density=True)\n",
    "    ax[label,3].hist(x_train[x_train.labels == label].WSD,density=True)"
   ]
  },
  {
   "cell_type": "markdown",
   "id": "2860155e-890f-4a3e-99c9-4b52747cbe27",
   "metadata": {},
   "source": [
    "GRUPO 0 -> REGULAR \n",
    "GRUPO 1 -> AGRESSIVO-INT\n",
    "GRUPO 2 -> TIGHT-QNLO\n",
    "GRUPO 3 -> LOOSERS"
   ]
  },
  {
   "cell_type": "code",
   "execution_count": 137,
   "id": "5a36cccc-3f06-4043-885e-19257a125586",
   "metadata": {},
   "outputs": [],
   "source": [
    "map_ = {0:'REGULAR',1:'AGRESSIVO-INT',2:'TIGHT-QNLO',3:'LOOSERS'}"
   ]
  },
  {
   "cell_type": "code",
   "execution_count": null,
   "id": "112b5eb6-5b3a-4c8b-9741-99bd321eb08e",
   "metadata": {},
   "outputs": [],
   "source": []
  },
  {
   "cell_type": "code",
   "execution_count": 153,
   "id": "9e5711b4-c1fd-491d-8d7f-d0e87e2788ce",
   "metadata": {},
   "outputs": [
    {
     "data": {
      "text/plain": [
       "0       676c5599\n",
       "1       7055f691\n",
       "2       a073d05a\n",
       "3       87d3a077\n",
       "4       cdbd79a3\n",
       "          ...   \n",
       "3404    24f29382\n",
       "3405    25c3dab8\n",
       "3406    bec650f3\n",
       "3407    c98315f0\n",
       "3408    e6bfd5eb\n",
       "Name: NAME, Length: 3409, dtype: object"
      ]
     },
     "execution_count": 153,
     "metadata": {},
     "output_type": "execute_result"
    }
   ],
   "source": [
    "(\n",
    "    stats\n",
    "    .loc[:,['NAME',]\n",
    ")"
   ]
  },
  {
   "cell_type": "code",
   "execution_count": 151,
   "id": "04491d92-f0b9-45be-a18a-d7e6fd829ca6",
   "metadata": {},
   "outputs": [
    {
     "data": {
      "text/html": [
       "<div>\n",
       "<style scoped>\n",
       "    .dataframe tbody tr th:only-of-type {\n",
       "        vertical-align: middle;\n",
       "    }\n",
       "\n",
       "    .dataframe tbody tr th {\n",
       "        vertical-align: top;\n",
       "    }\n",
       "\n",
       "    .dataframe thead th {\n",
       "        text-align: right;\n",
       "    }\n",
       "</style>\n",
       "<table border=\"1\" class=\"dataframe\">\n",
       "  <thead>\n",
       "    <tr style=\"text-align: right;\">\n",
       "      <th></th>\n",
       "      <th>NAME</th>\n",
       "      <th>VPIP</th>\n",
       "      <th>PFR</th>\n",
       "      <th>CBET</th>\n",
       "      <th>AF</th>\n",
       "      <th>WSD</th>\n",
       "      <th>hands</th>\n",
       "    </tr>\n",
       "  </thead>\n",
       "  <tbody>\n",
       "    <tr>\n",
       "      <th>0</th>\n",
       "      <td>676c5599</td>\n",
       "      <td>56</td>\n",
       "      <td>22</td>\n",
       "      <td>0.0</td>\n",
       "      <td>4.0</td>\n",
       "      <td>33.0</td>\n",
       "      <td>19</td>\n",
       "    </tr>\n",
       "    <tr>\n",
       "      <th>1</th>\n",
       "      <td>7055f691</td>\n",
       "      <td>50</td>\n",
       "      <td>25</td>\n",
       "      <td>0.0</td>\n",
       "      <td>1.0</td>\n",
       "      <td>0.0</td>\n",
       "      <td>14</td>\n",
       "    </tr>\n",
       "    <tr>\n",
       "      <th>2</th>\n",
       "      <td>a073d05a</td>\n",
       "      <td>33</td>\n",
       "      <td>0</td>\n",
       "      <td>0.0</td>\n",
       "      <td>0.0</td>\n",
       "      <td>0.0</td>\n",
       "      <td>3</td>\n",
       "    </tr>\n",
       "    <tr>\n",
       "      <th>3</th>\n",
       "      <td>87d3a077</td>\n",
       "      <td>67</td>\n",
       "      <td>33</td>\n",
       "      <td>0.0</td>\n",
       "      <td>1.0</td>\n",
       "      <td>100.0</td>\n",
       "      <td>3</td>\n",
       "    </tr>\n",
       "    <tr>\n",
       "      <th>4</th>\n",
       "      <td>cdbd79a3</td>\n",
       "      <td>67</td>\n",
       "      <td>33</td>\n",
       "      <td>0.0</td>\n",
       "      <td>0.0</td>\n",
       "      <td>67.0</td>\n",
       "      <td>6</td>\n",
       "    </tr>\n",
       "    <tr>\n",
       "      <th>...</th>\n",
       "      <td>...</td>\n",
       "      <td>...</td>\n",
       "      <td>...</td>\n",
       "      <td>...</td>\n",
       "      <td>...</td>\n",
       "      <td>...</td>\n",
       "      <td>...</td>\n",
       "    </tr>\n",
       "    <tr>\n",
       "      <th>3404</th>\n",
       "      <td>24f29382</td>\n",
       "      <td>0</td>\n",
       "      <td>0</td>\n",
       "      <td>0.0</td>\n",
       "      <td>0.0</td>\n",
       "      <td>0.0</td>\n",
       "      <td>1</td>\n",
       "    </tr>\n",
       "    <tr>\n",
       "      <th>3405</th>\n",
       "      <td>25c3dab8</td>\n",
       "      <td>62</td>\n",
       "      <td>38</td>\n",
       "      <td>40.0</td>\n",
       "      <td>4.0</td>\n",
       "      <td>0.0</td>\n",
       "      <td>13</td>\n",
       "    </tr>\n",
       "    <tr>\n",
       "      <th>3406</th>\n",
       "      <td>bec650f3</td>\n",
       "      <td>46</td>\n",
       "      <td>15</td>\n",
       "      <td>0.0</td>\n",
       "      <td>3.0</td>\n",
       "      <td>100.0</td>\n",
       "      <td>13</td>\n",
       "    </tr>\n",
       "    <tr>\n",
       "      <th>3407</th>\n",
       "      <td>c98315f0</td>\n",
       "      <td>100</td>\n",
       "      <td>50</td>\n",
       "      <td>0.0</td>\n",
       "      <td>1.0</td>\n",
       "      <td>100.0</td>\n",
       "      <td>2</td>\n",
       "    </tr>\n",
       "    <tr>\n",
       "      <th>3408</th>\n",
       "      <td>e6bfd5eb</td>\n",
       "      <td>0</td>\n",
       "      <td>0</td>\n",
       "      <td>0.0</td>\n",
       "      <td>0.0</td>\n",
       "      <td>0.0</td>\n",
       "      <td>2</td>\n",
       "    </tr>\n",
       "  </tbody>\n",
       "</table>\n",
       "<p>3409 rows × 7 columns</p>\n",
       "</div>"
      ],
      "text/plain": [
       "          NAME  VPIP  PFR  CBET   AF    WSD  hands\n",
       "0     676c5599    56   22   0.0  4.0   33.0     19\n",
       "1     7055f691    50   25   0.0  1.0    0.0     14\n",
       "2     a073d05a    33    0   0.0  0.0    0.0      3\n",
       "3     87d3a077    67   33   0.0  1.0  100.0      3\n",
       "4     cdbd79a3    67   33   0.0  0.0   67.0      6\n",
       "...        ...   ...  ...   ...  ...    ...    ...\n",
       "3404  24f29382     0    0   0.0  0.0    0.0      1\n",
       "3405  25c3dab8    62   38  40.0  4.0    0.0     13\n",
       "3406  bec650f3    46   15   0.0  3.0  100.0     13\n",
       "3407  c98315f0   100   50   0.0  1.0  100.0      2\n",
       "3408  e6bfd5eb     0    0   0.0  0.0    0.0      2\n",
       "\n",
       "[3409 rows x 7 columns]"
      ]
     },
     "execution_count": 151,
     "metadata": {},
     "output_type": "execute_result"
    }
   ],
   "source": [
    "stats"
   ]
  },
  {
   "cell_type": "code",
   "execution_count": null,
   "id": "4aa11db4-997e-4cc3-97f3-2e56f834d28c",
   "metadata": {},
   "outputs": [],
   "source": []
  },
  {
   "cell_type": "code",
   "execution_count": null,
   "id": "47342168-3fa3-4f4f-abeb-82f354481289",
   "metadata": {},
   "outputs": [],
   "source": []
  },
  {
   "cell_type": "code",
   "execution_count": null,
   "id": "b4707e83-de84-47ad-ba6d-b3a419c827e8",
   "metadata": {},
   "outputs": [],
   "source": []
  },
  {
   "cell_type": "code",
   "execution_count": null,
   "id": "c9973146-96b5-470d-931c-13d7fd404ab8",
   "metadata": {},
   "outputs": [],
   "source": []
  },
  {
   "cell_type": "code",
   "execution_count": 100,
   "id": "7c6cb637-724d-4d06-9fec-7b176d860171",
   "metadata": {},
   "outputs": [
    {
     "data": {
      "text/plain": [
       "DecisionTreeClassifier(criterion='entropy', max_depth=3)"
      ]
     },
     "execution_count": 100,
     "metadata": {},
     "output_type": "execute_result"
    }
   ],
   "source": [
    "dt = DecisionTreeClassifier(criterion='entropy',max_depth=3)\n",
    "dt.fit(x_train.drop('labels',axis=1),x_train.labels)"
   ]
  },
  {
   "cell_type": "code",
   "execution_count": 101,
   "id": "c6306245-9ef4-4c07-bdcb-13666ec01ad1",
   "metadata": {},
   "outputs": [
    {
     "data": {
      "text/plain": [
       "0.7871410736579276"
      ]
     },
     "execution_count": 101,
     "metadata": {},
     "output_type": "execute_result"
    }
   ],
   "source": [
    "dt.score(x_train.drop('labels',axis=1),x_train.labels)"
   ]
  },
  {
   "cell_type": "code",
   "execution_count": 102,
   "id": "430670bf-e06b-42fc-b5b3-655339d53672",
   "metadata": {},
   "outputs": [
    {
     "data": {
      "text/plain": [
       "array([[0.56990788, 0.31581416, 0.07550272, 0.08521322, 0.74855477],\n",
       "       [0.75948534, 0.60872995, 0.14878045, 0.13579523, 0.32316422],\n",
       "       [0.56181195, 0.31020216, 0.5165976 , 0.11212205, 0.51121712]])"
      ]
     },
     "execution_count": 102,
     "metadata": {},
     "output_type": "execute_result"
    }
   ],
   "source": [
    "km.cluster_centers_"
   ]
  },
  {
   "cell_type": "code",
   "execution_count": null,
   "id": "9290a212-7ef4-4c49-b2ca-cff9c9879b4f",
   "metadata": {},
   "outputs": [],
   "source": []
  },
  {
   "cell_type": "code",
   "execution_count": 80,
   "id": "b0b89115-9e36-4e05-97e6-d9bab72b3600",
   "metadata": {},
   "outputs": [],
   "source": [
    "from sklearn import tree"
   ]
  },
  {
   "cell_type": "code",
   "execution_count": 86,
   "id": "ebafb814-8528-4c83-b23f-6ea874975de5",
   "metadata": {},
   "outputs": [
    {
     "data": {
      "image/png": "[encoded data removed]",
      "text/plain": [
       "<Figure size 1152x864 with 1 Axes>"
      ]
     },
     "metadata": {},
     "output_type": "display_data"
    }
   ],
   "source": [
    "fig = plt.figure(figsize=(16,12))\n",
    "_ = tree.plot_tree(dt,filled=True,feature_names=x_train.drop('labels',axis=1).columns)"
   ]
  },
  {
   "cell_type": "code",
   "execution_count": null,
   "id": "57dc1eb5-fdb1-4f7a-9f59-3de4fa6ad412",
   "metadata": {},
   "outputs": [],
   "source": []
  },
  {
   "cell_type": "code",
   "execution_count": null,
   "id": "0f46b011-caa5-424f-b058-bd35e2f3a42d",
   "metadata": {},
   "outputs": [],
   "source": []
  },
  {
   "cell_type": "code",
   "execution_count": null,
   "id": "20887196-cbb5-4dd4-a1fe-331ab19d0e85",
   "metadata": {},
   "outputs": [],
   "source": []
  },
  {
   "cell_type": "code",
   "execution_count": null,
   "id": "21dacb2f-f760-412d-8a5c-ce32cafe1dd6",
   "metadata": {},
   "outputs": [],
   "source": []
  },
  {
   "cell_type": "code",
   "execution_count": null,
   "id": "6b6c7e2f-9aae-4d6b-a0b9-b09fb154130c",
   "metadata": {},
   "outputs": [],
   "source": []
  },
  {
   "cell_type": "code",
   "execution_count": null,
   "id": "418b0f95-353b-4eee-a660-5df66a74b549",
   "metadata": {},
   "outputs": [],
   "source": []
  },
  {
   "cell_type": "code",
   "execution_count": null,
   "id": "5f278190-c9dd-40ce-8297-b63662ea992d",
   "metadata": {},
   "outputs": [],
   "source": []
  },
  {
   "cell_type": "code",
   "execution_count": 457,
   "id": "3edd467d-ff09-4b1b-9783-8a555b709a0d",
   "metadata": {},
   "outputs": [
    {
     "name": "stderr",
     "output_type": "stream",
     "text": [
      "/Users/murilo/opt/anaconda3/lib/python3.8/site-packages/seaborn/distributions.py:2557: FutureWarning:\n",
      "\n",
      "`distplot` is a deprecated function and will be removed in a future version. Please adapt your code to use either `displot` (a figure-level function with similar flexibility) or `histplot` (an axes-level function for histograms).\n",
      "\n",
      "/Users/murilo/opt/anaconda3/lib/python3.8/site-packages/seaborn/distributions.py:2557: FutureWarning:\n",
      "\n",
      "`distplot` is a deprecated function and will be removed in a future version. Please adapt your code to use either `displot` (a figure-level function with similar flexibility) or `histplot` (an axes-level function for histograms).\n",
      "\n",
      "/Users/murilo/opt/anaconda3/lib/python3.8/site-packages/seaborn/distributions.py:2557: FutureWarning:\n",
      "\n",
      "`distplot` is a deprecated function and will be removed in a future version. Please adapt your code to use either `displot` (a figure-level function with similar flexibility) or `histplot` (an axes-level function for histograms).\n",
      "\n",
      "/Users/murilo/opt/anaconda3/lib/python3.8/site-packages/seaborn/distributions.py:2557: FutureWarning:\n",
      "\n",
      "`distplot` is a deprecated function and will be removed in a future version. Please adapt your code to use either `displot` (a figure-level function with similar flexibility) or `histplot` (an axes-level function for histograms).\n",
      "\n",
      "/Users/murilo/opt/anaconda3/lib/python3.8/site-packages/seaborn/distributions.py:2557: FutureWarning:\n",
      "\n",
      "`distplot` is a deprecated function and will be removed in a future version. Please adapt your code to use either `displot` (a figure-level function with similar flexibility) or `histplot` (an axes-level function for histograms).\n",
      "\n",
      "/Users/murilo/opt/anaconda3/lib/python3.8/site-packages/seaborn/distributions.py:2557: FutureWarning:\n",
      "\n",
      "`distplot` is a deprecated function and will be removed in a future version. Please adapt your code to use either `displot` (a figure-level function with similar flexibility) or `histplot` (an axes-level function for histograms).\n",
      "\n",
      "/Users/murilo/opt/anaconda3/lib/python3.8/site-packages/seaborn/distributions.py:306: UserWarning:\n",
      "\n",
      "Dataset has 0 variance; skipping density estimate.\n",
      "\n"
     ]
    },
    {
     "data": {
      "image/png": "[encoded data removed]",
      "text/plain": [
       "<Figure size 1080x432 with 6 Axes>"
      ]
     },
     "metadata": {},
     "output_type": "display_data"
    }
   ],
   "source": [
    "# Verificando as distribuição dos dados:\n",
    "plt.figure(1 , figsize = (15 , 6))\n",
    "n = 0 \n",
    "for x in x_train.columns:\n",
    "    n += 1\n",
    "    plt.subplot(1 , len(x_train.columns) , n)\n",
    "    plt.subplots_adjust(hspace =0.5 , wspace = 0.5)\n",
    "    sns.distplot(x_train[x_train['labels']==1][x] , bins = 25)\n",
    "    plt.title('{} '.format(x))\n",
    "plt.show()"
   ]
  },
  {
   "cell_type": "code",
   "execution_count": 468,
   "id": "2266be03-08b6-4b13-b189-81a50f389e71",
   "metadata": {},
   "outputs": [
    {
     "data": {
      "image/png": "[encoded data removed]",
      "text/plain": [
       "<Figure size 432x288 with 1 Axes>"
      ]
     },
     "metadata": {},
     "output_type": "display_data"
    }
   ],
   "source": [
    "sns.histplot(x_train,x='VPIP',hue='labels',palette=['green','red','black','blue'],alpha=0.2,);"
   ]
  },
  {
   "cell_type": "code",
   "execution_count": null,
   "id": "a108d209-5a7f-43e4-801e-f339198317af",
   "metadata": {},
   "outputs": [],
   "source": [
    "sns.displot(x_train,x='VPIP',)"
   ]
  }
 ],
 "metadata": {
  "kernelspec": {
   "display_name": "Python 3 (ipykernel)",
   "language": "python",
   "name": "python3"
  },
  "language_info": {
   "codemirror_mode": {
    "name": "ipython",
    "version": 3
   },
   "file_extension": ".py",
   "mimetype": "text/x-python",
   "name": "python",
   "nbconvert_exporter": "python",
   "pygments_lexer": "ipython3",
   "version": "3.9.5"
  }
 },
 "nbformat": 4,
 "nbformat_minor": 5
}
