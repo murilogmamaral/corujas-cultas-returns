{
 "cells": [
  {
   "cell_type": "code",
   "execution_count": 1,
   "id": "6955745b-5c92-417d-a356-ef50358fa4dd",
   "metadata": {},
   "outputs": [],
   "source": [
    "import pandas as pd\n",
    "import numpy as np\n",
    "import matplotlib.pyplot as plt\n",
    "\n",
    "from sklearn.impute import KNNImputer\n",
    "\n",
    "from sklearn.compose import make_column_transformer\n",
    "from sklearn.pipeline import make_pipeline\n",
    "\n",
    "from sklearn.preprocessing import OrdinalEncoder\n",
    "from sklearn.model_selection import train_test_split\n",
    "\n",
    "from sklearn.metrics import classification_report\n",
    "from sklearn.tree import DecisionTreeClassifier\n",
    "from sklearn.ensemble import RandomForestClassifier\n",
    "\n",
    "import sklearn\n",
    "sklearn.set_config(display='diagram')"
   ]
  },
  {
   "cell_type": "code",
   "execution_count": 2,
   "id": "ff4e49a3-ec01-4635-8bdf-00a42e59f706",
   "metadata": {},
   "outputs": [
    {
     "data": {
      "text/html": [
       "<div>\n",
       "<style scoped>\n",
       "    .dataframe tbody tr th:only-of-type {\n",
       "        vertical-align: middle;\n",
       "    }\n",
       "\n",
       "    .dataframe tbody tr th {\n",
       "        vertical-align: top;\n",
       "    }\n",
       "\n",
       "    .dataframe thead th {\n",
       "        text-align: right;\n",
       "    }\n",
       "</style>\n",
       "<table border=\"1\" class=\"dataframe\">\n",
       "  <thead>\n",
       "    <tr style=\"text-align: right;\">\n",
       "      <th></th>\n",
       "      <th>Survived</th>\n",
       "      <th>Pclass</th>\n",
       "      <th>Sex</th>\n",
       "      <th>Age</th>\n",
       "      <th>Fare</th>\n",
       "    </tr>\n",
       "  </thead>\n",
       "  <tbody>\n",
       "    <tr>\n",
       "      <th>0</th>\n",
       "      <td>0</td>\n",
       "      <td>3</td>\n",
       "      <td>male</td>\n",
       "      <td>22.0</td>\n",
       "      <td>7.2500</td>\n",
       "    </tr>\n",
       "    <tr>\n",
       "      <th>1</th>\n",
       "      <td>1</td>\n",
       "      <td>1</td>\n",
       "      <td>female</td>\n",
       "      <td>38.0</td>\n",
       "      <td>71.2833</td>\n",
       "    </tr>\n",
       "    <tr>\n",
       "      <th>2</th>\n",
       "      <td>1</td>\n",
       "      <td>3</td>\n",
       "      <td>female</td>\n",
       "      <td>26.0</td>\n",
       "      <td>7.9250</td>\n",
       "    </tr>\n",
       "    <tr>\n",
       "      <th>3</th>\n",
       "      <td>1</td>\n",
       "      <td>1</td>\n",
       "      <td>female</td>\n",
       "      <td>35.0</td>\n",
       "      <td>53.1000</td>\n",
       "    </tr>\n",
       "    <tr>\n",
       "      <th>4</th>\n",
       "      <td>0</td>\n",
       "      <td>3</td>\n",
       "      <td>male</td>\n",
       "      <td>35.0</td>\n",
       "      <td>8.0500</td>\n",
       "    </tr>\n",
       "  </tbody>\n",
       "</table>\n",
       "</div>"
      ],
      "text/plain": [
       "   Survived  Pclass     Sex   Age     Fare\n",
       "0         0       3    male  22.0   7.2500\n",
       "1         1       1  female  38.0  71.2833\n",
       "2         1       3  female  26.0   7.9250\n",
       "3         1       1  female  35.0  53.1000\n",
       "4         0       3    male  35.0   8.0500"
      ]
     },
     "execution_count": 2,
     "metadata": {},
     "output_type": "execute_result"
    }
   ],
   "source": [
    "df = pd.read_csv('../data/titanic.csv',usecols=['Survived','Age','Fare','Sex','Pclass'])\n",
    "df.head()"
   ]
  },
  {
   "cell_type": "code",
   "execution_count": 3,
   "id": "60b79780-52d0-4c83-98f8-db951c63e4b5",
   "metadata": {},
   "outputs": [
    {
     "data": {
      "text/plain": [
       "Survived      0\n",
       "Pclass        0\n",
       "Sex           0\n",
       "Age         177\n",
       "Fare          0\n",
       "dtype: int64"
      ]
     },
     "execution_count": 3,
     "metadata": {},
     "output_type": "execute_result"
    }
   ],
   "source": [
    "df.isna().sum()"
   ]
  },
  {
   "cell_type": "code",
   "execution_count": 4,
   "id": "b5c2b928-56ed-48d0-ae92-3a4cd279d015",
   "metadata": {},
   "outputs": [
    {
     "data": {
      "text/html": [
       "<style>#sk-7530b241-7f59-410e-a56d-cd1071195972 {color: black;background-color: white;}#sk-7530b241-7f59-410e-a56d-cd1071195972 pre{padding: 0;}#sk-7530b241-7f59-410e-a56d-cd1071195972 div.sk-toggleable {background-color: white;}#sk-7530b241-7f59-410e-a56d-cd1071195972 label.sk-toggleable__label {cursor: pointer;display: block;width: 100%;margin-bottom: 0;padding: 0.2em 0.3em;box-sizing: border-box;text-align: center;}#sk-7530b241-7f59-410e-a56d-cd1071195972 div.sk-toggleable__content {max-height: 0;max-width: 0;overflow: hidden;text-align: left;background-color: #f0f8ff;}#sk-7530b241-7f59-410e-a56d-cd1071195972 div.sk-toggleable__content pre {margin: 0.2em;color: black;border-radius: 0.25em;background-color: #f0f8ff;}#sk-7530b241-7f59-410e-a56d-cd1071195972 input.sk-toggleable__control:checked~div.sk-toggleable__content {max-height: 200px;max-width: 100%;overflow: auto;}#sk-7530b241-7f59-410e-a56d-cd1071195972 div.sk-estimator input.sk-toggleable__control:checked~label.sk-toggleable__label {background-color: #d4ebff;}#sk-7530b241-7f59-410e-a56d-cd1071195972 div.sk-label input.sk-toggleable__control:checked~label.sk-toggleable__label {background-color: #d4ebff;}#sk-7530b241-7f59-410e-a56d-cd1071195972 input.sk-hidden--visually {border: 0;clip: rect(1px 1px 1px 1px);clip: rect(1px, 1px, 1px, 1px);height: 1px;margin: -1px;overflow: hidden;padding: 0;position: absolute;width: 1px;}#sk-7530b241-7f59-410e-a56d-cd1071195972 div.sk-estimator {font-family: monospace;background-color: #f0f8ff;margin: 0.25em 0.25em;border: 1px dotted black;border-radius: 0.25em;box-sizing: border-box;}#sk-7530b241-7f59-410e-a56d-cd1071195972 div.sk-estimator:hover {background-color: #d4ebff;}#sk-7530b241-7f59-410e-a56d-cd1071195972 div.sk-parallel-item::after {content: \"\";width: 100%;border-bottom: 1px solid gray;flex-grow: 1;}#sk-7530b241-7f59-410e-a56d-cd1071195972 div.sk-label:hover label.sk-toggleable__label {background-color: #d4ebff;}#sk-7530b241-7f59-410e-a56d-cd1071195972 div.sk-serial::before {content: \"\";position: absolute;border-left: 1px solid gray;box-sizing: border-box;top: 2em;bottom: 0;left: 50%;}#sk-7530b241-7f59-410e-a56d-cd1071195972 div.sk-serial {display: flex;flex-direction: column;align-items: center;background-color: white;}#sk-7530b241-7f59-410e-a56d-cd1071195972 div.sk-item {z-index: 1;}#sk-7530b241-7f59-410e-a56d-cd1071195972 div.sk-parallel {display: flex;align-items: stretch;justify-content: center;background-color: white;}#sk-7530b241-7f59-410e-a56d-cd1071195972 div.sk-parallel-item {display: flex;flex-direction: column;position: relative;background-color: white;}#sk-7530b241-7f59-410e-a56d-cd1071195972 div.sk-parallel-item:first-child::after {align-self: flex-end;width: 50%;}#sk-7530b241-7f59-410e-a56d-cd1071195972 div.sk-parallel-item:last-child::after {align-self: flex-start;width: 50%;}#sk-7530b241-7f59-410e-a56d-cd1071195972 div.sk-parallel-item:only-child::after {width: 0;}#sk-7530b241-7f59-410e-a56d-cd1071195972 div.sk-dashed-wrapped {border: 1px dashed gray;margin: 0.2em;box-sizing: border-box;padding-bottom: 0.1em;background-color: white;position: relative;}#sk-7530b241-7f59-410e-a56d-cd1071195972 div.sk-label label {font-family: monospace;font-weight: bold;background-color: white;display: inline-block;line-height: 1.2em;}#sk-7530b241-7f59-410e-a56d-cd1071195972 div.sk-label-container {position: relative;z-index: 2;text-align: center;}#sk-7530b241-7f59-410e-a56d-cd1071195972 div.sk-container {display: inline-block;position: relative;}</style><div id=\"sk-7530b241-7f59-410e-a56d-cd1071195972\" class\"sk-top-container\"><div class=\"sk-container\"><div class=\"sk-item sk-dashed-wrapped\"><div class=\"sk-label-container\"><div class=\"sk-label sk-toggleable\"><input class=\"sk-toggleable__control sk-hidden--visually\" id=\"49808cf4-484a-4fe4-ac72-14956195b8e6\" type=\"checkbox\" ><label class=\"sk-toggleable__label\" for=\"49808cf4-484a-4fe4-ac72-14956195b8e6\">ColumnTransformer</label><div class=\"sk-toggleable__content\"><pre>ColumnTransformer(remainder='passthrough',\n",
       "                  transformers=[('knnimputer', KNNImputer(), ['Age']),\n",
       "                                ('ordinalencoder', OrdinalEncoder(), ['Sex'])])</pre></div></div></div><div class=\"sk-parallel\"><div class=\"sk-parallel-item\"><div class=\"sk-item\"><div class=\"sk-label-container\"><div class=\"sk-label sk-toggleable\"><input class=\"sk-toggleable__control sk-hidden--visually\" id=\"825024c6-13c4-48ec-a91f-5c8fa0d01853\" type=\"checkbox\" ><label class=\"sk-toggleable__label\" for=\"825024c6-13c4-48ec-a91f-5c8fa0d01853\">knnimputer</label><div class=\"sk-toggleable__content\"><pre>['Age']</pre></div></div></div><div class=\"sk-serial\"><div class=\"sk-item\"><div class=\"sk-estimator sk-toggleable\"><input class=\"sk-toggleable__control sk-hidden--visually\" id=\"9abfebb5-a63f-4dd3-aba6-adc6d6026648\" type=\"checkbox\" ><label class=\"sk-toggleable__label\" for=\"9abfebb5-a63f-4dd3-aba6-adc6d6026648\">KNNImputer</label><div class=\"sk-toggleable__content\"><pre>KNNImputer()</pre></div></div></div></div></div></div><div class=\"sk-parallel-item\"><div class=\"sk-item\"><div class=\"sk-label-container\"><div class=\"sk-label sk-toggleable\"><input class=\"sk-toggleable__control sk-hidden--visually\" id=\"9772ad07-22ec-4005-a141-66310c990a77\" type=\"checkbox\" ><label class=\"sk-toggleable__label\" for=\"9772ad07-22ec-4005-a141-66310c990a77\">ordinalencoder</label><div class=\"sk-toggleable__content\"><pre>['Sex']</pre></div></div></div><div class=\"sk-serial\"><div class=\"sk-item\"><div class=\"sk-estimator sk-toggleable\"><input class=\"sk-toggleable__control sk-hidden--visually\" id=\"12fd0ba6-590d-4b06-83d4-8c4fc928c8f7\" type=\"checkbox\" ><label class=\"sk-toggleable__label\" for=\"12fd0ba6-590d-4b06-83d4-8c4fc928c8f7\">OrdinalEncoder</label><div class=\"sk-toggleable__content\"><pre>OrdinalEncoder()</pre></div></div></div></div></div></div><div class=\"sk-parallel-item\"><div class=\"sk-item\"><div class=\"sk-label-container\"><div class=\"sk-label sk-toggleable\"><input class=\"sk-toggleable__control sk-hidden--visually\" id=\"80bb62d0-7f4a-4fb6-b06b-bb602bdfac85\" type=\"checkbox\" ><label class=\"sk-toggleable__label\" for=\"80bb62d0-7f4a-4fb6-b06b-bb602bdfac85\">remainder</label><div class=\"sk-toggleable__content\"><pre></pre></div></div></div><div class=\"sk-serial\"><div class=\"sk-item\"><div class=\"sk-estimator sk-toggleable\"><input class=\"sk-toggleable__control sk-hidden--visually\" id=\"0e2c2a35-81fa-4e52-a249-1268933450ab\" type=\"checkbox\" ><label class=\"sk-toggleable__label\" for=\"0e2c2a35-81fa-4e52-a249-1268933450ab\">passthrough</label><div class=\"sk-toggleable__content\"><pre>passthrough</pre></div></div></div></div></div></div></div></div></div></div>"
      ],
      "text/plain": [
       "ColumnTransformer(remainder='passthrough',\n",
       "                  transformers=[('knnimputer', KNNImputer(), ['Age']),\n",
       "                                ('ordinalencoder', OrdinalEncoder(), ['Sex'])])"
      ]
     },
     "execution_count": 4,
     "metadata": {},
     "output_type": "execute_result"
    }
   ],
   "source": [
    "col_transf = make_column_transformer(\n",
    "    (KNNImputer(),['Age']),\n",
    "    (OrdinalEncoder(),['Sex']),\n",
    "    remainder='passthrough'\n",
    ")\n",
    "\n",
    "col_transf"
   ]
  },
  {
   "cell_type": "code",
   "execution_count": 5,
   "id": "90bfcfcd-fd5a-43e2-a214-61ef71b25999",
   "metadata": {},
   "outputs": [
    {
     "data": {
      "text/html": [
       "<div>\n",
       "<style scoped>\n",
       "    .dataframe tbody tr th:only-of-type {\n",
       "        vertical-align: middle;\n",
       "    }\n",
       "\n",
       "    .dataframe tbody tr th {\n",
       "        vertical-align: top;\n",
       "    }\n",
       "\n",
       "    .dataframe thead th {\n",
       "        text-align: right;\n",
       "    }\n",
       "</style>\n",
       "<table border=\"1\" class=\"dataframe\">\n",
       "  <thead>\n",
       "    <tr style=\"text-align: right;\">\n",
       "      <th></th>\n",
       "      <th>Survived</th>\n",
       "      <th>Pclass</th>\n",
       "      <th>Sex</th>\n",
       "      <th>Age</th>\n",
       "      <th>Fare</th>\n",
       "    </tr>\n",
       "  </thead>\n",
       "  <tbody>\n",
       "    <tr>\n",
       "      <th>0</th>\n",
       "      <td>0</td>\n",
       "      <td>3</td>\n",
       "      <td>male</td>\n",
       "      <td>22.0</td>\n",
       "      <td>7.2500</td>\n",
       "    </tr>\n",
       "    <tr>\n",
       "      <th>1</th>\n",
       "      <td>1</td>\n",
       "      <td>1</td>\n",
       "      <td>female</td>\n",
       "      <td>38.0</td>\n",
       "      <td>71.2833</td>\n",
       "    </tr>\n",
       "    <tr>\n",
       "      <th>2</th>\n",
       "      <td>1</td>\n",
       "      <td>3</td>\n",
       "      <td>female</td>\n",
       "      <td>26.0</td>\n",
       "      <td>7.9250</td>\n",
       "    </tr>\n",
       "    <tr>\n",
       "      <th>3</th>\n",
       "      <td>1</td>\n",
       "      <td>1</td>\n",
       "      <td>female</td>\n",
       "      <td>35.0</td>\n",
       "      <td>53.1000</td>\n",
       "    </tr>\n",
       "    <tr>\n",
       "      <th>4</th>\n",
       "      <td>0</td>\n",
       "      <td>3</td>\n",
       "      <td>male</td>\n",
       "      <td>35.0</td>\n",
       "      <td>8.0500</td>\n",
       "    </tr>\n",
       "    <tr>\n",
       "      <th>...</th>\n",
       "      <td>...</td>\n",
       "      <td>...</td>\n",
       "      <td>...</td>\n",
       "      <td>...</td>\n",
       "      <td>...</td>\n",
       "    </tr>\n",
       "    <tr>\n",
       "      <th>886</th>\n",
       "      <td>0</td>\n",
       "      <td>2</td>\n",
       "      <td>male</td>\n",
       "      <td>27.0</td>\n",
       "      <td>13.0000</td>\n",
       "    </tr>\n",
       "    <tr>\n",
       "      <th>887</th>\n",
       "      <td>1</td>\n",
       "      <td>1</td>\n",
       "      <td>female</td>\n",
       "      <td>19.0</td>\n",
       "      <td>30.0000</td>\n",
       "    </tr>\n",
       "    <tr>\n",
       "      <th>888</th>\n",
       "      <td>0</td>\n",
       "      <td>3</td>\n",
       "      <td>female</td>\n",
       "      <td>NaN</td>\n",
       "      <td>23.4500</td>\n",
       "    </tr>\n",
       "    <tr>\n",
       "      <th>889</th>\n",
       "      <td>1</td>\n",
       "      <td>1</td>\n",
       "      <td>male</td>\n",
       "      <td>26.0</td>\n",
       "      <td>30.0000</td>\n",
       "    </tr>\n",
       "    <tr>\n",
       "      <th>890</th>\n",
       "      <td>0</td>\n",
       "      <td>3</td>\n",
       "      <td>male</td>\n",
       "      <td>32.0</td>\n",
       "      <td>7.7500</td>\n",
       "    </tr>\n",
       "  </tbody>\n",
       "</table>\n",
       "<p>891 rows × 5 columns</p>\n",
       "</div>"
      ],
      "text/plain": [
       "     Survived  Pclass     Sex   Age     Fare\n",
       "0           0       3    male  22.0   7.2500\n",
       "1           1       1  female  38.0  71.2833\n",
       "2           1       3  female  26.0   7.9250\n",
       "3           1       1  female  35.0  53.1000\n",
       "4           0       3    male  35.0   8.0500\n",
       "..        ...     ...     ...   ...      ...\n",
       "886         0       2    male  27.0  13.0000\n",
       "887         1       1  female  19.0  30.0000\n",
       "888         0       3  female   NaN  23.4500\n",
       "889         1       1    male  26.0  30.0000\n",
       "890         0       3    male  32.0   7.7500\n",
       "\n",
       "[891 rows x 5 columns]"
      ]
     },
     "execution_count": 5,
     "metadata": {},
     "output_type": "execute_result"
    }
   ],
   "source": [
    "df"
   ]
  },
  {
   "cell_type": "code",
   "execution_count": 6,
   "id": "5b668ade-a484-4cd3-b421-6802b857cd22",
   "metadata": {},
   "outputs": [
    {
     "data": {
      "text/plain": [
       "array([[22.        ,  1.        ,  0.        ,  3.        ,  7.25      ],\n",
       "       [38.        ,  0.        ,  1.        ,  1.        , 71.2833    ],\n",
       "       [26.        ,  0.        ,  1.        ,  3.        ,  7.925     ],\n",
       "       ...,\n",
       "       [29.69911765,  0.        ,  0.        ,  3.        , 23.45      ],\n",
       "       [26.        ,  1.        ,  1.        ,  1.        , 30.        ],\n",
       "       [32.        ,  1.        ,  0.        ,  3.        ,  7.75      ]])"
      ]
     },
     "execution_count": 6,
     "metadata": {},
     "output_type": "execute_result"
    }
   ],
   "source": [
    "col_transf.fit_transform(df)"
   ]
  },
  {
   "cell_type": "code",
   "execution_count": 7,
   "id": "250b2e9e-bcc8-4d41-b6b9-136cfc05eb2c",
   "metadata": {},
   "outputs": [
    {
     "data": {
      "text/html": [
       "<style>#sk-4f32480c-aaf2-4165-9628-48af55a43750 {color: black;background-color: white;}#sk-4f32480c-aaf2-4165-9628-48af55a43750 pre{padding: 0;}#sk-4f32480c-aaf2-4165-9628-48af55a43750 div.sk-toggleable {background-color: white;}#sk-4f32480c-aaf2-4165-9628-48af55a43750 label.sk-toggleable__label {cursor: pointer;display: block;width: 100%;margin-bottom: 0;padding: 0.2em 0.3em;box-sizing: border-box;text-align: center;}#sk-4f32480c-aaf2-4165-9628-48af55a43750 div.sk-toggleable__content {max-height: 0;max-width: 0;overflow: hidden;text-align: left;background-color: #f0f8ff;}#sk-4f32480c-aaf2-4165-9628-48af55a43750 div.sk-toggleable__content pre {margin: 0.2em;color: black;border-radius: 0.25em;background-color: #f0f8ff;}#sk-4f32480c-aaf2-4165-9628-48af55a43750 input.sk-toggleable__control:checked~div.sk-toggleable__content {max-height: 200px;max-width: 100%;overflow: auto;}#sk-4f32480c-aaf2-4165-9628-48af55a43750 div.sk-estimator input.sk-toggleable__control:checked~label.sk-toggleable__label {background-color: #d4ebff;}#sk-4f32480c-aaf2-4165-9628-48af55a43750 div.sk-label input.sk-toggleable__control:checked~label.sk-toggleable__label {background-color: #d4ebff;}#sk-4f32480c-aaf2-4165-9628-48af55a43750 input.sk-hidden--visually {border: 0;clip: rect(1px 1px 1px 1px);clip: rect(1px, 1px, 1px, 1px);height: 1px;margin: -1px;overflow: hidden;padding: 0;position: absolute;width: 1px;}#sk-4f32480c-aaf2-4165-9628-48af55a43750 div.sk-estimator {font-family: monospace;background-color: #f0f8ff;margin: 0.25em 0.25em;border: 1px dotted black;border-radius: 0.25em;box-sizing: border-box;}#sk-4f32480c-aaf2-4165-9628-48af55a43750 div.sk-estimator:hover {background-color: #d4ebff;}#sk-4f32480c-aaf2-4165-9628-48af55a43750 div.sk-parallel-item::after {content: \"\";width: 100%;border-bottom: 1px solid gray;flex-grow: 1;}#sk-4f32480c-aaf2-4165-9628-48af55a43750 div.sk-label:hover label.sk-toggleable__label {background-color: #d4ebff;}#sk-4f32480c-aaf2-4165-9628-48af55a43750 div.sk-serial::before {content: \"\";position: absolute;border-left: 1px solid gray;box-sizing: border-box;top: 2em;bottom: 0;left: 50%;}#sk-4f32480c-aaf2-4165-9628-48af55a43750 div.sk-serial {display: flex;flex-direction: column;align-items: center;background-color: white;}#sk-4f32480c-aaf2-4165-9628-48af55a43750 div.sk-item {z-index: 1;}#sk-4f32480c-aaf2-4165-9628-48af55a43750 div.sk-parallel {display: flex;align-items: stretch;justify-content: center;background-color: white;}#sk-4f32480c-aaf2-4165-9628-48af55a43750 div.sk-parallel-item {display: flex;flex-direction: column;position: relative;background-color: white;}#sk-4f32480c-aaf2-4165-9628-48af55a43750 div.sk-parallel-item:first-child::after {align-self: flex-end;width: 50%;}#sk-4f32480c-aaf2-4165-9628-48af55a43750 div.sk-parallel-item:last-child::after {align-self: flex-start;width: 50%;}#sk-4f32480c-aaf2-4165-9628-48af55a43750 div.sk-parallel-item:only-child::after {width: 0;}#sk-4f32480c-aaf2-4165-9628-48af55a43750 div.sk-dashed-wrapped {border: 1px dashed gray;margin: 0.2em;box-sizing: border-box;padding-bottom: 0.1em;background-color: white;position: relative;}#sk-4f32480c-aaf2-4165-9628-48af55a43750 div.sk-label label {font-family: monospace;font-weight: bold;background-color: white;display: inline-block;line-height: 1.2em;}#sk-4f32480c-aaf2-4165-9628-48af55a43750 div.sk-label-container {position: relative;z-index: 2;text-align: center;}#sk-4f32480c-aaf2-4165-9628-48af55a43750 div.sk-container {display: inline-block;position: relative;}</style><div id=\"sk-4f32480c-aaf2-4165-9628-48af55a43750\" class\"sk-top-container\"><div class=\"sk-container\"><div class=\"sk-item sk-dashed-wrapped\"><div class=\"sk-label-container\"><div class=\"sk-label sk-toggleable\"><input class=\"sk-toggleable__control sk-hidden--visually\" id=\"097a5d95-c8d3-4d6b-9e2b-d44602f702e1\" type=\"checkbox\" ><label class=\"sk-toggleable__label\" for=\"097a5d95-c8d3-4d6b-9e2b-d44602f702e1\">Pipeline</label><div class=\"sk-toggleable__content\"><pre>Pipeline(steps=[('columntransformer',\n",
       "                 ColumnTransformer(remainder='passthrough',\n",
       "                                   transformers=[('knnimputer', KNNImputer(),\n",
       "                                                  ['Age']),\n",
       "                                                 ('ordinalencoder',\n",
       "                                                  OrdinalEncoder(),\n",
       "                                                  ['Sex'])])),\n",
       "                ('decisiontreeclassifier',\n",
       "                 DecisionTreeClassifier(criterion='entropy'))])</pre></div></div></div><div class=\"sk-serial\"><div class=\"sk-item sk-dashed-wrapped\"><div class=\"sk-label-container\"><div class=\"sk-label sk-toggleable\"><input class=\"sk-toggleable__control sk-hidden--visually\" id=\"04053052-0617-4d26-ac69-119117da5e3b\" type=\"checkbox\" ><label class=\"sk-toggleable__label\" for=\"04053052-0617-4d26-ac69-119117da5e3b\">columntransformer: ColumnTransformer</label><div class=\"sk-toggleable__content\"><pre>ColumnTransformer(remainder='passthrough',\n",
       "                  transformers=[('knnimputer', KNNImputer(), ['Age']),\n",
       "                                ('ordinalencoder', OrdinalEncoder(), ['Sex'])])</pre></div></div></div><div class=\"sk-parallel\"><div class=\"sk-parallel-item\"><div class=\"sk-item\"><div class=\"sk-label-container\"><div class=\"sk-label sk-toggleable\"><input class=\"sk-toggleable__control sk-hidden--visually\" id=\"662fba84-a17d-4c3e-bb4a-f2109f8449b4\" type=\"checkbox\" ><label class=\"sk-toggleable__label\" for=\"662fba84-a17d-4c3e-bb4a-f2109f8449b4\">knnimputer</label><div class=\"sk-toggleable__content\"><pre>['Age']</pre></div></div></div><div class=\"sk-serial\"><div class=\"sk-item\"><div class=\"sk-estimator sk-toggleable\"><input class=\"sk-toggleable__control sk-hidden--visually\" id=\"1f074a78-7f3d-4246-b1d3-cae82a45f0f9\" type=\"checkbox\" ><label class=\"sk-toggleable__label\" for=\"1f074a78-7f3d-4246-b1d3-cae82a45f0f9\">KNNImputer</label><div class=\"sk-toggleable__content\"><pre>KNNImputer()</pre></div></div></div></div></div></div><div class=\"sk-parallel-item\"><div class=\"sk-item\"><div class=\"sk-label-container\"><div class=\"sk-label sk-toggleable\"><input class=\"sk-toggleable__control sk-hidden--visually\" id=\"f0b65513-7378-48a0-b10f-760840eda51c\" type=\"checkbox\" ><label class=\"sk-toggleable__label\" for=\"f0b65513-7378-48a0-b10f-760840eda51c\">ordinalencoder</label><div class=\"sk-toggleable__content\"><pre>['Sex']</pre></div></div></div><div class=\"sk-serial\"><div class=\"sk-item\"><div class=\"sk-estimator sk-toggleable\"><input class=\"sk-toggleable__control sk-hidden--visually\" id=\"8d2f701e-56a1-4598-b83a-cc139e309182\" type=\"checkbox\" ><label class=\"sk-toggleable__label\" for=\"8d2f701e-56a1-4598-b83a-cc139e309182\">OrdinalEncoder</label><div class=\"sk-toggleable__content\"><pre>OrdinalEncoder()</pre></div></div></div></div></div></div><div class=\"sk-parallel-item\"><div class=\"sk-item\"><div class=\"sk-label-container\"><div class=\"sk-label sk-toggleable\"><input class=\"sk-toggleable__control sk-hidden--visually\" id=\"c5a9c680-55d9-40e2-af27-d8809cd909af\" type=\"checkbox\" ><label class=\"sk-toggleable__label\" for=\"c5a9c680-55d9-40e2-af27-d8809cd909af\">remainder</label><div class=\"sk-toggleable__content\"><pre>['Survived', 'Pclass', 'Fare']</pre></div></div></div><div class=\"sk-serial\"><div class=\"sk-item\"><div class=\"sk-estimator sk-toggleable\"><input class=\"sk-toggleable__control sk-hidden--visually\" id=\"61629cb5-aeab-4fd9-9237-d04ac30eee24\" type=\"checkbox\" ><label class=\"sk-toggleable__label\" for=\"61629cb5-aeab-4fd9-9237-d04ac30eee24\">passthrough</label><div class=\"sk-toggleable__content\"><pre>passthrough</pre></div></div></div></div></div></div></div></div><div class=\"sk-item\"><div class=\"sk-estimator sk-toggleable\"><input class=\"sk-toggleable__control sk-hidden--visually\" id=\"0560d180-8d5f-4c19-b2ff-2091f20802cc\" type=\"checkbox\" ><label class=\"sk-toggleable__label\" for=\"0560d180-8d5f-4c19-b2ff-2091f20802cc\">DecisionTreeClassifier</label><div class=\"sk-toggleable__content\"><pre>DecisionTreeClassifier(criterion='entropy')</pre></div></div></div></div></div></div></div>"
      ],
      "text/plain": [
       "Pipeline(steps=[('columntransformer',\n",
       "                 ColumnTransformer(remainder='passthrough',\n",
       "                                   transformers=[('knnimputer', KNNImputer(),\n",
       "                                                  ['Age']),\n",
       "                                                 ('ordinalencoder',\n",
       "                                                  OrdinalEncoder(),\n",
       "                                                  ['Sex'])])),\n",
       "                ('decisiontreeclassifier',\n",
       "                 DecisionTreeClassifier(criterion='entropy'))])"
      ]
     },
     "execution_count": 7,
     "metadata": {},
     "output_type": "execute_result"
    }
   ],
   "source": [
    "pipe_dt = make_pipeline(col_transf,DecisionTreeClassifier(criterion='entropy'))\n",
    "pipe_dt"
   ]
  },
  {
   "cell_type": "code",
   "execution_count": 8,
   "id": "94cc6126-0197-4dcb-bc53-c99b6c1f7279",
   "metadata": {},
   "outputs": [
    {
     "data": {
      "text/html": [
       "<style>#sk-837da99d-8f49-4507-b64a-177dcf9c7fc7 {color: black;background-color: white;}#sk-837da99d-8f49-4507-b64a-177dcf9c7fc7 pre{padding: 0;}#sk-837da99d-8f49-4507-b64a-177dcf9c7fc7 div.sk-toggleable {background-color: white;}#sk-837da99d-8f49-4507-b64a-177dcf9c7fc7 label.sk-toggleable__label {cursor: pointer;display: block;width: 100%;margin-bottom: 0;padding: 0.2em 0.3em;box-sizing: border-box;text-align: center;}#sk-837da99d-8f49-4507-b64a-177dcf9c7fc7 div.sk-toggleable__content {max-height: 0;max-width: 0;overflow: hidden;text-align: left;background-color: #f0f8ff;}#sk-837da99d-8f49-4507-b64a-177dcf9c7fc7 div.sk-toggleable__content pre {margin: 0.2em;color: black;border-radius: 0.25em;background-color: #f0f8ff;}#sk-837da99d-8f49-4507-b64a-177dcf9c7fc7 input.sk-toggleable__control:checked~div.sk-toggleable__content {max-height: 200px;max-width: 100%;overflow: auto;}#sk-837da99d-8f49-4507-b64a-177dcf9c7fc7 div.sk-estimator input.sk-toggleable__control:checked~label.sk-toggleable__label {background-color: #d4ebff;}#sk-837da99d-8f49-4507-b64a-177dcf9c7fc7 div.sk-label input.sk-toggleable__control:checked~label.sk-toggleable__label {background-color: #d4ebff;}#sk-837da99d-8f49-4507-b64a-177dcf9c7fc7 input.sk-hidden--visually {border: 0;clip: rect(1px 1px 1px 1px);clip: rect(1px, 1px, 1px, 1px);height: 1px;margin: -1px;overflow: hidden;padding: 0;position: absolute;width: 1px;}#sk-837da99d-8f49-4507-b64a-177dcf9c7fc7 div.sk-estimator {font-family: monospace;background-color: #f0f8ff;margin: 0.25em 0.25em;border: 1px dotted black;border-radius: 0.25em;box-sizing: border-box;}#sk-837da99d-8f49-4507-b64a-177dcf9c7fc7 div.sk-estimator:hover {background-color: #d4ebff;}#sk-837da99d-8f49-4507-b64a-177dcf9c7fc7 div.sk-parallel-item::after {content: \"\";width: 100%;border-bottom: 1px solid gray;flex-grow: 1;}#sk-837da99d-8f49-4507-b64a-177dcf9c7fc7 div.sk-label:hover label.sk-toggleable__label {background-color: #d4ebff;}#sk-837da99d-8f49-4507-b64a-177dcf9c7fc7 div.sk-serial::before {content: \"\";position: absolute;border-left: 1px solid gray;box-sizing: border-box;top: 2em;bottom: 0;left: 50%;}#sk-837da99d-8f49-4507-b64a-177dcf9c7fc7 div.sk-serial {display: flex;flex-direction: column;align-items: center;background-color: white;}#sk-837da99d-8f49-4507-b64a-177dcf9c7fc7 div.sk-item {z-index: 1;}#sk-837da99d-8f49-4507-b64a-177dcf9c7fc7 div.sk-parallel {display: flex;align-items: stretch;justify-content: center;background-color: white;}#sk-837da99d-8f49-4507-b64a-177dcf9c7fc7 div.sk-parallel-item {display: flex;flex-direction: column;position: relative;background-color: white;}#sk-837da99d-8f49-4507-b64a-177dcf9c7fc7 div.sk-parallel-item:first-child::after {align-self: flex-end;width: 50%;}#sk-837da99d-8f49-4507-b64a-177dcf9c7fc7 div.sk-parallel-item:last-child::after {align-self: flex-start;width: 50%;}#sk-837da99d-8f49-4507-b64a-177dcf9c7fc7 div.sk-parallel-item:only-child::after {width: 0;}#sk-837da99d-8f49-4507-b64a-177dcf9c7fc7 div.sk-dashed-wrapped {border: 1px dashed gray;margin: 0.2em;box-sizing: border-box;padding-bottom: 0.1em;background-color: white;position: relative;}#sk-837da99d-8f49-4507-b64a-177dcf9c7fc7 div.sk-label label {font-family: monospace;font-weight: bold;background-color: white;display: inline-block;line-height: 1.2em;}#sk-837da99d-8f49-4507-b64a-177dcf9c7fc7 div.sk-label-container {position: relative;z-index: 2;text-align: center;}#sk-837da99d-8f49-4507-b64a-177dcf9c7fc7 div.sk-container {display: inline-block;position: relative;}</style><div id=\"sk-837da99d-8f49-4507-b64a-177dcf9c7fc7\" class\"sk-top-container\"><div class=\"sk-container\"><div class=\"sk-item sk-dashed-wrapped\"><div class=\"sk-label-container\"><div class=\"sk-label sk-toggleable\"><input class=\"sk-toggleable__control sk-hidden--visually\" id=\"4d416400-ac44-4427-9a6a-3357ce49f607\" type=\"checkbox\" ><label class=\"sk-toggleable__label\" for=\"4d416400-ac44-4427-9a6a-3357ce49f607\">Pipeline</label><div class=\"sk-toggleable__content\"><pre>Pipeline(steps=[('columntransformer',\n",
       "                 ColumnTransformer(remainder='passthrough',\n",
       "                                   transformers=[('knnimputer', KNNImputer(),\n",
       "                                                  ['Age']),\n",
       "                                                 ('ordinalencoder',\n",
       "                                                  OrdinalEncoder(),\n",
       "                                                  ['Sex'])])),\n",
       "                ('randomforestclassifier',\n",
       "                 RandomForestClassifier(criterion='entropy',\n",
       "                                        n_estimators=500))])</pre></div></div></div><div class=\"sk-serial\"><div class=\"sk-item sk-dashed-wrapped\"><div class=\"sk-label-container\"><div class=\"sk-label sk-toggleable\"><input class=\"sk-toggleable__control sk-hidden--visually\" id=\"81d6f3fb-9ea1-4223-bd2c-7db10b2432cd\" type=\"checkbox\" ><label class=\"sk-toggleable__label\" for=\"81d6f3fb-9ea1-4223-bd2c-7db10b2432cd\">columntransformer: ColumnTransformer</label><div class=\"sk-toggleable__content\"><pre>ColumnTransformer(remainder='passthrough',\n",
       "                  transformers=[('knnimputer', KNNImputer(), ['Age']),\n",
       "                                ('ordinalencoder', OrdinalEncoder(), ['Sex'])])</pre></div></div></div><div class=\"sk-parallel\"><div class=\"sk-parallel-item\"><div class=\"sk-item\"><div class=\"sk-label-container\"><div class=\"sk-label sk-toggleable\"><input class=\"sk-toggleable__control sk-hidden--visually\" id=\"48f0806d-ae72-4dea-8698-2ad02ed6906f\" type=\"checkbox\" ><label class=\"sk-toggleable__label\" for=\"48f0806d-ae72-4dea-8698-2ad02ed6906f\">knnimputer</label><div class=\"sk-toggleable__content\"><pre>['Age']</pre></div></div></div><div class=\"sk-serial\"><div class=\"sk-item\"><div class=\"sk-estimator sk-toggleable\"><input class=\"sk-toggleable__control sk-hidden--visually\" id=\"ab677f20-8b08-4f78-b20b-4ca82092b20c\" type=\"checkbox\" ><label class=\"sk-toggleable__label\" for=\"ab677f20-8b08-4f78-b20b-4ca82092b20c\">KNNImputer</label><div class=\"sk-toggleable__content\"><pre>KNNImputer()</pre></div></div></div></div></div></div><div class=\"sk-parallel-item\"><div class=\"sk-item\"><div class=\"sk-label-container\"><div class=\"sk-label sk-toggleable\"><input class=\"sk-toggleable__control sk-hidden--visually\" id=\"445b25fa-2d6c-4026-aa75-082fa71f0677\" type=\"checkbox\" ><label class=\"sk-toggleable__label\" for=\"445b25fa-2d6c-4026-aa75-082fa71f0677\">ordinalencoder</label><div class=\"sk-toggleable__content\"><pre>['Sex']</pre></div></div></div><div class=\"sk-serial\"><div class=\"sk-item\"><div class=\"sk-estimator sk-toggleable\"><input class=\"sk-toggleable__control sk-hidden--visually\" id=\"45a1b792-6dbe-43e2-b154-2b754d5e4424\" type=\"checkbox\" ><label class=\"sk-toggleable__label\" for=\"45a1b792-6dbe-43e2-b154-2b754d5e4424\">OrdinalEncoder</label><div class=\"sk-toggleable__content\"><pre>OrdinalEncoder()</pre></div></div></div></div></div></div><div class=\"sk-parallel-item\"><div class=\"sk-item\"><div class=\"sk-label-container\"><div class=\"sk-label sk-toggleable\"><input class=\"sk-toggleable__control sk-hidden--visually\" id=\"2b7d6f0b-8fe2-42ad-9185-8e8158422c94\" type=\"checkbox\" ><label class=\"sk-toggleable__label\" for=\"2b7d6f0b-8fe2-42ad-9185-8e8158422c94\">remainder</label><div class=\"sk-toggleable__content\"><pre>['Survived', 'Pclass', 'Fare']</pre></div></div></div><div class=\"sk-serial\"><div class=\"sk-item\"><div class=\"sk-estimator sk-toggleable\"><input class=\"sk-toggleable__control sk-hidden--visually\" id=\"da87e817-749e-41f5-8a9c-cc5be94560e1\" type=\"checkbox\" ><label class=\"sk-toggleable__label\" for=\"da87e817-749e-41f5-8a9c-cc5be94560e1\">passthrough</label><div class=\"sk-toggleable__content\"><pre>passthrough</pre></div></div></div></div></div></div></div></div><div class=\"sk-item\"><div class=\"sk-estimator sk-toggleable\"><input class=\"sk-toggleable__control sk-hidden--visually\" id=\"b70cf48c-4162-4a64-934a-f115c4bbb82d\" type=\"checkbox\" ><label class=\"sk-toggleable__label\" for=\"b70cf48c-4162-4a64-934a-f115c4bbb82d\">RandomForestClassifier</label><div class=\"sk-toggleable__content\"><pre>RandomForestClassifier(criterion='entropy', n_estimators=500)</pre></div></div></div></div></div></div></div>"
      ],
      "text/plain": [
       "Pipeline(steps=[('columntransformer',\n",
       "                 ColumnTransformer(remainder='passthrough',\n",
       "                                   transformers=[('knnimputer', KNNImputer(),\n",
       "                                                  ['Age']),\n",
       "                                                 ('ordinalencoder',\n",
       "                                                  OrdinalEncoder(),\n",
       "                                                  ['Sex'])])),\n",
       "                ('randomforestclassifier',\n",
       "                 RandomForestClassifier(criterion='entropy',\n",
       "                                        n_estimators=500))])"
      ]
     },
     "execution_count": 8,
     "metadata": {},
     "output_type": "execute_result"
    }
   ],
   "source": [
    "pipe_rf = make_pipeline(col_transf,RandomForestClassifier(n_estimators=500,criterion='entropy'))\n",
    "pipe_rf"
   ]
  },
  {
   "cell_type": "markdown",
   "id": "ba2905e5-34c3-4980-852d-57ffe8c020ca",
   "metadata": {},
   "source": [
    "## Modelagem"
   ]
  },
  {
   "cell_type": "code",
   "execution_count": 24,
   "id": "35246d71-e491-4827-b904-3c481f2ec713",
   "metadata": {},
   "outputs": [],
   "source": [
    "x = df.drop('Survived',axis=1)\n",
    "y = df.Survived\n",
    "\n",
    "x_train, x_test, y_train, y_test = train_test_split(x,y,test_size=0.2)"
   ]
  },
  {
   "cell_type": "code",
   "execution_count": 25,
   "id": "45df5c9f-d9f2-429d-8f22-dba1e079074e",
   "metadata": {},
   "outputs": [
    {
     "name": "stdout",
     "output_type": "stream",
     "text": [
      "              precision    recall  f1-score   support\n",
      "\n",
      "           0       0.89      0.82      0.85       106\n",
      "           1       0.77      0.85      0.81        73\n",
      "\n",
      "    accuracy                           0.83       179\n",
      "   macro avg       0.83      0.84      0.83       179\n",
      "weighted avg       0.84      0.83      0.83       179\n",
      "\n"
     ]
    }
   ],
   "source": [
    "## decision tree\n",
    "pipe_dt.fit(x_train,y_train)\n",
    "y_pred = pipe_dt.predict(x_test)\n",
    "print(classification_report(y_test,y_pred))"
   ]
  },
  {
   "cell_type": "code",
   "execution_count": 11,
   "id": "37c4ba4a-3044-49b0-9166-9618f2792b92",
   "metadata": {},
   "outputs": [
    {
     "name": "stdout",
     "output_type": "stream",
     "text": [
      "              precision    recall  f1-score   support\n",
      "\n",
      "           0       0.80      0.86      0.83       105\n",
      "           1       0.78      0.70      0.74        74\n",
      "\n",
      "    accuracy                           0.79       179\n",
      "   macro avg       0.79      0.78      0.78       179\n",
      "weighted avg       0.79      0.79      0.79       179\n",
      "\n"
     ]
    }
   ],
   "source": [
    "## random forest\n",
    "pipe_rf.fit(x_train,y_train)\n",
    "y_pred = pipe_rf.predict(x_test)\n",
    "print(classification_report(y_test,y_pred))"
   ]
  },
  {
   "cell_type": "markdown",
   "id": "ddbeef74-8761-4da6-b96b-e4271ae5a112",
   "metadata": {},
   "source": [
    "## RandomForest"
   ]
  },
  {
   "cell_type": "code",
   "execution_count": 27,
   "id": "40cccf05-6964-40b5-9848-7f32014db575",
   "metadata": {},
   "outputs": [
    {
     "data": {
      "text/plain": [
       "500"
      ]
     },
     "execution_count": 27,
     "metadata": {},
     "output_type": "execute_result"
    }
   ],
   "source": [
    "## quantidade de estimadores\n",
    "\n",
    "len(pipe_rf['randomforestclassifier'].estimators_)"
   ]
  },
  {
   "cell_type": "code",
   "execution_count": 25,
   "id": "c4eb5c97-0ccd-4be0-9117-ae170e0d0816",
   "metadata": {},
   "outputs": [
    {
     "data": {
      "text/html": [
       "<style>#sk-7c68fddd-8f7a-4938-8a71-af96917a62cf {color: black;background-color: white;}#sk-7c68fddd-8f7a-4938-8a71-af96917a62cf pre{padding: 0;}#sk-7c68fddd-8f7a-4938-8a71-af96917a62cf div.sk-toggleable {background-color: white;}#sk-7c68fddd-8f7a-4938-8a71-af96917a62cf label.sk-toggleable__label {cursor: pointer;display: block;width: 100%;margin-bottom: 0;padding: 0.2em 0.3em;box-sizing: border-box;text-align: center;}#sk-7c68fddd-8f7a-4938-8a71-af96917a62cf div.sk-toggleable__content {max-height: 0;max-width: 0;overflow: hidden;text-align: left;background-color: #f0f8ff;}#sk-7c68fddd-8f7a-4938-8a71-af96917a62cf div.sk-toggleable__content pre {margin: 0.2em;color: black;border-radius: 0.25em;background-color: #f0f8ff;}#sk-7c68fddd-8f7a-4938-8a71-af96917a62cf input.sk-toggleable__control:checked~div.sk-toggleable__content {max-height: 200px;max-width: 100%;overflow: auto;}#sk-7c68fddd-8f7a-4938-8a71-af96917a62cf div.sk-estimator input.sk-toggleable__control:checked~label.sk-toggleable__label {background-color: #d4ebff;}#sk-7c68fddd-8f7a-4938-8a71-af96917a62cf div.sk-label input.sk-toggleable__control:checked~label.sk-toggleable__label {background-color: #d4ebff;}#sk-7c68fddd-8f7a-4938-8a71-af96917a62cf input.sk-hidden--visually {border: 0;clip: rect(1px 1px 1px 1px);clip: rect(1px, 1px, 1px, 1px);height: 1px;margin: -1px;overflow: hidden;padding: 0;position: absolute;width: 1px;}#sk-7c68fddd-8f7a-4938-8a71-af96917a62cf div.sk-estimator {font-family: monospace;background-color: #f0f8ff;margin: 0.25em 0.25em;border: 1px dotted black;border-radius: 0.25em;box-sizing: border-box;}#sk-7c68fddd-8f7a-4938-8a71-af96917a62cf div.sk-estimator:hover {background-color: #d4ebff;}#sk-7c68fddd-8f7a-4938-8a71-af96917a62cf div.sk-parallel-item::after {content: \"\";width: 100%;border-bottom: 1px solid gray;flex-grow: 1;}#sk-7c68fddd-8f7a-4938-8a71-af96917a62cf div.sk-label:hover label.sk-toggleable__label {background-color: #d4ebff;}#sk-7c68fddd-8f7a-4938-8a71-af96917a62cf div.sk-serial::before {content: \"\";position: absolute;border-left: 1px solid gray;box-sizing: border-box;top: 2em;bottom: 0;left: 50%;}#sk-7c68fddd-8f7a-4938-8a71-af96917a62cf div.sk-serial {display: flex;flex-direction: column;align-items: center;background-color: white;}#sk-7c68fddd-8f7a-4938-8a71-af96917a62cf div.sk-item {z-index: 1;}#sk-7c68fddd-8f7a-4938-8a71-af96917a62cf div.sk-parallel {display: flex;align-items: stretch;justify-content: center;background-color: white;}#sk-7c68fddd-8f7a-4938-8a71-af96917a62cf div.sk-parallel-item {display: flex;flex-direction: column;position: relative;background-color: white;}#sk-7c68fddd-8f7a-4938-8a71-af96917a62cf div.sk-parallel-item:first-child::after {align-self: flex-end;width: 50%;}#sk-7c68fddd-8f7a-4938-8a71-af96917a62cf div.sk-parallel-item:last-child::after {align-self: flex-start;width: 50%;}#sk-7c68fddd-8f7a-4938-8a71-af96917a62cf div.sk-parallel-item:only-child::after {width: 0;}#sk-7c68fddd-8f7a-4938-8a71-af96917a62cf div.sk-dashed-wrapped {border: 1px dashed gray;margin: 0.2em;box-sizing: border-box;padding-bottom: 0.1em;background-color: white;position: relative;}#sk-7c68fddd-8f7a-4938-8a71-af96917a62cf div.sk-label label {font-family: monospace;font-weight: bold;background-color: white;display: inline-block;line-height: 1.2em;}#sk-7c68fddd-8f7a-4938-8a71-af96917a62cf div.sk-label-container {position: relative;z-index: 2;text-align: center;}#sk-7c68fddd-8f7a-4938-8a71-af96917a62cf div.sk-container {display: inline-block;position: relative;}</style><div id=\"sk-7c68fddd-8f7a-4938-8a71-af96917a62cf\" class\"sk-top-container\"><div class=\"sk-container\"><div class=\"sk-item sk-dashed-wrapped\"><div class=\"sk-label-container\"><div class=\"sk-label sk-toggleable\"><input class=\"sk-toggleable__control sk-hidden--visually\" id=\"15a99639-cf60-4847-8c9e-fb79bdefef32\" type=\"checkbox\" ><label class=\"sk-toggleable__label\" for=\"15a99639-cf60-4847-8c9e-fb79bdefef32\">Pipeline</label><div class=\"sk-toggleable__content\"><pre>Pipeline(steps=[('columntransformer',\n",
       "                 ColumnTransformer(remainder='passthrough',\n",
       "                                   transformers=[('knnimputer', KNNImputer(),\n",
       "                                                  ['Age']),\n",
       "                                                 ('ordinalencoder',\n",
       "                                                  OrdinalEncoder(),\n",
       "                                                  ['Sex'])])),\n",
       "                ('randomforestclassifier',\n",
       "                 RandomForestClassifier(criterion='entropy',\n",
       "                                        n_estimators=500))])</pre></div></div></div><div class=\"sk-serial\"><div class=\"sk-item sk-dashed-wrapped\"><div class=\"sk-label-container\"><div class=\"sk-label sk-toggleable\"><input class=\"sk-toggleable__control sk-hidden--visually\" id=\"d77abac5-861f-4bdc-b758-3bdd06105056\" type=\"checkbox\" ><label class=\"sk-toggleable__label\" for=\"d77abac5-861f-4bdc-b758-3bdd06105056\">columntransformer: ColumnTransformer</label><div class=\"sk-toggleable__content\"><pre>ColumnTransformer(remainder='passthrough',\n",
       "                  transformers=[('knnimputer', KNNImputer(), ['Age']),\n",
       "                                ('ordinalencoder', OrdinalEncoder(), ['Sex'])])</pre></div></div></div><div class=\"sk-parallel\"><div class=\"sk-parallel-item\"><div class=\"sk-item\"><div class=\"sk-label-container\"><div class=\"sk-label sk-toggleable\"><input class=\"sk-toggleable__control sk-hidden--visually\" id=\"965daff8-9826-40e5-8e74-b5f5fe99df3d\" type=\"checkbox\" ><label class=\"sk-toggleable__label\" for=\"965daff8-9826-40e5-8e74-b5f5fe99df3d\">knnimputer</label><div class=\"sk-toggleable__content\"><pre>['Age']</pre></div></div></div><div class=\"sk-serial\"><div class=\"sk-item\"><div class=\"sk-estimator sk-toggleable\"><input class=\"sk-toggleable__control sk-hidden--visually\" id=\"4aaec130-9328-417f-b511-c1593b767aa9\" type=\"checkbox\" ><label class=\"sk-toggleable__label\" for=\"4aaec130-9328-417f-b511-c1593b767aa9\">KNNImputer</label><div class=\"sk-toggleable__content\"><pre>KNNImputer()</pre></div></div></div></div></div></div><div class=\"sk-parallel-item\"><div class=\"sk-item\"><div class=\"sk-label-container\"><div class=\"sk-label sk-toggleable\"><input class=\"sk-toggleable__control sk-hidden--visually\" id=\"0ccb52e1-3042-439c-8cc1-286954e8dda3\" type=\"checkbox\" ><label class=\"sk-toggleable__label\" for=\"0ccb52e1-3042-439c-8cc1-286954e8dda3\">ordinalencoder</label><div class=\"sk-toggleable__content\"><pre>['Sex']</pre></div></div></div><div class=\"sk-serial\"><div class=\"sk-item\"><div class=\"sk-estimator sk-toggleable\"><input class=\"sk-toggleable__control sk-hidden--visually\" id=\"9cf50d49-84ab-4b93-9863-e61a257b5cc6\" type=\"checkbox\" ><label class=\"sk-toggleable__label\" for=\"9cf50d49-84ab-4b93-9863-e61a257b5cc6\">OrdinalEncoder</label><div class=\"sk-toggleable__content\"><pre>OrdinalEncoder()</pre></div></div></div></div></div></div><div class=\"sk-parallel-item\"><div class=\"sk-item\"><div class=\"sk-label-container\"><div class=\"sk-label sk-toggleable\"><input class=\"sk-toggleable__control sk-hidden--visually\" id=\"713e853f-8643-49d4-beb9-c4ea2e4881d3\" type=\"checkbox\" ><label class=\"sk-toggleable__label\" for=\"713e853f-8643-49d4-beb9-c4ea2e4881d3\">remainder</label><div class=\"sk-toggleable__content\"><pre>['Pclass', 'Fare']</pre></div></div></div><div class=\"sk-serial\"><div class=\"sk-item\"><div class=\"sk-estimator sk-toggleable\"><input class=\"sk-toggleable__control sk-hidden--visually\" id=\"b1fa93b6-f2ed-424b-bb11-c59580404875\" type=\"checkbox\" ><label class=\"sk-toggleable__label\" for=\"b1fa93b6-f2ed-424b-bb11-c59580404875\">passthrough</label><div class=\"sk-toggleable__content\"><pre>passthrough</pre></div></div></div></div></div></div></div></div><div class=\"sk-item\"><div class=\"sk-estimator sk-toggleable\"><input class=\"sk-toggleable__control sk-hidden--visually\" id=\"4924570e-206c-4049-9f12-9831a4a2bfd7\" type=\"checkbox\" ><label class=\"sk-toggleable__label\" for=\"4924570e-206c-4049-9f12-9831a4a2bfd7\">RandomForestClassifier</label><div class=\"sk-toggleable__content\"><pre>RandomForestClassifier(criterion='entropy', n_estimators=500)</pre></div></div></div></div></div></div></div>"
      ],
      "text/plain": [
       "Pipeline(steps=[('columntransformer',\n",
       "                 ColumnTransformer(remainder='passthrough',\n",
       "                                   transformers=[('knnimputer', KNNImputer(),\n",
       "                                                  ['Age']),\n",
       "                                                 ('ordinalencoder',\n",
       "                                                  OrdinalEncoder(),\n",
       "                                                  ['Sex'])])),\n",
       "                ('randomforestclassifier',\n",
       "                 RandomForestClassifier(criterion='entropy',\n",
       "                                        n_estimators=500))])"
      ]
     },
     "execution_count": 25,
     "metadata": {},
     "output_type": "execute_result"
    }
   ],
   "source": [
    "pipe_rf"
   ]
  },
  {
   "cell_type": "code",
   "execution_count": 28,
   "id": "5b63aa6c-ce5f-4bef-8696-00aec1c23213",
   "metadata": {},
   "outputs": [
    {
     "data": {
      "text/html": [
       "<style>#sk-31675c00-88a9-4fd3-9f15-59f83f6a360e {color: black;background-color: white;}#sk-31675c00-88a9-4fd3-9f15-59f83f6a360e pre{padding: 0;}#sk-31675c00-88a9-4fd3-9f15-59f83f6a360e div.sk-toggleable {background-color: white;}#sk-31675c00-88a9-4fd3-9f15-59f83f6a360e label.sk-toggleable__label {cursor: pointer;display: block;width: 100%;margin-bottom: 0;padding: 0.2em 0.3em;box-sizing: border-box;text-align: center;}#sk-31675c00-88a9-4fd3-9f15-59f83f6a360e div.sk-toggleable__content {max-height: 0;max-width: 0;overflow: hidden;text-align: left;background-color: #f0f8ff;}#sk-31675c00-88a9-4fd3-9f15-59f83f6a360e div.sk-toggleable__content pre {margin: 0.2em;color: black;border-radius: 0.25em;background-color: #f0f8ff;}#sk-31675c00-88a9-4fd3-9f15-59f83f6a360e input.sk-toggleable__control:checked~div.sk-toggleable__content {max-height: 200px;max-width: 100%;overflow: auto;}#sk-31675c00-88a9-4fd3-9f15-59f83f6a360e div.sk-estimator input.sk-toggleable__control:checked~label.sk-toggleable__label {background-color: #d4ebff;}#sk-31675c00-88a9-4fd3-9f15-59f83f6a360e div.sk-label input.sk-toggleable__control:checked~label.sk-toggleable__label {background-color: #d4ebff;}#sk-31675c00-88a9-4fd3-9f15-59f83f6a360e input.sk-hidden--visually {border: 0;clip: rect(1px 1px 1px 1px);clip: rect(1px, 1px, 1px, 1px);height: 1px;margin: -1px;overflow: hidden;padding: 0;position: absolute;width: 1px;}#sk-31675c00-88a9-4fd3-9f15-59f83f6a360e div.sk-estimator {font-family: monospace;background-color: #f0f8ff;margin: 0.25em 0.25em;border: 1px dotted black;border-radius: 0.25em;box-sizing: border-box;}#sk-31675c00-88a9-4fd3-9f15-59f83f6a360e div.sk-estimator:hover {background-color: #d4ebff;}#sk-31675c00-88a9-4fd3-9f15-59f83f6a360e div.sk-parallel-item::after {content: \"\";width: 100%;border-bottom: 1px solid gray;flex-grow: 1;}#sk-31675c00-88a9-4fd3-9f15-59f83f6a360e div.sk-label:hover label.sk-toggleable__label {background-color: #d4ebff;}#sk-31675c00-88a9-4fd3-9f15-59f83f6a360e div.sk-serial::before {content: \"\";position: absolute;border-left: 1px solid gray;box-sizing: border-box;top: 2em;bottom: 0;left: 50%;}#sk-31675c00-88a9-4fd3-9f15-59f83f6a360e div.sk-serial {display: flex;flex-direction: column;align-items: center;background-color: white;}#sk-31675c00-88a9-4fd3-9f15-59f83f6a360e div.sk-item {z-index: 1;}#sk-31675c00-88a9-4fd3-9f15-59f83f6a360e div.sk-parallel {display: flex;align-items: stretch;justify-content: center;background-color: white;}#sk-31675c00-88a9-4fd3-9f15-59f83f6a360e div.sk-parallel-item {display: flex;flex-direction: column;position: relative;background-color: white;}#sk-31675c00-88a9-4fd3-9f15-59f83f6a360e div.sk-parallel-item:first-child::after {align-self: flex-end;width: 50%;}#sk-31675c00-88a9-4fd3-9f15-59f83f6a360e div.sk-parallel-item:last-child::after {align-self: flex-start;width: 50%;}#sk-31675c00-88a9-4fd3-9f15-59f83f6a360e div.sk-parallel-item:only-child::after {width: 0;}#sk-31675c00-88a9-4fd3-9f15-59f83f6a360e div.sk-dashed-wrapped {border: 1px dashed gray;margin: 0.2em;box-sizing: border-box;padding-bottom: 0.1em;background-color: white;position: relative;}#sk-31675c00-88a9-4fd3-9f15-59f83f6a360e div.sk-label label {font-family: monospace;font-weight: bold;background-color: white;display: inline-block;line-height: 1.2em;}#sk-31675c00-88a9-4fd3-9f15-59f83f6a360e div.sk-label-container {position: relative;z-index: 2;text-align: center;}#sk-31675c00-88a9-4fd3-9f15-59f83f6a360e div.sk-container {display: inline-block;position: relative;}</style><div id=\"sk-31675c00-88a9-4fd3-9f15-59f83f6a360e\" class\"sk-top-container\"><div class=\"sk-container\"><div class=\"sk-item\"><div class=\"sk-estimator sk-toggleable\"><input class=\"sk-toggleable__control sk-hidden--visually\" id=\"aa3f1a76-e126-4eeb-a32c-ae6b8529b61c\" type=\"checkbox\" checked><label class=\"sk-toggleable__label\" for=\"aa3f1a76-e126-4eeb-a32c-ae6b8529b61c\">DecisionTreeClassifier</label><div class=\"sk-toggleable__content\"><pre>DecisionTreeClassifier(criterion='entropy', max_features='auto',\n",
       "                       random_state=110666605)</pre></div></div></div></div></div>"
      ],
      "text/plain": [
       "DecisionTreeClassifier(criterion='entropy', max_features='auto',\n",
       "                       random_state=110666605)"
      ]
     },
     "execution_count": 28,
     "metadata": {},
     "output_type": "execute_result"
    }
   ],
   "source": [
    "pipe_rf['randomforestclassifier'].estimators_[0]"
   ]
  },
  {
   "cell_type": "code",
   "execution_count": 29,
   "id": "ccd0e1dc-8fc6-4b5a-80d2-e2de7eaed98a",
   "metadata": {},
   "outputs": [
    {
     "data": {
      "text/html": [
       "<div>\n",
       "<style scoped>\n",
       "    .dataframe tbody tr th:only-of-type {\n",
       "        vertical-align: middle;\n",
       "    }\n",
       "\n",
       "    .dataframe tbody tr th {\n",
       "        vertical-align: top;\n",
       "    }\n",
       "\n",
       "    .dataframe thead th {\n",
       "        text-align: right;\n",
       "    }\n",
       "</style>\n",
       "<table border=\"1\" class=\"dataframe\">\n",
       "  <thead>\n",
       "    <tr style=\"text-align: right;\">\n",
       "      <th></th>\n",
       "      <th>Pclass</th>\n",
       "      <th>Sex</th>\n",
       "      <th>Age</th>\n",
       "      <th>Fare</th>\n",
       "    </tr>\n",
       "  </thead>\n",
       "  <tbody>\n",
       "    <tr>\n",
       "      <th>259</th>\n",
       "      <td>2</td>\n",
       "      <td>female</td>\n",
       "      <td>50.0</td>\n",
       "      <td>26.0</td>\n",
       "    </tr>\n",
       "  </tbody>\n",
       "</table>\n",
       "</div>"
      ],
      "text/plain": [
       "    Pclass     Sex   Age  Fare\n",
       "259      2  female  50.0  26.0"
      ]
     },
     "execution_count": 29,
     "metadata": {},
     "output_type": "execute_result"
    }
   ],
   "source": [
    "pessoa_teste = pd.DataFrame(x_train.iloc[15,:]).T\n",
    "pessoa_teste"
   ]
  },
  {
   "cell_type": "code",
   "execution_count": 30,
   "id": "379aae85-96d9-41f1-bfdc-f6e22bc0886e",
   "metadata": {},
   "outputs": [
    {
     "data": {
      "text/plain": [
       "array([[50.0, 0.0, 2, 26.0]], dtype=object)"
      ]
     },
     "execution_count": 30,
     "metadata": {},
     "output_type": "execute_result"
    }
   ],
   "source": [
    "pipe_rf['columntransformer'].transform(pessoa_teste)"
   ]
  },
  {
   "cell_type": "code",
   "execution_count": 41,
   "id": "ce901603-4590-4a77-92df-b6b9604ab053",
   "metadata": {},
   "outputs": [
    {
     "data": {
      "text/plain": [
       "array([1.])"
      ]
     },
     "execution_count": 41,
     "metadata": {},
     "output_type": "execute_result"
    }
   ],
   "source": [
    "pipe_rf['randomforestclassifier'].estimators_[0].predict([[50.0, 0.0, 2, 26.0]])"
   ]
  },
  {
   "cell_type": "code",
   "execution_count": 42,
   "id": "163bb3ef-8e2f-4f55-80d7-da37bebda962",
   "metadata": {},
   "outputs": [
    {
     "data": {
      "text/plain": [
       "array([[0.034, 0.966]])"
      ]
     },
     "execution_count": 42,
     "metadata": {},
     "output_type": "execute_result"
    }
   ],
   "source": [
    "pipe_rf.predict_proba(pessoa_teste)"
   ]
  },
  {
   "cell_type": "code",
   "execution_count": 48,
   "id": "68f2e521-32a6-4de3-9181-cf74d2f59c93",
   "metadata": {},
   "outputs": [
    {
     "data": {
      "text/plain": [
       "array([1])"
      ]
     },
     "execution_count": 48,
     "metadata": {},
     "output_type": "execute_result"
    }
   ],
   "source": [
    "pipe_rf.predict(pessoa_teste)"
   ]
  },
  {
   "cell_type": "code",
   "execution_count": 43,
   "id": "612e3a44-f08c-41b3-a841-0946d1210bed",
   "metadata": {},
   "outputs": [],
   "source": [
    "results = []\n",
    "\n",
    "for i in range(len(pipe_rf['randomforestclassifier'].estimators_)):\n",
    "    result = pipe_rf['randomforestclassifier'].estimators_[i].predict([[50.0, 0.0, 2, 26.0]])[0]\n",
    "    results.append(result)\n",
    "else:\n",
    "    results = pd.Series(results)"
   ]
  },
  {
   "cell_type": "code",
   "execution_count": 49,
   "id": "cb6912e7-a49c-4cd3-8460-4e3a82a1abb9",
   "metadata": {},
   "outputs": [
    {
     "data": {
      "text/plain": [
       "1.0    0.966\n",
       "0.0    0.034\n",
       "dtype: float64"
      ]
     },
     "execution_count": 49,
     "metadata": {},
     "output_type": "execute_result"
    }
   ],
   "source": [
    "results.value_counts(normalize=True)"
   ]
  },
  {
   "cell_type": "code",
   "execution_count": 65,
   "id": "69fa3701-7a11-49d7-bc75-ab8fa551c598",
   "metadata": {},
   "outputs": [
    {
     "data": {
      "text/plain": [
       "array([0.31049808, 0.23323592, 0.09649357, 0.35977244])"
      ]
     },
     "execution_count": 65,
     "metadata": {},
     "output_type": "execute_result"
    }
   ],
   "source": [
    "pipe_rf['randomforestclassifier'].feature_importances_"
   ]
  }
 ],
 "metadata": {
  "kernelspec": {
   "display_name": "Python 3 (ipykernel)",
   "language": "python",
   "name": "python3"
  },
  "language_info": {
   "codemirror_mode": {
    "name": "ipython",
    "version": 3
   },
   "file_extension": ".py",
   "mimetype": "text/x-python",
   "name": "python",
   "nbconvert_exporter": "python",
   "pygments_lexer": "ipython3",
   "version": "3.9.7"
  }
 },
 "nbformat": 4,
 "nbformat_minor": 5
}
