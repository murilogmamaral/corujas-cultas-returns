{
 "cells": [
  {
   "cell_type": "code",
   "execution_count": 195,
   "id": "6955745b-5c92-417d-a356-ef50358fa4dd",
   "metadata": {},
   "outputs": [],
   "source": [
    "import pandas as pd\n",
    "import numpy as np\n",
    "import matplotlib.pyplot as plt\n",
    "\n",
    "from sklearn.impute import KNNImputer\n",
    "\n",
    "from sklearn.compose import make_column_transformer\n",
    "from sklearn.pipeline import make_pipeline\n",
    "\n",
    "from sklearn.preprocessing import OrdinalEncoder\n",
    "from sklearn.model_selection import train_test_split\n",
    "\n",
    "from sklearn.metrics import classification_report\n",
    "from sklearn.tree import DecisionTreeClassifier\n",
    "from sklearn.ensemble import RandomForestClassifier\n",
    "\n",
    "import sklearn\n",
    "sklearn.set_config(display='diagram')"
   ]
  },
  {
   "cell_type": "code",
   "execution_count": 196,
   "id": "ff4e49a3-ec01-4635-8bdf-00a42e59f706",
   "metadata": {},
   "outputs": [
    {
     "data": {
      "text/html": [
       "<div>\n",
       "<style scoped>\n",
       "    .dataframe tbody tr th:only-of-type {\n",
       "        vertical-align: middle;\n",
       "    }\n",
       "\n",
       "    .dataframe tbody tr th {\n",
       "        vertical-align: top;\n",
       "    }\n",
       "\n",
       "    .dataframe thead th {\n",
       "        text-align: right;\n",
       "    }\n",
       "</style>\n",
       "<table border=\"1\" class=\"dataframe\">\n",
       "  <thead>\n",
       "    <tr style=\"text-align: right;\">\n",
       "      <th></th>\n",
       "      <th>Survived</th>\n",
       "      <th>Pclass</th>\n",
       "      <th>Sex</th>\n",
       "      <th>Age</th>\n",
       "      <th>Fare</th>\n",
       "    </tr>\n",
       "  </thead>\n",
       "  <tbody>\n",
       "    <tr>\n",
       "      <th>0</th>\n",
       "      <td>0</td>\n",
       "      <td>3</td>\n",
       "      <td>male</td>\n",
       "      <td>22.0</td>\n",
       "      <td>7.2500</td>\n",
       "    </tr>\n",
       "    <tr>\n",
       "      <th>1</th>\n",
       "      <td>1</td>\n",
       "      <td>1</td>\n",
       "      <td>female</td>\n",
       "      <td>38.0</td>\n",
       "      <td>71.2833</td>\n",
       "    </tr>\n",
       "    <tr>\n",
       "      <th>2</th>\n",
       "      <td>1</td>\n",
       "      <td>3</td>\n",
       "      <td>female</td>\n",
       "      <td>26.0</td>\n",
       "      <td>7.9250</td>\n",
       "    </tr>\n",
       "    <tr>\n",
       "      <th>3</th>\n",
       "      <td>1</td>\n",
       "      <td>1</td>\n",
       "      <td>female</td>\n",
       "      <td>35.0</td>\n",
       "      <td>53.1000</td>\n",
       "    </tr>\n",
       "    <tr>\n",
       "      <th>4</th>\n",
       "      <td>0</td>\n",
       "      <td>3</td>\n",
       "      <td>male</td>\n",
       "      <td>35.0</td>\n",
       "      <td>8.0500</td>\n",
       "    </tr>\n",
       "  </tbody>\n",
       "</table>\n",
       "</div>"
      ],
      "text/plain": [
       "   Survived  Pclass     Sex   Age     Fare\n",
       "0         0       3    male  22.0   7.2500\n",
       "1         1       1  female  38.0  71.2833\n",
       "2         1       3  female  26.0   7.9250\n",
       "3         1       1  female  35.0  53.1000\n",
       "4         0       3    male  35.0   8.0500"
      ]
     },
     "execution_count": 196,
     "metadata": {},
     "output_type": "execute_result"
    }
   ],
   "source": [
    "df = pd.read_csv('../data/titanic.csv',usecols=['Survived','Age','Fare','Sex','Pclass'])\n",
    "df.head()"
   ]
  },
  {
   "cell_type": "code",
   "execution_count": 197,
   "id": "60b79780-52d0-4c83-98f8-db951c63e4b5",
   "metadata": {},
   "outputs": [
    {
     "data": {
      "text/plain": [
       "Survived      0\n",
       "Pclass        0\n",
       "Sex           0\n",
       "Age         177\n",
       "Fare          0\n",
       "dtype: int64"
      ]
     },
     "execution_count": 197,
     "metadata": {},
     "output_type": "execute_result"
    }
   ],
   "source": [
    "df.isna().sum()"
   ]
  },
  {
   "cell_type": "code",
   "execution_count": 198,
   "id": "b5c2b928-56ed-48d0-ae92-3a4cd279d015",
   "metadata": {},
   "outputs": [
    {
     "data": {
      "text/html": [
       "<style>#sk-f3678c9a-3297-4557-94f5-3c0812c1e7c8 {color: black;background-color: white;}#sk-f3678c9a-3297-4557-94f5-3c0812c1e7c8 pre{padding: 0;}#sk-f3678c9a-3297-4557-94f5-3c0812c1e7c8 div.sk-toggleable {background-color: white;}#sk-f3678c9a-3297-4557-94f5-3c0812c1e7c8 label.sk-toggleable__label {cursor: pointer;display: block;width: 100%;margin-bottom: 0;padding: 0.2em 0.3em;box-sizing: border-box;text-align: center;}#sk-f3678c9a-3297-4557-94f5-3c0812c1e7c8 div.sk-toggleable__content {max-height: 0;max-width: 0;overflow: hidden;text-align: left;background-color: #f0f8ff;}#sk-f3678c9a-3297-4557-94f5-3c0812c1e7c8 div.sk-toggleable__content pre {margin: 0.2em;color: black;border-radius: 0.25em;background-color: #f0f8ff;}#sk-f3678c9a-3297-4557-94f5-3c0812c1e7c8 input.sk-toggleable__control:checked~div.sk-toggleable__content {max-height: 200px;max-width: 100%;overflow: auto;}#sk-f3678c9a-3297-4557-94f5-3c0812c1e7c8 div.sk-estimator input.sk-toggleable__control:checked~label.sk-toggleable__label {background-color: #d4ebff;}#sk-f3678c9a-3297-4557-94f5-3c0812c1e7c8 div.sk-label input.sk-toggleable__control:checked~label.sk-toggleable__label {background-color: #d4ebff;}#sk-f3678c9a-3297-4557-94f5-3c0812c1e7c8 input.sk-hidden--visually {border: 0;clip: rect(1px 1px 1px 1px);clip: rect(1px, 1px, 1px, 1px);height: 1px;margin: -1px;overflow: hidden;padding: 0;position: absolute;width: 1px;}#sk-f3678c9a-3297-4557-94f5-3c0812c1e7c8 div.sk-estimator {font-family: monospace;background-color: #f0f8ff;margin: 0.25em 0.25em;border: 1px dotted black;border-radius: 0.25em;box-sizing: border-box;}#sk-f3678c9a-3297-4557-94f5-3c0812c1e7c8 div.sk-estimator:hover {background-color: #d4ebff;}#sk-f3678c9a-3297-4557-94f5-3c0812c1e7c8 div.sk-parallel-item::after {content: \"\";width: 100%;border-bottom: 1px solid gray;flex-grow: 1;}#sk-f3678c9a-3297-4557-94f5-3c0812c1e7c8 div.sk-label:hover label.sk-toggleable__label {background-color: #d4ebff;}#sk-f3678c9a-3297-4557-94f5-3c0812c1e7c8 div.sk-serial::before {content: \"\";position: absolute;border-left: 1px solid gray;box-sizing: border-box;top: 2em;bottom: 0;left: 50%;}#sk-f3678c9a-3297-4557-94f5-3c0812c1e7c8 div.sk-serial {display: flex;flex-direction: column;align-items: center;background-color: white;}#sk-f3678c9a-3297-4557-94f5-3c0812c1e7c8 div.sk-item {z-index: 1;}#sk-f3678c9a-3297-4557-94f5-3c0812c1e7c8 div.sk-parallel {display: flex;align-items: stretch;justify-content: center;background-color: white;}#sk-f3678c9a-3297-4557-94f5-3c0812c1e7c8 div.sk-parallel-item {display: flex;flex-direction: column;position: relative;background-color: white;}#sk-f3678c9a-3297-4557-94f5-3c0812c1e7c8 div.sk-parallel-item:first-child::after {align-self: flex-end;width: 50%;}#sk-f3678c9a-3297-4557-94f5-3c0812c1e7c8 div.sk-parallel-item:last-child::after {align-self: flex-start;width: 50%;}#sk-f3678c9a-3297-4557-94f5-3c0812c1e7c8 div.sk-parallel-item:only-child::after {width: 0;}#sk-f3678c9a-3297-4557-94f5-3c0812c1e7c8 div.sk-dashed-wrapped {border: 1px dashed gray;margin: 0.2em;box-sizing: border-box;padding-bottom: 0.1em;background-color: white;position: relative;}#sk-f3678c9a-3297-4557-94f5-3c0812c1e7c8 div.sk-label label {font-family: monospace;font-weight: bold;background-color: white;display: inline-block;line-height: 1.2em;}#sk-f3678c9a-3297-4557-94f5-3c0812c1e7c8 div.sk-label-container {position: relative;z-index: 2;text-align: center;}#sk-f3678c9a-3297-4557-94f5-3c0812c1e7c8 div.sk-container {display: inline-block;position: relative;}</style><div id=\"sk-f3678c9a-3297-4557-94f5-3c0812c1e7c8\" class\"sk-top-container\"><div class=\"sk-container\"><div class=\"sk-item sk-dashed-wrapped\"><div class=\"sk-label-container\"><div class=\"sk-label sk-toggleable\"><input class=\"sk-toggleable__control sk-hidden--visually\" id=\"83e5bde1-6b92-421a-a863-7a27892d35de\" type=\"checkbox\" ><label class=\"sk-toggleable__label\" for=\"83e5bde1-6b92-421a-a863-7a27892d35de\">ColumnTransformer</label><div class=\"sk-toggleable__content\"><pre>ColumnTransformer(remainder='passthrough',\n",
       "                  transformers=[('knnimputer', KNNImputer(), ['Age']),\n",
       "                                ('ordinalencoder', OrdinalEncoder(), ['Sex'])])</pre></div></div></div><div class=\"sk-parallel\"><div class=\"sk-parallel-item\"><div class=\"sk-item\"><div class=\"sk-label-container\"><div class=\"sk-label sk-toggleable\"><input class=\"sk-toggleable__control sk-hidden--visually\" id=\"d8a26d9f-7c38-4ec4-8845-1cf0a32888b2\" type=\"checkbox\" ><label class=\"sk-toggleable__label\" for=\"d8a26d9f-7c38-4ec4-8845-1cf0a32888b2\">knnimputer</label><div class=\"sk-toggleable__content\"><pre>['Age']</pre></div></div></div><div class=\"sk-serial\"><div class=\"sk-item\"><div class=\"sk-estimator sk-toggleable\"><input class=\"sk-toggleable__control sk-hidden--visually\" id=\"0ee3957a-fe0a-4760-a984-549bf387c1fc\" type=\"checkbox\" ><label class=\"sk-toggleable__label\" for=\"0ee3957a-fe0a-4760-a984-549bf387c1fc\">KNNImputer</label><div class=\"sk-toggleable__content\"><pre>KNNImputer()</pre></div></div></div></div></div></div><div class=\"sk-parallel-item\"><div class=\"sk-item\"><div class=\"sk-label-container\"><div class=\"sk-label sk-toggleable\"><input class=\"sk-toggleable__control sk-hidden--visually\" id=\"d0e8ef68-d388-4e99-9862-fbc9ad8b92d7\" type=\"checkbox\" ><label class=\"sk-toggleable__label\" for=\"d0e8ef68-d388-4e99-9862-fbc9ad8b92d7\">ordinalencoder</label><div class=\"sk-toggleable__content\"><pre>['Sex']</pre></div></div></div><div class=\"sk-serial\"><div class=\"sk-item\"><div class=\"sk-estimator sk-toggleable\"><input class=\"sk-toggleable__control sk-hidden--visually\" id=\"76a52ef6-36c1-467d-acd3-9b0a77a06914\" type=\"checkbox\" ><label class=\"sk-toggleable__label\" for=\"76a52ef6-36c1-467d-acd3-9b0a77a06914\">OrdinalEncoder</label><div class=\"sk-toggleable__content\"><pre>OrdinalEncoder()</pre></div></div></div></div></div></div><div class=\"sk-parallel-item\"><div class=\"sk-item\"><div class=\"sk-label-container\"><div class=\"sk-label sk-toggleable\"><input class=\"sk-toggleable__control sk-hidden--visually\" id=\"77d77869-d32f-497f-9687-0830334eb0d6\" type=\"checkbox\" ><label class=\"sk-toggleable__label\" for=\"77d77869-d32f-497f-9687-0830334eb0d6\">remainder</label><div class=\"sk-toggleable__content\"><pre></pre></div></div></div><div class=\"sk-serial\"><div class=\"sk-item\"><div class=\"sk-estimator sk-toggleable\"><input class=\"sk-toggleable__control sk-hidden--visually\" id=\"3b34e9a1-f013-4cf9-93b6-e0f5879add69\" type=\"checkbox\" ><label class=\"sk-toggleable__label\" for=\"3b34e9a1-f013-4cf9-93b6-e0f5879add69\">passthrough</label><div class=\"sk-toggleable__content\"><pre>passthrough</pre></div></div></div></div></div></div></div></div></div></div>"
      ],
      "text/plain": [
       "ColumnTransformer(remainder='passthrough',\n",
       "                  transformers=[('knnimputer', KNNImputer(), ['Age']),\n",
       "                                ('ordinalencoder', OrdinalEncoder(), ['Sex'])])"
      ]
     },
     "execution_count": 198,
     "metadata": {},
     "output_type": "execute_result"
    }
   ],
   "source": [
    "col_transf = make_column_transformer(\n",
    "    (KNNImputer(),['Age']),\n",
    "    (OrdinalEncoder(),['Sex']),\n",
    "    remainder='passthrough'\n",
    ")\n",
    "\n",
    "col_transf"
   ]
  },
  {
   "cell_type": "code",
   "execution_count": 199,
   "id": "90bfcfcd-fd5a-43e2-a214-61ef71b25999",
   "metadata": {},
   "outputs": [
    {
     "data": {
      "text/html": [
       "<div>\n",
       "<style scoped>\n",
       "    .dataframe tbody tr th:only-of-type {\n",
       "        vertical-align: middle;\n",
       "    }\n",
       "\n",
       "    .dataframe tbody tr th {\n",
       "        vertical-align: top;\n",
       "    }\n",
       "\n",
       "    .dataframe thead th {\n",
       "        text-align: right;\n",
       "    }\n",
       "</style>\n",
       "<table border=\"1\" class=\"dataframe\">\n",
       "  <thead>\n",
       "    <tr style=\"text-align: right;\">\n",
       "      <th></th>\n",
       "      <th>Survived</th>\n",
       "      <th>Pclass</th>\n",
       "      <th>Sex</th>\n",
       "      <th>Age</th>\n",
       "      <th>Fare</th>\n",
       "    </tr>\n",
       "  </thead>\n",
       "  <tbody>\n",
       "    <tr>\n",
       "      <th>0</th>\n",
       "      <td>0</td>\n",
       "      <td>3</td>\n",
       "      <td>male</td>\n",
       "      <td>22.0</td>\n",
       "      <td>7.2500</td>\n",
       "    </tr>\n",
       "    <tr>\n",
       "      <th>1</th>\n",
       "      <td>1</td>\n",
       "      <td>1</td>\n",
       "      <td>female</td>\n",
       "      <td>38.0</td>\n",
       "      <td>71.2833</td>\n",
       "    </tr>\n",
       "    <tr>\n",
       "      <th>2</th>\n",
       "      <td>1</td>\n",
       "      <td>3</td>\n",
       "      <td>female</td>\n",
       "      <td>26.0</td>\n",
       "      <td>7.9250</td>\n",
       "    </tr>\n",
       "    <tr>\n",
       "      <th>3</th>\n",
       "      <td>1</td>\n",
       "      <td>1</td>\n",
       "      <td>female</td>\n",
       "      <td>35.0</td>\n",
       "      <td>53.1000</td>\n",
       "    </tr>\n",
       "    <tr>\n",
       "      <th>4</th>\n",
       "      <td>0</td>\n",
       "      <td>3</td>\n",
       "      <td>male</td>\n",
       "      <td>35.0</td>\n",
       "      <td>8.0500</td>\n",
       "    </tr>\n",
       "    <tr>\n",
       "      <th>...</th>\n",
       "      <td>...</td>\n",
       "      <td>...</td>\n",
       "      <td>...</td>\n",
       "      <td>...</td>\n",
       "      <td>...</td>\n",
       "    </tr>\n",
       "    <tr>\n",
       "      <th>886</th>\n",
       "      <td>0</td>\n",
       "      <td>2</td>\n",
       "      <td>male</td>\n",
       "      <td>27.0</td>\n",
       "      <td>13.0000</td>\n",
       "    </tr>\n",
       "    <tr>\n",
       "      <th>887</th>\n",
       "      <td>1</td>\n",
       "      <td>1</td>\n",
       "      <td>female</td>\n",
       "      <td>19.0</td>\n",
       "      <td>30.0000</td>\n",
       "    </tr>\n",
       "    <tr>\n",
       "      <th>888</th>\n",
       "      <td>0</td>\n",
       "      <td>3</td>\n",
       "      <td>female</td>\n",
       "      <td>NaN</td>\n",
       "      <td>23.4500</td>\n",
       "    </tr>\n",
       "    <tr>\n",
       "      <th>889</th>\n",
       "      <td>1</td>\n",
       "      <td>1</td>\n",
       "      <td>male</td>\n",
       "      <td>26.0</td>\n",
       "      <td>30.0000</td>\n",
       "    </tr>\n",
       "    <tr>\n",
       "      <th>890</th>\n",
       "      <td>0</td>\n",
       "      <td>3</td>\n",
       "      <td>male</td>\n",
       "      <td>32.0</td>\n",
       "      <td>7.7500</td>\n",
       "    </tr>\n",
       "  </tbody>\n",
       "</table>\n",
       "<p>891 rows × 5 columns</p>\n",
       "</div>"
      ],
      "text/plain": [
       "     Survived  Pclass     Sex   Age     Fare\n",
       "0           0       3    male  22.0   7.2500\n",
       "1           1       1  female  38.0  71.2833\n",
       "2           1       3  female  26.0   7.9250\n",
       "3           1       1  female  35.0  53.1000\n",
       "4           0       3    male  35.0   8.0500\n",
       "..        ...     ...     ...   ...      ...\n",
       "886         0       2    male  27.0  13.0000\n",
       "887         1       1  female  19.0  30.0000\n",
       "888         0       3  female   NaN  23.4500\n",
       "889         1       1    male  26.0  30.0000\n",
       "890         0       3    male  32.0   7.7500\n",
       "\n",
       "[891 rows x 5 columns]"
      ]
     },
     "execution_count": 199,
     "metadata": {},
     "output_type": "execute_result"
    }
   ],
   "source": [
    "df"
   ]
  },
  {
   "cell_type": "code",
   "execution_count": 200,
   "id": "5b668ade-a484-4cd3-b421-6802b857cd22",
   "metadata": {},
   "outputs": [
    {
     "data": {
      "text/plain": [
       "array([[22.        ,  1.        ,  0.        ,  3.        ,  7.25      ],\n",
       "       [38.        ,  0.        ,  1.        ,  1.        , 71.2833    ],\n",
       "       [26.        ,  0.        ,  1.        ,  3.        ,  7.925     ],\n",
       "       ...,\n",
       "       [29.69911765,  0.        ,  0.        ,  3.        , 23.45      ],\n",
       "       [26.        ,  1.        ,  1.        ,  1.        , 30.        ],\n",
       "       [32.        ,  1.        ,  0.        ,  3.        ,  7.75      ]])"
      ]
     },
     "execution_count": 200,
     "metadata": {},
     "output_type": "execute_result"
    }
   ],
   "source": [
    "col_transf.fit_transform(df)"
   ]
  },
  {
   "cell_type": "code",
   "execution_count": 201,
   "id": "250b2e9e-bcc8-4d41-b6b9-136cfc05eb2c",
   "metadata": {},
   "outputs": [
    {
     "data": {
      "text/html": [
       "<style>#sk-59c534ee-f85b-4b84-91fb-4f44d68ac2c2 {color: black;background-color: white;}#sk-59c534ee-f85b-4b84-91fb-4f44d68ac2c2 pre{padding: 0;}#sk-59c534ee-f85b-4b84-91fb-4f44d68ac2c2 div.sk-toggleable {background-color: white;}#sk-59c534ee-f85b-4b84-91fb-4f44d68ac2c2 label.sk-toggleable__label {cursor: pointer;display: block;width: 100%;margin-bottom: 0;padding: 0.2em 0.3em;box-sizing: border-box;text-align: center;}#sk-59c534ee-f85b-4b84-91fb-4f44d68ac2c2 div.sk-toggleable__content {max-height: 0;max-width: 0;overflow: hidden;text-align: left;background-color: #f0f8ff;}#sk-59c534ee-f85b-4b84-91fb-4f44d68ac2c2 div.sk-toggleable__content pre {margin: 0.2em;color: black;border-radius: 0.25em;background-color: #f0f8ff;}#sk-59c534ee-f85b-4b84-91fb-4f44d68ac2c2 input.sk-toggleable__control:checked~div.sk-toggleable__content {max-height: 200px;max-width: 100%;overflow: auto;}#sk-59c534ee-f85b-4b84-91fb-4f44d68ac2c2 div.sk-estimator input.sk-toggleable__control:checked~label.sk-toggleable__label {background-color: #d4ebff;}#sk-59c534ee-f85b-4b84-91fb-4f44d68ac2c2 div.sk-label input.sk-toggleable__control:checked~label.sk-toggleable__label {background-color: #d4ebff;}#sk-59c534ee-f85b-4b84-91fb-4f44d68ac2c2 input.sk-hidden--visually {border: 0;clip: rect(1px 1px 1px 1px);clip: rect(1px, 1px, 1px, 1px);height: 1px;margin: -1px;overflow: hidden;padding: 0;position: absolute;width: 1px;}#sk-59c534ee-f85b-4b84-91fb-4f44d68ac2c2 div.sk-estimator {font-family: monospace;background-color: #f0f8ff;margin: 0.25em 0.25em;border: 1px dotted black;border-radius: 0.25em;box-sizing: border-box;}#sk-59c534ee-f85b-4b84-91fb-4f44d68ac2c2 div.sk-estimator:hover {background-color: #d4ebff;}#sk-59c534ee-f85b-4b84-91fb-4f44d68ac2c2 div.sk-parallel-item::after {content: \"\";width: 100%;border-bottom: 1px solid gray;flex-grow: 1;}#sk-59c534ee-f85b-4b84-91fb-4f44d68ac2c2 div.sk-label:hover label.sk-toggleable__label {background-color: #d4ebff;}#sk-59c534ee-f85b-4b84-91fb-4f44d68ac2c2 div.sk-serial::before {content: \"\";position: absolute;border-left: 1px solid gray;box-sizing: border-box;top: 2em;bottom: 0;left: 50%;}#sk-59c534ee-f85b-4b84-91fb-4f44d68ac2c2 div.sk-serial {display: flex;flex-direction: column;align-items: center;background-color: white;}#sk-59c534ee-f85b-4b84-91fb-4f44d68ac2c2 div.sk-item {z-index: 1;}#sk-59c534ee-f85b-4b84-91fb-4f44d68ac2c2 div.sk-parallel {display: flex;align-items: stretch;justify-content: center;background-color: white;}#sk-59c534ee-f85b-4b84-91fb-4f44d68ac2c2 div.sk-parallel-item {display: flex;flex-direction: column;position: relative;background-color: white;}#sk-59c534ee-f85b-4b84-91fb-4f44d68ac2c2 div.sk-parallel-item:first-child::after {align-self: flex-end;width: 50%;}#sk-59c534ee-f85b-4b84-91fb-4f44d68ac2c2 div.sk-parallel-item:last-child::after {align-self: flex-start;width: 50%;}#sk-59c534ee-f85b-4b84-91fb-4f44d68ac2c2 div.sk-parallel-item:only-child::after {width: 0;}#sk-59c534ee-f85b-4b84-91fb-4f44d68ac2c2 div.sk-dashed-wrapped {border: 1px dashed gray;margin: 0.2em;box-sizing: border-box;padding-bottom: 0.1em;background-color: white;position: relative;}#sk-59c534ee-f85b-4b84-91fb-4f44d68ac2c2 div.sk-label label {font-family: monospace;font-weight: bold;background-color: white;display: inline-block;line-height: 1.2em;}#sk-59c534ee-f85b-4b84-91fb-4f44d68ac2c2 div.sk-label-container {position: relative;z-index: 2;text-align: center;}#sk-59c534ee-f85b-4b84-91fb-4f44d68ac2c2 div.sk-container {display: inline-block;position: relative;}</style><div id=\"sk-59c534ee-f85b-4b84-91fb-4f44d68ac2c2\" class\"sk-top-container\"><div class=\"sk-container\"><div class=\"sk-item sk-dashed-wrapped\"><div class=\"sk-label-container\"><div class=\"sk-label sk-toggleable\"><input class=\"sk-toggleable__control sk-hidden--visually\" id=\"c7e3e675-dfe7-4355-aec6-c39ec27dad0a\" type=\"checkbox\" ><label class=\"sk-toggleable__label\" for=\"c7e3e675-dfe7-4355-aec6-c39ec27dad0a\">Pipeline</label><div class=\"sk-toggleable__content\"><pre>Pipeline(steps=[('columntransformer',\n",
       "                 ColumnTransformer(remainder='passthrough',\n",
       "                                   transformers=[('knnimputer', KNNImputer(),\n",
       "                                                  ['Age']),\n",
       "                                                 ('ordinalencoder',\n",
       "                                                  OrdinalEncoder(),\n",
       "                                                  ['Sex'])])),\n",
       "                ('decisiontreeclassifier',\n",
       "                 DecisionTreeClassifier(criterion='entropy'))])</pre></div></div></div><div class=\"sk-serial\"><div class=\"sk-item sk-dashed-wrapped\"><div class=\"sk-label-container\"><div class=\"sk-label sk-toggleable\"><input class=\"sk-toggleable__control sk-hidden--visually\" id=\"92ad3048-cf56-40c2-8055-14fe390bba8d\" type=\"checkbox\" ><label class=\"sk-toggleable__label\" for=\"92ad3048-cf56-40c2-8055-14fe390bba8d\">columntransformer: ColumnTransformer</label><div class=\"sk-toggleable__content\"><pre>ColumnTransformer(remainder='passthrough',\n",
       "                  transformers=[('knnimputer', KNNImputer(), ['Age']),\n",
       "                                ('ordinalencoder', OrdinalEncoder(), ['Sex'])])</pre></div></div></div><div class=\"sk-parallel\"><div class=\"sk-parallel-item\"><div class=\"sk-item\"><div class=\"sk-label-container\"><div class=\"sk-label sk-toggleable\"><input class=\"sk-toggleable__control sk-hidden--visually\" id=\"a512e5b5-042d-4626-825b-f3a322c0279c\" type=\"checkbox\" ><label class=\"sk-toggleable__label\" for=\"a512e5b5-042d-4626-825b-f3a322c0279c\">knnimputer</label><div class=\"sk-toggleable__content\"><pre>['Age']</pre></div></div></div><div class=\"sk-serial\"><div class=\"sk-item\"><div class=\"sk-estimator sk-toggleable\"><input class=\"sk-toggleable__control sk-hidden--visually\" id=\"266fc426-1448-4e18-977c-8ad21af3bcff\" type=\"checkbox\" ><label class=\"sk-toggleable__label\" for=\"266fc426-1448-4e18-977c-8ad21af3bcff\">KNNImputer</label><div class=\"sk-toggleable__content\"><pre>KNNImputer()</pre></div></div></div></div></div></div><div class=\"sk-parallel-item\"><div class=\"sk-item\"><div class=\"sk-label-container\"><div class=\"sk-label sk-toggleable\"><input class=\"sk-toggleable__control sk-hidden--visually\" id=\"1f3951e4-b880-41d2-9dc1-bf9448ed66ad\" type=\"checkbox\" ><label class=\"sk-toggleable__label\" for=\"1f3951e4-b880-41d2-9dc1-bf9448ed66ad\">ordinalencoder</label><div class=\"sk-toggleable__content\"><pre>['Sex']</pre></div></div></div><div class=\"sk-serial\"><div class=\"sk-item\"><div class=\"sk-estimator sk-toggleable\"><input class=\"sk-toggleable__control sk-hidden--visually\" id=\"55448a28-915e-4bed-948c-ef826d2c1c51\" type=\"checkbox\" ><label class=\"sk-toggleable__label\" for=\"55448a28-915e-4bed-948c-ef826d2c1c51\">OrdinalEncoder</label><div class=\"sk-toggleable__content\"><pre>OrdinalEncoder()</pre></div></div></div></div></div></div><div class=\"sk-parallel-item\"><div class=\"sk-item\"><div class=\"sk-label-container\"><div class=\"sk-label sk-toggleable\"><input class=\"sk-toggleable__control sk-hidden--visually\" id=\"fd9e0560-4d06-43e7-bcd4-1c03e54b8237\" type=\"checkbox\" ><label class=\"sk-toggleable__label\" for=\"fd9e0560-4d06-43e7-bcd4-1c03e54b8237\">remainder</label><div class=\"sk-toggleable__content\"><pre>['Survived', 'Pclass', 'Fare']</pre></div></div></div><div class=\"sk-serial\"><div class=\"sk-item\"><div class=\"sk-estimator sk-toggleable\"><input class=\"sk-toggleable__control sk-hidden--visually\" id=\"3a33dfd4-3d86-405b-894b-aa310052a7fe\" type=\"checkbox\" ><label class=\"sk-toggleable__label\" for=\"3a33dfd4-3d86-405b-894b-aa310052a7fe\">passthrough</label><div class=\"sk-toggleable__content\"><pre>passthrough</pre></div></div></div></div></div></div></div></div><div class=\"sk-item\"><div class=\"sk-estimator sk-toggleable\"><input class=\"sk-toggleable__control sk-hidden--visually\" id=\"7efcb042-9ace-4e0f-9f54-c500ce294a96\" type=\"checkbox\" ><label class=\"sk-toggleable__label\" for=\"7efcb042-9ace-4e0f-9f54-c500ce294a96\">DecisionTreeClassifier</label><div class=\"sk-toggleable__content\"><pre>DecisionTreeClassifier(criterion='entropy')</pre></div></div></div></div></div></div></div>"
      ],
      "text/plain": [
       "Pipeline(steps=[('columntransformer',\n",
       "                 ColumnTransformer(remainder='passthrough',\n",
       "                                   transformers=[('knnimputer', KNNImputer(),\n",
       "                                                  ['Age']),\n",
       "                                                 ('ordinalencoder',\n",
       "                                                  OrdinalEncoder(),\n",
       "                                                  ['Sex'])])),\n",
       "                ('decisiontreeclassifier',\n",
       "                 DecisionTreeClassifier(criterion='entropy'))])"
      ]
     },
     "execution_count": 201,
     "metadata": {},
     "output_type": "execute_result"
    }
   ],
   "source": [
    "pipe_dt = make_pipeline(col_transf,DecisionTreeClassifier(criterion='entropy'))\n",
    "pipe_dt"
   ]
  },
  {
   "cell_type": "code",
   "execution_count": 202,
   "id": "94cc6126-0197-4dcb-bc53-c99b6c1f7279",
   "metadata": {},
   "outputs": [
    {
     "data": {
      "text/html": [
       "<style>#sk-1736ec46-4869-48d8-b34b-4b76beff282d {color: black;background-color: white;}#sk-1736ec46-4869-48d8-b34b-4b76beff282d pre{padding: 0;}#sk-1736ec46-4869-48d8-b34b-4b76beff282d div.sk-toggleable {background-color: white;}#sk-1736ec46-4869-48d8-b34b-4b76beff282d label.sk-toggleable__label {cursor: pointer;display: block;width: 100%;margin-bottom: 0;padding: 0.2em 0.3em;box-sizing: border-box;text-align: center;}#sk-1736ec46-4869-48d8-b34b-4b76beff282d div.sk-toggleable__content {max-height: 0;max-width: 0;overflow: hidden;text-align: left;background-color: #f0f8ff;}#sk-1736ec46-4869-48d8-b34b-4b76beff282d div.sk-toggleable__content pre {margin: 0.2em;color: black;border-radius: 0.25em;background-color: #f0f8ff;}#sk-1736ec46-4869-48d8-b34b-4b76beff282d input.sk-toggleable__control:checked~div.sk-toggleable__content {max-height: 200px;max-width: 100%;overflow: auto;}#sk-1736ec46-4869-48d8-b34b-4b76beff282d div.sk-estimator input.sk-toggleable__control:checked~label.sk-toggleable__label {background-color: #d4ebff;}#sk-1736ec46-4869-48d8-b34b-4b76beff282d div.sk-label input.sk-toggleable__control:checked~label.sk-toggleable__label {background-color: #d4ebff;}#sk-1736ec46-4869-48d8-b34b-4b76beff282d input.sk-hidden--visually {border: 0;clip: rect(1px 1px 1px 1px);clip: rect(1px, 1px, 1px, 1px);height: 1px;margin: -1px;overflow: hidden;padding: 0;position: absolute;width: 1px;}#sk-1736ec46-4869-48d8-b34b-4b76beff282d div.sk-estimator {font-family: monospace;background-color: #f0f8ff;margin: 0.25em 0.25em;border: 1px dotted black;border-radius: 0.25em;box-sizing: border-box;}#sk-1736ec46-4869-48d8-b34b-4b76beff282d div.sk-estimator:hover {background-color: #d4ebff;}#sk-1736ec46-4869-48d8-b34b-4b76beff282d div.sk-parallel-item::after {content: \"\";width: 100%;border-bottom: 1px solid gray;flex-grow: 1;}#sk-1736ec46-4869-48d8-b34b-4b76beff282d div.sk-label:hover label.sk-toggleable__label {background-color: #d4ebff;}#sk-1736ec46-4869-48d8-b34b-4b76beff282d div.sk-serial::before {content: \"\";position: absolute;border-left: 1px solid gray;box-sizing: border-box;top: 2em;bottom: 0;left: 50%;}#sk-1736ec46-4869-48d8-b34b-4b76beff282d div.sk-serial {display: flex;flex-direction: column;align-items: center;background-color: white;}#sk-1736ec46-4869-48d8-b34b-4b76beff282d div.sk-item {z-index: 1;}#sk-1736ec46-4869-48d8-b34b-4b76beff282d div.sk-parallel {display: flex;align-items: stretch;justify-content: center;background-color: white;}#sk-1736ec46-4869-48d8-b34b-4b76beff282d div.sk-parallel-item {display: flex;flex-direction: column;position: relative;background-color: white;}#sk-1736ec46-4869-48d8-b34b-4b76beff282d div.sk-parallel-item:first-child::after {align-self: flex-end;width: 50%;}#sk-1736ec46-4869-48d8-b34b-4b76beff282d div.sk-parallel-item:last-child::after {align-self: flex-start;width: 50%;}#sk-1736ec46-4869-48d8-b34b-4b76beff282d div.sk-parallel-item:only-child::after {width: 0;}#sk-1736ec46-4869-48d8-b34b-4b76beff282d div.sk-dashed-wrapped {border: 1px dashed gray;margin: 0.2em;box-sizing: border-box;padding-bottom: 0.1em;background-color: white;position: relative;}#sk-1736ec46-4869-48d8-b34b-4b76beff282d div.sk-label label {font-family: monospace;font-weight: bold;background-color: white;display: inline-block;line-height: 1.2em;}#sk-1736ec46-4869-48d8-b34b-4b76beff282d div.sk-label-container {position: relative;z-index: 2;text-align: center;}#sk-1736ec46-4869-48d8-b34b-4b76beff282d div.sk-container {display: inline-block;position: relative;}</style><div id=\"sk-1736ec46-4869-48d8-b34b-4b76beff282d\" class\"sk-top-container\"><div class=\"sk-container\"><div class=\"sk-item sk-dashed-wrapped\"><div class=\"sk-label-container\"><div class=\"sk-label sk-toggleable\"><input class=\"sk-toggleable__control sk-hidden--visually\" id=\"32333448-4cc1-4534-a672-1b3a8f3c377e\" type=\"checkbox\" ><label class=\"sk-toggleable__label\" for=\"32333448-4cc1-4534-a672-1b3a8f3c377e\">Pipeline</label><div class=\"sk-toggleable__content\"><pre>Pipeline(steps=[('columntransformer',\n",
       "                 ColumnTransformer(remainder='passthrough',\n",
       "                                   transformers=[('knnimputer', KNNImputer(),\n",
       "                                                  ['Age']),\n",
       "                                                 ('ordinalencoder',\n",
       "                                                  OrdinalEncoder(),\n",
       "                                                  ['Sex'])])),\n",
       "                ('randomforestclassifier',\n",
       "                 RandomForestClassifier(criterion='entropy',\n",
       "                                        n_estimators=500))])</pre></div></div></div><div class=\"sk-serial\"><div class=\"sk-item sk-dashed-wrapped\"><div class=\"sk-label-container\"><div class=\"sk-label sk-toggleable\"><input class=\"sk-toggleable__control sk-hidden--visually\" id=\"bf4ae3a1-3fe5-4a0d-9ac5-d862194bf73b\" type=\"checkbox\" ><label class=\"sk-toggleable__label\" for=\"bf4ae3a1-3fe5-4a0d-9ac5-d862194bf73b\">columntransformer: ColumnTransformer</label><div class=\"sk-toggleable__content\"><pre>ColumnTransformer(remainder='passthrough',\n",
       "                  transformers=[('knnimputer', KNNImputer(), ['Age']),\n",
       "                                ('ordinalencoder', OrdinalEncoder(), ['Sex'])])</pre></div></div></div><div class=\"sk-parallel\"><div class=\"sk-parallel-item\"><div class=\"sk-item\"><div class=\"sk-label-container\"><div class=\"sk-label sk-toggleable\"><input class=\"sk-toggleable__control sk-hidden--visually\" id=\"033182f6-7bc8-40eb-a706-b8569382c66d\" type=\"checkbox\" ><label class=\"sk-toggleable__label\" for=\"033182f6-7bc8-40eb-a706-b8569382c66d\">knnimputer</label><div class=\"sk-toggleable__content\"><pre>['Age']</pre></div></div></div><div class=\"sk-serial\"><div class=\"sk-item\"><div class=\"sk-estimator sk-toggleable\"><input class=\"sk-toggleable__control sk-hidden--visually\" id=\"529c9b37-b966-480d-9564-fed2b122b6c0\" type=\"checkbox\" ><label class=\"sk-toggleable__label\" for=\"529c9b37-b966-480d-9564-fed2b122b6c0\">KNNImputer</label><div class=\"sk-toggleable__content\"><pre>KNNImputer()</pre></div></div></div></div></div></div><div class=\"sk-parallel-item\"><div class=\"sk-item\"><div class=\"sk-label-container\"><div class=\"sk-label sk-toggleable\"><input class=\"sk-toggleable__control sk-hidden--visually\" id=\"0e24a888-f224-402b-a035-5ee46b26a13e\" type=\"checkbox\" ><label class=\"sk-toggleable__label\" for=\"0e24a888-f224-402b-a035-5ee46b26a13e\">ordinalencoder</label><div class=\"sk-toggleable__content\"><pre>['Sex']</pre></div></div></div><div class=\"sk-serial\"><div class=\"sk-item\"><div class=\"sk-estimator sk-toggleable\"><input class=\"sk-toggleable__control sk-hidden--visually\" id=\"67a84615-e23c-4db1-b722-0c2d67028d2e\" type=\"checkbox\" ><label class=\"sk-toggleable__label\" for=\"67a84615-e23c-4db1-b722-0c2d67028d2e\">OrdinalEncoder</label><div class=\"sk-toggleable__content\"><pre>OrdinalEncoder()</pre></div></div></div></div></div></div><div class=\"sk-parallel-item\"><div class=\"sk-item\"><div class=\"sk-label-container\"><div class=\"sk-label sk-toggleable\"><input class=\"sk-toggleable__control sk-hidden--visually\" id=\"8acf3ec2-8cde-4a1a-a29a-45020998130c\" type=\"checkbox\" ><label class=\"sk-toggleable__label\" for=\"8acf3ec2-8cde-4a1a-a29a-45020998130c\">remainder</label><div class=\"sk-toggleable__content\"><pre>['Survived', 'Pclass', 'Fare']</pre></div></div></div><div class=\"sk-serial\"><div class=\"sk-item\"><div class=\"sk-estimator sk-toggleable\"><input class=\"sk-toggleable__control sk-hidden--visually\" id=\"4a6bc301-a8bc-44be-80de-5cfca3e5e7ae\" type=\"checkbox\" ><label class=\"sk-toggleable__label\" for=\"4a6bc301-a8bc-44be-80de-5cfca3e5e7ae\">passthrough</label><div class=\"sk-toggleable__content\"><pre>passthrough</pre></div></div></div></div></div></div></div></div><div class=\"sk-item\"><div class=\"sk-estimator sk-toggleable\"><input class=\"sk-toggleable__control sk-hidden--visually\" id=\"c24ae672-2892-44e2-979d-bd7275b29297\" type=\"checkbox\" ><label class=\"sk-toggleable__label\" for=\"c24ae672-2892-44e2-979d-bd7275b29297\">RandomForestClassifier</label><div class=\"sk-toggleable__content\"><pre>RandomForestClassifier(criterion='entropy', n_estimators=500)</pre></div></div></div></div></div></div></div>"
      ],
      "text/plain": [
       "Pipeline(steps=[('columntransformer',\n",
       "                 ColumnTransformer(remainder='passthrough',\n",
       "                                   transformers=[('knnimputer', KNNImputer(),\n",
       "                                                  ['Age']),\n",
       "                                                 ('ordinalencoder',\n",
       "                                                  OrdinalEncoder(),\n",
       "                                                  ['Sex'])])),\n",
       "                ('randomforestclassifier',\n",
       "                 RandomForestClassifier(criterion='entropy',\n",
       "                                        n_estimators=500))])"
      ]
     },
     "execution_count": 202,
     "metadata": {},
     "output_type": "execute_result"
    }
   ],
   "source": [
    "pipe_rf = make_pipeline(col_transf,RandomForestClassifier(n_estimators=500,criterion='entropy'))\n",
    "pipe_rf"
   ]
  },
  {
   "cell_type": "markdown",
   "id": "ba2905e5-34c3-4980-852d-57ffe8c020ca",
   "metadata": {},
   "source": [
    "## Modelagem"
   ]
  },
  {
   "cell_type": "code",
   "execution_count": 209,
   "id": "35246d71-e491-4827-b904-3c481f2ec713",
   "metadata": {},
   "outputs": [],
   "source": [
    "x = df.drop('Survived',axis=1)\n",
    "y = df.Survived\n",
    "\n",
    "x_train, x_test, y_train, y_test = train_test_split(x,y,test_size=0.2)"
   ]
  },
  {
   "cell_type": "code",
   "execution_count": 210,
   "id": "45df5c9f-d9f2-429d-8f22-dba1e079074e",
   "metadata": {},
   "outputs": [
    {
     "name": "stdout",
     "output_type": "stream",
     "text": [
      "              precision    recall  f1-score   support\n",
      "\n",
      "           0       0.76      0.73      0.75       105\n",
      "           1       0.64      0.68      0.66        74\n",
      "\n",
      "    accuracy                           0.71       179\n",
      "   macro avg       0.70      0.70      0.70       179\n",
      "weighted avg       0.71      0.71      0.71       179\n",
      "\n"
     ]
    }
   ],
   "source": [
    "## decision tree\n",
    "pipe_dt.fit(x_train,y_train)\n",
    "y_pred = pipe_dt.predict(x_test)\n",
    "print(classification_report(y_test,y_pred))"
   ]
  },
  {
   "cell_type": "code",
   "execution_count": 211,
   "id": "37c4ba4a-3044-49b0-9166-9618f2792b92",
   "metadata": {},
   "outputs": [
    {
     "name": "stdout",
     "output_type": "stream",
     "text": [
      "              precision    recall  f1-score   support\n",
      "\n",
      "           0       0.82      0.84      0.83       105\n",
      "           1       0.76      0.74      0.75        74\n",
      "\n",
      "    accuracy                           0.80       179\n",
      "   macro avg       0.79      0.79      0.79       179\n",
      "weighted avg       0.80      0.80      0.80       179\n",
      "\n"
     ]
    }
   ],
   "source": [
    "## decision tree\n",
    "pipe_rf.fit(x_train,y_train)\n",
    "y_pred = pipe_rf.predict(x_test)\n",
    "print(classification_report(y_test,y_pred))"
   ]
  },
  {
   "cell_type": "markdown",
   "id": "ddbeef74-8761-4da6-b96b-e4271ae5a112",
   "metadata": {},
   "source": [
    "## RandomForest"
   ]
  },
  {
   "cell_type": "code",
   "execution_count": 212,
   "id": "40cccf05-6964-40b5-9848-7f32014db575",
   "metadata": {},
   "outputs": [
    {
     "data": {
      "text/plain": [
       "500"
      ]
     },
     "execution_count": 212,
     "metadata": {},
     "output_type": "execute_result"
    }
   ],
   "source": [
    "## quantidade de estimadores\n",
    "\n",
    "len(pipe_rf['randomforestclassifier'].estimators_)"
   ]
  },
  {
   "cell_type": "code",
   "execution_count": 213,
   "id": "5b63aa6c-ce5f-4bef-8696-00aec1c23213",
   "metadata": {},
   "outputs": [
    {
     "data": {
      "text/html": [
       "<style>#sk-fd30a4a0-f671-44ec-bd08-e5334c4bc071 {color: black;background-color: white;}#sk-fd30a4a0-f671-44ec-bd08-e5334c4bc071 pre{padding: 0;}#sk-fd30a4a0-f671-44ec-bd08-e5334c4bc071 div.sk-toggleable {background-color: white;}#sk-fd30a4a0-f671-44ec-bd08-e5334c4bc071 label.sk-toggleable__label {cursor: pointer;display: block;width: 100%;margin-bottom: 0;padding: 0.2em 0.3em;box-sizing: border-box;text-align: center;}#sk-fd30a4a0-f671-44ec-bd08-e5334c4bc071 div.sk-toggleable__content {max-height: 0;max-width: 0;overflow: hidden;text-align: left;background-color: #f0f8ff;}#sk-fd30a4a0-f671-44ec-bd08-e5334c4bc071 div.sk-toggleable__content pre {margin: 0.2em;color: black;border-radius: 0.25em;background-color: #f0f8ff;}#sk-fd30a4a0-f671-44ec-bd08-e5334c4bc071 input.sk-toggleable__control:checked~div.sk-toggleable__content {max-height: 200px;max-width: 100%;overflow: auto;}#sk-fd30a4a0-f671-44ec-bd08-e5334c4bc071 div.sk-estimator input.sk-toggleable__control:checked~label.sk-toggleable__label {background-color: #d4ebff;}#sk-fd30a4a0-f671-44ec-bd08-e5334c4bc071 div.sk-label input.sk-toggleable__control:checked~label.sk-toggleable__label {background-color: #d4ebff;}#sk-fd30a4a0-f671-44ec-bd08-e5334c4bc071 input.sk-hidden--visually {border: 0;clip: rect(1px 1px 1px 1px);clip: rect(1px, 1px, 1px, 1px);height: 1px;margin: -1px;overflow: hidden;padding: 0;position: absolute;width: 1px;}#sk-fd30a4a0-f671-44ec-bd08-e5334c4bc071 div.sk-estimator {font-family: monospace;background-color: #f0f8ff;margin: 0.25em 0.25em;border: 1px dotted black;border-radius: 0.25em;box-sizing: border-box;}#sk-fd30a4a0-f671-44ec-bd08-e5334c4bc071 div.sk-estimator:hover {background-color: #d4ebff;}#sk-fd30a4a0-f671-44ec-bd08-e5334c4bc071 div.sk-parallel-item::after {content: \"\";width: 100%;border-bottom: 1px solid gray;flex-grow: 1;}#sk-fd30a4a0-f671-44ec-bd08-e5334c4bc071 div.sk-label:hover label.sk-toggleable__label {background-color: #d4ebff;}#sk-fd30a4a0-f671-44ec-bd08-e5334c4bc071 div.sk-serial::before {content: \"\";position: absolute;border-left: 1px solid gray;box-sizing: border-box;top: 2em;bottom: 0;left: 50%;}#sk-fd30a4a0-f671-44ec-bd08-e5334c4bc071 div.sk-serial {display: flex;flex-direction: column;align-items: center;background-color: white;}#sk-fd30a4a0-f671-44ec-bd08-e5334c4bc071 div.sk-item {z-index: 1;}#sk-fd30a4a0-f671-44ec-bd08-e5334c4bc071 div.sk-parallel {display: flex;align-items: stretch;justify-content: center;background-color: white;}#sk-fd30a4a0-f671-44ec-bd08-e5334c4bc071 div.sk-parallel-item {display: flex;flex-direction: column;position: relative;background-color: white;}#sk-fd30a4a0-f671-44ec-bd08-e5334c4bc071 div.sk-parallel-item:first-child::after {align-self: flex-end;width: 50%;}#sk-fd30a4a0-f671-44ec-bd08-e5334c4bc071 div.sk-parallel-item:last-child::after {align-self: flex-start;width: 50%;}#sk-fd30a4a0-f671-44ec-bd08-e5334c4bc071 div.sk-parallel-item:only-child::after {width: 0;}#sk-fd30a4a0-f671-44ec-bd08-e5334c4bc071 div.sk-dashed-wrapped {border: 1px dashed gray;margin: 0.2em;box-sizing: border-box;padding-bottom: 0.1em;background-color: white;position: relative;}#sk-fd30a4a0-f671-44ec-bd08-e5334c4bc071 div.sk-label label {font-family: monospace;font-weight: bold;background-color: white;display: inline-block;line-height: 1.2em;}#sk-fd30a4a0-f671-44ec-bd08-e5334c4bc071 div.sk-label-container {position: relative;z-index: 2;text-align: center;}#sk-fd30a4a0-f671-44ec-bd08-e5334c4bc071 div.sk-container {display: inline-block;position: relative;}</style><div id=\"sk-fd30a4a0-f671-44ec-bd08-e5334c4bc071\" class\"sk-top-container\"><div class=\"sk-container\"><div class=\"sk-item\"><div class=\"sk-estimator sk-toggleable\"><input class=\"sk-toggleable__control sk-hidden--visually\" id=\"fc7e022c-9ea1-427d-9aa4-b2c9bd2039be\" type=\"checkbox\" checked><label class=\"sk-toggleable__label\" for=\"fc7e022c-9ea1-427d-9aa4-b2c9bd2039be\">DecisionTreeClassifier</label><div class=\"sk-toggleable__content\"><pre>DecisionTreeClassifier(criterion='entropy', max_features='auto',\n",
       "                       random_state=1508552355)</pre></div></div></div></div></div>"
      ],
      "text/plain": [
       "DecisionTreeClassifier(criterion='entropy', max_features='auto',\n",
       "                       random_state=1508552355)"
      ]
     },
     "execution_count": 213,
     "metadata": {},
     "output_type": "execute_result"
    }
   ],
   "source": [
    "pipe_rf['randomforestclassifier'].estimators_[0]"
   ]
  },
  {
   "cell_type": "code",
   "execution_count": 283,
   "id": "ccd0e1dc-8fc6-4b5a-80d2-e2de7eaed98a",
   "metadata": {},
   "outputs": [
    {
     "data": {
      "text/html": [
       "<div>\n",
       "<style scoped>\n",
       "    .dataframe tbody tr th:only-of-type {\n",
       "        vertical-align: middle;\n",
       "    }\n",
       "\n",
       "    .dataframe tbody tr th {\n",
       "        vertical-align: top;\n",
       "    }\n",
       "\n",
       "    .dataframe thead th {\n",
       "        text-align: right;\n",
       "    }\n",
       "</style>\n",
       "<table border=\"1\" class=\"dataframe\">\n",
       "  <thead>\n",
       "    <tr style=\"text-align: right;\">\n",
       "      <th></th>\n",
       "      <th>Pclass</th>\n",
       "      <th>Sex</th>\n",
       "      <th>Age</th>\n",
       "      <th>Fare</th>\n",
       "    </tr>\n",
       "  </thead>\n",
       "  <tbody>\n",
       "    <tr>\n",
       "      <th>772</th>\n",
       "      <td>2</td>\n",
       "      <td>female</td>\n",
       "      <td>57.0</td>\n",
       "      <td>10.5</td>\n",
       "    </tr>\n",
       "  </tbody>\n",
       "</table>\n",
       "</div>"
      ],
      "text/plain": [
       "    Pclass     Sex   Age  Fare\n",
       "772      2  female  57.0  10.5"
      ]
     },
     "execution_count": 283,
     "metadata": {},
     "output_type": "execute_result"
    }
   ],
   "source": [
    "pessoa_teste = pd.DataFrame(x_train.iloc[15,:]).T\n",
    "pessoa_teste"
   ]
  },
  {
   "cell_type": "code",
   "execution_count": 284,
   "id": "379aae85-96d9-41f1-bfdc-f6e22bc0886e",
   "metadata": {},
   "outputs": [
    {
     "data": {
      "text/plain": [
       "array([[57.0, 0.0, 2, 10.5]], dtype=object)"
      ]
     },
     "execution_count": 284,
     "metadata": {},
     "output_type": "execute_result"
    }
   ],
   "source": [
    "pipe_rf['columntransformer'].transform(pessoa_teste)"
   ]
  },
  {
   "cell_type": "code",
   "execution_count": 285,
   "id": "ce901603-4590-4a77-92df-b6b9604ab053",
   "metadata": {},
   "outputs": [
    {
     "data": {
      "text/plain": [
       "array([1.])"
      ]
     },
     "execution_count": 285,
     "metadata": {},
     "output_type": "execute_result"
    }
   ],
   "source": [
    "pipe_rf['randomforestclassifier'].estimators_[0].predict([[57.0, 0.0, 2, 10.5]])"
   ]
  },
  {
   "cell_type": "code",
   "execution_count": 290,
   "id": "163bb3ef-8e2f-4f55-80d7-da37bebda962",
   "metadata": {},
   "outputs": [
    {
     "data": {
      "text/plain": [
       "array([[0.642, 0.358]])"
      ]
     },
     "execution_count": 290,
     "metadata": {},
     "output_type": "execute_result"
    }
   ],
   "source": [
    "pipe_rf.predict_proba(pessoa_teste)"
   ]
  },
  {
   "cell_type": "code",
   "execution_count": 286,
   "id": "612e3a44-f08c-41b3-a841-0946d1210bed",
   "metadata": {},
   "outputs": [],
   "source": [
    "results = []\n",
    "\n",
    "for i in range(len(pipe_rf['randomforestclassifier'].estimators_)):\n",
    "    result = pipe_rf['randomforestclassifier'].estimators_[i].predict([[57.0, 0.0, 2, 10.5]])[0]\n",
    "    results.append(result)\n",
    "else:\n",
    "    results = pd.Series(results)"
   ]
  },
  {
   "cell_type": "code",
   "execution_count": 287,
   "id": "cb6912e7-a49c-4cd3-8460-4e3a82a1abb9",
   "metadata": {},
   "outputs": [
    {
     "data": {
      "text/plain": [
       "0.0    0.642\n",
       "1.0    0.358\n",
       "dtype: float64"
      ]
     },
     "execution_count": 287,
     "metadata": {},
     "output_type": "execute_result"
    }
   ],
   "source": [
    "results.value_counts(normalize=True)"
   ]
  }
 ],
 "metadata": {
  "kernelspec": {
   "display_name": "Python 3 (ipykernel)",
   "language": "python",
   "name": "python3"
  },
  "language_info": {
   "codemirror_mode": {
    "name": "ipython",
    "version": 3
   },
   "file_extension": ".py",
   "mimetype": "text/x-python",
   "name": "python",
   "nbconvert_exporter": "python",
   "pygments_lexer": "ipython3",
   "version": "3.9.7"
  }
 },
 "nbformat": 4,
 "nbformat_minor": 5
}
