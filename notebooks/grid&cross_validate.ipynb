{
 "cells": [
  {
   "cell_type": "code",
   "execution_count": 4,
   "id": "0203e557-892f-433c-ae3e-1dc90d068ac4",
   "metadata": {},
   "outputs": [],
   "source": [
    "## the big three\n",
    "import pandas as pd\n",
    "import numpy as np\n",
    "import matplotlib.pyplot as plt\n",
    "\n",
    "## +1\n",
    "import seaborn as sns\n",
    "\n",
    "## utils\n",
    "from sklearn.compose import make_column_transformer\n",
    "from sklearn.pipeline import make_pipeline\n",
    "from sklearn.metrics import classification_report\n",
    "from sklearn.model_selection import train_test_split\n",
    "\n",
    "## preprocessing\n",
    "from sklearn.preprocessing import OneHotEncoder\n",
    "from sklearn.preprocessing import MinMaxScaler\n",
    "\n",
    "## imputation\n",
    "from sklearn.impute import KNNImputer\n",
    "\n",
    "## gridsearch e crossvalidate\n",
    "from sklearn.model_selection import GridSearchCV\n",
    "from sklearn.model_selection import cross_validate\n",
    "\n",
    "## modelos\n",
    "from sklearn.svm import SVC\n",
    "from sklearn.tree import DecisionTreeClassifier\n",
    "from sklearn.ensemble import RandomForestClassifier\n",
    "from sklearn.ensemble import VotingClassifier\n",
    "from sklearn.neighbors import KNeighborsClassifier\n",
    "from sklearn.naive_bayes import GaussianNB\n",
    "\n",
    "import sklearn\n",
    "sklearn.set_config(display='diagram')"
   ]
  },
  {
   "cell_type": "markdown",
   "id": "b2ae0dce-97c7-4d0d-bd25-9b584dc2e234",
   "metadata": {},
   "source": [
    "## Preparação dos dados"
   ]
  },
  {
   "cell_type": "code",
   "execution_count": 5,
   "id": "68c962b2-973c-4559-b67b-b6fa9467a586",
   "metadata": {},
   "outputs": [
    {
     "data": {
      "text/html": [
       "<div>\n",
       "<style scoped>\n",
       "    .dataframe tbody tr th:only-of-type {\n",
       "        vertical-align: middle;\n",
       "    }\n",
       "\n",
       "    .dataframe tbody tr th {\n",
       "        vertical-align: top;\n",
       "    }\n",
       "\n",
       "    .dataframe thead th {\n",
       "        text-align: right;\n",
       "    }\n",
       "</style>\n",
       "<table border=\"1\" class=\"dataframe\">\n",
       "  <thead>\n",
       "    <tr style=\"text-align: right;\">\n",
       "      <th></th>\n",
       "      <th>Survived</th>\n",
       "      <th>Pclass</th>\n",
       "      <th>Sex</th>\n",
       "      <th>Age</th>\n",
       "      <th>SibSp</th>\n",
       "      <th>Parch</th>\n",
       "      <th>Fare</th>\n",
       "      <th>Embarked</th>\n",
       "    </tr>\n",
       "  </thead>\n",
       "  <tbody>\n",
       "    <tr>\n",
       "      <th>0</th>\n",
       "      <td>0</td>\n",
       "      <td>3</td>\n",
       "      <td>male</td>\n",
       "      <td>22.0</td>\n",
       "      <td>1</td>\n",
       "      <td>0</td>\n",
       "      <td>7.2500</td>\n",
       "      <td>S</td>\n",
       "    </tr>\n",
       "    <tr>\n",
       "      <th>1</th>\n",
       "      <td>1</td>\n",
       "      <td>1</td>\n",
       "      <td>female</td>\n",
       "      <td>38.0</td>\n",
       "      <td>1</td>\n",
       "      <td>0</td>\n",
       "      <td>71.2833</td>\n",
       "      <td>C</td>\n",
       "    </tr>\n",
       "    <tr>\n",
       "      <th>2</th>\n",
       "      <td>1</td>\n",
       "      <td>3</td>\n",
       "      <td>female</td>\n",
       "      <td>26.0</td>\n",
       "      <td>0</td>\n",
       "      <td>0</td>\n",
       "      <td>7.9250</td>\n",
       "      <td>S</td>\n",
       "    </tr>\n",
       "    <tr>\n",
       "      <th>3</th>\n",
       "      <td>1</td>\n",
       "      <td>1</td>\n",
       "      <td>female</td>\n",
       "      <td>35.0</td>\n",
       "      <td>1</td>\n",
       "      <td>0</td>\n",
       "      <td>53.1000</td>\n",
       "      <td>S</td>\n",
       "    </tr>\n",
       "    <tr>\n",
       "      <th>4</th>\n",
       "      <td>0</td>\n",
       "      <td>3</td>\n",
       "      <td>male</td>\n",
       "      <td>35.0</td>\n",
       "      <td>0</td>\n",
       "      <td>0</td>\n",
       "      <td>8.0500</td>\n",
       "      <td>S</td>\n",
       "    </tr>\n",
       "  </tbody>\n",
       "</table>\n",
       "</div>"
      ],
      "text/plain": [
       "   Survived  Pclass     Sex   Age  SibSp  Parch     Fare Embarked\n",
       "0         0       3    male  22.0      1      0   7.2500        S\n",
       "1         1       1  female  38.0      1      0  71.2833        C\n",
       "2         1       3  female  26.0      0      0   7.9250        S\n",
       "3         1       1  female  35.0      1      0  53.1000        S\n",
       "4         0       3    male  35.0      0      0   8.0500        S"
      ]
     },
     "execution_count": 5,
     "metadata": {},
     "output_type": "execute_result"
    }
   ],
   "source": [
    "df = (\n",
    "    pd.read_csv('../data/titanic.csv',usecols=['Survived','Pclass','Sex','Age','SibSp','Parch','Fare','Embarked'])\n",
    "    .dropna(subset=['Embarked'],how='any')\n",
    "    .assign(Age = lambda x: x.Age.fillna(x.Age.mean()))\n",
    ")\n",
    "df.head()"
   ]
  },
  {
   "cell_type": "code",
   "execution_count": 6,
   "id": "9aa1cec4-fbfe-47d4-b23d-be37176dddd6",
   "metadata": {},
   "outputs": [
    {
     "data": {
      "text/html": [
       "<style>#sk-fa82f979-d610-4307-a468-614196f83a2b {color: black;background-color: white;}#sk-fa82f979-d610-4307-a468-614196f83a2b pre{padding: 0;}#sk-fa82f979-d610-4307-a468-614196f83a2b div.sk-toggleable {background-color: white;}#sk-fa82f979-d610-4307-a468-614196f83a2b label.sk-toggleable__label {cursor: pointer;display: block;width: 100%;margin-bottom: 0;padding: 0.2em 0.3em;box-sizing: border-box;text-align: center;}#sk-fa82f979-d610-4307-a468-614196f83a2b div.sk-toggleable__content {max-height: 0;max-width: 0;overflow: hidden;text-align: left;background-color: #f0f8ff;}#sk-fa82f979-d610-4307-a468-614196f83a2b div.sk-toggleable__content pre {margin: 0.2em;color: black;border-radius: 0.25em;background-color: #f0f8ff;}#sk-fa82f979-d610-4307-a468-614196f83a2b input.sk-toggleable__control:checked~div.sk-toggleable__content {max-height: 200px;max-width: 100%;overflow: auto;}#sk-fa82f979-d610-4307-a468-614196f83a2b div.sk-estimator input.sk-toggleable__control:checked~label.sk-toggleable__label {background-color: #d4ebff;}#sk-fa82f979-d610-4307-a468-614196f83a2b div.sk-label input.sk-toggleable__control:checked~label.sk-toggleable__label {background-color: #d4ebff;}#sk-fa82f979-d610-4307-a468-614196f83a2b input.sk-hidden--visually {border: 0;clip: rect(1px 1px 1px 1px);clip: rect(1px, 1px, 1px, 1px);height: 1px;margin: -1px;overflow: hidden;padding: 0;position: absolute;width: 1px;}#sk-fa82f979-d610-4307-a468-614196f83a2b div.sk-estimator {font-family: monospace;background-color: #f0f8ff;margin: 0.25em 0.25em;border: 1px dotted black;border-radius: 0.25em;box-sizing: border-box;}#sk-fa82f979-d610-4307-a468-614196f83a2b div.sk-estimator:hover {background-color: #d4ebff;}#sk-fa82f979-d610-4307-a468-614196f83a2b div.sk-parallel-item::after {content: \"\";width: 100%;border-bottom: 1px solid gray;flex-grow: 1;}#sk-fa82f979-d610-4307-a468-614196f83a2b div.sk-label:hover label.sk-toggleable__label {background-color: #d4ebff;}#sk-fa82f979-d610-4307-a468-614196f83a2b div.sk-serial::before {content: \"\";position: absolute;border-left: 1px solid gray;box-sizing: border-box;top: 2em;bottom: 0;left: 50%;}#sk-fa82f979-d610-4307-a468-614196f83a2b div.sk-serial {display: flex;flex-direction: column;align-items: center;background-color: white;}#sk-fa82f979-d610-4307-a468-614196f83a2b div.sk-item {z-index: 1;}#sk-fa82f979-d610-4307-a468-614196f83a2b div.sk-parallel {display: flex;align-items: stretch;justify-content: center;background-color: white;}#sk-fa82f979-d610-4307-a468-614196f83a2b div.sk-parallel-item {display: flex;flex-direction: column;position: relative;background-color: white;}#sk-fa82f979-d610-4307-a468-614196f83a2b div.sk-parallel-item:first-child::after {align-self: flex-end;width: 50%;}#sk-fa82f979-d610-4307-a468-614196f83a2b div.sk-parallel-item:last-child::after {align-self: flex-start;width: 50%;}#sk-fa82f979-d610-4307-a468-614196f83a2b div.sk-parallel-item:only-child::after {width: 0;}#sk-fa82f979-d610-4307-a468-614196f83a2b div.sk-dashed-wrapped {border: 1px dashed gray;margin: 0.2em;box-sizing: border-box;padding-bottom: 0.1em;background-color: white;position: relative;}#sk-fa82f979-d610-4307-a468-614196f83a2b div.sk-label label {font-family: monospace;font-weight: bold;background-color: white;display: inline-block;line-height: 1.2em;}#sk-fa82f979-d610-4307-a468-614196f83a2b div.sk-label-container {position: relative;z-index: 2;text-align: center;}#sk-fa82f979-d610-4307-a468-614196f83a2b div.sk-container {display: inline-block;position: relative;}</style><div id=\"sk-fa82f979-d610-4307-a468-614196f83a2b\" class\"sk-top-container\"><div class=\"sk-container\"><div class=\"sk-item sk-dashed-wrapped\"><div class=\"sk-label-container\"><div class=\"sk-label sk-toggleable\"><input class=\"sk-toggleable__control sk-hidden--visually\" id=\"a2032106-1501-42c7-aa75-15670dab1b2f\" type=\"checkbox\" ><label class=\"sk-toggleable__label\" for=\"a2032106-1501-42c7-aa75-15670dab1b2f\">ColumnTransformer</label><div class=\"sk-toggleable__content\"><pre>ColumnTransformer(remainder='passthrough',\n",
       "                  transformers=[('minmaxscaler', MinMaxScaler(),\n",
       "                                 ['Age', 'Fare', 'SibSp', 'Parch']),\n",
       "                                ('onehotencoder', OneHotEncoder(),\n",
       "                                 ['Pclass', 'Sex', 'Embarked'])])</pre></div></div></div><div class=\"sk-parallel\"><div class=\"sk-parallel-item\"><div class=\"sk-item\"><div class=\"sk-label-container\"><div class=\"sk-label sk-toggleable\"><input class=\"sk-toggleable__control sk-hidden--visually\" id=\"32e2315c-5a9e-4454-ba35-0d459bf136aa\" type=\"checkbox\" ><label class=\"sk-toggleable__label\" for=\"32e2315c-5a9e-4454-ba35-0d459bf136aa\">minmaxscaler</label><div class=\"sk-toggleable__content\"><pre>['Age', 'Fare', 'SibSp', 'Parch']</pre></div></div></div><div class=\"sk-serial\"><div class=\"sk-item\"><div class=\"sk-estimator sk-toggleable\"><input class=\"sk-toggleable__control sk-hidden--visually\" id=\"0a6dd05a-789e-48d4-84fe-3aa98967b46a\" type=\"checkbox\" ><label class=\"sk-toggleable__label\" for=\"0a6dd05a-789e-48d4-84fe-3aa98967b46a\">MinMaxScaler</label><div class=\"sk-toggleable__content\"><pre>MinMaxScaler()</pre></div></div></div></div></div></div><div class=\"sk-parallel-item\"><div class=\"sk-item\"><div class=\"sk-label-container\"><div class=\"sk-label sk-toggleable\"><input class=\"sk-toggleable__control sk-hidden--visually\" id=\"57278634-97bc-4d40-ab58-5d3380fed735\" type=\"checkbox\" ><label class=\"sk-toggleable__label\" for=\"57278634-97bc-4d40-ab58-5d3380fed735\">onehotencoder</label><div class=\"sk-toggleable__content\"><pre>['Pclass', 'Sex', 'Embarked']</pre></div></div></div><div class=\"sk-serial\"><div class=\"sk-item\"><div class=\"sk-estimator sk-toggleable\"><input class=\"sk-toggleable__control sk-hidden--visually\" id=\"99781f37-2e4d-4a37-a2cb-be9906f86a77\" type=\"checkbox\" ><label class=\"sk-toggleable__label\" for=\"99781f37-2e4d-4a37-a2cb-be9906f86a77\">OneHotEncoder</label><div class=\"sk-toggleable__content\"><pre>OneHotEncoder()</pre></div></div></div></div></div></div><div class=\"sk-parallel-item\"><div class=\"sk-item\"><div class=\"sk-label-container\"><div class=\"sk-label sk-toggleable\"><input class=\"sk-toggleable__control sk-hidden--visually\" id=\"8b970559-dd32-4903-9f8f-6edd43622007\" type=\"checkbox\" ><label class=\"sk-toggleable__label\" for=\"8b970559-dd32-4903-9f8f-6edd43622007\">remainder</label><div class=\"sk-toggleable__content\"><pre></pre></div></div></div><div class=\"sk-serial\"><div class=\"sk-item\"><div class=\"sk-estimator sk-toggleable\"><input class=\"sk-toggleable__control sk-hidden--visually\" id=\"6cf7a62d-c745-4a87-95a9-2a20fcc34c90\" type=\"checkbox\" ><label class=\"sk-toggleable__label\" for=\"6cf7a62d-c745-4a87-95a9-2a20fcc34c90\">passthrough</label><div class=\"sk-toggleable__content\"><pre>passthrough</pre></div></div></div></div></div></div></div></div></div></div>"
      ],
      "text/plain": [
       "ColumnTransformer(remainder='passthrough',\n",
       "                  transformers=[('minmaxscaler', MinMaxScaler(),\n",
       "                                 ['Age', 'Fare', 'SibSp', 'Parch']),\n",
       "                                ('onehotencoder', OneHotEncoder(),\n",
       "                                 ['Pclass', 'Sex', 'Embarked'])])"
      ]
     },
     "execution_count": 6,
     "metadata": {},
     "output_type": "execute_result"
    }
   ],
   "source": [
    "col_transf = make_column_transformer(\n",
    "    \n",
    "    (MinMaxScaler(),['Age','Fare','SibSp','Parch']),\n",
    "    (OneHotEncoder(),['Pclass','Sex','Embarked']),\n",
    "    remainder='passthrough'\n",
    ")\n",
    "\n",
    "col_transf"
   ]
  },
  {
   "cell_type": "code",
   "execution_count": 7,
   "id": "7cdb92b8-4238-425f-be0c-fbf38ccb58b0",
   "metadata": {},
   "outputs": [],
   "source": [
    "pipe = make_pipeline(col_transf,RandomForestClassifier())"
   ]
  },
  {
   "cell_type": "markdown",
   "id": "1a73f370-2cb9-4218-bf35-a7a731a2cea0",
   "metadata": {},
   "source": [
    "## cross_validate"
   ]
  },
  {
   "cell_type": "code",
   "execution_count": 9,
   "id": "f33b13ef-a0e7-47ba-9ffc-3ac2820f290f",
   "metadata": {},
   "outputs": [
    {
     "data": {
      "text/plain": [
       "{'fit_time': array([0.14856696, 0.13072276, 0.13465786, 0.1201787 , 0.13630033]),\n",
       " 'score_time': array([0.0148592 , 0.01643324, 0.01565456, 0.01506448, 0.01725125]),\n",
       " 'test_accuracy': array([0.76404494, 0.79213483, 0.85955056, 0.78651685, 0.84180791]),\n",
       " 'train_accuracy': array([0.98452883, 0.98734177, 0.98452883, 0.98452883, 0.98174157])}"
      ]
     },
     "execution_count": 9,
     "metadata": {},
     "output_type": "execute_result"
    }
   ],
   "source": [
    "cross_validate(pipe,df.drop('Survived',axis=1),df.Survived,cv=5,scoring=['accuracy'],return_train_score=True)"
   ]
  },
  {
   "cell_type": "code",
   "execution_count": 17,
   "id": "1fc22880-1f9d-42f7-ab9f-e98f99b8dd39",
   "metadata": {},
   "outputs": [],
   "source": [
    "ls_modelos = [SVC(kernel='linear'),DecisionTreeClassifier(),RandomForestClassifier(),KNeighborsClassifier(),GaussianNB()]\n",
    "dc = {}\n",
    "\n",
    "for idx in range(5):\n",
    "    pipe = make_pipeline(col_transf,ls_modelos[idx])\n",
    "    results = cross_validate(pipe,df.drop('Survived',axis=1),df.Survived,cv=5,scoring=['accuracy'],return_train_score=True)\n",
    "    dc[idx] = [results['test_accuracy'].mean(),results['train_accuracy'].mean()]"
   ]
  },
  {
   "cell_type": "code",
   "execution_count": 18,
   "id": "f97cede8-84be-4dfc-919e-2126a5309d5e",
   "metadata": {},
   "outputs": [
    {
     "data": {
      "text/plain": [
       "{0: [0.7862756300387227, 0.7862766478610598],\n",
       " 1: [0.7705643369516918, 0.9845339686151805],\n",
       " 2: [0.8110328191455596, 0.9845339686151805],\n",
       " 3: [0.7918936075668126, 0.857428609807361],\n",
       " 4: [0.7829365835079033, 0.7888078983549044]}"
      ]
     },
     "execution_count": 18,
     "metadata": {},
     "output_type": "execute_result"
    }
   ],
   "source": [
    "dc"
   ]
  },
  {
   "cell_type": "markdown",
   "id": "f14fafd8-45fe-41d9-98b4-d12dc598fd2a",
   "metadata": {},
   "source": [
    "## GridSearchCV"
   ]
  },
  {
   "cell_type": "code",
   "execution_count": 90,
   "id": "4c304be0-9851-4265-a9d1-60e86ae294fb",
   "metadata": {},
   "outputs": [
    {
     "data": {
      "text/html": [
       "<style>#sk-0374fb14-122a-4a2c-a652-2603baa95e15 {color: black;background-color: white;}#sk-0374fb14-122a-4a2c-a652-2603baa95e15 pre{padding: 0;}#sk-0374fb14-122a-4a2c-a652-2603baa95e15 div.sk-toggleable {background-color: white;}#sk-0374fb14-122a-4a2c-a652-2603baa95e15 label.sk-toggleable__label {cursor: pointer;display: block;width: 100%;margin-bottom: 0;padding: 0.2em 0.3em;box-sizing: border-box;text-align: center;}#sk-0374fb14-122a-4a2c-a652-2603baa95e15 div.sk-toggleable__content {max-height: 0;max-width: 0;overflow: hidden;text-align: left;background-color: #f0f8ff;}#sk-0374fb14-122a-4a2c-a652-2603baa95e15 div.sk-toggleable__content pre {margin: 0.2em;color: black;border-radius: 0.25em;background-color: #f0f8ff;}#sk-0374fb14-122a-4a2c-a652-2603baa95e15 input.sk-toggleable__control:checked~div.sk-toggleable__content {max-height: 200px;max-width: 100%;overflow: auto;}#sk-0374fb14-122a-4a2c-a652-2603baa95e15 div.sk-estimator input.sk-toggleable__control:checked~label.sk-toggleable__label {background-color: #d4ebff;}#sk-0374fb14-122a-4a2c-a652-2603baa95e15 div.sk-label input.sk-toggleable__control:checked~label.sk-toggleable__label {background-color: #d4ebff;}#sk-0374fb14-122a-4a2c-a652-2603baa95e15 input.sk-hidden--visually {border: 0;clip: rect(1px 1px 1px 1px);clip: rect(1px, 1px, 1px, 1px);height: 1px;margin: -1px;overflow: hidden;padding: 0;position: absolute;width: 1px;}#sk-0374fb14-122a-4a2c-a652-2603baa95e15 div.sk-estimator {font-family: monospace;background-color: #f0f8ff;margin: 0.25em 0.25em;border: 1px dotted black;border-radius: 0.25em;box-sizing: border-box;}#sk-0374fb14-122a-4a2c-a652-2603baa95e15 div.sk-estimator:hover {background-color: #d4ebff;}#sk-0374fb14-122a-4a2c-a652-2603baa95e15 div.sk-parallel-item::after {content: \"\";width: 100%;border-bottom: 1px solid gray;flex-grow: 1;}#sk-0374fb14-122a-4a2c-a652-2603baa95e15 div.sk-label:hover label.sk-toggleable__label {background-color: #d4ebff;}#sk-0374fb14-122a-4a2c-a652-2603baa95e15 div.sk-serial::before {content: \"\";position: absolute;border-left: 1px solid gray;box-sizing: border-box;top: 2em;bottom: 0;left: 50%;}#sk-0374fb14-122a-4a2c-a652-2603baa95e15 div.sk-serial {display: flex;flex-direction: column;align-items: center;background-color: white;}#sk-0374fb14-122a-4a2c-a652-2603baa95e15 div.sk-item {z-index: 1;}#sk-0374fb14-122a-4a2c-a652-2603baa95e15 div.sk-parallel {display: flex;align-items: stretch;justify-content: center;background-color: white;}#sk-0374fb14-122a-4a2c-a652-2603baa95e15 div.sk-parallel-item {display: flex;flex-direction: column;position: relative;background-color: white;}#sk-0374fb14-122a-4a2c-a652-2603baa95e15 div.sk-parallel-item:first-child::after {align-self: flex-end;width: 50%;}#sk-0374fb14-122a-4a2c-a652-2603baa95e15 div.sk-parallel-item:last-child::after {align-self: flex-start;width: 50%;}#sk-0374fb14-122a-4a2c-a652-2603baa95e15 div.sk-parallel-item:only-child::after {width: 0;}#sk-0374fb14-122a-4a2c-a652-2603baa95e15 div.sk-dashed-wrapped {border: 1px dashed gray;margin: 0.2em;box-sizing: border-box;padding-bottom: 0.1em;background-color: white;position: relative;}#sk-0374fb14-122a-4a2c-a652-2603baa95e15 div.sk-label label {font-family: monospace;font-weight: bold;background-color: white;display: inline-block;line-height: 1.2em;}#sk-0374fb14-122a-4a2c-a652-2603baa95e15 div.sk-label-container {position: relative;z-index: 2;text-align: center;}#sk-0374fb14-122a-4a2c-a652-2603baa95e15 div.sk-container {display: inline-block;position: relative;}</style><div id=\"sk-0374fb14-122a-4a2c-a652-2603baa95e15\" class\"sk-top-container\"><div class=\"sk-container\"><div class=\"sk-item sk-dashed-wrapped\"><div class=\"sk-label-container\"><div class=\"sk-label sk-toggleable\"><input class=\"sk-toggleable__control sk-hidden--visually\" id=\"b7c370bc-0a81-47c8-ab68-f14b1d9497e1\" type=\"checkbox\" ><label class=\"sk-toggleable__label\" for=\"b7c370bc-0a81-47c8-ab68-f14b1d9497e1\">Pipeline</label><div class=\"sk-toggleable__content\"><pre>Pipeline(steps=[('columntransformer',\n",
       "                 ColumnTransformer(remainder='passthrough',\n",
       "                                   transformers=[('minmaxscaler',\n",
       "                                                  MinMaxScaler(),\n",
       "                                                  ['Age', 'Fare', 'SibSp',\n",
       "                                                   'Parch']),\n",
       "                                                 ('onehotencoder',\n",
       "                                                  OneHotEncoder(),\n",
       "                                                  ['Pclass', 'Sex',\n",
       "                                                   'Embarked'])])),\n",
       "                ('randomforestclassifier', RandomForestClassifier())])</pre></div></div></div><div class=\"sk-serial\"><div class=\"sk-item sk-dashed-wrapped\"><div class=\"sk-label-container\"><div class=\"sk-label sk-toggleable\"><input class=\"sk-toggleable__control sk-hidden--visually\" id=\"d39ce483-3966-405f-a684-22b63707d570\" type=\"checkbox\" ><label class=\"sk-toggleable__label\" for=\"d39ce483-3966-405f-a684-22b63707d570\">columntransformer: ColumnTransformer</label><div class=\"sk-toggleable__content\"><pre>ColumnTransformer(remainder='passthrough',\n",
       "                  transformers=[('minmaxscaler', MinMaxScaler(),\n",
       "                                 ['Age', 'Fare', 'SibSp', 'Parch']),\n",
       "                                ('onehotencoder', OneHotEncoder(),\n",
       "                                 ['Pclass', 'Sex', 'Embarked'])])</pre></div></div></div><div class=\"sk-parallel\"><div class=\"sk-parallel-item\"><div class=\"sk-item\"><div class=\"sk-label-container\"><div class=\"sk-label sk-toggleable\"><input class=\"sk-toggleable__control sk-hidden--visually\" id=\"45f1510c-156d-4cd9-9e30-1f2be338becb\" type=\"checkbox\" ><label class=\"sk-toggleable__label\" for=\"45f1510c-156d-4cd9-9e30-1f2be338becb\">minmaxscaler</label><div class=\"sk-toggleable__content\"><pre>['Age', 'Fare', 'SibSp', 'Parch']</pre></div></div></div><div class=\"sk-serial\"><div class=\"sk-item\"><div class=\"sk-estimator sk-toggleable\"><input class=\"sk-toggleable__control sk-hidden--visually\" id=\"0b962011-7110-48a6-aa19-f2b44f1bf1f2\" type=\"checkbox\" ><label class=\"sk-toggleable__label\" for=\"0b962011-7110-48a6-aa19-f2b44f1bf1f2\">MinMaxScaler</label><div class=\"sk-toggleable__content\"><pre>MinMaxScaler()</pre></div></div></div></div></div></div><div class=\"sk-parallel-item\"><div class=\"sk-item\"><div class=\"sk-label-container\"><div class=\"sk-label sk-toggleable\"><input class=\"sk-toggleable__control sk-hidden--visually\" id=\"22157ead-55fe-42e8-9581-7bef159bb4f7\" type=\"checkbox\" ><label class=\"sk-toggleable__label\" for=\"22157ead-55fe-42e8-9581-7bef159bb4f7\">onehotencoder</label><div class=\"sk-toggleable__content\"><pre>['Pclass', 'Sex', 'Embarked']</pre></div></div></div><div class=\"sk-serial\"><div class=\"sk-item\"><div class=\"sk-estimator sk-toggleable\"><input class=\"sk-toggleable__control sk-hidden--visually\" id=\"669b7daf-c043-4eac-a701-ed6b98f37fad\" type=\"checkbox\" ><label class=\"sk-toggleable__label\" for=\"669b7daf-c043-4eac-a701-ed6b98f37fad\">OneHotEncoder</label><div class=\"sk-toggleable__content\"><pre>OneHotEncoder()</pre></div></div></div></div></div></div><div class=\"sk-parallel-item\"><div class=\"sk-item\"><div class=\"sk-label-container\"><div class=\"sk-label sk-toggleable\"><input class=\"sk-toggleable__control sk-hidden--visually\" id=\"f698bbf7-54a0-414f-a8e1-924316ebe2e5\" type=\"checkbox\" ><label class=\"sk-toggleable__label\" for=\"f698bbf7-54a0-414f-a8e1-924316ebe2e5\">remainder</label><div class=\"sk-toggleable__content\"><pre>[['Pclass', 'Sex', 'Age', 'SibSp', 'Parch', 'Fare', 'Embarked']]</pre></div></div></div><div class=\"sk-serial\"><div class=\"sk-item\"><div class=\"sk-estimator sk-toggleable\"><input class=\"sk-toggleable__control sk-hidden--visually\" id=\"3ea131ab-d704-4eac-aa22-fff716ec42be\" type=\"checkbox\" ><label class=\"sk-toggleable__label\" for=\"3ea131ab-d704-4eac-aa22-fff716ec42be\">passthrough</label><div class=\"sk-toggleable__content\"><pre>passthrough</pre></div></div></div></div></div></div></div></div><div class=\"sk-item\"><div class=\"sk-estimator sk-toggleable\"><input class=\"sk-toggleable__control sk-hidden--visually\" id=\"29fcc231-b91d-4488-89c2-b222c72b56b5\" type=\"checkbox\" ><label class=\"sk-toggleable__label\" for=\"29fcc231-b91d-4488-89c2-b222c72b56b5\">RandomForestClassifier</label><div class=\"sk-toggleable__content\"><pre>RandomForestClassifier()</pre></div></div></div></div></div></div></div>"
      ],
      "text/plain": [
       "Pipeline(steps=[('columntransformer',\n",
       "                 ColumnTransformer(remainder='passthrough',\n",
       "                                   transformers=[('minmaxscaler',\n",
       "                                                  MinMaxScaler(),\n",
       "                                                  ['Age', 'Fare', 'SibSp',\n",
       "                                                   'Parch']),\n",
       "                                                 ('onehotencoder',\n",
       "                                                  OneHotEncoder(),\n",
       "                                                  ['Pclass', 'Sex',\n",
       "                                                   'Embarked'])])),\n",
       "                ('randomforestclassifier', RandomForestClassifier())])"
      ]
     },
     "execution_count": 90,
     "metadata": {},
     "output_type": "execute_result"
    }
   ],
   "source": [
    "pipe = make_pipeline(col_transf,RandomForestClassifier())\n",
    "pipe"
   ]
  },
  {
   "cell_type": "code",
   "execution_count": 92,
   "id": "6251d040-a263-4835-a16e-320d43908d88",
   "metadata": {},
   "outputs": [
    {
     "data": {
      "text/plain": [
       "{'memory': None,\n",
       " 'steps': [('columntransformer',\n",
       "   ColumnTransformer(remainder='passthrough',\n",
       "                     transformers=[('minmaxscaler', MinMaxScaler(),\n",
       "                                    ['Age', 'Fare', 'SibSp', 'Parch']),\n",
       "                                   ('onehotencoder', OneHotEncoder(),\n",
       "                                    ['Pclass', 'Sex', 'Embarked'])])),\n",
       "  ('randomforestclassifier', RandomForestClassifier())],\n",
       " 'verbose': False,\n",
       " 'columntransformer': ColumnTransformer(remainder='passthrough',\n",
       "                   transformers=[('minmaxscaler', MinMaxScaler(),\n",
       "                                  ['Age', 'Fare', 'SibSp', 'Parch']),\n",
       "                                 ('onehotencoder', OneHotEncoder(),\n",
       "                                  ['Pclass', 'Sex', 'Embarked'])]),\n",
       " 'randomforestclassifier': RandomForestClassifier(),\n",
       " 'columntransformer__n_jobs': None,\n",
       " 'columntransformer__remainder': 'passthrough',\n",
       " 'columntransformer__sparse_threshold': 0.3,\n",
       " 'columntransformer__transformer_weights': None,\n",
       " 'columntransformer__transformers': [('minmaxscaler',\n",
       "   MinMaxScaler(),\n",
       "   ['Age', 'Fare', 'SibSp', 'Parch']),\n",
       "  ('onehotencoder', OneHotEncoder(), ['Pclass', 'Sex', 'Embarked'])],\n",
       " 'columntransformer__verbose': False,\n",
       " 'columntransformer__minmaxscaler': MinMaxScaler(),\n",
       " 'columntransformer__onehotencoder': OneHotEncoder(),\n",
       " 'columntransformer__minmaxscaler__clip': False,\n",
       " 'columntransformer__minmaxscaler__copy': True,\n",
       " 'columntransformer__minmaxscaler__feature_range': (0, 1),\n",
       " 'columntransformer__onehotencoder__categories': 'auto',\n",
       " 'columntransformer__onehotencoder__drop': None,\n",
       " 'columntransformer__onehotencoder__dtype': numpy.float64,\n",
       " 'columntransformer__onehotencoder__handle_unknown': 'error',\n",
       " 'columntransformer__onehotencoder__sparse': True,\n",
       " 'randomforestclassifier__bootstrap': True,\n",
       " 'randomforestclassifier__ccp_alpha': 0.0,\n",
       " 'randomforestclassifier__class_weight': None,\n",
       " 'randomforestclassifier__criterion': 'gini',\n",
       " 'randomforestclassifier__max_depth': None,\n",
       " 'randomforestclassifier__max_features': 'auto',\n",
       " 'randomforestclassifier__max_leaf_nodes': None,\n",
       " 'randomforestclassifier__max_samples': None,\n",
       " 'randomforestclassifier__min_impurity_decrease': 0.0,\n",
       " 'randomforestclassifier__min_impurity_split': None,\n",
       " 'randomforestclassifier__min_samples_leaf': 1,\n",
       " 'randomforestclassifier__min_samples_split': 2,\n",
       " 'randomforestclassifier__min_weight_fraction_leaf': 0.0,\n",
       " 'randomforestclassifier__n_estimators': 100,\n",
       " 'randomforestclassifier__n_jobs': None,\n",
       " 'randomforestclassifier__oob_score': False,\n",
       " 'randomforestclassifier__random_state': None,\n",
       " 'randomforestclassifier__verbose': 0,\n",
       " 'randomforestclassifier__warm_start': False}"
      ]
     },
     "execution_count": 92,
     "metadata": {},
     "output_type": "execute_result"
    }
   ],
   "source": [
    "pipe.get_params()"
   ]
  },
  {
   "cell_type": "code",
   "execution_count": 93,
   "id": "b77eb78e-a170-48a3-9920-54ef6b302bd7",
   "metadata": {},
   "outputs": [],
   "source": [
    "grid = {'randomforestclassifier__n_estimators':[10,100,200,300,400,500],\n",
    " 'randomforestclassifier__max_depth':[2,4,6,8,10,12,16],\n",
    " 'randomforestclassifier__min_samples_leaf':[1,10,15,20,80],\n",
    " 'columntransformer__minmaxscaler__feature_range':[(0,1),(0,2),(-1,1)]\n",
    "}"
   ]
  },
  {
   "cell_type": "code",
   "execution_count": 94,
   "id": "43cb249b-f6e5-4888-9449-944ca4d3753d",
   "metadata": {},
   "outputs": [],
   "source": [
    "x = df.drop('Survived',axis=1)\n",
    "y = df.Survived"
   ]
  },
  {
   "cell_type": "code",
   "execution_count": 95,
   "id": "1aebdb71-fd12-4784-b9be-efd5a017f884",
   "metadata": {},
   "outputs": [
    {
     "data": {
      "text/html": [
       "<style>#sk-26670807-d4d0-43f2-88a5-5e1a9a29464e {color: black;background-color: white;}#sk-26670807-d4d0-43f2-88a5-5e1a9a29464e pre{padding: 0;}#sk-26670807-d4d0-43f2-88a5-5e1a9a29464e div.sk-toggleable {background-color: white;}#sk-26670807-d4d0-43f2-88a5-5e1a9a29464e label.sk-toggleable__label {cursor: pointer;display: block;width: 100%;margin-bottom: 0;padding: 0.2em 0.3em;box-sizing: border-box;text-align: center;}#sk-26670807-d4d0-43f2-88a5-5e1a9a29464e div.sk-toggleable__content {max-height: 0;max-width: 0;overflow: hidden;text-align: left;background-color: #f0f8ff;}#sk-26670807-d4d0-43f2-88a5-5e1a9a29464e div.sk-toggleable__content pre {margin: 0.2em;color: black;border-radius: 0.25em;background-color: #f0f8ff;}#sk-26670807-d4d0-43f2-88a5-5e1a9a29464e input.sk-toggleable__control:checked~div.sk-toggleable__content {max-height: 200px;max-width: 100%;overflow: auto;}#sk-26670807-d4d0-43f2-88a5-5e1a9a29464e div.sk-estimator input.sk-toggleable__control:checked~label.sk-toggleable__label {background-color: #d4ebff;}#sk-26670807-d4d0-43f2-88a5-5e1a9a29464e div.sk-label input.sk-toggleable__control:checked~label.sk-toggleable__label {background-color: #d4ebff;}#sk-26670807-d4d0-43f2-88a5-5e1a9a29464e input.sk-hidden--visually {border: 0;clip: rect(1px 1px 1px 1px);clip: rect(1px, 1px, 1px, 1px);height: 1px;margin: -1px;overflow: hidden;padding: 0;position: absolute;width: 1px;}#sk-26670807-d4d0-43f2-88a5-5e1a9a29464e div.sk-estimator {font-family: monospace;background-color: #f0f8ff;margin: 0.25em 0.25em;border: 1px dotted black;border-radius: 0.25em;box-sizing: border-box;}#sk-26670807-d4d0-43f2-88a5-5e1a9a29464e div.sk-estimator:hover {background-color: #d4ebff;}#sk-26670807-d4d0-43f2-88a5-5e1a9a29464e div.sk-parallel-item::after {content: \"\";width: 100%;border-bottom: 1px solid gray;flex-grow: 1;}#sk-26670807-d4d0-43f2-88a5-5e1a9a29464e div.sk-label:hover label.sk-toggleable__label {background-color: #d4ebff;}#sk-26670807-d4d0-43f2-88a5-5e1a9a29464e div.sk-serial::before {content: \"\";position: absolute;border-left: 1px solid gray;box-sizing: border-box;top: 2em;bottom: 0;left: 50%;}#sk-26670807-d4d0-43f2-88a5-5e1a9a29464e div.sk-serial {display: flex;flex-direction: column;align-items: center;background-color: white;}#sk-26670807-d4d0-43f2-88a5-5e1a9a29464e div.sk-item {z-index: 1;}#sk-26670807-d4d0-43f2-88a5-5e1a9a29464e div.sk-parallel {display: flex;align-items: stretch;justify-content: center;background-color: white;}#sk-26670807-d4d0-43f2-88a5-5e1a9a29464e div.sk-parallel-item {display: flex;flex-direction: column;position: relative;background-color: white;}#sk-26670807-d4d0-43f2-88a5-5e1a9a29464e div.sk-parallel-item:first-child::after {align-self: flex-end;width: 50%;}#sk-26670807-d4d0-43f2-88a5-5e1a9a29464e div.sk-parallel-item:last-child::after {align-self: flex-start;width: 50%;}#sk-26670807-d4d0-43f2-88a5-5e1a9a29464e div.sk-parallel-item:only-child::after {width: 0;}#sk-26670807-d4d0-43f2-88a5-5e1a9a29464e div.sk-dashed-wrapped {border: 1px dashed gray;margin: 0.2em;box-sizing: border-box;padding-bottom: 0.1em;background-color: white;position: relative;}#sk-26670807-d4d0-43f2-88a5-5e1a9a29464e div.sk-label label {font-family: monospace;font-weight: bold;background-color: white;display: inline-block;line-height: 1.2em;}#sk-26670807-d4d0-43f2-88a5-5e1a9a29464e div.sk-label-container {position: relative;z-index: 2;text-align: center;}#sk-26670807-d4d0-43f2-88a5-5e1a9a29464e div.sk-container {display: inline-block;position: relative;}</style><div id=\"sk-26670807-d4d0-43f2-88a5-5e1a9a29464e\" class\"sk-top-container\"><div class=\"sk-container\"><div class=\"sk-item sk-dashed-wrapped\"><div class=\"sk-label-container\"><div class=\"sk-label sk-toggleable\"><input class=\"sk-toggleable__control sk-hidden--visually\" id=\"d6f39c00-3d86-40e5-83c8-9ec76275f242\" type=\"checkbox\" ><label class=\"sk-toggleable__label\" for=\"d6f39c00-3d86-40e5-83c8-9ec76275f242\">GridSearchCV</label><div class=\"sk-toggleable__content\"><pre>GridSearchCV(cv=5,\n",
       "             estimator=Pipeline(steps=[('columntransformer',\n",
       "                                        ColumnTransformer(remainder='passthrough',\n",
       "                                                          transformers=[('minmaxscaler',\n",
       "                                                                         MinMaxScaler(),\n",
       "                                                                         ['Age',\n",
       "                                                                          'Fare',\n",
       "                                                                          'SibSp',\n",
       "                                                                          'Parch']),\n",
       "                                                                        ('onehotencoder',\n",
       "                                                                         OneHotEncoder(),\n",
       "                                                                         ['Pclass',\n",
       "                                                                          'Sex',\n",
       "                                                                          'Embarked'])])),\n",
       "                                       ('randomforestclassifier',\n",
       "                                        RandomForestClassifier())]),\n",
       "             n_jobs=-1,\n",
       "             param_grid={'columntransformer__minmaxscaler__feature_range': [(0,\n",
       "                                                                             1),\n",
       "                                                                            (0,\n",
       "                                                                             2),\n",
       "                                                                            (-1,\n",
       "                                                                             1)],\n",
       "                         'randomforestclassifier__max_depth': [2, 4, 6, 8, 10,\n",
       "                                                               12, 16],\n",
       "                         'randomforestclassifier__min_samples_leaf': [1, 10, 15,\n",
       "                                                                      20, 80],\n",
       "                         'randomforestclassifier__n_estimators': [10, 100, 200,\n",
       "                                                                  300, 400,\n",
       "                                                                  500]},\n",
       "             return_train_score=True)</pre></div></div></div><div class=\"sk-parallel\"><div class=\"sk-parallel-item\"><div class=\"sk-item\"><div class=\"sk-serial\"><div class=\"sk-item\"><div class=\"sk-serial\"><div class=\"sk-item sk-dashed-wrapped\"><div class=\"sk-label-container\"><div class=\"sk-label sk-toggleable\"><input class=\"sk-toggleable__control sk-hidden--visually\" id=\"b5a45f98-a455-426f-a860-8ccce1ddccd5\" type=\"checkbox\" ><label class=\"sk-toggleable__label\" for=\"b5a45f98-a455-426f-a860-8ccce1ddccd5\">columntransformer: ColumnTransformer</label><div class=\"sk-toggleable__content\"><pre>ColumnTransformer(remainder='passthrough',\n",
       "                  transformers=[('minmaxscaler', MinMaxScaler(),\n",
       "                                 ['Age', 'Fare', 'SibSp', 'Parch']),\n",
       "                                ('onehotencoder', OneHotEncoder(),\n",
       "                                 ['Pclass', 'Sex', 'Embarked'])])</pre></div></div></div><div class=\"sk-parallel\"><div class=\"sk-parallel-item\"><div class=\"sk-item\"><div class=\"sk-label-container\"><div class=\"sk-label sk-toggleable\"><input class=\"sk-toggleable__control sk-hidden--visually\" id=\"fd14d6d4-6ad1-400a-bf2f-47c25756a91b\" type=\"checkbox\" ><label class=\"sk-toggleable__label\" for=\"fd14d6d4-6ad1-400a-bf2f-47c25756a91b\">minmaxscaler</label><div class=\"sk-toggleable__content\"><pre>['Age', 'Fare', 'SibSp', 'Parch']</pre></div></div></div><div class=\"sk-serial\"><div class=\"sk-item\"><div class=\"sk-estimator sk-toggleable\"><input class=\"sk-toggleable__control sk-hidden--visually\" id=\"a3710e48-d385-411d-ab5c-4df48324275e\" type=\"checkbox\" ><label class=\"sk-toggleable__label\" for=\"a3710e48-d385-411d-ab5c-4df48324275e\">MinMaxScaler</label><div class=\"sk-toggleable__content\"><pre>MinMaxScaler()</pre></div></div></div></div></div></div><div class=\"sk-parallel-item\"><div class=\"sk-item\"><div class=\"sk-label-container\"><div class=\"sk-label sk-toggleable\"><input class=\"sk-toggleable__control sk-hidden--visually\" id=\"dbc97c71-7619-4310-8580-f001ef4f5a8d\" type=\"checkbox\" ><label class=\"sk-toggleable__label\" for=\"dbc97c71-7619-4310-8580-f001ef4f5a8d\">onehotencoder</label><div class=\"sk-toggleable__content\"><pre>['Pclass', 'Sex', 'Embarked']</pre></div></div></div><div class=\"sk-serial\"><div class=\"sk-item\"><div class=\"sk-estimator sk-toggleable\"><input class=\"sk-toggleable__control sk-hidden--visually\" id=\"f50a686d-102a-4b69-9463-fa58391b8ee7\" type=\"checkbox\" ><label class=\"sk-toggleable__label\" for=\"f50a686d-102a-4b69-9463-fa58391b8ee7\">OneHotEncoder</label><div class=\"sk-toggleable__content\"><pre>OneHotEncoder()</pre></div></div></div></div></div></div><div class=\"sk-parallel-item\"><div class=\"sk-item\"><div class=\"sk-label-container\"><div class=\"sk-label sk-toggleable\"><input class=\"sk-toggleable__control sk-hidden--visually\" id=\"941a3893-ee69-49cf-aac8-5ffd3c3a698c\" type=\"checkbox\" ><label class=\"sk-toggleable__label\" for=\"941a3893-ee69-49cf-aac8-5ffd3c3a698c\">remainder</label><div class=\"sk-toggleable__content\"><pre>[['Pclass', 'Sex', 'Age', 'SibSp', 'Parch', 'Fare', 'Embarked']]</pre></div></div></div><div class=\"sk-serial\"><div class=\"sk-item\"><div class=\"sk-estimator sk-toggleable\"><input class=\"sk-toggleable__control sk-hidden--visually\" id=\"27725ad2-2df3-4a16-94c0-daf56412d19a\" type=\"checkbox\" ><label class=\"sk-toggleable__label\" for=\"27725ad2-2df3-4a16-94c0-daf56412d19a\">passthrough</label><div class=\"sk-toggleable__content\"><pre>passthrough</pre></div></div></div></div></div></div></div></div><div class=\"sk-item\"><div class=\"sk-estimator sk-toggleable\"><input class=\"sk-toggleable__control sk-hidden--visually\" id=\"674c4eac-dc12-4474-befa-2d5bccce9cab\" type=\"checkbox\" ><label class=\"sk-toggleable__label\" for=\"674c4eac-dc12-4474-befa-2d5bccce9cab\">RandomForestClassifier</label><div class=\"sk-toggleable__content\"><pre>RandomForestClassifier()</pre></div></div></div></div></div></div></div></div></div></div></div></div>"
      ],
      "text/plain": [
       "GridSearchCV(cv=5,\n",
       "             estimator=Pipeline(steps=[('columntransformer',\n",
       "                                        ColumnTransformer(remainder='passthrough',\n",
       "                                                          transformers=[('minmaxscaler',\n",
       "                                                                         MinMaxScaler(),\n",
       "                                                                         ['Age',\n",
       "                                                                          'Fare',\n",
       "                                                                          'SibSp',\n",
       "                                                                          'Parch']),\n",
       "                                                                        ('onehotencoder',\n",
       "                                                                         OneHotEncoder(),\n",
       "                                                                         ['Pclass',\n",
       "                                                                          'Sex',\n",
       "                                                                          'Embarked'])])),\n",
       "                                       ('randomforestclassifier',\n",
       "                                        RandomForestClassifier())]),\n",
       "             n_jobs=-1,\n",
       "             param_grid={'columntransformer__minmaxscaler__feature_range': [(0,\n",
       "                                                                             1),\n",
       "                                                                            (0,\n",
       "                                                                             2),\n",
       "                                                                            (-1,\n",
       "                                                                             1)],\n",
       "                         'randomforestclassifier__max_depth': [2, 4, 6, 8, 10,\n",
       "                                                               12, 16],\n",
       "                         'randomforestclassifier__min_samples_leaf': [1, 10, 15,\n",
       "                                                                      20, 80],\n",
       "                         'randomforestclassifier__n_estimators': [10, 100, 200,\n",
       "                                                                  300, 400,\n",
       "                                                                  500]},\n",
       "             return_train_score=True)"
      ]
     },
     "execution_count": 95,
     "metadata": {},
     "output_type": "execute_result"
    }
   ],
   "source": [
    "gcv = GridSearchCV(pipe,param_grid=grid,cv=5,n_jobs=-1,return_train_score=True)\n",
    "gcv.fit(x,y)"
   ]
  },
  {
   "cell_type": "code",
   "execution_count": 98,
   "id": "d4ca86ab-ff77-4529-be93-7b57b8bc1447",
   "metadata": {},
   "outputs": [
    {
     "data": {
      "text/plain": [
       "{'columntransformer__minmaxscaler__feature_range': (0, 2),\n",
       " 'randomforestclassifier__max_depth': 12,\n",
       " 'randomforestclassifier__min_samples_leaf': 1,\n",
       " 'randomforestclassifier__n_estimators': 300}"
      ]
     },
     "execution_count": 98,
     "metadata": {},
     "output_type": "execute_result"
    }
   ],
   "source": [
    "gcv.best_params_"
   ]
  },
  {
   "cell_type": "code",
   "execution_count": 100,
   "id": "f928af94-c7a7-443f-a64d-5fcd0ce29170",
   "metadata": {},
   "outputs": [
    {
     "data": {
      "text/html": [
       "<style>#sk-8441ccd2-cb2c-4848-9743-74c0cbe56900 {color: black;background-color: white;}#sk-8441ccd2-cb2c-4848-9743-74c0cbe56900 pre{padding: 0;}#sk-8441ccd2-cb2c-4848-9743-74c0cbe56900 div.sk-toggleable {background-color: white;}#sk-8441ccd2-cb2c-4848-9743-74c0cbe56900 label.sk-toggleable__label {cursor: pointer;display: block;width: 100%;margin-bottom: 0;padding: 0.2em 0.3em;box-sizing: border-box;text-align: center;}#sk-8441ccd2-cb2c-4848-9743-74c0cbe56900 div.sk-toggleable__content {max-height: 0;max-width: 0;overflow: hidden;text-align: left;background-color: #f0f8ff;}#sk-8441ccd2-cb2c-4848-9743-74c0cbe56900 div.sk-toggleable__content pre {margin: 0.2em;color: black;border-radius: 0.25em;background-color: #f0f8ff;}#sk-8441ccd2-cb2c-4848-9743-74c0cbe56900 input.sk-toggleable__control:checked~div.sk-toggleable__content {max-height: 200px;max-width: 100%;overflow: auto;}#sk-8441ccd2-cb2c-4848-9743-74c0cbe56900 div.sk-estimator input.sk-toggleable__control:checked~label.sk-toggleable__label {background-color: #d4ebff;}#sk-8441ccd2-cb2c-4848-9743-74c0cbe56900 div.sk-label input.sk-toggleable__control:checked~label.sk-toggleable__label {background-color: #d4ebff;}#sk-8441ccd2-cb2c-4848-9743-74c0cbe56900 input.sk-hidden--visually {border: 0;clip: rect(1px 1px 1px 1px);clip: rect(1px, 1px, 1px, 1px);height: 1px;margin: -1px;overflow: hidden;padding: 0;position: absolute;width: 1px;}#sk-8441ccd2-cb2c-4848-9743-74c0cbe56900 div.sk-estimator {font-family: monospace;background-color: #f0f8ff;margin: 0.25em 0.25em;border: 1px dotted black;border-radius: 0.25em;box-sizing: border-box;}#sk-8441ccd2-cb2c-4848-9743-74c0cbe56900 div.sk-estimator:hover {background-color: #d4ebff;}#sk-8441ccd2-cb2c-4848-9743-74c0cbe56900 div.sk-parallel-item::after {content: \"\";width: 100%;border-bottom: 1px solid gray;flex-grow: 1;}#sk-8441ccd2-cb2c-4848-9743-74c0cbe56900 div.sk-label:hover label.sk-toggleable__label {background-color: #d4ebff;}#sk-8441ccd2-cb2c-4848-9743-74c0cbe56900 div.sk-serial::before {content: \"\";position: absolute;border-left: 1px solid gray;box-sizing: border-box;top: 2em;bottom: 0;left: 50%;}#sk-8441ccd2-cb2c-4848-9743-74c0cbe56900 div.sk-serial {display: flex;flex-direction: column;align-items: center;background-color: white;}#sk-8441ccd2-cb2c-4848-9743-74c0cbe56900 div.sk-item {z-index: 1;}#sk-8441ccd2-cb2c-4848-9743-74c0cbe56900 div.sk-parallel {display: flex;align-items: stretch;justify-content: center;background-color: white;}#sk-8441ccd2-cb2c-4848-9743-74c0cbe56900 div.sk-parallel-item {display: flex;flex-direction: column;position: relative;background-color: white;}#sk-8441ccd2-cb2c-4848-9743-74c0cbe56900 div.sk-parallel-item:first-child::after {align-self: flex-end;width: 50%;}#sk-8441ccd2-cb2c-4848-9743-74c0cbe56900 div.sk-parallel-item:last-child::after {align-self: flex-start;width: 50%;}#sk-8441ccd2-cb2c-4848-9743-74c0cbe56900 div.sk-parallel-item:only-child::after {width: 0;}#sk-8441ccd2-cb2c-4848-9743-74c0cbe56900 div.sk-dashed-wrapped {border: 1px dashed gray;margin: 0.2em;box-sizing: border-box;padding-bottom: 0.1em;background-color: white;position: relative;}#sk-8441ccd2-cb2c-4848-9743-74c0cbe56900 div.sk-label label {font-family: monospace;font-weight: bold;background-color: white;display: inline-block;line-height: 1.2em;}#sk-8441ccd2-cb2c-4848-9743-74c0cbe56900 div.sk-label-container {position: relative;z-index: 2;text-align: center;}#sk-8441ccd2-cb2c-4848-9743-74c0cbe56900 div.sk-container {display: inline-block;position: relative;}</style><div id=\"sk-8441ccd2-cb2c-4848-9743-74c0cbe56900\" class\"sk-top-container\"><div class=\"sk-container\"><div class=\"sk-item sk-dashed-wrapped\"><div class=\"sk-label-container\"><div class=\"sk-label sk-toggleable\"><input class=\"sk-toggleable__control sk-hidden--visually\" id=\"c93dbfc1-f166-4933-9dfe-66b578c2954b\" type=\"checkbox\" ><label class=\"sk-toggleable__label\" for=\"c93dbfc1-f166-4933-9dfe-66b578c2954b\">Pipeline</label><div class=\"sk-toggleable__content\"><pre>Pipeline(steps=[('columntransformer',\n",
       "                 ColumnTransformer(remainder='passthrough',\n",
       "                                   transformers=[('minmaxscaler',\n",
       "                                                  MinMaxScaler(feature_range=(0,\n",
       "                                                                              2)),\n",
       "                                                  ['Age', 'Fare', 'SibSp',\n",
       "                                                   'Parch']),\n",
       "                                                 ('onehotencoder',\n",
       "                                                  OneHotEncoder(),\n",
       "                                                  ['Pclass', 'Sex',\n",
       "                                                   'Embarked'])])),\n",
       "                ('randomforestclassifier',\n",
       "                 RandomForestClassifier(max_depth=12, n_estimators=300))])</pre></div></div></div><div class=\"sk-serial\"><div class=\"sk-item sk-dashed-wrapped\"><div class=\"sk-label-container\"><div class=\"sk-label sk-toggleable\"><input class=\"sk-toggleable__control sk-hidden--visually\" id=\"73ee6368-931d-43d8-aadc-02c89e3eeffe\" type=\"checkbox\" ><label class=\"sk-toggleable__label\" for=\"73ee6368-931d-43d8-aadc-02c89e3eeffe\">columntransformer: ColumnTransformer</label><div class=\"sk-toggleable__content\"><pre>ColumnTransformer(remainder='passthrough',\n",
       "                  transformers=[('minmaxscaler',\n",
       "                                 MinMaxScaler(feature_range=(0, 2)),\n",
       "                                 ['Age', 'Fare', 'SibSp', 'Parch']),\n",
       "                                ('onehotencoder', OneHotEncoder(),\n",
       "                                 ['Pclass', 'Sex', 'Embarked'])])</pre></div></div></div><div class=\"sk-parallel\"><div class=\"sk-parallel-item\"><div class=\"sk-item\"><div class=\"sk-label-container\"><div class=\"sk-label sk-toggleable\"><input class=\"sk-toggleable__control sk-hidden--visually\" id=\"eccb3b98-36e5-493a-9c64-d69b50b309d8\" type=\"checkbox\" ><label class=\"sk-toggleable__label\" for=\"eccb3b98-36e5-493a-9c64-d69b50b309d8\">minmaxscaler</label><div class=\"sk-toggleable__content\"><pre>['Age', 'Fare', 'SibSp', 'Parch']</pre></div></div></div><div class=\"sk-serial\"><div class=\"sk-item\"><div class=\"sk-estimator sk-toggleable\"><input class=\"sk-toggleable__control sk-hidden--visually\" id=\"a12f0435-4af3-48a0-bbef-7e01779c5985\" type=\"checkbox\" ><label class=\"sk-toggleable__label\" for=\"a12f0435-4af3-48a0-bbef-7e01779c5985\">MinMaxScaler</label><div class=\"sk-toggleable__content\"><pre>MinMaxScaler(feature_range=(0, 2))</pre></div></div></div></div></div></div><div class=\"sk-parallel-item\"><div class=\"sk-item\"><div class=\"sk-label-container\"><div class=\"sk-label sk-toggleable\"><input class=\"sk-toggleable__control sk-hidden--visually\" id=\"1f792c03-453c-43c4-b08b-4601daf9d0c6\" type=\"checkbox\" ><label class=\"sk-toggleable__label\" for=\"1f792c03-453c-43c4-b08b-4601daf9d0c6\">onehotencoder</label><div class=\"sk-toggleable__content\"><pre>['Pclass', 'Sex', 'Embarked']</pre></div></div></div><div class=\"sk-serial\"><div class=\"sk-item\"><div class=\"sk-estimator sk-toggleable\"><input class=\"sk-toggleable__control sk-hidden--visually\" id=\"89f9613e-7733-4d9f-a727-704cc4285732\" type=\"checkbox\" ><label class=\"sk-toggleable__label\" for=\"89f9613e-7733-4d9f-a727-704cc4285732\">OneHotEncoder</label><div class=\"sk-toggleable__content\"><pre>OneHotEncoder()</pre></div></div></div></div></div></div><div class=\"sk-parallel-item\"><div class=\"sk-item\"><div class=\"sk-label-container\"><div class=\"sk-label sk-toggleable\"><input class=\"sk-toggleable__control sk-hidden--visually\" id=\"c291d6fa-9b43-4fc6-b28a-8e24b5070a69\" type=\"checkbox\" ><label class=\"sk-toggleable__label\" for=\"c291d6fa-9b43-4fc6-b28a-8e24b5070a69\">remainder</label><div class=\"sk-toggleable__content\"><pre>[['Pclass', 'Sex', 'Age', 'SibSp', 'Parch', 'Fare', 'Embarked']]</pre></div></div></div><div class=\"sk-serial\"><div class=\"sk-item\"><div class=\"sk-estimator sk-toggleable\"><input class=\"sk-toggleable__control sk-hidden--visually\" id=\"c5556531-4a03-4443-ba31-9f3216ed667a\" type=\"checkbox\" ><label class=\"sk-toggleable__label\" for=\"c5556531-4a03-4443-ba31-9f3216ed667a\">passthrough</label><div class=\"sk-toggleable__content\"><pre>passthrough</pre></div></div></div></div></div></div></div></div><div class=\"sk-item\"><div class=\"sk-estimator sk-toggleable\"><input class=\"sk-toggleable__control sk-hidden--visually\" id=\"0643024d-8456-406e-93bc-b60c0aa4bf77\" type=\"checkbox\" ><label class=\"sk-toggleable__label\" for=\"0643024d-8456-406e-93bc-b60c0aa4bf77\">RandomForestClassifier</label><div class=\"sk-toggleable__content\"><pre>RandomForestClassifier(max_depth=12, n_estimators=300)</pre></div></div></div></div></div></div></div>"
      ],
      "text/plain": [
       "Pipeline(steps=[('columntransformer',\n",
       "                 ColumnTransformer(remainder='passthrough',\n",
       "                                   transformers=[('minmaxscaler',\n",
       "                                                  MinMaxScaler(feature_range=(0,\n",
       "                                                                              2)),\n",
       "                                                  ['Age', 'Fare', 'SibSp',\n",
       "                                                   'Parch']),\n",
       "                                                 ('onehotencoder',\n",
       "                                                  OneHotEncoder(),\n",
       "                                                  ['Pclass', 'Sex',\n",
       "                                                   'Embarked'])])),\n",
       "                ('randomforestclassifier',\n",
       "                 RandomForestClassifier(max_depth=12, n_estimators=300))])"
      ]
     },
     "execution_count": 100,
     "metadata": {},
     "output_type": "execute_result"
    }
   ],
   "source": [
    "gcv.best_estimator_"
   ]
  },
  {
   "cell_type": "code",
   "execution_count": 115,
   "id": "a2eff0d6-039e-4cd2-afa9-fa610158ee81",
   "metadata": {},
   "outputs": [],
   "source": [
    "results_df = pd.DataFrame.from_dict(gcv.cv_results_)"
   ]
  },
  {
   "cell_type": "code",
   "execution_count": 116,
   "id": "7cfce21d-17da-4508-a205-4dba582db6c6",
   "metadata": {},
   "outputs": [
    {
     "data": {
      "text/plain": [
       "<AxesSubplot:xlabel='param_randomforestclassifier__max_depth', ylabel='param_randomforestclassifier__min_samples_leaf'>"
      ]
     },
     "execution_count": 116,
     "metadata": {},
     "output_type": "execute_result"
    },
    {
     "data": {
      "image/png": "[encoded data removed]",
      "text/plain": [
       "<Figure size 432x288 with 2 Axes>"
      ]
     },
     "metadata": {
      "needs_background": "light"
     },
     "output_type": "display_data"
    }
   ],
   "source": [
    "sns.heatmap((\n",
    "    results_df[['param_randomforestclassifier__min_samples_leaf','param_randomforestclassifier__max_depth','mean_test_score']]\n",
    "    .pivot_table(index='param_randomforestclassifier__min_samples_leaf',columns='param_randomforestclassifier__max_depth',values='mean_test_score',aggfunc='mean')\n",
    "),annot=True)"
   ]
  },
  {
   "cell_type": "code",
   "execution_count": 119,
   "id": "0b8c7ec5-18db-446b-a5c7-5a39e0b751fb",
   "metadata": {},
   "outputs": [
    {
     "data": {
      "text/html": [
       "<div>\n",
       "<style scoped>\n",
       "    .dataframe tbody tr th:only-of-type {\n",
       "        vertical-align: middle;\n",
       "    }\n",
       "\n",
       "    .dataframe tbody tr th {\n",
       "        vertical-align: top;\n",
       "    }\n",
       "\n",
       "    .dataframe thead th {\n",
       "        text-align: right;\n",
       "    }\n",
       "</style>\n",
       "<table border=\"1\" class=\"dataframe\">\n",
       "  <thead>\n",
       "    <tr style=\"text-align: right;\">\n",
       "      <th>param_randomforestclassifier__max_depth</th>\n",
       "      <th>2</th>\n",
       "      <th>4</th>\n",
       "      <th>6</th>\n",
       "      <th>8</th>\n",
       "      <th>10</th>\n",
       "      <th>12</th>\n",
       "      <th>16</th>\n",
       "    </tr>\n",
       "    <tr>\n",
       "      <th>param_randomforestclassifier__min_samples_leaf</th>\n",
       "      <th></th>\n",
       "      <th></th>\n",
       "      <th></th>\n",
       "      <th></th>\n",
       "      <th></th>\n",
       "      <th></th>\n",
       "      <th></th>\n",
       "    </tr>\n",
       "  </thead>\n",
       "  <tbody>\n",
       "    <tr>\n",
       "      <th>1</th>\n",
       "      <td>0.780410</td>\n",
       "      <td>0.816600</td>\n",
       "      <td>0.816609</td>\n",
       "      <td>0.824739</td>\n",
       "      <td>0.825932</td>\n",
       "      <td>0.822431</td>\n",
       "      <td>0.814117</td>\n",
       "    </tr>\n",
       "    <tr>\n",
       "      <th>10</th>\n",
       "      <td>0.782345</td>\n",
       "      <td>0.804716</td>\n",
       "      <td>0.807714</td>\n",
       "      <td>0.807841</td>\n",
       "      <td>0.807966</td>\n",
       "      <td>0.807779</td>\n",
       "      <td>0.808900</td>\n",
       "    </tr>\n",
       "    <tr>\n",
       "      <th>15</th>\n",
       "      <td>0.782592</td>\n",
       "      <td>0.804342</td>\n",
       "      <td>0.803218</td>\n",
       "      <td>0.802904</td>\n",
       "      <td>0.801283</td>\n",
       "      <td>0.803530</td>\n",
       "      <td>0.803095</td>\n",
       "    </tr>\n",
       "    <tr>\n",
       "      <th>20</th>\n",
       "      <td>0.784590</td>\n",
       "      <td>0.799716</td>\n",
       "      <td>0.799592</td>\n",
       "      <td>0.803276</td>\n",
       "      <td>0.800093</td>\n",
       "      <td>0.798844</td>\n",
       "      <td>0.800657</td>\n",
       "    </tr>\n",
       "    <tr>\n",
       "      <th>80</th>\n",
       "      <td>0.784588</td>\n",
       "      <td>0.781968</td>\n",
       "      <td>0.784339</td>\n",
       "      <td>0.782656</td>\n",
       "      <td>0.785775</td>\n",
       "      <td>0.784963</td>\n",
       "      <td>0.785465</td>\n",
       "    </tr>\n",
       "  </tbody>\n",
       "</table>\n",
       "</div>"
      ],
      "text/plain": [
       "param_randomforestclassifier__max_depth               2         4         6   \\\n",
       "param_randomforestclassifier__min_samples_leaf                                 \n",
       "1                                               0.780410  0.816600  0.816609   \n",
       "10                                              0.782345  0.804716  0.807714   \n",
       "15                                              0.782592  0.804342  0.803218   \n",
       "20                                              0.784590  0.799716  0.799592   \n",
       "80                                              0.784588  0.781968  0.784339   \n",
       "\n",
       "param_randomforestclassifier__max_depth               8         10        12  \\\n",
       "param_randomforestclassifier__min_samples_leaf                                 \n",
       "1                                               0.824739  0.825932  0.822431   \n",
       "10                                              0.807841  0.807966  0.807779   \n",
       "15                                              0.802904  0.801283  0.803530   \n",
       "20                                              0.803276  0.800093  0.798844   \n",
       "80                                              0.782656  0.785775  0.784963   \n",
       "\n",
       "param_randomforestclassifier__max_depth               16  \n",
       "param_randomforestclassifier__min_samples_leaf            \n",
       "1                                               0.814117  \n",
       "10                                              0.808900  \n",
       "15                                              0.803095  \n",
       "20                                              0.800657  \n",
       "80                                              0.785465  "
      ]
     },
     "execution_count": 119,
     "metadata": {},
     "output_type": "execute_result"
    }
   ],
   "source": [
    "(\n",
    "    results_df[['param_randomforestclassifier__min_samples_leaf','param_randomforestclassifier__max_depth','mean_test_score']]\n",
    "    .pivot_table(index='param_randomforestclassifier__min_samples_leaf',columns='param_randomforestclassifier__max_depth',values='mean_test_score',aggfunc='mean')\n",
    ")"
   ]
  },
  {
   "cell_type": "code",
   "execution_count": 123,
   "id": "db06fc22-5ac1-4684-b7bf-571f4134a91c",
   "metadata": {},
   "outputs": [
    {
     "data": {
      "text/plain": [
       "<a list of 7 text.Text objects>"
      ]
     },
     "execution_count": 123,
     "metadata": {},
     "output_type": "execute_result"
    },
    {
     "data": {
      "image/png": "[encoded data removed]",
      "text/plain": [
       "<Figure size 432x288 with 1 Axes>"
      ]
     },
     "metadata": {
      "needs_background": "light"
     },
     "output_type": "display_data"
    }
   ],
   "source": [
    "f, ax = plt.subplots()\n",
    "cs = ax.contour((\n",
    "    results_df[['param_randomforestclassifier__min_samples_leaf','param_randomforestclassifier__max_depth','mean_test_score']]\n",
    "    .pivot_table(index='param_randomforestclassifier__min_samples_leaf',columns='param_randomforestclassifier__max_depth',values='mean_test_score',aggfunc='mean')\n",
    "),colors='k',origin='upper')\n",
    "\n",
    "ax.clabel(cs, fontsize=9, inline=True)"
   ]
  }
 ],
 "metadata": {
  "kernelspec": {
   "display_name": "Python 3 (ipykernel)",
   "language": "python",
   "name": "python3"
  },
  "language_info": {
   "codemirror_mode": {
    "name": "ipython",
    "version": 3
   },
   "file_extension": ".py",
   "mimetype": "text/x-python",
   "name": "python",
   "nbconvert_exporter": "python",
   "pygments_lexer": "ipython3",
   "version": "3.9.7"
  }
 },
 "nbformat": 4,
 "nbformat_minor": 5
}
