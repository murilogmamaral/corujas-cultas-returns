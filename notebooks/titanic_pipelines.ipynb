{
 "cells": [
  {
   "cell_type": "code",
   "execution_count": 1,
   "id": "4fc62918-53d6-43f7-be8f-531722c9081e",
   "metadata": {},
   "outputs": [],
   "source": [
    "import pandas as pd\n",
    "import numpy as np\n",
    "import matplotlib.pyplot as plt\n",
    "\n",
    "from sklearn.compose import make_column_transformer\n",
    "from sklearn.pipeline import make_pipeline\n",
    "\n",
    "from sklearn.impute import KNNImputer\n",
    "from sklearn.preprocessing import OrdinalEncoder\n",
    "\n",
    "from sklearn.model_selection import train_test_split\n",
    "from sklearn.metrics import classification_report\n",
    "\n",
    "from sklearn.tree import DecisionTreeClassifier\n",
    "\n",
    "import sklearn\n",
    "sklearn.set_config(display='diagram')"
   ]
  },
  {
   "cell_type": "code",
   "execution_count": 2,
   "id": "55baaf9b-5b6a-4bd1-a3c4-909591c14055",
   "metadata": {},
   "outputs": [
    {
     "data": {
      "text/html": [
       "<div>\n",
       "<style scoped>\n",
       "    .dataframe tbody tr th:only-of-type {\n",
       "        vertical-align: middle;\n",
       "    }\n",
       "\n",
       "    .dataframe tbody tr th {\n",
       "        vertical-align: top;\n",
       "    }\n",
       "\n",
       "    .dataframe thead th {\n",
       "        text-align: right;\n",
       "    }\n",
       "</style>\n",
       "<table border=\"1\" class=\"dataframe\">\n",
       "  <thead>\n",
       "    <tr style=\"text-align: right;\">\n",
       "      <th></th>\n",
       "      <th>Survived</th>\n",
       "      <th>Pclass</th>\n",
       "      <th>Sex</th>\n",
       "      <th>Age</th>\n",
       "      <th>Fare</th>\n",
       "    </tr>\n",
       "  </thead>\n",
       "  <tbody>\n",
       "    <tr>\n",
       "      <th>0</th>\n",
       "      <td>0</td>\n",
       "      <td>3</td>\n",
       "      <td>male</td>\n",
       "      <td>22.0</td>\n",
       "      <td>7.2500</td>\n",
       "    </tr>\n",
       "    <tr>\n",
       "      <th>1</th>\n",
       "      <td>1</td>\n",
       "      <td>1</td>\n",
       "      <td>female</td>\n",
       "      <td>38.0</td>\n",
       "      <td>71.2833</td>\n",
       "    </tr>\n",
       "    <tr>\n",
       "      <th>2</th>\n",
       "      <td>1</td>\n",
       "      <td>3</td>\n",
       "      <td>female</td>\n",
       "      <td>26.0</td>\n",
       "      <td>7.9250</td>\n",
       "    </tr>\n",
       "    <tr>\n",
       "      <th>3</th>\n",
       "      <td>1</td>\n",
       "      <td>1</td>\n",
       "      <td>female</td>\n",
       "      <td>35.0</td>\n",
       "      <td>53.1000</td>\n",
       "    </tr>\n",
       "    <tr>\n",
       "      <th>4</th>\n",
       "      <td>0</td>\n",
       "      <td>3</td>\n",
       "      <td>male</td>\n",
       "      <td>35.0</td>\n",
       "      <td>8.0500</td>\n",
       "    </tr>\n",
       "  </tbody>\n",
       "</table>\n",
       "</div>"
      ],
      "text/plain": [
       "   Survived  Pclass     Sex   Age     Fare\n",
       "0         0       3    male  22.0   7.2500\n",
       "1         1       1  female  38.0  71.2833\n",
       "2         1       3  female  26.0   7.9250\n",
       "3         1       1  female  35.0  53.1000\n",
       "4         0       3    male  35.0   8.0500"
      ]
     },
     "execution_count": 2,
     "metadata": {},
     "output_type": "execute_result"
    }
   ],
   "source": [
    "df = pd.read_csv('../data/titanic.csv',usecols=['Survived','Age','Fare','Sex','Pclass'])\n",
    "df.head()"
   ]
  },
  {
   "cell_type": "code",
   "execution_count": 3,
   "id": "26925851-a568-4eb2-acb8-9449475b5785",
   "metadata": {},
   "outputs": [
    {
     "data": {
      "text/plain": [
       "Survived      0\n",
       "Pclass        0\n",
       "Sex           0\n",
       "Age         177\n",
       "Fare          0\n",
       "dtype: int64"
      ]
     },
     "execution_count": 3,
     "metadata": {},
     "output_type": "execute_result"
    }
   ],
   "source": [
    "df.isna().sum()"
   ]
  },
  {
   "cell_type": "code",
   "execution_count": 8,
   "id": "9ef1db99-9dda-46c1-b886-a9d4e7a524b8",
   "metadata": {},
   "outputs": [
    {
     "data": {
      "text/html": [
       "<style>#sk-8393c4bc-c340-43b1-88ca-95ffb0da5531 {color: black;background-color: white;}#sk-8393c4bc-c340-43b1-88ca-95ffb0da5531 pre{padding: 0;}#sk-8393c4bc-c340-43b1-88ca-95ffb0da5531 div.sk-toggleable {background-color: white;}#sk-8393c4bc-c340-43b1-88ca-95ffb0da5531 label.sk-toggleable__label {cursor: pointer;display: block;width: 100%;margin-bottom: 0;padding: 0.2em 0.3em;box-sizing: border-box;text-align: center;}#sk-8393c4bc-c340-43b1-88ca-95ffb0da5531 div.sk-toggleable__content {max-height: 0;max-width: 0;overflow: hidden;text-align: left;background-color: #f0f8ff;}#sk-8393c4bc-c340-43b1-88ca-95ffb0da5531 div.sk-toggleable__content pre {margin: 0.2em;color: black;border-radius: 0.25em;background-color: #f0f8ff;}#sk-8393c4bc-c340-43b1-88ca-95ffb0da5531 input.sk-toggleable__control:checked~div.sk-toggleable__content {max-height: 200px;max-width: 100%;overflow: auto;}#sk-8393c4bc-c340-43b1-88ca-95ffb0da5531 div.sk-estimator input.sk-toggleable__control:checked~label.sk-toggleable__label {background-color: #d4ebff;}#sk-8393c4bc-c340-43b1-88ca-95ffb0da5531 div.sk-label input.sk-toggleable__control:checked~label.sk-toggleable__label {background-color: #d4ebff;}#sk-8393c4bc-c340-43b1-88ca-95ffb0da5531 input.sk-hidden--visually {border: 0;clip: rect(1px 1px 1px 1px);clip: rect(1px, 1px, 1px, 1px);height: 1px;margin: -1px;overflow: hidden;padding: 0;position: absolute;width: 1px;}#sk-8393c4bc-c340-43b1-88ca-95ffb0da5531 div.sk-estimator {font-family: monospace;background-color: #f0f8ff;margin: 0.25em 0.25em;border: 1px dotted black;border-radius: 0.25em;box-sizing: border-box;}#sk-8393c4bc-c340-43b1-88ca-95ffb0da5531 div.sk-estimator:hover {background-color: #d4ebff;}#sk-8393c4bc-c340-43b1-88ca-95ffb0da5531 div.sk-parallel-item::after {content: \"\";width: 100%;border-bottom: 1px solid gray;flex-grow: 1;}#sk-8393c4bc-c340-43b1-88ca-95ffb0da5531 div.sk-label:hover label.sk-toggleable__label {background-color: #d4ebff;}#sk-8393c4bc-c340-43b1-88ca-95ffb0da5531 div.sk-serial::before {content: \"\";position: absolute;border-left: 1px solid gray;box-sizing: border-box;top: 2em;bottom: 0;left: 50%;}#sk-8393c4bc-c340-43b1-88ca-95ffb0da5531 div.sk-serial {display: flex;flex-direction: column;align-items: center;background-color: white;}#sk-8393c4bc-c340-43b1-88ca-95ffb0da5531 div.sk-item {z-index: 1;}#sk-8393c4bc-c340-43b1-88ca-95ffb0da5531 div.sk-parallel {display: flex;align-items: stretch;justify-content: center;background-color: white;}#sk-8393c4bc-c340-43b1-88ca-95ffb0da5531 div.sk-parallel-item {display: flex;flex-direction: column;position: relative;background-color: white;}#sk-8393c4bc-c340-43b1-88ca-95ffb0da5531 div.sk-parallel-item:first-child::after {align-self: flex-end;width: 50%;}#sk-8393c4bc-c340-43b1-88ca-95ffb0da5531 div.sk-parallel-item:last-child::after {align-self: flex-start;width: 50%;}#sk-8393c4bc-c340-43b1-88ca-95ffb0da5531 div.sk-parallel-item:only-child::after {width: 0;}#sk-8393c4bc-c340-43b1-88ca-95ffb0da5531 div.sk-dashed-wrapped {border: 1px dashed gray;margin: 0.2em;box-sizing: border-box;padding-bottom: 0.1em;background-color: white;position: relative;}#sk-8393c4bc-c340-43b1-88ca-95ffb0da5531 div.sk-label label {font-family: monospace;font-weight: bold;background-color: white;display: inline-block;line-height: 1.2em;}#sk-8393c4bc-c340-43b1-88ca-95ffb0da5531 div.sk-label-container {position: relative;z-index: 2;text-align: center;}#sk-8393c4bc-c340-43b1-88ca-95ffb0da5531 div.sk-container {display: inline-block;position: relative;}</style><div id=\"sk-8393c4bc-c340-43b1-88ca-95ffb0da5531\" class\"sk-top-container\"><div class=\"sk-container\"><div class=\"sk-item sk-dashed-wrapped\"><div class=\"sk-label-container\"><div class=\"sk-label sk-toggleable\"><input class=\"sk-toggleable__control sk-hidden--visually\" id=\"9889faf7-e883-43bc-bd80-0a6c5f5a6d3f\" type=\"checkbox\" ><label class=\"sk-toggleable__label\" for=\"9889faf7-e883-43bc-bd80-0a6c5f5a6d3f\">ColumnTransformer</label><div class=\"sk-toggleable__content\"><pre>ColumnTransformer(remainder='passthrough',\n",
       "                  transformers=[('knnimputer', KNNImputer(), ['Age']),\n",
       "                                ('ordinalencoder', OrdinalEncoder(), ['Sex'])])</pre></div></div></div><div class=\"sk-parallel\"><div class=\"sk-parallel-item\"><div class=\"sk-item\"><div class=\"sk-label-container\"><div class=\"sk-label sk-toggleable\"><input class=\"sk-toggleable__control sk-hidden--visually\" id=\"e5912b60-89ef-4a9b-aa7e-400c2ec6febb\" type=\"checkbox\" ><label class=\"sk-toggleable__label\" for=\"e5912b60-89ef-4a9b-aa7e-400c2ec6febb\">knnimputer</label><div class=\"sk-toggleable__content\"><pre>['Age']</pre></div></div></div><div class=\"sk-serial\"><div class=\"sk-item\"><div class=\"sk-estimator sk-toggleable\"><input class=\"sk-toggleable__control sk-hidden--visually\" id=\"c6593d77-f877-4e7a-a0bb-0c304cfc3a6a\" type=\"checkbox\" ><label class=\"sk-toggleable__label\" for=\"c6593d77-f877-4e7a-a0bb-0c304cfc3a6a\">KNNImputer</label><div class=\"sk-toggleable__content\"><pre>KNNImputer()</pre></div></div></div></div></div></div><div class=\"sk-parallel-item\"><div class=\"sk-item\"><div class=\"sk-label-container\"><div class=\"sk-label sk-toggleable\"><input class=\"sk-toggleable__control sk-hidden--visually\" id=\"d6553d49-3eca-4f70-92c2-6d86ed451e9d\" type=\"checkbox\" ><label class=\"sk-toggleable__label\" for=\"d6553d49-3eca-4f70-92c2-6d86ed451e9d\">ordinalencoder</label><div class=\"sk-toggleable__content\"><pre>['Sex']</pre></div></div></div><div class=\"sk-serial\"><div class=\"sk-item\"><div class=\"sk-estimator sk-toggleable\"><input class=\"sk-toggleable__control sk-hidden--visually\" id=\"324ebae5-aa13-46d8-a179-06830b6effc8\" type=\"checkbox\" ><label class=\"sk-toggleable__label\" for=\"324ebae5-aa13-46d8-a179-06830b6effc8\">OrdinalEncoder</label><div class=\"sk-toggleable__content\"><pre>OrdinalEncoder()</pre></div></div></div></div></div></div><div class=\"sk-parallel-item\"><div class=\"sk-item\"><div class=\"sk-label-container\"><div class=\"sk-label sk-toggleable\"><input class=\"sk-toggleable__control sk-hidden--visually\" id=\"e6fd6f16-964d-4643-b7b0-8918c815dcb9\" type=\"checkbox\" ><label class=\"sk-toggleable__label\" for=\"e6fd6f16-964d-4643-b7b0-8918c815dcb9\">remainder</label><div class=\"sk-toggleable__content\"><pre></pre></div></div></div><div class=\"sk-serial\"><div class=\"sk-item\"><div class=\"sk-estimator sk-toggleable\"><input class=\"sk-toggleable__control sk-hidden--visually\" id=\"7d2a8978-248a-4a9e-8374-1791c5f82c49\" type=\"checkbox\" ><label class=\"sk-toggleable__label\" for=\"7d2a8978-248a-4a9e-8374-1791c5f82c49\">passthrough</label><div class=\"sk-toggleable__content\"><pre>passthrough</pre></div></div></div></div></div></div></div></div></div></div>"
      ],
      "text/plain": [
       "ColumnTransformer(remainder='passthrough',\n",
       "                  transformers=[('knnimputer', KNNImputer(), ['Age']),\n",
       "                                ('ordinalencoder', OrdinalEncoder(), ['Sex'])])"
      ]
     },
     "execution_count": 8,
     "metadata": {},
     "output_type": "execute_result"
    }
   ],
   "source": [
    "col_transf = make_column_transformer(\n",
    "    (KNNImputer(),['Age']),\n",
    "    (OrdinalEncoder(),['Sex']),\n",
    "    remainder='passthrough'\n",
    ")\n",
    "\n",
    "col_transf"
   ]
  },
  {
   "cell_type": "code",
   "execution_count": 9,
   "id": "a291a074-984e-4224-b00d-8c7344f219d7",
   "metadata": {},
   "outputs": [
    {
     "data": {
      "text/html": [
       "<style>#sk-c8f4c3ca-6b89-407a-8a5d-747a72e52d3f {color: black;background-color: white;}#sk-c8f4c3ca-6b89-407a-8a5d-747a72e52d3f pre{padding: 0;}#sk-c8f4c3ca-6b89-407a-8a5d-747a72e52d3f div.sk-toggleable {background-color: white;}#sk-c8f4c3ca-6b89-407a-8a5d-747a72e52d3f label.sk-toggleable__label {cursor: pointer;display: block;width: 100%;margin-bottom: 0;padding: 0.2em 0.3em;box-sizing: border-box;text-align: center;}#sk-c8f4c3ca-6b89-407a-8a5d-747a72e52d3f div.sk-toggleable__content {max-height: 0;max-width: 0;overflow: hidden;text-align: left;background-color: #f0f8ff;}#sk-c8f4c3ca-6b89-407a-8a5d-747a72e52d3f div.sk-toggleable__content pre {margin: 0.2em;color: black;border-radius: 0.25em;background-color: #f0f8ff;}#sk-c8f4c3ca-6b89-407a-8a5d-747a72e52d3f input.sk-toggleable__control:checked~div.sk-toggleable__content {max-height: 200px;max-width: 100%;overflow: auto;}#sk-c8f4c3ca-6b89-407a-8a5d-747a72e52d3f div.sk-estimator input.sk-toggleable__control:checked~label.sk-toggleable__label {background-color: #d4ebff;}#sk-c8f4c3ca-6b89-407a-8a5d-747a72e52d3f div.sk-label input.sk-toggleable__control:checked~label.sk-toggleable__label {background-color: #d4ebff;}#sk-c8f4c3ca-6b89-407a-8a5d-747a72e52d3f input.sk-hidden--visually {border: 0;clip: rect(1px 1px 1px 1px);clip: rect(1px, 1px, 1px, 1px);height: 1px;margin: -1px;overflow: hidden;padding: 0;position: absolute;width: 1px;}#sk-c8f4c3ca-6b89-407a-8a5d-747a72e52d3f div.sk-estimator {font-family: monospace;background-color: #f0f8ff;margin: 0.25em 0.25em;border: 1px dotted black;border-radius: 0.25em;box-sizing: border-box;}#sk-c8f4c3ca-6b89-407a-8a5d-747a72e52d3f div.sk-estimator:hover {background-color: #d4ebff;}#sk-c8f4c3ca-6b89-407a-8a5d-747a72e52d3f div.sk-parallel-item::after {content: \"\";width: 100%;border-bottom: 1px solid gray;flex-grow: 1;}#sk-c8f4c3ca-6b89-407a-8a5d-747a72e52d3f div.sk-label:hover label.sk-toggleable__label {background-color: #d4ebff;}#sk-c8f4c3ca-6b89-407a-8a5d-747a72e52d3f div.sk-serial::before {content: \"\";position: absolute;border-left: 1px solid gray;box-sizing: border-box;top: 2em;bottom: 0;left: 50%;}#sk-c8f4c3ca-6b89-407a-8a5d-747a72e52d3f div.sk-serial {display: flex;flex-direction: column;align-items: center;background-color: white;}#sk-c8f4c3ca-6b89-407a-8a5d-747a72e52d3f div.sk-item {z-index: 1;}#sk-c8f4c3ca-6b89-407a-8a5d-747a72e52d3f div.sk-parallel {display: flex;align-items: stretch;justify-content: center;background-color: white;}#sk-c8f4c3ca-6b89-407a-8a5d-747a72e52d3f div.sk-parallel-item {display: flex;flex-direction: column;position: relative;background-color: white;}#sk-c8f4c3ca-6b89-407a-8a5d-747a72e52d3f div.sk-parallel-item:first-child::after {align-self: flex-end;width: 50%;}#sk-c8f4c3ca-6b89-407a-8a5d-747a72e52d3f div.sk-parallel-item:last-child::after {align-self: flex-start;width: 50%;}#sk-c8f4c3ca-6b89-407a-8a5d-747a72e52d3f div.sk-parallel-item:only-child::after {width: 0;}#sk-c8f4c3ca-6b89-407a-8a5d-747a72e52d3f div.sk-dashed-wrapped {border: 1px dashed gray;margin: 0.2em;box-sizing: border-box;padding-bottom: 0.1em;background-color: white;position: relative;}#sk-c8f4c3ca-6b89-407a-8a5d-747a72e52d3f div.sk-label label {font-family: monospace;font-weight: bold;background-color: white;display: inline-block;line-height: 1.2em;}#sk-c8f4c3ca-6b89-407a-8a5d-747a72e52d3f div.sk-label-container {position: relative;z-index: 2;text-align: center;}#sk-c8f4c3ca-6b89-407a-8a5d-747a72e52d3f div.sk-container {display: inline-block;position: relative;}</style><div id=\"sk-c8f4c3ca-6b89-407a-8a5d-747a72e52d3f\" class\"sk-top-container\"><div class=\"sk-container\"><div class=\"sk-item sk-dashed-wrapped\"><div class=\"sk-label-container\"><div class=\"sk-label sk-toggleable\"><input class=\"sk-toggleable__control sk-hidden--visually\" id=\"4fddd535-95e8-4431-850b-c75416aa4162\" type=\"checkbox\" ><label class=\"sk-toggleable__label\" for=\"4fddd535-95e8-4431-850b-c75416aa4162\">ColumnTransformer</label><div class=\"sk-toggleable__content\"><pre>ColumnTransformer(remainder='passthrough',\n",
       "                  transformers=[('knnimputer', KNNImputer(), ['Age']),\n",
       "                                ('ordinalencoder', OrdinalEncoder(), ['Sex'])])</pre></div></div></div><div class=\"sk-parallel\"><div class=\"sk-parallel-item\"><div class=\"sk-item\"><div class=\"sk-label-container\"><div class=\"sk-label sk-toggleable\"><input class=\"sk-toggleable__control sk-hidden--visually\" id=\"31aca029-c59d-4c6b-9f13-22e33fc015e3\" type=\"checkbox\" ><label class=\"sk-toggleable__label\" for=\"31aca029-c59d-4c6b-9f13-22e33fc015e3\">knnimputer</label><div class=\"sk-toggleable__content\"><pre>['Age']</pre></div></div></div><div class=\"sk-serial\"><div class=\"sk-item\"><div class=\"sk-estimator sk-toggleable\"><input class=\"sk-toggleable__control sk-hidden--visually\" id=\"dd1e7a4b-b0d4-48dd-aa6e-4ade5683f788\" type=\"checkbox\" ><label class=\"sk-toggleable__label\" for=\"dd1e7a4b-b0d4-48dd-aa6e-4ade5683f788\">KNNImputer</label><div class=\"sk-toggleable__content\"><pre>KNNImputer()</pre></div></div></div></div></div></div><div class=\"sk-parallel-item\"><div class=\"sk-item\"><div class=\"sk-label-container\"><div class=\"sk-label sk-toggleable\"><input class=\"sk-toggleable__control sk-hidden--visually\" id=\"3edf94de-dcc6-4f87-9e12-caffef26fb14\" type=\"checkbox\" ><label class=\"sk-toggleable__label\" for=\"3edf94de-dcc6-4f87-9e12-caffef26fb14\">ordinalencoder</label><div class=\"sk-toggleable__content\"><pre>['Sex']</pre></div></div></div><div class=\"sk-serial\"><div class=\"sk-item\"><div class=\"sk-estimator sk-toggleable\"><input class=\"sk-toggleable__control sk-hidden--visually\" id=\"30416b6e-1d97-43b7-b14f-a9d9c0f5cb0f\" type=\"checkbox\" ><label class=\"sk-toggleable__label\" for=\"30416b6e-1d97-43b7-b14f-a9d9c0f5cb0f\">OrdinalEncoder</label><div class=\"sk-toggleable__content\"><pre>OrdinalEncoder()</pre></div></div></div></div></div></div><div class=\"sk-parallel-item\"><div class=\"sk-item\"><div class=\"sk-label-container\"><div class=\"sk-label sk-toggleable\"><input class=\"sk-toggleable__control sk-hidden--visually\" id=\"440cfbb9-6298-4392-b43d-a50168930fa7\" type=\"checkbox\" ><label class=\"sk-toggleable__label\" for=\"440cfbb9-6298-4392-b43d-a50168930fa7\">remainder</label><div class=\"sk-toggleable__content\"><pre>['Survived', 'Pclass', 'Fare']</pre></div></div></div><div class=\"sk-serial\"><div class=\"sk-item\"><div class=\"sk-estimator sk-toggleable\"><input class=\"sk-toggleable__control sk-hidden--visually\" id=\"6e9d0cc3-6e8f-40aa-af9c-fb040cb8bf5e\" type=\"checkbox\" ><label class=\"sk-toggleable__label\" for=\"6e9d0cc3-6e8f-40aa-af9c-fb040cb8bf5e\">passthrough</label><div class=\"sk-toggleable__content\"><pre>passthrough</pre></div></div></div></div></div></div></div></div></div></div>"
      ],
      "text/plain": [
       "ColumnTransformer(remainder='passthrough',\n",
       "                  transformers=[('knnimputer', KNNImputer(), ['Age']),\n",
       "                                ('ordinalencoder', OrdinalEncoder(), ['Sex'])])"
      ]
     },
     "execution_count": 9,
     "metadata": {},
     "output_type": "execute_result"
    }
   ],
   "source": [
    "col_transf.fit(df)"
   ]
  },
  {
   "cell_type": "code",
   "execution_count": 11,
   "id": "6a6e9745-bff8-4123-a78f-cf81bbc2fac3",
   "metadata": {},
   "outputs": [
    {
     "data": {
      "text/html": [
       "<div>\n",
       "<style scoped>\n",
       "    .dataframe tbody tr th:only-of-type {\n",
       "        vertical-align: middle;\n",
       "    }\n",
       "\n",
       "    .dataframe tbody tr th {\n",
       "        vertical-align: top;\n",
       "    }\n",
       "\n",
       "    .dataframe thead th {\n",
       "        text-align: right;\n",
       "    }\n",
       "</style>\n",
       "<table border=\"1\" class=\"dataframe\">\n",
       "  <thead>\n",
       "    <tr style=\"text-align: right;\">\n",
       "      <th></th>\n",
       "      <th>Survived</th>\n",
       "      <th>Pclass</th>\n",
       "      <th>Sex</th>\n",
       "      <th>Age</th>\n",
       "      <th>Fare</th>\n",
       "    </tr>\n",
       "  </thead>\n",
       "  <tbody>\n",
       "    <tr>\n",
       "      <th>0</th>\n",
       "      <td>0</td>\n",
       "      <td>3</td>\n",
       "      <td>male</td>\n",
       "      <td>22.0</td>\n",
       "      <td>7.2500</td>\n",
       "    </tr>\n",
       "    <tr>\n",
       "      <th>1</th>\n",
       "      <td>1</td>\n",
       "      <td>1</td>\n",
       "      <td>female</td>\n",
       "      <td>38.0</td>\n",
       "      <td>71.2833</td>\n",
       "    </tr>\n",
       "    <tr>\n",
       "      <th>2</th>\n",
       "      <td>1</td>\n",
       "      <td>3</td>\n",
       "      <td>female</td>\n",
       "      <td>26.0</td>\n",
       "      <td>7.9250</td>\n",
       "    </tr>\n",
       "    <tr>\n",
       "      <th>3</th>\n",
       "      <td>1</td>\n",
       "      <td>1</td>\n",
       "      <td>female</td>\n",
       "      <td>35.0</td>\n",
       "      <td>53.1000</td>\n",
       "    </tr>\n",
       "    <tr>\n",
       "      <th>4</th>\n",
       "      <td>0</td>\n",
       "      <td>3</td>\n",
       "      <td>male</td>\n",
       "      <td>35.0</td>\n",
       "      <td>8.0500</td>\n",
       "    </tr>\n",
       "  </tbody>\n",
       "</table>\n",
       "</div>"
      ],
      "text/plain": [
       "   Survived  Pclass     Sex   Age     Fare\n",
       "0         0       3    male  22.0   7.2500\n",
       "1         1       1  female  38.0  71.2833\n",
       "2         1       3  female  26.0   7.9250\n",
       "3         1       1  female  35.0  53.1000\n",
       "4         0       3    male  35.0   8.0500"
      ]
     },
     "execution_count": 11,
     "metadata": {},
     "output_type": "execute_result"
    }
   ],
   "source": [
    "df.head()"
   ]
  },
  {
   "cell_type": "code",
   "execution_count": 10,
   "id": "38e29e75-fb7e-4e6a-b700-716f840477a2",
   "metadata": {},
   "outputs": [
    {
     "data": {
      "text/plain": [
       "array([[22.        ,  1.        ,  0.        ,  3.        ,  7.25      ],\n",
       "       [38.        ,  0.        ,  1.        ,  1.        , 71.2833    ],\n",
       "       [26.        ,  0.        ,  1.        ,  3.        ,  7.925     ],\n",
       "       ...,\n",
       "       [29.69911765,  0.        ,  0.        ,  3.        , 23.45      ],\n",
       "       [26.        ,  1.        ,  1.        ,  1.        , 30.        ],\n",
       "       [32.        ,  1.        ,  0.        ,  3.        ,  7.75      ]])"
      ]
     },
     "execution_count": 10,
     "metadata": {},
     "output_type": "execute_result"
    }
   ],
   "source": [
    "col_transf.transform(df)"
   ]
  },
  {
   "cell_type": "code",
   "execution_count": 13,
   "id": "c6e880eb-2433-4ace-9f1e-0fa76f5459f0",
   "metadata": {},
   "outputs": [
    {
     "data": {
      "text/html": [
       "<style>#sk-952f106f-47f7-4200-ba31-8799b84b4935 {color: black;background-color: white;}#sk-952f106f-47f7-4200-ba31-8799b84b4935 pre{padding: 0;}#sk-952f106f-47f7-4200-ba31-8799b84b4935 div.sk-toggleable {background-color: white;}#sk-952f106f-47f7-4200-ba31-8799b84b4935 label.sk-toggleable__label {cursor: pointer;display: block;width: 100%;margin-bottom: 0;padding: 0.2em 0.3em;box-sizing: border-box;text-align: center;}#sk-952f106f-47f7-4200-ba31-8799b84b4935 div.sk-toggleable__content {max-height: 0;max-width: 0;overflow: hidden;text-align: left;background-color: #f0f8ff;}#sk-952f106f-47f7-4200-ba31-8799b84b4935 div.sk-toggleable__content pre {margin: 0.2em;color: black;border-radius: 0.25em;background-color: #f0f8ff;}#sk-952f106f-47f7-4200-ba31-8799b84b4935 input.sk-toggleable__control:checked~div.sk-toggleable__content {max-height: 200px;max-width: 100%;overflow: auto;}#sk-952f106f-47f7-4200-ba31-8799b84b4935 div.sk-estimator input.sk-toggleable__control:checked~label.sk-toggleable__label {background-color: #d4ebff;}#sk-952f106f-47f7-4200-ba31-8799b84b4935 div.sk-label input.sk-toggleable__control:checked~label.sk-toggleable__label {background-color: #d4ebff;}#sk-952f106f-47f7-4200-ba31-8799b84b4935 input.sk-hidden--visually {border: 0;clip: rect(1px 1px 1px 1px);clip: rect(1px, 1px, 1px, 1px);height: 1px;margin: -1px;overflow: hidden;padding: 0;position: absolute;width: 1px;}#sk-952f106f-47f7-4200-ba31-8799b84b4935 div.sk-estimator {font-family: monospace;background-color: #f0f8ff;margin: 0.25em 0.25em;border: 1px dotted black;border-radius: 0.25em;box-sizing: border-box;}#sk-952f106f-47f7-4200-ba31-8799b84b4935 div.sk-estimator:hover {background-color: #d4ebff;}#sk-952f106f-47f7-4200-ba31-8799b84b4935 div.sk-parallel-item::after {content: \"\";width: 100%;border-bottom: 1px solid gray;flex-grow: 1;}#sk-952f106f-47f7-4200-ba31-8799b84b4935 div.sk-label:hover label.sk-toggleable__label {background-color: #d4ebff;}#sk-952f106f-47f7-4200-ba31-8799b84b4935 div.sk-serial::before {content: \"\";position: absolute;border-left: 1px solid gray;box-sizing: border-box;top: 2em;bottom: 0;left: 50%;}#sk-952f106f-47f7-4200-ba31-8799b84b4935 div.sk-serial {display: flex;flex-direction: column;align-items: center;background-color: white;}#sk-952f106f-47f7-4200-ba31-8799b84b4935 div.sk-item {z-index: 1;}#sk-952f106f-47f7-4200-ba31-8799b84b4935 div.sk-parallel {display: flex;align-items: stretch;justify-content: center;background-color: white;}#sk-952f106f-47f7-4200-ba31-8799b84b4935 div.sk-parallel-item {display: flex;flex-direction: column;position: relative;background-color: white;}#sk-952f106f-47f7-4200-ba31-8799b84b4935 div.sk-parallel-item:first-child::after {align-self: flex-end;width: 50%;}#sk-952f106f-47f7-4200-ba31-8799b84b4935 div.sk-parallel-item:last-child::after {align-self: flex-start;width: 50%;}#sk-952f106f-47f7-4200-ba31-8799b84b4935 div.sk-parallel-item:only-child::after {width: 0;}#sk-952f106f-47f7-4200-ba31-8799b84b4935 div.sk-dashed-wrapped {border: 1px dashed gray;margin: 0.2em;box-sizing: border-box;padding-bottom: 0.1em;background-color: white;position: relative;}#sk-952f106f-47f7-4200-ba31-8799b84b4935 div.sk-label label {font-family: monospace;font-weight: bold;background-color: white;display: inline-block;line-height: 1.2em;}#sk-952f106f-47f7-4200-ba31-8799b84b4935 div.sk-label-container {position: relative;z-index: 2;text-align: center;}#sk-952f106f-47f7-4200-ba31-8799b84b4935 div.sk-container {display: inline-block;position: relative;}</style><div id=\"sk-952f106f-47f7-4200-ba31-8799b84b4935\" class\"sk-top-container\"><div class=\"sk-container\"><div class=\"sk-item sk-dashed-wrapped\"><div class=\"sk-label-container\"><div class=\"sk-label sk-toggleable\"><input class=\"sk-toggleable__control sk-hidden--visually\" id=\"d1501212-c490-4f8e-aa1d-f6e1ff5550ed\" type=\"checkbox\" ><label class=\"sk-toggleable__label\" for=\"d1501212-c490-4f8e-aa1d-f6e1ff5550ed\">Pipeline</label><div class=\"sk-toggleable__content\"><pre>Pipeline(steps=[('columntransformer',\n",
       "                 ColumnTransformer(remainder='passthrough',\n",
       "                                   transformers=[('knnimputer', KNNImputer(),\n",
       "                                                  ['Age']),\n",
       "                                                 ('ordinalencoder',\n",
       "                                                  OrdinalEncoder(),\n",
       "                                                  ['Sex'])])),\n",
       "                ('decisiontreeclassifier',\n",
       "                 DecisionTreeClassifier(criterion='entropy'))])</pre></div></div></div><div class=\"sk-serial\"><div class=\"sk-item sk-dashed-wrapped\"><div class=\"sk-label-container\"><div class=\"sk-label sk-toggleable\"><input class=\"sk-toggleable__control sk-hidden--visually\" id=\"e45a7269-c891-4771-b0a8-bd88b17d6f2c\" type=\"checkbox\" ><label class=\"sk-toggleable__label\" for=\"e45a7269-c891-4771-b0a8-bd88b17d6f2c\">columntransformer: ColumnTransformer</label><div class=\"sk-toggleable__content\"><pre>ColumnTransformer(remainder='passthrough',\n",
       "                  transformers=[('knnimputer', KNNImputer(), ['Age']),\n",
       "                                ('ordinalencoder', OrdinalEncoder(), ['Sex'])])</pre></div></div></div><div class=\"sk-parallel\"><div class=\"sk-parallel-item\"><div class=\"sk-item\"><div class=\"sk-label-container\"><div class=\"sk-label sk-toggleable\"><input class=\"sk-toggleable__control sk-hidden--visually\" id=\"965d6452-bdab-4e8b-b9fa-7b6ad755ebc9\" type=\"checkbox\" ><label class=\"sk-toggleable__label\" for=\"965d6452-bdab-4e8b-b9fa-7b6ad755ebc9\">knnimputer</label><div class=\"sk-toggleable__content\"><pre>['Age']</pre></div></div></div><div class=\"sk-serial\"><div class=\"sk-item\"><div class=\"sk-estimator sk-toggleable\"><input class=\"sk-toggleable__control sk-hidden--visually\" id=\"75ec5b60-6c2f-498c-bae8-35e143dff3d0\" type=\"checkbox\" ><label class=\"sk-toggleable__label\" for=\"75ec5b60-6c2f-498c-bae8-35e143dff3d0\">KNNImputer</label><div class=\"sk-toggleable__content\"><pre>KNNImputer()</pre></div></div></div></div></div></div><div class=\"sk-parallel-item\"><div class=\"sk-item\"><div class=\"sk-label-container\"><div class=\"sk-label sk-toggleable\"><input class=\"sk-toggleable__control sk-hidden--visually\" id=\"f01be996-9d68-4d4b-8df7-50cfdad38adb\" type=\"checkbox\" ><label class=\"sk-toggleable__label\" for=\"f01be996-9d68-4d4b-8df7-50cfdad38adb\">ordinalencoder</label><div class=\"sk-toggleable__content\"><pre>['Sex']</pre></div></div></div><div class=\"sk-serial\"><div class=\"sk-item\"><div class=\"sk-estimator sk-toggleable\"><input class=\"sk-toggleable__control sk-hidden--visually\" id=\"c9a9e4bd-13c3-42e2-8058-84f15137de20\" type=\"checkbox\" ><label class=\"sk-toggleable__label\" for=\"c9a9e4bd-13c3-42e2-8058-84f15137de20\">OrdinalEncoder</label><div class=\"sk-toggleable__content\"><pre>OrdinalEncoder()</pre></div></div></div></div></div></div><div class=\"sk-parallel-item\"><div class=\"sk-item\"><div class=\"sk-label-container\"><div class=\"sk-label sk-toggleable\"><input class=\"sk-toggleable__control sk-hidden--visually\" id=\"821fe151-acdc-4028-b64e-89c23832ff5d\" type=\"checkbox\" ><label class=\"sk-toggleable__label\" for=\"821fe151-acdc-4028-b64e-89c23832ff5d\">remainder</label><div class=\"sk-toggleable__content\"><pre>['Survived', 'Pclass', 'Fare']</pre></div></div></div><div class=\"sk-serial\"><div class=\"sk-item\"><div class=\"sk-estimator sk-toggleable\"><input class=\"sk-toggleable__control sk-hidden--visually\" id=\"a50c0666-6e80-4483-acd4-943c8887cc63\" type=\"checkbox\" ><label class=\"sk-toggleable__label\" for=\"a50c0666-6e80-4483-acd4-943c8887cc63\">passthrough</label><div class=\"sk-toggleable__content\"><pre>passthrough</pre></div></div></div></div></div></div></div></div><div class=\"sk-item\"><div class=\"sk-estimator sk-toggleable\"><input class=\"sk-toggleable__control sk-hidden--visually\" id=\"9c87faf5-0043-442f-923b-0a53a30d324a\" type=\"checkbox\" ><label class=\"sk-toggleable__label\" for=\"9c87faf5-0043-442f-923b-0a53a30d324a\">DecisionTreeClassifier</label><div class=\"sk-toggleable__content\"><pre>DecisionTreeClassifier(criterion='entropy')</pre></div></div></div></div></div></div></div>"
      ],
      "text/plain": [
       "Pipeline(steps=[('columntransformer',\n",
       "                 ColumnTransformer(remainder='passthrough',\n",
       "                                   transformers=[('knnimputer', KNNImputer(),\n",
       "                                                  ['Age']),\n",
       "                                                 ('ordinalencoder',\n",
       "                                                  OrdinalEncoder(),\n",
       "                                                  ['Sex'])])),\n",
       "                ('decisiontreeclassifier',\n",
       "                 DecisionTreeClassifier(criterion='entropy'))])"
      ]
     },
     "execution_count": 13,
     "metadata": {},
     "output_type": "execute_result"
    }
   ],
   "source": [
    "pipe = make_pipeline(col_transf,DecisionTreeClassifier(criterion='entropy'))\n",
    "pipe"
   ]
  },
  {
   "cell_type": "code",
   "execution_count": 14,
   "id": "04150eee-74d3-4964-97d1-0860e0167fdc",
   "metadata": {},
   "outputs": [],
   "source": [
    "x = df.drop('Survived',axis=1)\n",
    "y = df.Survived"
   ]
  },
  {
   "cell_type": "code",
   "execution_count": 15,
   "id": "97a58584-a608-426a-8633-ff32a12cd46b",
   "metadata": {},
   "outputs": [],
   "source": [
    "x_train, x_test, y_train, y_test = train_test_split(x,y,test_size=0.2,random_state=42)"
   ]
  },
  {
   "cell_type": "code",
   "execution_count": 18,
   "id": "9e827378-0119-4c0e-baa7-e554c76771b6",
   "metadata": {},
   "outputs": [
    {
     "name": "stdout",
     "output_type": "stream",
     "text": [
      "(712, 4) (712,)\n"
     ]
    }
   ],
   "source": [
    "print(x_train.shape,y_train.shape)"
   ]
  },
  {
   "cell_type": "code",
   "execution_count": 19,
   "id": "c94aabe7-7545-4225-b77b-607573fde122",
   "metadata": {},
   "outputs": [
    {
     "data": {
      "text/html": [
       "<style>#sk-f2417fe4-8f4b-4e61-afc6-aa256a36c19d {color: black;background-color: white;}#sk-f2417fe4-8f4b-4e61-afc6-aa256a36c19d pre{padding: 0;}#sk-f2417fe4-8f4b-4e61-afc6-aa256a36c19d div.sk-toggleable {background-color: white;}#sk-f2417fe4-8f4b-4e61-afc6-aa256a36c19d label.sk-toggleable__label {cursor: pointer;display: block;width: 100%;margin-bottom: 0;padding: 0.2em 0.3em;box-sizing: border-box;text-align: center;}#sk-f2417fe4-8f4b-4e61-afc6-aa256a36c19d div.sk-toggleable__content {max-height: 0;max-width: 0;overflow: hidden;text-align: left;background-color: #f0f8ff;}#sk-f2417fe4-8f4b-4e61-afc6-aa256a36c19d div.sk-toggleable__content pre {margin: 0.2em;color: black;border-radius: 0.25em;background-color: #f0f8ff;}#sk-f2417fe4-8f4b-4e61-afc6-aa256a36c19d input.sk-toggleable__control:checked~div.sk-toggleable__content {max-height: 200px;max-width: 100%;overflow: auto;}#sk-f2417fe4-8f4b-4e61-afc6-aa256a36c19d div.sk-estimator input.sk-toggleable__control:checked~label.sk-toggleable__label {background-color: #d4ebff;}#sk-f2417fe4-8f4b-4e61-afc6-aa256a36c19d div.sk-label input.sk-toggleable__control:checked~label.sk-toggleable__label {background-color: #d4ebff;}#sk-f2417fe4-8f4b-4e61-afc6-aa256a36c19d input.sk-hidden--visually {border: 0;clip: rect(1px 1px 1px 1px);clip: rect(1px, 1px, 1px, 1px);height: 1px;margin: -1px;overflow: hidden;padding: 0;position: absolute;width: 1px;}#sk-f2417fe4-8f4b-4e61-afc6-aa256a36c19d div.sk-estimator {font-family: monospace;background-color: #f0f8ff;margin: 0.25em 0.25em;border: 1px dotted black;border-radius: 0.25em;box-sizing: border-box;}#sk-f2417fe4-8f4b-4e61-afc6-aa256a36c19d div.sk-estimator:hover {background-color: #d4ebff;}#sk-f2417fe4-8f4b-4e61-afc6-aa256a36c19d div.sk-parallel-item::after {content: \"\";width: 100%;border-bottom: 1px solid gray;flex-grow: 1;}#sk-f2417fe4-8f4b-4e61-afc6-aa256a36c19d div.sk-label:hover label.sk-toggleable__label {background-color: #d4ebff;}#sk-f2417fe4-8f4b-4e61-afc6-aa256a36c19d div.sk-serial::before {content: \"\";position: absolute;border-left: 1px solid gray;box-sizing: border-box;top: 2em;bottom: 0;left: 50%;}#sk-f2417fe4-8f4b-4e61-afc6-aa256a36c19d div.sk-serial {display: flex;flex-direction: column;align-items: center;background-color: white;}#sk-f2417fe4-8f4b-4e61-afc6-aa256a36c19d div.sk-item {z-index: 1;}#sk-f2417fe4-8f4b-4e61-afc6-aa256a36c19d div.sk-parallel {display: flex;align-items: stretch;justify-content: center;background-color: white;}#sk-f2417fe4-8f4b-4e61-afc6-aa256a36c19d div.sk-parallel-item {display: flex;flex-direction: column;position: relative;background-color: white;}#sk-f2417fe4-8f4b-4e61-afc6-aa256a36c19d div.sk-parallel-item:first-child::after {align-self: flex-end;width: 50%;}#sk-f2417fe4-8f4b-4e61-afc6-aa256a36c19d div.sk-parallel-item:last-child::after {align-self: flex-start;width: 50%;}#sk-f2417fe4-8f4b-4e61-afc6-aa256a36c19d div.sk-parallel-item:only-child::after {width: 0;}#sk-f2417fe4-8f4b-4e61-afc6-aa256a36c19d div.sk-dashed-wrapped {border: 1px dashed gray;margin: 0.2em;box-sizing: border-box;padding-bottom: 0.1em;background-color: white;position: relative;}#sk-f2417fe4-8f4b-4e61-afc6-aa256a36c19d div.sk-label label {font-family: monospace;font-weight: bold;background-color: white;display: inline-block;line-height: 1.2em;}#sk-f2417fe4-8f4b-4e61-afc6-aa256a36c19d div.sk-label-container {position: relative;z-index: 2;text-align: center;}#sk-f2417fe4-8f4b-4e61-afc6-aa256a36c19d div.sk-container {display: inline-block;position: relative;}</style><div id=\"sk-f2417fe4-8f4b-4e61-afc6-aa256a36c19d\" class\"sk-top-container\"><div class=\"sk-container\"><div class=\"sk-item sk-dashed-wrapped\"><div class=\"sk-label-container\"><div class=\"sk-label sk-toggleable\"><input class=\"sk-toggleable__control sk-hidden--visually\" id=\"26493154-2eed-49a0-8ca5-3f7de0b99dce\" type=\"checkbox\" ><label class=\"sk-toggleable__label\" for=\"26493154-2eed-49a0-8ca5-3f7de0b99dce\">Pipeline</label><div class=\"sk-toggleable__content\"><pre>Pipeline(steps=[('columntransformer',\n",
       "                 ColumnTransformer(remainder='passthrough',\n",
       "                                   transformers=[('knnimputer', KNNImputer(),\n",
       "                                                  ['Age']),\n",
       "                                                 ('ordinalencoder',\n",
       "                                                  OrdinalEncoder(),\n",
       "                                                  ['Sex'])])),\n",
       "                ('decisiontreeclassifier',\n",
       "                 DecisionTreeClassifier(criterion='entropy'))])</pre></div></div></div><div class=\"sk-serial\"><div class=\"sk-item sk-dashed-wrapped\"><div class=\"sk-label-container\"><div class=\"sk-label sk-toggleable\"><input class=\"sk-toggleable__control sk-hidden--visually\" id=\"a98f6242-aca6-4622-8fa3-e8c2e68f9210\" type=\"checkbox\" ><label class=\"sk-toggleable__label\" for=\"a98f6242-aca6-4622-8fa3-e8c2e68f9210\">columntransformer: ColumnTransformer</label><div class=\"sk-toggleable__content\"><pre>ColumnTransformer(remainder='passthrough',\n",
       "                  transformers=[('knnimputer', KNNImputer(), ['Age']),\n",
       "                                ('ordinalencoder', OrdinalEncoder(), ['Sex'])])</pre></div></div></div><div class=\"sk-parallel\"><div class=\"sk-parallel-item\"><div class=\"sk-item\"><div class=\"sk-label-container\"><div class=\"sk-label sk-toggleable\"><input class=\"sk-toggleable__control sk-hidden--visually\" id=\"4f3fe102-0005-4ab5-b46e-2d91cb026a0d\" type=\"checkbox\" ><label class=\"sk-toggleable__label\" for=\"4f3fe102-0005-4ab5-b46e-2d91cb026a0d\">knnimputer</label><div class=\"sk-toggleable__content\"><pre>['Age']</pre></div></div></div><div class=\"sk-serial\"><div class=\"sk-item\"><div class=\"sk-estimator sk-toggleable\"><input class=\"sk-toggleable__control sk-hidden--visually\" id=\"41cea313-3d04-4f5e-81fd-72a8a4ce4f8a\" type=\"checkbox\" ><label class=\"sk-toggleable__label\" for=\"41cea313-3d04-4f5e-81fd-72a8a4ce4f8a\">KNNImputer</label><div class=\"sk-toggleable__content\"><pre>KNNImputer()</pre></div></div></div></div></div></div><div class=\"sk-parallel-item\"><div class=\"sk-item\"><div class=\"sk-label-container\"><div class=\"sk-label sk-toggleable\"><input class=\"sk-toggleable__control sk-hidden--visually\" id=\"ecc4d3bb-a43c-4564-ab8a-d3a8b2cfdbc5\" type=\"checkbox\" ><label class=\"sk-toggleable__label\" for=\"ecc4d3bb-a43c-4564-ab8a-d3a8b2cfdbc5\">ordinalencoder</label><div class=\"sk-toggleable__content\"><pre>['Sex']</pre></div></div></div><div class=\"sk-serial\"><div class=\"sk-item\"><div class=\"sk-estimator sk-toggleable\"><input class=\"sk-toggleable__control sk-hidden--visually\" id=\"83741aa6-5c43-4fc9-8940-8bb7eaff36eb\" type=\"checkbox\" ><label class=\"sk-toggleable__label\" for=\"83741aa6-5c43-4fc9-8940-8bb7eaff36eb\">OrdinalEncoder</label><div class=\"sk-toggleable__content\"><pre>OrdinalEncoder()</pre></div></div></div></div></div></div><div class=\"sk-parallel-item\"><div class=\"sk-item\"><div class=\"sk-label-container\"><div class=\"sk-label sk-toggleable\"><input class=\"sk-toggleable__control sk-hidden--visually\" id=\"1254dfe6-e130-422c-b38e-598f4a2ef511\" type=\"checkbox\" ><label class=\"sk-toggleable__label\" for=\"1254dfe6-e130-422c-b38e-598f4a2ef511\">remainder</label><div class=\"sk-toggleable__content\"><pre>['Pclass', 'Fare']</pre></div></div></div><div class=\"sk-serial\"><div class=\"sk-item\"><div class=\"sk-estimator sk-toggleable\"><input class=\"sk-toggleable__control sk-hidden--visually\" id=\"b5a11b0d-53a3-4152-94b6-7fc051915211\" type=\"checkbox\" ><label class=\"sk-toggleable__label\" for=\"b5a11b0d-53a3-4152-94b6-7fc051915211\">passthrough</label><div class=\"sk-toggleable__content\"><pre>passthrough</pre></div></div></div></div></div></div></div></div><div class=\"sk-item\"><div class=\"sk-estimator sk-toggleable\"><input class=\"sk-toggleable__control sk-hidden--visually\" id=\"4ffac5b9-e4ec-4cf6-938b-6f6a93018f3a\" type=\"checkbox\" ><label class=\"sk-toggleable__label\" for=\"4ffac5b9-e4ec-4cf6-938b-6f6a93018f3a\">DecisionTreeClassifier</label><div class=\"sk-toggleable__content\"><pre>DecisionTreeClassifier(criterion='entropy')</pre></div></div></div></div></div></div></div>"
      ],
      "text/plain": [
       "Pipeline(steps=[('columntransformer',\n",
       "                 ColumnTransformer(remainder='passthrough',\n",
       "                                   transformers=[('knnimputer', KNNImputer(),\n",
       "                                                  ['Age']),\n",
       "                                                 ('ordinalencoder',\n",
       "                                                  OrdinalEncoder(),\n",
       "                                                  ['Sex'])])),\n",
       "                ('decisiontreeclassifier',\n",
       "                 DecisionTreeClassifier(criterion='entropy'))])"
      ]
     },
     "execution_count": 19,
     "metadata": {},
     "output_type": "execute_result"
    }
   ],
   "source": [
    "pipe.fit(x_train,y_train)"
   ]
  },
  {
   "cell_type": "code",
   "execution_count": 20,
   "id": "0df83187-193e-4968-be90-c21ec90852f2",
   "metadata": {},
   "outputs": [
    {
     "data": {
      "text/plain": [
       "array([0, 0, 1, 1, 1, 1, 1, 0, 0, 1, 1, 0, 0, 0, 0, 1, 1, 1, 0, 0, 0, 0,\n",
       "       0, 0, 0, 0, 0, 0, 0, 1, 0, 1, 1, 0, 0, 1, 1, 1, 1, 0, 0, 1, 0, 0,\n",
       "       0, 0, 0, 0, 0, 1, 0, 1, 0, 1, 0, 1, 0, 0, 1, 0, 1, 1, 1, 0, 0, 1,\n",
       "       0, 1, 0, 1, 1, 1, 1, 1, 0, 0, 1, 1, 1, 1, 0, 1, 1, 0, 0, 0, 1, 1,\n",
       "       0, 0, 0, 0, 0, 0, 0, 0, 0, 0, 1, 0, 0, 0, 1, 0, 0, 1, 1, 0, 0, 0,\n",
       "       1, 0, 1, 1, 0, 0, 0, 0, 1, 0, 0, 1, 1, 1, 0, 0, 1, 1, 0, 0, 1, 0,\n",
       "       0, 1, 1, 0, 1, 1, 0, 0, 0, 1, 0, 0, 0, 1, 0, 1, 1, 0, 0, 0, 0, 0,\n",
       "       0, 0, 0, 1, 1, 0, 0, 0, 0, 1, 0, 0, 0, 1, 0, 0, 0, 1, 1, 1, 0, 0,\n",
       "       0, 1, 0])"
      ]
     },
     "execution_count": 20,
     "metadata": {},
     "output_type": "execute_result"
    }
   ],
   "source": [
    "y_pred = pipe.predict(x_test)\n",
    "y_pred"
   ]
  },
  {
   "cell_type": "code",
   "execution_count": 22,
   "id": "cca7a2d4-e540-4eb4-a5a0-b8e8e1496e84",
   "metadata": {},
   "outputs": [
    {
     "data": {
      "text/plain": [
       "array([1, 0, 0, 1, 1, 1, 1, 0, 1, 1, 0, 0, 0, 0, 0, 1, 1, 1, 0, 0, 0, 1,\n",
       "       1, 0, 0, 0, 0, 1, 0, 0, 0, 1, 0, 0, 1, 0, 1, 1, 1, 0, 0, 0, 0, 0,\n",
       "       0, 0, 0, 0, 0, 0, 1, 1, 0, 1, 0, 1, 0, 1, 1, 1, 0, 1, 1, 0, 0, 0,\n",
       "       0, 0, 0, 1, 0, 1, 1, 1, 0, 0, 0, 1, 0, 0, 0, 1, 1, 0, 0, 0, 1, 1,\n",
       "       0, 0, 1, 0, 0, 0, 0, 0, 1, 1, 1, 0, 0, 0, 1, 0, 0, 0, 1, 0, 1, 1,\n",
       "       1, 0, 1, 1, 0, 0, 0, 0, 1, 0, 0, 1, 1, 1, 0, 1, 1, 0, 0, 0, 1, 1,\n",
       "       0, 1, 1, 1, 1, 0, 0, 0, 0, 0, 0, 0, 0, 1, 0, 0, 1, 0, 0, 0, 0, 1,\n",
       "       0, 0, 1, 1, 1, 0, 0, 1, 0, 1, 0, 0, 0, 1, 0, 0, 1, 1, 1, 0, 0, 0,\n",
       "       1, 1, 1])"
      ]
     },
     "execution_count": 22,
     "metadata": {},
     "output_type": "execute_result"
    }
   ],
   "source": [
    "y_test.values"
   ]
  },
  {
   "cell_type": "code",
   "execution_count": 23,
   "id": "ab137b6b-15e7-4af2-a577-1f8633f0731b",
   "metadata": {},
   "outputs": [
    {
     "name": "stdout",
     "output_type": "stream",
     "text": [
      "              precision    recall  f1-score   support\n",
      "\n",
      "           0       0.79      0.81      0.80       105\n",
      "           1       0.72      0.69      0.70        74\n",
      "\n",
      "    accuracy                           0.76       179\n",
      "   macro avg       0.75      0.75      0.75       179\n",
      "weighted avg       0.76      0.76      0.76       179\n",
      "\n"
     ]
    }
   ],
   "source": [
    "print(classification_report(y_test,y_pred))"
   ]
  },
  {
   "cell_type": "code",
   "execution_count": 25,
   "id": "2bf06fc6-de8f-45de-a71b-365083352b5f",
   "metadata": {},
   "outputs": [
    {
     "data": {
      "text/plain": [
       "{'memory': None,\n",
       " 'steps': [('columntransformer',\n",
       "   ColumnTransformer(remainder='passthrough',\n",
       "                     transformers=[('knnimputer', KNNImputer(), ['Age']),\n",
       "                                   ('ordinalencoder', OrdinalEncoder(), ['Sex'])])),\n",
       "  ('decisiontreeclassifier', DecisionTreeClassifier(criterion='entropy'))],\n",
       " 'verbose': False,\n",
       " 'columntransformer': ColumnTransformer(remainder='passthrough',\n",
       "                   transformers=[('knnimputer', KNNImputer(), ['Age']),\n",
       "                                 ('ordinalencoder', OrdinalEncoder(), ['Sex'])]),\n",
       " 'decisiontreeclassifier': DecisionTreeClassifier(criterion='entropy'),\n",
       " 'columntransformer__n_jobs': None,\n",
       " 'columntransformer__remainder': 'passthrough',\n",
       " 'columntransformer__sparse_threshold': 0.3,\n",
       " 'columntransformer__transformer_weights': None,\n",
       " 'columntransformer__transformers': [('knnimputer', KNNImputer(), ['Age']),\n",
       "  ('ordinalencoder', OrdinalEncoder(), ['Sex'])],\n",
       " 'columntransformer__verbose': False,\n",
       " 'columntransformer__knnimputer': KNNImputer(),\n",
       " 'columntransformer__ordinalencoder': OrdinalEncoder(),\n",
       " 'columntransformer__knnimputer__add_indicator': False,\n",
       " 'columntransformer__knnimputer__copy': True,\n",
       " 'columntransformer__knnimputer__metric': 'nan_euclidean',\n",
       " 'columntransformer__knnimputer__missing_values': nan,\n",
       " 'columntransformer__knnimputer__n_neighbors': 5,\n",
       " 'columntransformer__knnimputer__weights': 'uniform',\n",
       " 'columntransformer__ordinalencoder__categories': 'auto',\n",
       " 'columntransformer__ordinalencoder__dtype': numpy.float64,\n",
       " 'columntransformer__ordinalencoder__handle_unknown': 'error',\n",
       " 'columntransformer__ordinalencoder__unknown_value': None,\n",
       " 'decisiontreeclassifier__ccp_alpha': 0.0,\n",
       " 'decisiontreeclassifier__class_weight': None,\n",
       " 'decisiontreeclassifier__criterion': 'entropy',\n",
       " 'decisiontreeclassifier__max_depth': None,\n",
       " 'decisiontreeclassifier__max_features': None,\n",
       " 'decisiontreeclassifier__max_leaf_nodes': None,\n",
       " 'decisiontreeclassifier__min_impurity_decrease': 0.0,\n",
       " 'decisiontreeclassifier__min_impurity_split': None,\n",
       " 'decisiontreeclassifier__min_samples_leaf': 1,\n",
       " 'decisiontreeclassifier__min_samples_split': 2,\n",
       " 'decisiontreeclassifier__min_weight_fraction_leaf': 0.0,\n",
       " 'decisiontreeclassifier__random_state': None,\n",
       " 'decisiontreeclassifier__splitter': 'best'}"
      ]
     },
     "execution_count": 25,
     "metadata": {},
     "output_type": "execute_result"
    }
   ],
   "source": [
    "pipe.get_params()"
   ]
  }
 ],
 "metadata": {
  "kernelspec": {
   "display_name": "Python 3 (ipykernel)",
   "language": "python",
   "name": "python3"
  },
  "language_info": {
   "codemirror_mode": {
    "name": "ipython",
    "version": 3
   },
   "file_extension": ".py",
   "mimetype": "text/x-python",
   "name": "python",
   "nbconvert_exporter": "python",
   "pygments_lexer": "ipython3",
   "version": "3.9.7"
  }
 },
 "nbformat": 4,
 "nbformat_minor": 5
}
