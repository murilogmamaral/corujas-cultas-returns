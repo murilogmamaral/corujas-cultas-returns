{
 "cells": [
  {
   "cell_type": "code",
   "execution_count": 116,
   "id": "336f21b6-fbb1-467a-9415-b0f85967a01c",
   "metadata": {},
   "outputs": [],
   "source": [
    "import pandas as pd\n",
    "import numpy as np\n",
    "import matplotlib.pyplot as plt\n",
    "\n",
    "from sklearn.linear_model import LinearRegression\n",
    "from sklearn.model_selection import train_test_split\n",
    "from sklearn.metrics import mean_squared_error\n",
    "from sklearn.metrics import r2_score\n",
    "\n",
    "from sklearn.ensemble import IsolationForest\n",
    "\n",
    "\n",
    "def regression_report(y_true,y_pred):\n",
    "    print('### CLASSIFICATION REPORT ###')\n",
    "    print(f'MSE:\\t{mean_squared_error(y_true,y_pred)}\\nRMSE:\\t{mean_squared_error(y_true,y_pred)**1/2}\\nR2:\\t{r2_score(y_true,y_pred)}')"
   ]
  },
  {
   "cell_type": "code",
   "execution_count": 117,
   "id": "b95801a4-64a3-453f-b2b8-9f8ff5857dba",
   "metadata": {},
   "outputs": [
    {
     "data": {
      "text/html": [
       "<div>\n",
       "<style scoped>\n",
       "    .dataframe tbody tr th:only-of-type {\n",
       "        vertical-align: middle;\n",
       "    }\n",
       "\n",
       "    .dataframe tbody tr th {\n",
       "        vertical-align: top;\n",
       "    }\n",
       "\n",
       "    .dataframe thead th {\n",
       "        text-align: right;\n",
       "    }\n",
       "</style>\n",
       "<table border=\"1\" class=\"dataframe\">\n",
       "  <thead>\n",
       "    <tr style=\"text-align: right;\">\n",
       "      <th></th>\n",
       "      <th>TotalBsmtSF</th>\n",
       "      <th>1stFlrSF</th>\n",
       "      <th>GrLivArea</th>\n",
       "      <th>GarageCars</th>\n",
       "      <th>GarageArea</th>\n",
       "      <th>SalePrice</th>\n",
       "    </tr>\n",
       "  </thead>\n",
       "  <tbody>\n",
       "    <tr>\n",
       "      <th>0</th>\n",
       "      <td>856</td>\n",
       "      <td>856</td>\n",
       "      <td>1710</td>\n",
       "      <td>2</td>\n",
       "      <td>548</td>\n",
       "      <td>208500</td>\n",
       "    </tr>\n",
       "    <tr>\n",
       "      <th>1</th>\n",
       "      <td>1262</td>\n",
       "      <td>1262</td>\n",
       "      <td>1262</td>\n",
       "      <td>2</td>\n",
       "      <td>460</td>\n",
       "      <td>181500</td>\n",
       "    </tr>\n",
       "    <tr>\n",
       "      <th>2</th>\n",
       "      <td>920</td>\n",
       "      <td>920</td>\n",
       "      <td>1786</td>\n",
       "      <td>2</td>\n",
       "      <td>608</td>\n",
       "      <td>223500</td>\n",
       "    </tr>\n",
       "    <tr>\n",
       "      <th>3</th>\n",
       "      <td>756</td>\n",
       "      <td>961</td>\n",
       "      <td>1717</td>\n",
       "      <td>3</td>\n",
       "      <td>642</td>\n",
       "      <td>140000</td>\n",
       "    </tr>\n",
       "    <tr>\n",
       "      <th>4</th>\n",
       "      <td>1145</td>\n",
       "      <td>1145</td>\n",
       "      <td>2198</td>\n",
       "      <td>3</td>\n",
       "      <td>836</td>\n",
       "      <td>250000</td>\n",
       "    </tr>\n",
       "  </tbody>\n",
       "</table>\n",
       "</div>"
      ],
      "text/plain": [
       "   TotalBsmtSF  1stFlrSF  GrLivArea  GarageCars  GarageArea  SalePrice\n",
       "0          856       856       1710           2         548     208500\n",
       "1         1262      1262       1262           2         460     181500\n",
       "2          920       920       1786           2         608     223500\n",
       "3          756       961       1717           3         642     140000\n",
       "4         1145      1145       2198           3         836     250000"
      ]
     },
     "execution_count": 117,
     "metadata": {},
     "output_type": "execute_result"
    }
   ],
   "source": [
    "df = pd.read_csv('../data/house_prices.csv',usecols=['GrLivArea','GarageCars','GarageArea','TotalBsmtSF','1stFlrSF','SalePrice'])\n",
    "df.head()"
   ]
  },
  {
   "cell_type": "code",
   "execution_count": 118,
   "id": "832eb824-19b3-4823-9b5d-df8ae9fc8831",
   "metadata": {},
   "outputs": [
    {
     "data": {
      "text/plain": [
       "TotalBsmtSF    0\n",
       "1stFlrSF       0\n",
       "GrLivArea      0\n",
       "GarageCars     0\n",
       "GarageArea     0\n",
       "SalePrice      0\n",
       "dtype: int64"
      ]
     },
     "execution_count": 118,
     "metadata": {},
     "output_type": "execute_result"
    }
   ],
   "source": [
    "df.isna().sum()"
   ]
  },
  {
   "cell_type": "code",
   "execution_count": 119,
   "id": "0073d20d-36cb-4901-8a49-94a589802a2b",
   "metadata": {},
   "outputs": [],
   "source": [
    "x = df.drop('SalePrice',axis=1)\n",
    "y = df.SalePrice"
   ]
  },
  {
   "cell_type": "markdown",
   "id": "d332d3d2-162c-435a-a3be-a953e51301da",
   "metadata": {},
   "source": [
    "## Removendo outliers"
   ]
  },
  {
   "cell_type": "code",
   "execution_count": 120,
   "id": "a866da46-4b1c-43c7-b790-325e7ca388f1",
   "metadata": {},
   "outputs": [
    {
     "data": {
      "text/plain": [
       "array([ 1,  1,  1, ..., -1,  1,  1])"
      ]
     },
     "execution_count": 120,
     "metadata": {},
     "output_type": "execute_result"
    }
   ],
   "source": [
    "isolation = IsolationForest(random_state=42)\n",
    "out_mask = isolation.fit_predict(x,y)\n",
    "out_mask"
   ]
  },
  {
   "cell_type": "code",
   "execution_count": 121,
   "id": "c7aa8093-8f73-4a7f-aeed-e2161e5c9fe7",
   "metadata": {},
   "outputs": [
    {
     "data": {
      "text/plain": [
       "0        True\n",
       "1        True\n",
       "2        True\n",
       "3        True\n",
       "4        True\n",
       "        ...  \n",
       "1455     True\n",
       "1456    False\n",
       "1457    False\n",
       "1458     True\n",
       "1459     True\n",
       "Length: 1460, dtype: bool"
      ]
     },
     "execution_count": 121,
     "metadata": {},
     "output_type": "execute_result"
    }
   ],
   "source": [
    "out_mask = pd.Series(out_mask).replace(-1,False).replace(1,True)\n",
    "out_mask"
   ]
  },
  {
   "cell_type": "code",
   "execution_count": 122,
   "id": "91568d97-11cc-42fb-aee0-3e68152fdf12",
   "metadata": {},
   "outputs": [],
   "source": [
    "x_no_out = x[out_mask]\n",
    "y_no_out = y[out_mask]"
   ]
  },
  {
   "cell_type": "code",
   "execution_count": 123,
   "id": "8a801c24-0a56-4123-b4ef-521dcdfd8c53",
   "metadata": {},
   "outputs": [],
   "source": [
    "x_train,x_test,y_train,y_test = train_test_split(x_no_out,y_no_out,test_size=0.2,random_state=42)"
   ]
  },
  {
   "cell_type": "markdown",
   "id": "e3a59265-5009-40b9-b107-955c38b648c0",
   "metadata": {},
   "source": [
    "## Regressão Linear Simples"
   ]
  },
  {
   "cell_type": "code",
   "execution_count": 124,
   "id": "c4b96453-accb-4516-bd60-ec75b1f554e8",
   "metadata": {},
   "outputs": [
    {
     "data": {
      "image/png": "[encoded data removed]",
      "text/plain": [
       "<Figure size 432x288 with 1 Axes>"
      ]
     },
     "metadata": {
      "needs_background": "light"
     },
     "output_type": "display_data"
    }
   ],
   "source": [
    "f, ax = plt.subplots()\n",
    "\n",
    "ax.scatter(x_train.GrLivArea,y_train,color='tab:blue',label='treino')\n",
    "ax.scatter(x_test.GrLivArea,y_test,color='tab:orange',label='teste')\n",
    "\n",
    "ax.set_xlabel('GrLivArea')\n",
    "ax.set_ylabel('SalePrice')\n",
    "\n",
    "plt.legend()\n",
    "plt.show()"
   ]
  },
  {
   "cell_type": "code",
   "execution_count": 125,
   "id": "1ad60ea2-33a8-4fd8-8e66-abf8c944a9b0",
   "metadata": {},
   "outputs": [
    {
     "data": {
      "text/plain": [
       "LinearRegression()"
      ]
     },
     "execution_count": 125,
     "metadata": {},
     "output_type": "execute_result"
    }
   ],
   "source": [
    "lr = LinearRegression()\n",
    "lr.fit(x_train.GrLivArea.values.reshape(-1,1),y_train)"
   ]
  },
  {
   "cell_type": "code",
   "execution_count": 126,
   "id": "97254a97-f33f-41a7-a434-8c46bd74dea8",
   "metadata": {},
   "outputs": [],
   "source": [
    "y_pred = lr.predict(x_test.GrLivArea.values.reshape(-1,1))"
   ]
  },
  {
   "cell_type": "code",
   "execution_count": 127,
   "id": "b574a850-a031-4410-a843-c230c802ae34",
   "metadata": {},
   "outputs": [
    {
     "data": {
      "text/plain": [
       "(92.12264801915326, 39335.05590902077)"
      ]
     },
     "execution_count": 127,
     "metadata": {},
     "output_type": "execute_result"
    }
   ],
   "source": [
    "lr.coef_[0],lr.intercept_"
   ]
  },
  {
   "cell_type": "code",
   "execution_count": 128,
   "id": "e3e2fe35-de4a-4fc1-9d3e-028830a697ae",
   "metadata": {},
   "outputs": [
    {
     "name": "stdout",
     "output_type": "stream",
     "text": [
      "### CLASSIFICATION REPORT ###\n",
      "MSE:\t1790439447.99515\n",
      "RMSE:\t895219723.997575\n",
      "R2:\t0.4867636537558634\n"
     ]
    }
   ],
   "source": [
    "regression_report(y_test,y_pred)"
   ]
  },
  {
   "cell_type": "markdown",
   "id": "022bacf1-bac6-4c1b-8e1b-0a1b423d6520",
   "metadata": {},
   "source": [
    "## Regressão Linear Múltipla"
   ]
  },
  {
   "cell_type": "code",
   "execution_count": 129,
   "id": "03a0fbb3-dde6-419a-bcb7-4f27f4a167eb",
   "metadata": {},
   "outputs": [],
   "source": [
    "lr = LinearRegression()\n",
    "lr.fit(x_train,y_train)\n",
    "y_pred = lr.predict(x_test)"
   ]
  },
  {
   "cell_type": "code",
   "execution_count": 130,
   "id": "348595f9-0a3e-4a8f-ace0-57fc3fbeaaa4",
   "metadata": {},
   "outputs": [
    {
     "data": {
      "text/plain": [
       "(array([   80.41099489,   -31.38999446,    67.8076552 , 21755.97194078,\n",
       "           33.22614476]),\n",
       " -28894.413559899316)"
      ]
     },
     "execution_count": 130,
     "metadata": {},
     "output_type": "execute_result"
    }
   ],
   "source": [
    "lr.coef_,lr.intercept_"
   ]
  },
  {
   "cell_type": "code",
   "execution_count": 131,
   "id": "92e73af5-9d11-40be-9c48-4a6da3ff39c3",
   "metadata": {},
   "outputs": [
    {
     "name": "stdout",
     "output_type": "stream",
     "text": [
      "### CLASSIFICATION REPORT ###\n",
      "MSE:\t942598641.9583932\n",
      "RMSE:\t471299320.9791966\n",
      "R2:\t0.7298004780250343\n"
     ]
    }
   ],
   "source": [
    "regression_report(y_test,y_pred)"
   ]
  }
 ],
 "metadata": {
  "kernelspec": {
   "display_name": "Python 3 (ipykernel)",
   "language": "python",
   "name": "python3"
  },
  "language_info": {
   "codemirror_mode": {
    "name": "ipython",
    "version": 3
   },
   "file_extension": ".py",
   "mimetype": "text/x-python",
   "name": "python",
   "nbconvert_exporter": "python",
   "pygments_lexer": "ipython3",
   "version": "3.9.7"
  }
 },
 "nbformat": 4,
 "nbformat_minor": 5
}
