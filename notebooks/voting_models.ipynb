{
 "cells": [
  {
   "cell_type": "code",
   "execution_count": 42,
   "id": "d16bc323-8bad-4c19-844a-9ed6a936d59a",
   "metadata": {},
   "outputs": [],
   "source": [
    "from sklearn import datasets\n",
    "from sklearn.pipeline import make_pipeline\n",
    "from sklearn.preprocessing import MinMaxScaler\n",
    "from sklearn.model_selection import train_test_split\n",
    "from sklearn.metrics import classification_report\n",
    "\n",
    "from sklearn.tree import DecisionTreeClassifier\n",
    "from sklearn.svm import SVC\n",
    "from sklearn.neighbors import KNeighborsClassifier\n",
    "from sklearn.gaussian_process import GaussianProcessClassifier\n",
    "\n",
    "from sklearn.ensemble import VotingClassifier\n",
    "\n",
    "import sklearn\n",
    "sklearn.set_config(display='diagram')"
   ]
  },
  {
   "cell_type": "code",
   "execution_count": 43,
   "id": "aebfc119-3a60-4ff4-b779-4bc6fbbf4880",
   "metadata": {},
   "outputs": [],
   "source": [
    "x,y = datasets.load_iris(return_X_y=True)\n",
    "x_train, x_test, y_train, y_test = train_test_split(x,y,test_size=0.2,random_state=42)"
   ]
  },
  {
   "cell_type": "code",
   "execution_count": 56,
   "id": "ced92673-e28a-4a54-8566-2e510078aab6",
   "metadata": {},
   "outputs": [
    {
     "data": {
      "text/html": [
       "<style>#sk-8305ffcd-9fea-424d-b97a-99d3e9e7057d {color: black;background-color: white;}#sk-8305ffcd-9fea-424d-b97a-99d3e9e7057d pre{padding: 0;}#sk-8305ffcd-9fea-424d-b97a-99d3e9e7057d div.sk-toggleable {background-color: white;}#sk-8305ffcd-9fea-424d-b97a-99d3e9e7057d label.sk-toggleable__label {cursor: pointer;display: block;width: 100%;margin-bottom: 0;padding: 0.2em 0.3em;box-sizing: border-box;text-align: center;}#sk-8305ffcd-9fea-424d-b97a-99d3e9e7057d div.sk-toggleable__content {max-height: 0;max-width: 0;overflow: hidden;text-align: left;background-color: #f0f8ff;}#sk-8305ffcd-9fea-424d-b97a-99d3e9e7057d div.sk-toggleable__content pre {margin: 0.2em;color: black;border-radius: 0.25em;background-color: #f0f8ff;}#sk-8305ffcd-9fea-424d-b97a-99d3e9e7057d input.sk-toggleable__control:checked~div.sk-toggleable__content {max-height: 200px;max-width: 100%;overflow: auto;}#sk-8305ffcd-9fea-424d-b97a-99d3e9e7057d div.sk-estimator input.sk-toggleable__control:checked~label.sk-toggleable__label {background-color: #d4ebff;}#sk-8305ffcd-9fea-424d-b97a-99d3e9e7057d div.sk-label input.sk-toggleable__control:checked~label.sk-toggleable__label {background-color: #d4ebff;}#sk-8305ffcd-9fea-424d-b97a-99d3e9e7057d input.sk-hidden--visually {border: 0;clip: rect(1px 1px 1px 1px);clip: rect(1px, 1px, 1px, 1px);height: 1px;margin: -1px;overflow: hidden;padding: 0;position: absolute;width: 1px;}#sk-8305ffcd-9fea-424d-b97a-99d3e9e7057d div.sk-estimator {font-family: monospace;background-color: #f0f8ff;margin: 0.25em 0.25em;border: 1px dotted black;border-radius: 0.25em;box-sizing: border-box;}#sk-8305ffcd-9fea-424d-b97a-99d3e9e7057d div.sk-estimator:hover {background-color: #d4ebff;}#sk-8305ffcd-9fea-424d-b97a-99d3e9e7057d div.sk-parallel-item::after {content: \"\";width: 100%;border-bottom: 1px solid gray;flex-grow: 1;}#sk-8305ffcd-9fea-424d-b97a-99d3e9e7057d div.sk-label:hover label.sk-toggleable__label {background-color: #d4ebff;}#sk-8305ffcd-9fea-424d-b97a-99d3e9e7057d div.sk-serial::before {content: \"\";position: absolute;border-left: 1px solid gray;box-sizing: border-box;top: 2em;bottom: 0;left: 50%;}#sk-8305ffcd-9fea-424d-b97a-99d3e9e7057d div.sk-serial {display: flex;flex-direction: column;align-items: center;background-color: white;}#sk-8305ffcd-9fea-424d-b97a-99d3e9e7057d div.sk-item {z-index: 1;}#sk-8305ffcd-9fea-424d-b97a-99d3e9e7057d div.sk-parallel {display: flex;align-items: stretch;justify-content: center;background-color: white;}#sk-8305ffcd-9fea-424d-b97a-99d3e9e7057d div.sk-parallel-item {display: flex;flex-direction: column;position: relative;background-color: white;}#sk-8305ffcd-9fea-424d-b97a-99d3e9e7057d div.sk-parallel-item:first-child::after {align-self: flex-end;width: 50%;}#sk-8305ffcd-9fea-424d-b97a-99d3e9e7057d div.sk-parallel-item:last-child::after {align-self: flex-start;width: 50%;}#sk-8305ffcd-9fea-424d-b97a-99d3e9e7057d div.sk-parallel-item:only-child::after {width: 0;}#sk-8305ffcd-9fea-424d-b97a-99d3e9e7057d div.sk-dashed-wrapped {border: 1px dashed gray;margin: 0.2em;box-sizing: border-box;padding-bottom: 0.1em;background-color: white;position: relative;}#sk-8305ffcd-9fea-424d-b97a-99d3e9e7057d div.sk-label label {font-family: monospace;font-weight: bold;background-color: white;display: inline-block;line-height: 1.2em;}#sk-8305ffcd-9fea-424d-b97a-99d3e9e7057d div.sk-label-container {position: relative;z-index: 2;text-align: center;}#sk-8305ffcd-9fea-424d-b97a-99d3e9e7057d div.sk-container {display: inline-block;position: relative;}</style><div id=\"sk-8305ffcd-9fea-424d-b97a-99d3e9e7057d\" class\"sk-top-container\"><div class=\"sk-container\"><div class=\"sk-item sk-dashed-wrapped\"><div class=\"sk-label-container\"><div class=\"sk-label sk-toggleable\"><input class=\"sk-toggleable__control sk-hidden--visually\" id=\"b427e5e7-66d2-4e9e-b081-d00834e529f3\" type=\"checkbox\" ><label class=\"sk-toggleable__label\" for=\"b427e5e7-66d2-4e9e-b081-d00834e529f3\">VotingClassifier</label><div class=\"sk-toggleable__content\"><pre>VotingClassifier(estimators=[('dt', DecisionTreeClassifier()),\n",
       "                             ('svc', SVC(probability=True)),\n",
       "                             ('k5', KNeighborsClassifier()),\n",
       "                             ('gaussian', GaussianProcessClassifier())])</pre></div></div></div><div class=\"sk-parallel\"><div class=\"sk-parallel-item\"><div class=\"sk-item\"><div class=\"sk-label-container\"><div class=\"sk-label sk-toggleable\"><label>dt</label></div></div><div class=\"sk-serial\"><div class=\"sk-item\"><div class=\"sk-estimator sk-toggleable\"><input class=\"sk-toggleable__control sk-hidden--visually\" id=\"84b2883f-3e35-4f11-9d6d-4126c38bbd1c\" type=\"checkbox\" ><label class=\"sk-toggleable__label\" for=\"84b2883f-3e35-4f11-9d6d-4126c38bbd1c\">DecisionTreeClassifier</label><div class=\"sk-toggleable__content\"><pre>DecisionTreeClassifier()</pre></div></div></div></div></div></div><div class=\"sk-parallel-item\"><div class=\"sk-item\"><div class=\"sk-label-container\"><div class=\"sk-label sk-toggleable\"><label>svc</label></div></div><div class=\"sk-serial\"><div class=\"sk-item\"><div class=\"sk-estimator sk-toggleable\"><input class=\"sk-toggleable__control sk-hidden--visually\" id=\"9c8e5699-64a7-4c5c-9664-2fd08ad8adbe\" type=\"checkbox\" ><label class=\"sk-toggleable__label\" for=\"9c8e5699-64a7-4c5c-9664-2fd08ad8adbe\">SVC</label><div class=\"sk-toggleable__content\"><pre>SVC(probability=True)</pre></div></div></div></div></div></div><div class=\"sk-parallel-item\"><div class=\"sk-item\"><div class=\"sk-label-container\"><div class=\"sk-label sk-toggleable\"><label>k5</label></div></div><div class=\"sk-serial\"><div class=\"sk-item\"><div class=\"sk-estimator sk-toggleable\"><input class=\"sk-toggleable__control sk-hidden--visually\" id=\"fd9564ba-fe7a-4450-a8d5-434a78643e63\" type=\"checkbox\" ><label class=\"sk-toggleable__label\" for=\"fd9564ba-fe7a-4450-a8d5-434a78643e63\">KNeighborsClassifier</label><div class=\"sk-toggleable__content\"><pre>KNeighborsClassifier()</pre></div></div></div></div></div></div><div class=\"sk-parallel-item\"><div class=\"sk-item\"><div class=\"sk-label-container\"><div class=\"sk-label sk-toggleable\"><label>gaussian</label></div></div><div class=\"sk-serial\"><div class=\"sk-item\"><div class=\"sk-estimator sk-toggleable\"><input class=\"sk-toggleable__control sk-hidden--visually\" id=\"0dfe0e5e-91a0-4e44-9107-99ae15a0378c\" type=\"checkbox\" ><label class=\"sk-toggleable__label\" for=\"0dfe0e5e-91a0-4e44-9107-99ae15a0378c\">GaussianProcessClassifier</label><div class=\"sk-toggleable__content\"><pre>GaussianProcessClassifier()</pre></div></div></div></div></div></div></div></div></div></div>"
      ],
      "text/plain": [
       "VotingClassifier(estimators=[('dt', DecisionTreeClassifier()),\n",
       "                             ('svc', SVC(probability=True)),\n",
       "                             ('k5', KNeighborsClassifier()),\n",
       "                             ('gaussian', GaussianProcessClassifier())])"
      ]
     },
     "execution_count": 56,
     "metadata": {},
     "output_type": "execute_result"
    }
   ],
   "source": [
    "modelos = [('dt',DecisionTreeClassifier()),('svc',SVC(probability=True)),('k5',KNeighborsClassifier()),('gaussian',GaussianProcessClassifier())]\n",
    "vtc = VotingClassifier(modelos,voting='hard')\n",
    "vtc"
   ]
  },
  {
   "cell_type": "code",
   "execution_count": 57,
   "id": "a0a08909-d6e2-4d5c-87f9-008e68f9eff4",
   "metadata": {},
   "outputs": [
    {
     "data": {
      "text/html": [
       "<style>#sk-8f77f55f-dec2-416c-b709-4b4a20dd4b79 {color: black;background-color: white;}#sk-8f77f55f-dec2-416c-b709-4b4a20dd4b79 pre{padding: 0;}#sk-8f77f55f-dec2-416c-b709-4b4a20dd4b79 div.sk-toggleable {background-color: white;}#sk-8f77f55f-dec2-416c-b709-4b4a20dd4b79 label.sk-toggleable__label {cursor: pointer;display: block;width: 100%;margin-bottom: 0;padding: 0.2em 0.3em;box-sizing: border-box;text-align: center;}#sk-8f77f55f-dec2-416c-b709-4b4a20dd4b79 div.sk-toggleable__content {max-height: 0;max-width: 0;overflow: hidden;text-align: left;background-color: #f0f8ff;}#sk-8f77f55f-dec2-416c-b709-4b4a20dd4b79 div.sk-toggleable__content pre {margin: 0.2em;color: black;border-radius: 0.25em;background-color: #f0f8ff;}#sk-8f77f55f-dec2-416c-b709-4b4a20dd4b79 input.sk-toggleable__control:checked~div.sk-toggleable__content {max-height: 200px;max-width: 100%;overflow: auto;}#sk-8f77f55f-dec2-416c-b709-4b4a20dd4b79 div.sk-estimator input.sk-toggleable__control:checked~label.sk-toggleable__label {background-color: #d4ebff;}#sk-8f77f55f-dec2-416c-b709-4b4a20dd4b79 div.sk-label input.sk-toggleable__control:checked~label.sk-toggleable__label {background-color: #d4ebff;}#sk-8f77f55f-dec2-416c-b709-4b4a20dd4b79 input.sk-hidden--visually {border: 0;clip: rect(1px 1px 1px 1px);clip: rect(1px, 1px, 1px, 1px);height: 1px;margin: -1px;overflow: hidden;padding: 0;position: absolute;width: 1px;}#sk-8f77f55f-dec2-416c-b709-4b4a20dd4b79 div.sk-estimator {font-family: monospace;background-color: #f0f8ff;margin: 0.25em 0.25em;border: 1px dotted black;border-radius: 0.25em;box-sizing: border-box;}#sk-8f77f55f-dec2-416c-b709-4b4a20dd4b79 div.sk-estimator:hover {background-color: #d4ebff;}#sk-8f77f55f-dec2-416c-b709-4b4a20dd4b79 div.sk-parallel-item::after {content: \"\";width: 100%;border-bottom: 1px solid gray;flex-grow: 1;}#sk-8f77f55f-dec2-416c-b709-4b4a20dd4b79 div.sk-label:hover label.sk-toggleable__label {background-color: #d4ebff;}#sk-8f77f55f-dec2-416c-b709-4b4a20dd4b79 div.sk-serial::before {content: \"\";position: absolute;border-left: 1px solid gray;box-sizing: border-box;top: 2em;bottom: 0;left: 50%;}#sk-8f77f55f-dec2-416c-b709-4b4a20dd4b79 div.sk-serial {display: flex;flex-direction: column;align-items: center;background-color: white;}#sk-8f77f55f-dec2-416c-b709-4b4a20dd4b79 div.sk-item {z-index: 1;}#sk-8f77f55f-dec2-416c-b709-4b4a20dd4b79 div.sk-parallel {display: flex;align-items: stretch;justify-content: center;background-color: white;}#sk-8f77f55f-dec2-416c-b709-4b4a20dd4b79 div.sk-parallel-item {display: flex;flex-direction: column;position: relative;background-color: white;}#sk-8f77f55f-dec2-416c-b709-4b4a20dd4b79 div.sk-parallel-item:first-child::after {align-self: flex-end;width: 50%;}#sk-8f77f55f-dec2-416c-b709-4b4a20dd4b79 div.sk-parallel-item:last-child::after {align-self: flex-start;width: 50%;}#sk-8f77f55f-dec2-416c-b709-4b4a20dd4b79 div.sk-parallel-item:only-child::after {width: 0;}#sk-8f77f55f-dec2-416c-b709-4b4a20dd4b79 div.sk-dashed-wrapped {border: 1px dashed gray;margin: 0.2em;box-sizing: border-box;padding-bottom: 0.1em;background-color: white;position: relative;}#sk-8f77f55f-dec2-416c-b709-4b4a20dd4b79 div.sk-label label {font-family: monospace;font-weight: bold;background-color: white;display: inline-block;line-height: 1.2em;}#sk-8f77f55f-dec2-416c-b709-4b4a20dd4b79 div.sk-label-container {position: relative;z-index: 2;text-align: center;}#sk-8f77f55f-dec2-416c-b709-4b4a20dd4b79 div.sk-container {display: inline-block;position: relative;}</style><div id=\"sk-8f77f55f-dec2-416c-b709-4b4a20dd4b79\" class\"sk-top-container\"><div class=\"sk-container\"><div class=\"sk-item sk-dashed-wrapped\"><div class=\"sk-label-container\"><div class=\"sk-label sk-toggleable\"><input class=\"sk-toggleable__control sk-hidden--visually\" id=\"b9d72656-01a0-4b76-bae2-558da52cfc30\" type=\"checkbox\" ><label class=\"sk-toggleable__label\" for=\"b9d72656-01a0-4b76-bae2-558da52cfc30\">Pipeline</label><div class=\"sk-toggleable__content\"><pre>Pipeline(steps=[('minmaxscaler', MinMaxScaler()),\n",
       "                ('votingclassifier',\n",
       "                 VotingClassifier(estimators=[('dt', DecisionTreeClassifier()),\n",
       "                                              ('svc', SVC(probability=True)),\n",
       "                                              ('k5', KNeighborsClassifier()),\n",
       "                                              ('gaussian',\n",
       "                                               GaussianProcessClassifier())]))])</pre></div></div></div><div class=\"sk-serial\"><div class=\"sk-item\"><div class=\"sk-estimator sk-toggleable\"><input class=\"sk-toggleable__control sk-hidden--visually\" id=\"8ad7c211-47b5-410c-a3c0-82eb9b0e17c0\" type=\"checkbox\" ><label class=\"sk-toggleable__label\" for=\"8ad7c211-47b5-410c-a3c0-82eb9b0e17c0\">MinMaxScaler</label><div class=\"sk-toggleable__content\"><pre>MinMaxScaler()</pre></div></div></div><div class=\"sk-item sk-dashed-wrapped\"><div class=\"sk-label-container\"><div class=\"sk-label sk-toggleable\"><input class=\"sk-toggleable__control sk-hidden--visually\" id=\"5c727b50-ea22-4278-8ffe-3714cfc8fa96\" type=\"checkbox\" ><label class=\"sk-toggleable__label\" for=\"5c727b50-ea22-4278-8ffe-3714cfc8fa96\">votingclassifier: VotingClassifier</label><div class=\"sk-toggleable__content\"><pre>VotingClassifier(estimators=[('dt', DecisionTreeClassifier()),\n",
       "                             ('svc', SVC(probability=True)),\n",
       "                             ('k5', KNeighborsClassifier()),\n",
       "                             ('gaussian', GaussianProcessClassifier())])</pre></div></div></div><div class=\"sk-parallel\"><div class=\"sk-parallel-item\"><div class=\"sk-item\"><div class=\"sk-label-container\"><div class=\"sk-label sk-toggleable\"><label>dt</label></div></div><div class=\"sk-serial\"><div class=\"sk-item\"><div class=\"sk-estimator sk-toggleable\"><input class=\"sk-toggleable__control sk-hidden--visually\" id=\"5790eac2-511f-4630-9d1d-c60f1926d8b4\" type=\"checkbox\" ><label class=\"sk-toggleable__label\" for=\"5790eac2-511f-4630-9d1d-c60f1926d8b4\">DecisionTreeClassifier</label><div class=\"sk-toggleable__content\"><pre>DecisionTreeClassifier()</pre></div></div></div></div></div></div><div class=\"sk-parallel-item\"><div class=\"sk-item\"><div class=\"sk-label-container\"><div class=\"sk-label sk-toggleable\"><label>svc</label></div></div><div class=\"sk-serial\"><div class=\"sk-item\"><div class=\"sk-estimator sk-toggleable\"><input class=\"sk-toggleable__control sk-hidden--visually\" id=\"aba2b96b-07c5-4ee2-af01-382cc2c1d75c\" type=\"checkbox\" ><label class=\"sk-toggleable__label\" for=\"aba2b96b-07c5-4ee2-af01-382cc2c1d75c\">SVC</label><div class=\"sk-toggleable__content\"><pre>SVC(probability=True)</pre></div></div></div></div></div></div><div class=\"sk-parallel-item\"><div class=\"sk-item\"><div class=\"sk-label-container\"><div class=\"sk-label sk-toggleable\"><label>k5</label></div></div><div class=\"sk-serial\"><div class=\"sk-item\"><div class=\"sk-estimator sk-toggleable\"><input class=\"sk-toggleable__control sk-hidden--visually\" id=\"982f9d10-4c8e-4939-a8a6-26b410378b27\" type=\"checkbox\" ><label class=\"sk-toggleable__label\" for=\"982f9d10-4c8e-4939-a8a6-26b410378b27\">KNeighborsClassifier</label><div class=\"sk-toggleable__content\"><pre>KNeighborsClassifier()</pre></div></div></div></div></div></div><div class=\"sk-parallel-item\"><div class=\"sk-item\"><div class=\"sk-label-container\"><div class=\"sk-label sk-toggleable\"><label>gaussian</label></div></div><div class=\"sk-serial\"><div class=\"sk-item\"><div class=\"sk-estimator sk-toggleable\"><input class=\"sk-toggleable__control sk-hidden--visually\" id=\"2ec5f803-8151-4343-9f0f-3a0cf8de4947\" type=\"checkbox\" ><label class=\"sk-toggleable__label\" for=\"2ec5f803-8151-4343-9f0f-3a0cf8de4947\">GaussianProcessClassifier</label><div class=\"sk-toggleable__content\"><pre>GaussianProcessClassifier()</pre></div></div></div></div></div></div></div></div></div></div></div></div>"
      ],
      "text/plain": [
       "Pipeline(steps=[('minmaxscaler', MinMaxScaler()),\n",
       "                ('votingclassifier',\n",
       "                 VotingClassifier(estimators=[('dt', DecisionTreeClassifier()),\n",
       "                                              ('svc', SVC(probability=True)),\n",
       "                                              ('k5', KNeighborsClassifier()),\n",
       "                                              ('gaussian',\n",
       "                                               GaussianProcessClassifier())]))])"
      ]
     },
     "execution_count": 57,
     "metadata": {},
     "output_type": "execute_result"
    }
   ],
   "source": [
    "pipe = make_pipeline(MinMaxScaler(),vtc)\n",
    "pipe.fit(x_train,y_train)"
   ]
  },
  {
   "cell_type": "code",
   "execution_count": 58,
   "id": "6e0f368b-4cb8-42cb-a4a8-4af3f70795d5",
   "metadata": {},
   "outputs": [
    {
     "data": {
      "text/plain": [
       "array([[0.52941176, 0.33333333, 0.64912281, 0.45833333]])"
      ]
     },
     "execution_count": 58,
     "metadata": {},
     "output_type": "execute_result"
    }
   ],
   "source": [
    "pipe.named_steps['minmaxscaler'].transform([[6.1, 2.8, 4.7, 1.2]])"
   ]
  },
  {
   "cell_type": "code",
   "execution_count": 59,
   "id": "7cb207fd-7de5-4454-a31c-4a128d5a1504",
   "metadata": {},
   "outputs": [
    {
     "data": {
      "text/plain": [
       "array([1])"
      ]
     },
     "execution_count": 59,
     "metadata": {},
     "output_type": "execute_result"
    }
   ],
   "source": [
    "pipe.named_steps['votingclassifier'].predict([[0.52941176, 0.33333333, 0.64912281, 0.45833333]])"
   ]
  },
  {
   "cell_type": "code",
   "execution_count": 60,
   "id": "dcb49463-b0e3-4510-9770-d354491a8175",
   "metadata": {},
   "outputs": [
    {
     "data": {
      "text/plain": [
       "array([[1, 1, 1, 1]])"
      ]
     },
     "execution_count": 60,
     "metadata": {},
     "output_type": "execute_result"
    }
   ],
   "source": [
    "pipe.named_steps['votingclassifier'].transform([[0.52941176, 0.33333333, 0.64912281, 0.45833333]])"
   ]
  },
  {
   "cell_type": "code",
   "execution_count": null,
   "id": "f51412fc-da31-4e48-a2fb-ab8f211953f7",
   "metadata": {},
   "outputs": [],
   "source": [
    "## voting soft\n",
    "## voting regressor"
   ]
  }
 ],
 "metadata": {
  "kernelspec": {
   "display_name": "Python 3 (ipykernel)",
   "language": "python",
   "name": "python3"
  },
  "language_info": {
   "codemirror_mode": {
    "name": "ipython",
    "version": 3
   },
   "file_extension": ".py",
   "mimetype": "text/x-python",
   "name": "python",
   "nbconvert_exporter": "python",
   "pygments_lexer": "ipython3",
   "version": "3.9.7"
  }
 },
 "nbformat": 4,
 "nbformat_minor": 5
}
