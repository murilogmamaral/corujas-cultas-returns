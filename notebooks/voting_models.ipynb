{
 "cells": [
  {
   "cell_type": "code",
   "execution_count": 1,
   "id": "d16bc323-8bad-4c19-844a-9ed6a936d59a",
   "metadata": {},
   "outputs": [],
   "source": [
    "from sklearn import datasets\n",
    "from sklearn.pipeline import make_pipeline\n",
    "from sklearn.preprocessing import MinMaxScaler\n",
    "from sklearn.model_selection import train_test_split\n",
    "from sklearn.metrics import classification_report\n",
    "\n",
    "from sklearn.tree import DecisionTreeClassifier\n",
    "from sklearn.svm import SVC\n",
    "from sklearn.neighbors import KNeighborsClassifier\n",
    "from sklearn.gaussian_process import GaussianProcessClassifier\n",
    "\n",
    "from sklearn.ensemble import VotingClassifier\n",
    "from sklearn.ensemble import VotingRegressor\n",
    "\n",
    "import sklearn\n",
    "sklearn.set_config(display='diagram')"
   ]
  },
  {
   "cell_type": "code",
   "execution_count": 2,
   "id": "aebfc119-3a60-4ff4-b779-4bc6fbbf4880",
   "metadata": {},
   "outputs": [],
   "source": [
    "x,y = datasets.load_iris(return_X_y=True)\n",
    "x_train, x_test, y_train, y_test = train_test_split(x,y,test_size=0.2,random_state=42)"
   ]
  },
  {
   "cell_type": "code",
   "execution_count": 10,
   "id": "ced92673-e28a-4a54-8566-2e510078aab6",
   "metadata": {},
   "outputs": [
    {
     "data": {
      "text/html": [
       "<style>#sk-d16e8cdb-e58c-415e-aa7e-48917b8bb3b6 {color: black;background-color: white;}#sk-d16e8cdb-e58c-415e-aa7e-48917b8bb3b6 pre{padding: 0;}#sk-d16e8cdb-e58c-415e-aa7e-48917b8bb3b6 div.sk-toggleable {background-color: white;}#sk-d16e8cdb-e58c-415e-aa7e-48917b8bb3b6 label.sk-toggleable__label {cursor: pointer;display: block;width: 100%;margin-bottom: 0;padding: 0.2em 0.3em;box-sizing: border-box;text-align: center;}#sk-d16e8cdb-e58c-415e-aa7e-48917b8bb3b6 div.sk-toggleable__content {max-height: 0;max-width: 0;overflow: hidden;text-align: left;background-color: #f0f8ff;}#sk-d16e8cdb-e58c-415e-aa7e-48917b8bb3b6 div.sk-toggleable__content pre {margin: 0.2em;color: black;border-radius: 0.25em;background-color: #f0f8ff;}#sk-d16e8cdb-e58c-415e-aa7e-48917b8bb3b6 input.sk-toggleable__control:checked~div.sk-toggleable__content {max-height: 200px;max-width: 100%;overflow: auto;}#sk-d16e8cdb-e58c-415e-aa7e-48917b8bb3b6 div.sk-estimator input.sk-toggleable__control:checked~label.sk-toggleable__label {background-color: #d4ebff;}#sk-d16e8cdb-e58c-415e-aa7e-48917b8bb3b6 div.sk-label input.sk-toggleable__control:checked~label.sk-toggleable__label {background-color: #d4ebff;}#sk-d16e8cdb-e58c-415e-aa7e-48917b8bb3b6 input.sk-hidden--visually {border: 0;clip: rect(1px 1px 1px 1px);clip: rect(1px, 1px, 1px, 1px);height: 1px;margin: -1px;overflow: hidden;padding: 0;position: absolute;width: 1px;}#sk-d16e8cdb-e58c-415e-aa7e-48917b8bb3b6 div.sk-estimator {font-family: monospace;background-color: #f0f8ff;margin: 0.25em 0.25em;border: 1px dotted black;border-radius: 0.25em;box-sizing: border-box;}#sk-d16e8cdb-e58c-415e-aa7e-48917b8bb3b6 div.sk-estimator:hover {background-color: #d4ebff;}#sk-d16e8cdb-e58c-415e-aa7e-48917b8bb3b6 div.sk-parallel-item::after {content: \"\";width: 100%;border-bottom: 1px solid gray;flex-grow: 1;}#sk-d16e8cdb-e58c-415e-aa7e-48917b8bb3b6 div.sk-label:hover label.sk-toggleable__label {background-color: #d4ebff;}#sk-d16e8cdb-e58c-415e-aa7e-48917b8bb3b6 div.sk-serial::before {content: \"\";position: absolute;border-left: 1px solid gray;box-sizing: border-box;top: 2em;bottom: 0;left: 50%;}#sk-d16e8cdb-e58c-415e-aa7e-48917b8bb3b6 div.sk-serial {display: flex;flex-direction: column;align-items: center;background-color: white;}#sk-d16e8cdb-e58c-415e-aa7e-48917b8bb3b6 div.sk-item {z-index: 1;}#sk-d16e8cdb-e58c-415e-aa7e-48917b8bb3b6 div.sk-parallel {display: flex;align-items: stretch;justify-content: center;background-color: white;}#sk-d16e8cdb-e58c-415e-aa7e-48917b8bb3b6 div.sk-parallel-item {display: flex;flex-direction: column;position: relative;background-color: white;}#sk-d16e8cdb-e58c-415e-aa7e-48917b8bb3b6 div.sk-parallel-item:first-child::after {align-self: flex-end;width: 50%;}#sk-d16e8cdb-e58c-415e-aa7e-48917b8bb3b6 div.sk-parallel-item:last-child::after {align-self: flex-start;width: 50%;}#sk-d16e8cdb-e58c-415e-aa7e-48917b8bb3b6 div.sk-parallel-item:only-child::after {width: 0;}#sk-d16e8cdb-e58c-415e-aa7e-48917b8bb3b6 div.sk-dashed-wrapped {border: 1px dashed gray;margin: 0.2em;box-sizing: border-box;padding-bottom: 0.1em;background-color: white;position: relative;}#sk-d16e8cdb-e58c-415e-aa7e-48917b8bb3b6 div.sk-label label {font-family: monospace;font-weight: bold;background-color: white;display: inline-block;line-height: 1.2em;}#sk-d16e8cdb-e58c-415e-aa7e-48917b8bb3b6 div.sk-label-container {position: relative;z-index: 2;text-align: center;}#sk-d16e8cdb-e58c-415e-aa7e-48917b8bb3b6 div.sk-container {display: inline-block;position: relative;}</style><div id=\"sk-d16e8cdb-e58c-415e-aa7e-48917b8bb3b6\" class\"sk-top-container\"><div class=\"sk-container\"><div class=\"sk-item sk-dashed-wrapped\"><div class=\"sk-label-container\"><div class=\"sk-label sk-toggleable\"><input class=\"sk-toggleable__control sk-hidden--visually\" id=\"35a8c2bd-2013-4509-bdfd-296fe9cf8e6b\" type=\"checkbox\" ><label class=\"sk-toggleable__label\" for=\"35a8c2bd-2013-4509-bdfd-296fe9cf8e6b\">VotingClassifier</label><div class=\"sk-toggleable__content\"><pre>VotingClassifier(estimators=[('dt', DecisionTreeClassifier()),\n",
       "                             ('svc', SVC(probability=True)),\n",
       "                             ('k5', KNeighborsClassifier()),\n",
       "                             ('gaussian', GaussianProcessClassifier())],\n",
       "                 voting='soft')</pre></div></div></div><div class=\"sk-parallel\"><div class=\"sk-parallel-item\"><div class=\"sk-item\"><div class=\"sk-label-container\"><div class=\"sk-label sk-toggleable\"><label>dt</label></div></div><div class=\"sk-serial\"><div class=\"sk-item\"><div class=\"sk-estimator sk-toggleable\"><input class=\"sk-toggleable__control sk-hidden--visually\" id=\"b6198441-c9a5-4ed8-9a2f-e16efc54e5e4\" type=\"checkbox\" ><label class=\"sk-toggleable__label\" for=\"b6198441-c9a5-4ed8-9a2f-e16efc54e5e4\">DecisionTreeClassifier</label><div class=\"sk-toggleable__content\"><pre>DecisionTreeClassifier()</pre></div></div></div></div></div></div><div class=\"sk-parallel-item\"><div class=\"sk-item\"><div class=\"sk-label-container\"><div class=\"sk-label sk-toggleable\"><label>svc</label></div></div><div class=\"sk-serial\"><div class=\"sk-item\"><div class=\"sk-estimator sk-toggleable\"><input class=\"sk-toggleable__control sk-hidden--visually\" id=\"e65e8023-ccad-464b-a6d4-bc53cdfa8e50\" type=\"checkbox\" ><label class=\"sk-toggleable__label\" for=\"e65e8023-ccad-464b-a6d4-bc53cdfa8e50\">SVC</label><div class=\"sk-toggleable__content\"><pre>SVC(probability=True)</pre></div></div></div></div></div></div><div class=\"sk-parallel-item\"><div class=\"sk-item\"><div class=\"sk-label-container\"><div class=\"sk-label sk-toggleable\"><label>k5</label></div></div><div class=\"sk-serial\"><div class=\"sk-item\"><div class=\"sk-estimator sk-toggleable\"><input class=\"sk-toggleable__control sk-hidden--visually\" id=\"089862b8-3674-4007-8fd7-db8d385439da\" type=\"checkbox\" ><label class=\"sk-toggleable__label\" for=\"089862b8-3674-4007-8fd7-db8d385439da\">KNeighborsClassifier</label><div class=\"sk-toggleable__content\"><pre>KNeighborsClassifier()</pre></div></div></div></div></div></div><div class=\"sk-parallel-item\"><div class=\"sk-item\"><div class=\"sk-label-container\"><div class=\"sk-label sk-toggleable\"><label>gaussian</label></div></div><div class=\"sk-serial\"><div class=\"sk-item\"><div class=\"sk-estimator sk-toggleable\"><input class=\"sk-toggleable__control sk-hidden--visually\" id=\"68b2ec0f-f006-4275-9cc4-020222234b43\" type=\"checkbox\" ><label class=\"sk-toggleable__label\" for=\"68b2ec0f-f006-4275-9cc4-020222234b43\">GaussianProcessClassifier</label><div class=\"sk-toggleable__content\"><pre>GaussianProcessClassifier()</pre></div></div></div></div></div></div></div></div></div></div>"
      ],
      "text/plain": [
       "VotingClassifier(estimators=[('dt', DecisionTreeClassifier()),\n",
       "                             ('svc', SVC(probability=True)),\n",
       "                             ('k5', KNeighborsClassifier()),\n",
       "                             ('gaussian', GaussianProcessClassifier())],\n",
       "                 voting='soft')"
      ]
     },
     "execution_count": 10,
     "metadata": {},
     "output_type": "execute_result"
    }
   ],
   "source": [
    "modelos = [\n",
    "    ('dt',DecisionTreeClassifier()),\n",
    "    ('svc',SVC(probability=True)),\n",
    "    ('k5',KNeighborsClassifier()),\n",
    "    ('gaussian',GaussianProcessClassifier())]\n",
    "\n",
    "vtc = VotingClassifier(modelos,voting='soft')\n",
    "vtc"
   ]
  },
  {
   "cell_type": "code",
   "execution_count": 11,
   "id": "a0a08909-d6e2-4d5c-87f9-008e68f9eff4",
   "metadata": {},
   "outputs": [
    {
     "data": {
      "text/html": [
       "<style>#sk-ba96391e-96ae-47bd-9ece-bac6cb005e94 {color: black;background-color: white;}#sk-ba96391e-96ae-47bd-9ece-bac6cb005e94 pre{padding: 0;}#sk-ba96391e-96ae-47bd-9ece-bac6cb005e94 div.sk-toggleable {background-color: white;}#sk-ba96391e-96ae-47bd-9ece-bac6cb005e94 label.sk-toggleable__label {cursor: pointer;display: block;width: 100%;margin-bottom: 0;padding: 0.2em 0.3em;box-sizing: border-box;text-align: center;}#sk-ba96391e-96ae-47bd-9ece-bac6cb005e94 div.sk-toggleable__content {max-height: 0;max-width: 0;overflow: hidden;text-align: left;background-color: #f0f8ff;}#sk-ba96391e-96ae-47bd-9ece-bac6cb005e94 div.sk-toggleable__content pre {margin: 0.2em;color: black;border-radius: 0.25em;background-color: #f0f8ff;}#sk-ba96391e-96ae-47bd-9ece-bac6cb005e94 input.sk-toggleable__control:checked~div.sk-toggleable__content {max-height: 200px;max-width: 100%;overflow: auto;}#sk-ba96391e-96ae-47bd-9ece-bac6cb005e94 div.sk-estimator input.sk-toggleable__control:checked~label.sk-toggleable__label {background-color: #d4ebff;}#sk-ba96391e-96ae-47bd-9ece-bac6cb005e94 div.sk-label input.sk-toggleable__control:checked~label.sk-toggleable__label {background-color: #d4ebff;}#sk-ba96391e-96ae-47bd-9ece-bac6cb005e94 input.sk-hidden--visually {border: 0;clip: rect(1px 1px 1px 1px);clip: rect(1px, 1px, 1px, 1px);height: 1px;margin: -1px;overflow: hidden;padding: 0;position: absolute;width: 1px;}#sk-ba96391e-96ae-47bd-9ece-bac6cb005e94 div.sk-estimator {font-family: monospace;background-color: #f0f8ff;margin: 0.25em 0.25em;border: 1px dotted black;border-radius: 0.25em;box-sizing: border-box;}#sk-ba96391e-96ae-47bd-9ece-bac6cb005e94 div.sk-estimator:hover {background-color: #d4ebff;}#sk-ba96391e-96ae-47bd-9ece-bac6cb005e94 div.sk-parallel-item::after {content: \"\";width: 100%;border-bottom: 1px solid gray;flex-grow: 1;}#sk-ba96391e-96ae-47bd-9ece-bac6cb005e94 div.sk-label:hover label.sk-toggleable__label {background-color: #d4ebff;}#sk-ba96391e-96ae-47bd-9ece-bac6cb005e94 div.sk-serial::before {content: \"\";position: absolute;border-left: 1px solid gray;box-sizing: border-box;top: 2em;bottom: 0;left: 50%;}#sk-ba96391e-96ae-47bd-9ece-bac6cb005e94 div.sk-serial {display: flex;flex-direction: column;align-items: center;background-color: white;}#sk-ba96391e-96ae-47bd-9ece-bac6cb005e94 div.sk-item {z-index: 1;}#sk-ba96391e-96ae-47bd-9ece-bac6cb005e94 div.sk-parallel {display: flex;align-items: stretch;justify-content: center;background-color: white;}#sk-ba96391e-96ae-47bd-9ece-bac6cb005e94 div.sk-parallel-item {display: flex;flex-direction: column;position: relative;background-color: white;}#sk-ba96391e-96ae-47bd-9ece-bac6cb005e94 div.sk-parallel-item:first-child::after {align-self: flex-end;width: 50%;}#sk-ba96391e-96ae-47bd-9ece-bac6cb005e94 div.sk-parallel-item:last-child::after {align-self: flex-start;width: 50%;}#sk-ba96391e-96ae-47bd-9ece-bac6cb005e94 div.sk-parallel-item:only-child::after {width: 0;}#sk-ba96391e-96ae-47bd-9ece-bac6cb005e94 div.sk-dashed-wrapped {border: 1px dashed gray;margin: 0.2em;box-sizing: border-box;padding-bottom: 0.1em;background-color: white;position: relative;}#sk-ba96391e-96ae-47bd-9ece-bac6cb005e94 div.sk-label label {font-family: monospace;font-weight: bold;background-color: white;display: inline-block;line-height: 1.2em;}#sk-ba96391e-96ae-47bd-9ece-bac6cb005e94 div.sk-label-container {position: relative;z-index: 2;text-align: center;}#sk-ba96391e-96ae-47bd-9ece-bac6cb005e94 div.sk-container {display: inline-block;position: relative;}</style><div id=\"sk-ba96391e-96ae-47bd-9ece-bac6cb005e94\" class\"sk-top-container\"><div class=\"sk-container\"><div class=\"sk-item sk-dashed-wrapped\"><div class=\"sk-label-container\"><div class=\"sk-label sk-toggleable\"><input class=\"sk-toggleable__control sk-hidden--visually\" id=\"3a1a097b-3e98-4e52-ba48-07609adad4b7\" type=\"checkbox\" ><label class=\"sk-toggleable__label\" for=\"3a1a097b-3e98-4e52-ba48-07609adad4b7\">Pipeline</label><div class=\"sk-toggleable__content\"><pre>Pipeline(steps=[('minmaxscaler', MinMaxScaler()),\n",
       "                ('votingclassifier',\n",
       "                 VotingClassifier(estimators=[('dt', DecisionTreeClassifier()),\n",
       "                                              ('svc', SVC(probability=True)),\n",
       "                                              ('k5', KNeighborsClassifier()),\n",
       "                                              ('gaussian',\n",
       "                                               GaussianProcessClassifier())],\n",
       "                                  voting='soft'))])</pre></div></div></div><div class=\"sk-serial\"><div class=\"sk-item\"><div class=\"sk-estimator sk-toggleable\"><input class=\"sk-toggleable__control sk-hidden--visually\" id=\"5b03e24c-21ae-47e3-829e-bf232cdc67a3\" type=\"checkbox\" ><label class=\"sk-toggleable__label\" for=\"5b03e24c-21ae-47e3-829e-bf232cdc67a3\">MinMaxScaler</label><div class=\"sk-toggleable__content\"><pre>MinMaxScaler()</pre></div></div></div><div class=\"sk-item sk-dashed-wrapped\"><div class=\"sk-label-container\"><div class=\"sk-label sk-toggleable\"><input class=\"sk-toggleable__control sk-hidden--visually\" id=\"a36c2612-c301-4450-bc1b-09547921a628\" type=\"checkbox\" ><label class=\"sk-toggleable__label\" for=\"a36c2612-c301-4450-bc1b-09547921a628\">votingclassifier: VotingClassifier</label><div class=\"sk-toggleable__content\"><pre>VotingClassifier(estimators=[('dt', DecisionTreeClassifier()),\n",
       "                             ('svc', SVC(probability=True)),\n",
       "                             ('k5', KNeighborsClassifier()),\n",
       "                             ('gaussian', GaussianProcessClassifier())],\n",
       "                 voting='soft')</pre></div></div></div><div class=\"sk-parallel\"><div class=\"sk-parallel-item\"><div class=\"sk-item\"><div class=\"sk-label-container\"><div class=\"sk-label sk-toggleable\"><label>dt</label></div></div><div class=\"sk-serial\"><div class=\"sk-item\"><div class=\"sk-estimator sk-toggleable\"><input class=\"sk-toggleable__control sk-hidden--visually\" id=\"23097f8f-98f7-4252-919a-424a4da4f4a3\" type=\"checkbox\" ><label class=\"sk-toggleable__label\" for=\"23097f8f-98f7-4252-919a-424a4da4f4a3\">DecisionTreeClassifier</label><div class=\"sk-toggleable__content\"><pre>DecisionTreeClassifier()</pre></div></div></div></div></div></div><div class=\"sk-parallel-item\"><div class=\"sk-item\"><div class=\"sk-label-container\"><div class=\"sk-label sk-toggleable\"><label>svc</label></div></div><div class=\"sk-serial\"><div class=\"sk-item\"><div class=\"sk-estimator sk-toggleable\"><input class=\"sk-toggleable__control sk-hidden--visually\" id=\"7631aa71-a16d-4de4-a2d0-25bc18d782d8\" type=\"checkbox\" ><label class=\"sk-toggleable__label\" for=\"7631aa71-a16d-4de4-a2d0-25bc18d782d8\">SVC</label><div class=\"sk-toggleable__content\"><pre>SVC(probability=True)</pre></div></div></div></div></div></div><div class=\"sk-parallel-item\"><div class=\"sk-item\"><div class=\"sk-label-container\"><div class=\"sk-label sk-toggleable\"><label>k5</label></div></div><div class=\"sk-serial\"><div class=\"sk-item\"><div class=\"sk-estimator sk-toggleable\"><input class=\"sk-toggleable__control sk-hidden--visually\" id=\"ea9e1446-5f7b-479e-9199-2e1077010cbb\" type=\"checkbox\" ><label class=\"sk-toggleable__label\" for=\"ea9e1446-5f7b-479e-9199-2e1077010cbb\">KNeighborsClassifier</label><div class=\"sk-toggleable__content\"><pre>KNeighborsClassifier()</pre></div></div></div></div></div></div><div class=\"sk-parallel-item\"><div class=\"sk-item\"><div class=\"sk-label-container\"><div class=\"sk-label sk-toggleable\"><label>gaussian</label></div></div><div class=\"sk-serial\"><div class=\"sk-item\"><div class=\"sk-estimator sk-toggleable\"><input class=\"sk-toggleable__control sk-hidden--visually\" id=\"f41d7f8f-a3d5-4edc-bfab-5e24e9e6a074\" type=\"checkbox\" ><label class=\"sk-toggleable__label\" for=\"f41d7f8f-a3d5-4edc-bfab-5e24e9e6a074\">GaussianProcessClassifier</label><div class=\"sk-toggleable__content\"><pre>GaussianProcessClassifier()</pre></div></div></div></div></div></div></div></div></div></div></div></div>"
      ],
      "text/plain": [
       "Pipeline(steps=[('minmaxscaler', MinMaxScaler()),\n",
       "                ('votingclassifier',\n",
       "                 VotingClassifier(estimators=[('dt', DecisionTreeClassifier()),\n",
       "                                              ('svc', SVC(probability=True)),\n",
       "                                              ('k5', KNeighborsClassifier()),\n",
       "                                              ('gaussian',\n",
       "                                               GaussianProcessClassifier())],\n",
       "                                  voting='soft'))])"
      ]
     },
     "execution_count": 11,
     "metadata": {},
     "output_type": "execute_result"
    }
   ],
   "source": [
    "pipe = make_pipeline(MinMaxScaler(),vtc)\n",
    "pipe.fit(x_train,y_train)"
   ]
  },
  {
   "cell_type": "code",
   "execution_count": 12,
   "id": "6e0f368b-4cb8-42cb-a4a8-4af3f70795d5",
   "metadata": {},
   "outputs": [
    {
     "data": {
      "text/plain": [
       "array([[0.52941176, 0.33333333, 0.64912281, 0.45833333]])"
      ]
     },
     "execution_count": 12,
     "metadata": {},
     "output_type": "execute_result"
    }
   ],
   "source": [
    "pipe.named_steps['minmaxscaler'].transform([[6.1, 2.8, 4.7, 1.2]])"
   ]
  },
  {
   "cell_type": "code",
   "execution_count": 13,
   "id": "7cb207fd-7de5-4454-a31c-4a128d5a1504",
   "metadata": {},
   "outputs": [
    {
     "data": {
      "text/plain": [
       "array([1])"
      ]
     },
     "execution_count": 13,
     "metadata": {},
     "output_type": "execute_result"
    }
   ],
   "source": [
    "pipe.named_steps['votingclassifier'].predict([[0.52941176, 0.33333333, 0.64912281, 0.45833333]])"
   ]
  },
  {
   "cell_type": "code",
   "execution_count": 14,
   "id": "dcb49463-b0e3-4510-9770-d354491a8175",
   "metadata": {},
   "outputs": [
    {
     "data": {
      "text/plain": [
       "array([[0.        , 1.        , 0.        , 0.00810458, 0.97836569,\n",
       "        0.01352973, 0.        , 1.        , 0.        , 0.11720409,\n",
       "        0.56130575, 0.32149016]])"
      ]
     },
     "execution_count": 14,
     "metadata": {},
     "output_type": "execute_result"
    }
   ],
   "source": [
    "pipe.named_steps['votingclassifier'].transform([[0.52941176, 0.33333333, 0.64912281, 0.45833333]])"
   ]
  },
  {
   "cell_type": "code",
   "execution_count": 18,
   "id": "19e08878-dce2-4d26-af9a-6a905b5f1a3f",
   "metadata": {},
   "outputs": [
    {
     "data": {
      "text/plain": [
       "0.8849178591126622"
      ]
     },
     "execution_count": 18,
     "metadata": {},
     "output_type": "execute_result"
    }
   ],
   "source": [
    "pipe.named_steps['votingclassifier'].transform([[0.52941176, 0.33333333, 0.64912281, 0.45833333]])[0][1::3].mean()"
   ]
  },
  {
   "cell_type": "code",
   "execution_count": 19,
   "id": "f6cacd65-aa9f-4c93-8513-34942a5c6312",
   "metadata": {},
   "outputs": [
    {
     "data": {
      "text/plain": [
       "0.03132716723346814"
      ]
     },
     "execution_count": 19,
     "metadata": {},
     "output_type": "execute_result"
    }
   ],
   "source": [
    "pipe.named_steps['votingclassifier'].transform([[0.52941176, 0.33333333, 0.64912281, 0.45833333]])[0][0::3].mean()"
   ]
  },
  {
   "cell_type": "code",
   "execution_count": 20,
   "id": "acab7078-d0b4-4ce6-83b1-71f238e04307",
   "metadata": {},
   "outputs": [
    {
     "data": {
      "text/plain": [
       "0.08375497365386965"
      ]
     },
     "execution_count": 20,
     "metadata": {},
     "output_type": "execute_result"
    }
   ],
   "source": [
    "pipe.named_steps['votingclassifier'].transform([[0.52941176, 0.33333333, 0.64912281, 0.45833333]])[0][2::3].mean()"
   ]
  }
 ],
 "metadata": {
  "kernelspec": {
   "display_name": "Python 3 (ipykernel)",
   "language": "python",
   "name": "python3"
  },
  "language_info": {
   "codemirror_mode": {
    "name": "ipython",
    "version": 3
   },
   "file_extension": ".py",
   "mimetype": "text/x-python",
   "name": "python",
   "nbconvert_exporter": "python",
   "pygments_lexer": "ipython3",
   "version": "3.9.7"
  }
 },
 "nbformat": 4,
 "nbformat_minor": 5
}
