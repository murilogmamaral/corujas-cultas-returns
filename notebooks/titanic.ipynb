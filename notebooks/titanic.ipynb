{
 "cells": [
  {
   "cell_type": "markdown",
   "id": "87a38a63-761b-44f5-81ef-79ad98c0ad04",
   "metadata": {},
   "source": [
    "# Titanic"
   ]
  },
  {
   "cell_type": "code",
   "execution_count": 8,
   "id": "ddbbfbde-3851-4e1e-863f-7608774617ef",
   "metadata": {},
   "outputs": [],
   "source": [
    "import pandas as pd\n",
    "import numpy as np\n",
    "import matplotlib.pyplot as plt\n",
    "import seaborn as sns\n",
    "\n",
    "from sklearn.impute import KNNImputer\n",
    "from sklearn.tree import DecisionTreeClassifier\n",
    "from sklearn.model_selection import train_test_split\n",
    "from sklearn.preprocessing import OneHotEncoder\n",
    "from sklearn import tree\n",
    "\n",
    "import warnings\n",
    "warnings.filterwarnings('ignore')"
   ]
  },
  {
   "cell_type": "markdown",
   "id": "7056119e-bb0b-44ed-9212-64674522b1e3",
   "metadata": {},
   "source": [
    "Vamos resolver o desafio do titanic juntos ver quanto acertamos no kaggle. Mas para isso teremos que passar pelas seguintes etapas:\n",
    "\n",
    "- [ ] Carregar os dados\n",
    "- [ ] Inspecionar os dados\n",
    "- [ ] Entender o problema\n",
    "- [ ] Entender os entregáveis\n",
    "- [ ] Tratamento dos dados (valores faltantes e outliers)\n",
    "- [ ] Separação em treino e teste\n",
    "- [ ] Treinamento\n",
    "- [ ] Avaliação\n",
    "- [ ] Retreinamento\n",
    "- [ ] Scoragem da base de teste\n",
    "- [ ] Envio\n"
   ]
  },
  {
   "cell_type": "markdown",
   "id": "7a6693b8-9e95-4188-87ab-5e79d936e94a",
   "metadata": {},
   "source": [
    "## Carregar os dados"
   ]
  },
  {
   "cell_type": "code",
   "execution_count": null,
   "id": "90cf8289-2f94-4f04-9dab-d277980f1b1b",
   "metadata": {},
   "outputs": [],
   "source": []
  },
  {
   "cell_type": "markdown",
   "id": "3e790555-1795-4d40-8059-70653254d992",
   "metadata": {},
   "source": [
    "## Inspecionar os dados"
   ]
  },
  {
   "cell_type": "code",
   "execution_count": null,
   "id": "ac88cbf3-6da8-49fd-9dd7-ba4900771ab0",
   "metadata": {},
   "outputs": [],
   "source": []
  },
  {
   "cell_type": "markdown",
   "id": "1c43f823-d9c7-4d59-bb59-c6ec9a290629",
   "metadata": {},
   "source": [
    "## Entender o problema"
   ]
  },
  {
   "cell_type": "code",
   "execution_count": null,
   "id": "4fe90e08-ccf5-40cf-8e1a-1622def8e9a6",
   "metadata": {},
   "outputs": [],
   "source": []
  },
  {
   "cell_type": "markdown",
   "id": "d54994f0-80f1-4881-9b04-16de0eca9410",
   "metadata": {},
   "source": [
    "## Entender os entregáveis"
   ]
  },
  {
   "cell_type": "code",
   "execution_count": null,
   "id": "bc8b9eeb-69da-4ac5-86bc-2e33da7855df",
   "metadata": {},
   "outputs": [],
   "source": []
  },
  {
   "cell_type": "markdown",
   "id": "80e9591d-3d92-435f-bf6f-ef5b9f2c8070",
   "metadata": {},
   "source": [
    "## Tratamento dos dados (valores faltantes e outliers)"
   ]
  },
  {
   "cell_type": "code",
   "execution_count": null,
   "id": "47266128-6b80-4a0a-93c7-3a49d1e3e89c",
   "metadata": {},
   "outputs": [],
   "source": []
  },
  {
   "cell_type": "markdown",
   "id": "fb6c46a0-fde7-405f-8a22-b12bff6ad291",
   "metadata": {},
   "source": [
    "## Separação em treino e teste"
   ]
  },
  {
   "cell_type": "code",
   "execution_count": null,
   "id": "2b5378fe-123d-4aa7-b366-59edaa57d36b",
   "metadata": {},
   "outputs": [],
   "source": []
  },
  {
   "cell_type": "markdown",
   "id": "6a975289-48d8-4fb5-aebe-bda368359772",
   "metadata": {},
   "source": [
    "## Treinamento"
   ]
  },
  {
   "cell_type": "code",
   "execution_count": null,
   "id": "1d249691-16da-4d2e-a207-2708d1aa504b",
   "metadata": {},
   "outputs": [],
   "source": []
  },
  {
   "cell_type": "markdown",
   "id": "e3c47f3a-35c7-4a13-bdd9-81e3e9d40af7",
   "metadata": {},
   "source": [
    "## Avaliação"
   ]
  },
  {
   "cell_type": "code",
   "execution_count": null,
   "id": "f9d9ef5c-c4f2-48e7-bb08-1b48ee0acb4c",
   "metadata": {},
   "outputs": [],
   "source": []
  },
  {
   "cell_type": "markdown",
   "id": "bc095a9d-44d6-48a0-8695-99fda4a778e1",
   "metadata": {},
   "source": [
    "## Retreinamento"
   ]
  },
  {
   "cell_type": "code",
   "execution_count": null,
   "id": "e8545cea-91a6-40d2-8c2f-183da29a979d",
   "metadata": {},
   "outputs": [],
   "source": []
  },
  {
   "cell_type": "markdown",
   "id": "084d0945-6dcb-4881-a01c-145d0a624c6f",
   "metadata": {},
   "source": [
    "## Scoragem da base de teste"
   ]
  },
  {
   "cell_type": "code",
   "execution_count": null,
   "id": "164fe0f1-45ff-4087-b75e-809358a19980",
   "metadata": {},
   "outputs": [],
   "source": []
  },
  {
   "cell_type": "markdown",
   "id": "4ccc4299-0455-4af0-9cf6-ea8134d875d7",
   "metadata": {},
   "source": [
    "## Envio"
   ]
  },
  {
   "cell_type": "code",
   "execution_count": null,
   "id": "c868c1a8-30cb-476c-82fe-ccd0e0944e3d",
   "metadata": {},
   "outputs": [],
   "source": []
  }
 ],
 "metadata": {
  "kernelspec": {
   "display_name": "Python 3",
   "language": "python",
   "name": "python3"
  },
  "language_info": {
   "codemirror_mode": {
    "name": "ipython",
    "version": 3
   },
   "file_extension": ".py",
   "mimetype": "text/x-python",
   "name": "python",
   "nbconvert_exporter": "python",
   "pygments_lexer": "ipython3",
   "version": "3.8.5"
  }
 },
 "nbformat": 4,
 "nbformat_minor": 5
}
